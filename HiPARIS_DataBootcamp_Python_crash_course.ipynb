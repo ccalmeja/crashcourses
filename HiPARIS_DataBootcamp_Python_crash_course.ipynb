{
  "nbformat": 4,
  "nbformat_minor": 0,
  "metadata": {
    "colab": {
      "provenance": []
    },
    "kernelspec": {
      "name": "python3",
      "display_name": "Python 3"
    },
    "language_info": {
      "name": "python"
    }
  },
  "cells": [
    {
      "cell_type": "markdown",
      "source": [
        "**<center><font color='#023F7C' size=\"6.5\">Python Crash Course &#128187;</font>** <br>\n",
        "<font color=#023F7C size=4>**Hi! PARIS DataBootcamp**</font> <br>\n",
        "\n",
        "</center>\n",
        "\n",
        "<img src = https://www.hi-paris.fr/wp-content/uploads/2020/09/logo-hi-paris-retina.png width = \"300\" height = \"200\" >\n",
        "\n",
        "<font color=\"#023F7C\">**Author**:</font> Laurène DAVID, Machine Learning Research Engineer @ Hi! PARIS"
      ],
      "metadata": {
        "id": "NnSo6MMU5doY"
      }
    },
    {
      "cell_type": "markdown",
      "source": [
        "# **<font color=#023F7C>Introduction </font>**\n",
        "\n",
        "The **Hi! PARIS DataBootcamp** 🚀 is a one-week program where you will learn the fundamentals of AI and Data Science. <br> During the week, you will get to work on and deliver a **Data Science project** from a real business use case. <br> Because of this, the bootcamp requieres some knowledge in **Python programming**.\n",
        "\n",
        "This pre-bootcamp course was created for those who might need help with Python before the event. <br> **You don't have to complete this course if you already know how to code in Python**\n",
        "\n",
        "\n",
        "\n",
        "\n",
        "\n",
        "\n",
        "\n"
      ],
      "metadata": {
        "id": "StgrM-Fwp6I0"
      }
    },
    {
      "cell_type": "markdown",
      "source": [
        "**<font size='4'>What is Python ?**</font> <br>\n",
        "Created in the early 1990's, **Python** is one of the most popular and fastest growing programming languages in the world. <br>\n",
        "It is used today for many tasks including Web Development, Scientific Computing and Data Analysis.\n",
        "\n",
        "Python has also become the go-to language for **Machine Learning and AI applications**. <br> It is often used by companies and researchers working in the field of Data Science.\n",
        "\n",
        "\n",
        "\n",
        "<br>\n",
        "\n",
        "<img src = https://i0.wp.com/idsc.miami.edu/wp-content/uploads/2021/11/Python-image-with-logo-730x350-1.jpg width = \"600\" height = \"300\" >\n"
      ],
      "metadata": {
        "id": "Dg3f039vDsjY"
      }
    },
    {
      "cell_type": "markdown",
      "source": [
        "**<font size='4'>More about Python**</font> <br>\n",
        "Python has many features that has contributed to its popularity.\n",
        "- **Easy to learn**: Python is an easy programming language to learn with its simple syntax and beginner-friendly data structures.\n",
        "\n",
        "- **Open source**: Python is an open-source programming language where anyone can create and contribute to its development. <br> It is also free to download and can be used in any operating system (Windows, Mac or Linux).\n",
        "\n",
        "- **Extensive libraries** : Python has an extensive amount of libraries in Data Science, Machine Learning and Data analytics. <br> Some of its most famous libraries include [numpy](https://numpy.org/), [matplotlib](https://matplotlib.org/), [pandas](https://pandas.pydata.org/) and [scikit-learn](https://scikit-learn.org/stable/).\n",
        "\n",
        "\n"
      ],
      "metadata": {
        "id": "AS_VeDgXuzVz"
      }
    },
    {
      "cell_type": "markdown",
      "source": [
        "**<font size='4'>Need help ?**</font> <br>\n",
        "This course was designed to run on Google Colaboratory. <br>\n",
        "- Make sure the **Python environment** is connected/active\n",
        "- Use **MAJ + ENTER** as a shortcut to execute cells\n",
        "\n",
        "If you need more help using the platform, we have provided a tutorial on Google colab in *Google_colab_tutorial.pdf*.<br>\n",
        "You can contact us directly at data-event@hi-paris.fr if you have more questions about Colab or the course.\n"
      ],
      "metadata": {
        "id": "Zv4wbpqVVOc3"
      }
    },
    {
      "cell_type": "markdown",
      "source": [
        "# **<font color=#023F7C>1. Variables &#128161;</font>**\n",
        "A **variable** is a name that represents a memory location where an object is stored. <br>\n",
        "It allows you to save information that can be reused later on.\n",
        "\n",
        "\n",
        "\n",
        "\n"
      ],
      "metadata": {
        "id": "tycwRY8t-YkU"
      }
    },
    {
      "cell_type": "markdown",
      "source": [
        "**<font size='4'>Variable assignement**</font> <br>\n",
        "Variables are created using an equal sign `=`. <br>\n",
        "They also requiere a **variable name**.\n",
        "\n",
        "\n",
        "\n",
        "\n",
        "\n"
      ],
      "metadata": {
        "id": "OV8aVIOmAOFL"
      }
    },
    {
      "cell_type": "code",
      "source": [
        "a = 2758\n",
        "b = 32.5"
      ],
      "metadata": {
        "id": "WoDvX6Ol4KUg"
      },
      "execution_count": null,
      "outputs": []
    },
    {
      "cell_type": "markdown",
      "source": [
        "> **Note**: It is best to avoid creating variables with already defined names in Python. <br>\n",
        "This includes naming your variable as a built-in type (*int*, *float*,..) or function (*print*,..)."
      ],
      "metadata": {
        "id": "tPccszFQDggf"
      }
    },
    {
      "cell_type": "markdown",
      "source": [
        "You can also **create multiple variables** on the same line of code."
      ],
      "metadata": {
        "id": "9go-QtmEhVSi"
      }
    },
    {
      "cell_type": "code",
      "source": [
        "c, d, e = 10, 11, 12"
      ],
      "metadata": {
        "id": "Sxlz1UlIhZHq"
      },
      "execution_count": null,
      "outputs": []
    },
    {
      "cell_type": "markdown",
      "source": [
        "**<font size='4'>Print variables**</font> <br>\n",
        "In python notebooks, you can print a variable by simply naming it. <br> This only works if the variable is the last element of your cell.\n",
        "\n",
        "\n"
      ],
      "metadata": {
        "id": "IUwcuYE4R0Pk"
      }
    },
    {
      "cell_type": "code",
      "source": [
        "a"
      ],
      "metadata": {
        "colab": {
          "base_uri": "https://localhost:8080/"
        },
        "id": "tcVX7uNQ_-__",
        "outputId": "db1659ad-d376-48fd-fdbf-8b0c3c9e33c8"
      },
      "execution_count": null,
      "outputs": [
        {
          "output_type": "execute_result",
          "data": {
            "text/plain": [
              "2758"
            ]
          },
          "metadata": {},
          "execution_count": 3
        }
      ]
    },
    {
      "cell_type": "markdown",
      "source": [
        "You can also use the `print()` function to access a variable's current value.<br>"
      ],
      "metadata": {
        "id": "lyFPWOIih-1I"
      }
    },
    {
      "cell_type": "code",
      "source": [
        "print(a)"
      ],
      "metadata": {
        "id": "efyS19VKSEny",
        "colab": {
          "base_uri": "https://localhost:8080/"
        },
        "outputId": "4c390dd6-fb4c-4616-8b6c-49c8eb95fb62"
      },
      "execution_count": null,
      "outputs": [
        {
          "output_type": "stream",
          "name": "stdout",
          "text": [
            "2758\n"
          ]
        }
      ]
    },
    {
      "cell_type": "code",
      "source": [
        "print(\"Value of a:\",a)"
      ],
      "metadata": {
        "colab": {
          "base_uri": "https://localhost:8080/"
        },
        "id": "T0uV6QtGirPr",
        "outputId": "475a1e5e-519d-4295-afbe-66bd80f36ea6"
      },
      "execution_count": null,
      "outputs": [
        {
          "output_type": "stream",
          "name": "stdout",
          "text": [
            "Value of a: 2758\n"
          ]
        }
      ]
    },
    {
      "cell_type": "markdown",
      "source": [
        "# **<font color=#023F7C>2. Data types  &#128292;<font color=#023F7C>**\n",
        "\n",
        "Python provides many built-in data types to create numerical, text or collection type objects.<br>\n",
        "This next section will introduce the most important ones."
      ],
      "metadata": {
        "id": "R_y7dp6JY_eF"
      }
    },
    {
      "cell_type": "markdown",
      "source": [
        "## **<font color=#023F7C>2.1 Numerical types</font>**\n",
        "\n",
        "**<font size='4'>Numerical types**</font> <br>\n",
        "Python's has three different numerical types\n",
        "- <u>Integers</u> (`int`): integer numbers such as 0,1,2,...\n",
        "- <u>Floating point numbers</u> (`float`): numbers with decimal points\n",
        "- <u>Complex numbers</u>\n",
        "\n",
        "We will only focus on `int` and `float` variables today."
      ],
      "metadata": {
        "id": "F2CXKeCHaiX0"
      }
    },
    {
      "cell_type": "code",
      "source": [
        "num1 = 10 # int variable\n",
        "type(num1)"
      ],
      "metadata": {
        "colab": {
          "base_uri": "https://localhost:8080/"
        },
        "id": "T6hWYYfmRrJO",
        "outputId": "5b3ef5a5-db43-44ea-b9d9-f066d59ba0f4"
      },
      "execution_count": null,
      "outputs": [
        {
          "output_type": "execute_result",
          "data": {
            "text/plain": [
              "int"
            ]
          },
          "metadata": {},
          "execution_count": 6
        }
      ]
    },
    {
      "cell_type": "code",
      "source": [
        "num2 = 10.0 # float variable\n",
        "type(num2)"
      ],
      "metadata": {
        "colab": {
          "base_uri": "https://localhost:8080/"
        },
        "id": "DMpS8TdgUw7k",
        "outputId": "4ae80d55-684e-4b34-d512-e5051e867604"
      },
      "execution_count": null,
      "outputs": [
        {
          "output_type": "execute_result",
          "data": {
            "text/plain": [
              "float"
            ]
          },
          "metadata": {},
          "execution_count": 7
        }
      ]
    },
    {
      "cell_type": "markdown",
      "source": [
        "**<font size='4'>Mathematical operations on numerical types**</font> <br>\n",
        "You can use mathematical operators on numerical variables. <br>\n",
        "Here is a list of these operators:\n",
        "- `+` : Addition\n",
        "- `-` : Substraction\n",
        "- `*` : Multiplication\n",
        "- `/` : Division\n",
        "- `%` : Modulus (returns the reminder of a division)\n",
        "- `**` : Exponent\n",
        "- `//`: Integer/floor division (returns the integer quotient of a division)\n",
        "\n"
      ],
      "metadata": {
        "id": "ZHBnXnnPcwwn"
      }
    },
    {
      "cell_type": "code",
      "source": [
        "a = 5\n",
        "b = 3"
      ],
      "metadata": {
        "id": "2thozlGDfrt8"
      },
      "execution_count": null,
      "outputs": []
    },
    {
      "cell_type": "code",
      "source": [
        "# Addition\n",
        "a + b"
      ],
      "metadata": {
        "colab": {
          "base_uri": "https://localhost:8080/"
        },
        "id": "nloyChbZWSf8",
        "outputId": "449069f8-368e-47a4-856f-8f63127f5a16"
      },
      "execution_count": null,
      "outputs": [
        {
          "output_type": "execute_result",
          "data": {
            "text/plain": [
              "8"
            ]
          },
          "metadata": {},
          "execution_count": 9
        }
      ]
    },
    {
      "cell_type": "code",
      "source": [
        "# Power\n",
        "a**2"
      ],
      "metadata": {
        "colab": {
          "base_uri": "https://localhost:8080/"
        },
        "id": "cLt6nR-sAFhz",
        "outputId": "13b8c403-3889-4778-8286-b0ef5014f08b"
      },
      "execution_count": null,
      "outputs": [
        {
          "output_type": "execute_result",
          "data": {
            "text/plain": [
              "25"
            ]
          },
          "metadata": {},
          "execution_count": 10
        }
      ]
    },
    {
      "cell_type": "code",
      "source": [
        "# Division\n",
        "a / b"
      ],
      "metadata": {
        "colab": {
          "base_uri": "https://localhost:8080/"
        },
        "id": "ep5-12DMfzdn",
        "outputId": "72536501-990d-4c37-a691-073c437e9d4d"
      },
      "execution_count": null,
      "outputs": [
        {
          "output_type": "execute_result",
          "data": {
            "text/plain": [
              "1.6666666666666667"
            ]
          },
          "metadata": {},
          "execution_count": 11
        }
      ]
    },
    {
      "cell_type": "markdown",
      "source": [
        "## **<font color=#023F7C>2.2 Strings</font>**\n",
        "\n",
        "**Strings** are python's data type for dealing with text. <br>\n",
        "They can be defined with single `''` or double `\"\"` quotation marks.\n",
        "\n",
        "\n",
        "\n",
        "\n",
        "\n",
        "\n",
        "\n"
      ],
      "metadata": {
        "id": "U3NXDx2o1ySx"
      }
    },
    {
      "cell_type": "code",
      "source": [
        "text1 = \"Hello World\"  # string\n",
        "text2 = 'Hello World'"
      ],
      "metadata": {
        "id": "f4DXm__1mfXp"
      },
      "execution_count": null,
      "outputs": []
    },
    {
      "cell_type": "markdown",
      "source": [
        "**<font size='4'>Slice a string**</font> <br>\n",
        "Strings are sequences, which are <u>ordered collections of objects</u> in Python. <br>\n",
        "Each element of a string can be accessed/sliced using a positional index. <br>\n",
        "\n",
        "You can slice a string with different methods:\n",
        "-  Select a character with a <u>single index</u>.\n",
        "- Select more than one character with a <u>range of indexes</u>.\n",
        "- Start slicing from the end with <u>negative indexing</u>\n",
        "\n",
        "\n",
        "\n",
        "\n",
        "\n",
        "\n",
        "\n",
        "\n",
        "\n",
        "\n"
      ],
      "metadata": {
        "id": "wGdqajGexuJl"
      }
    },
    {
      "cell_type": "markdown",
      "source": [
        "> **Note**: Positional indexing starts at 0 in Python !\n",
        "\n",
        "\n"
      ],
      "metadata": {
        "id": "U2kt8N6ac89j"
      }
    },
    {
      "cell_type": "code",
      "source": [
        "text = \"I am writing a sentence in Python\""
      ],
      "metadata": {
        "id": "KzvZv18SbZre"
      },
      "execution_count": null,
      "outputs": []
    },
    {
      "cell_type": "code",
      "source": [
        "# Single index to select the first element\n",
        "text1[0]"
      ],
      "metadata": {
        "colab": {
          "base_uri": "https://localhost:8080/",
          "height": 36
        },
        "id": "t91Kq62kBJtC",
        "outputId": "2ea3cd9e-0feb-4f99-8f11-2468a6e85eb9"
      },
      "execution_count": null,
      "outputs": [
        {
          "output_type": "execute_result",
          "data": {
            "text/plain": [
              "'H'"
            ],
            "application/vnd.google.colaboratory.intrinsic+json": {
              "type": "string"
            }
          },
          "metadata": {},
          "execution_count": 14
        }
      ]
    },
    {
      "cell_type": "code",
      "source": [
        "# Range of indexes\n",
        "text1[0:5]"
      ],
      "metadata": {
        "colab": {
          "base_uri": "https://localhost:8080/",
          "height": 36
        },
        "id": "8YeoXQAByVan",
        "outputId": "c9af9e92-7449-467d-b603-458b3d75c735"
      },
      "execution_count": null,
      "outputs": [
        {
          "output_type": "execute_result",
          "data": {
            "text/plain": [
              "'Hello'"
            ],
            "application/vnd.google.colaboratory.intrinsic+json": {
              "type": "string"
            }
          },
          "metadata": {},
          "execution_count": 15
        }
      ]
    },
    {
      "cell_type": "markdown",
      "source": [
        ">  Slicing a string with a range `a:b` will stop the range at `b-1`. <br> You can see an example of this with `text[0:5]`that selects the first 4 elements of the string\n",
        "\n"
      ],
      "metadata": {
        "id": "OC2UQLQtG9Qk"
      }
    },
    {
      "cell_type": "markdown",
      "source": [
        "**<font size='4'>String methods**</font> <br>\n",
        "Python has many useful <u>methods</u> to manipulate strings such as: <br>\n",
        "- `.upper()`: convert a string into uppercase\n",
        "- `.replace()`: replace a specific character of a string\n",
        "- `.split()`: splits a string at the specific seperator and returns each elements as a list\n",
        "\n",
        "\n",
        "\n",
        "\n",
        "\n",
        "\n",
        "\n"
      ],
      "metadata": {
        "id": "Spoqq6tebMlw"
      }
    },
    {
      "cell_type": "code",
      "source": [
        "text5 = \"My name is John\""
      ],
      "metadata": {
        "id": "UM1gkgi3_xJw"
      },
      "execution_count": null,
      "outputs": []
    },
    {
      "cell_type": "code",
      "source": [
        "# Replace \"John\" with \"James\" with .replace()\n",
        "text5.replace('John','James')"
      ],
      "metadata": {
        "colab": {
          "base_uri": "https://localhost:8080/",
          "height": 36
        },
        "id": "5Z2G_bR6zh93",
        "outputId": "d9096f67-99d9-4a17-cc5d-8864c406fd90"
      },
      "execution_count": null,
      "outputs": [
        {
          "output_type": "execute_result",
          "data": {
            "text/plain": [
              "'My name is James'"
            ],
            "application/vnd.google.colaboratory.intrinsic+json": {
              "type": "string"
            }
          },
          "metadata": {},
          "execution_count": 17
        }
      ]
    },
    {
      "cell_type": "code",
      "source": [
        "# Split the text using an empty espace \" \" as separator\n",
        "text5.split(\" \")"
      ],
      "metadata": {
        "colab": {
          "base_uri": "https://localhost:8080/"
        },
        "id": "HODZ-YKXAUZT",
        "outputId": "fa027f9a-27fb-479a-9418-520f46fc7334"
      },
      "execution_count": null,
      "outputs": [
        {
          "output_type": "execute_result",
          "data": {
            "text/plain": [
              "['My', 'name', 'is', 'John']"
            ]
          },
          "metadata": {},
          "execution_count": 18
        }
      ]
    },
    {
      "cell_type": "markdown",
      "source": [
        "You can also use python <u>functions</u> to manipulate strings. <br> An example is the `len()` function that returns the length of a string (its number of characters)\n",
        "\n",
        "\n",
        "\n"
      ],
      "metadata": {
        "id": "94WD4AuXnHkT"
      }
    },
    {
      "cell_type": "code",
      "source": [
        "# Return the length of the string\n",
        "len(text5)"
      ],
      "metadata": {
        "colab": {
          "base_uri": "https://localhost:8080/"
        },
        "id": "X6w7wsoFGgGE",
        "outputId": "e8e95cff-a472-4a63-f558-96ba186c4335"
      },
      "execution_count": null,
      "outputs": [
        {
          "output_type": "execute_result",
          "data": {
            "text/plain": [
              "15"
            ]
          },
          "metadata": {},
          "execution_count": 19
        }
      ]
    },
    {
      "cell_type": "markdown",
      "source": [
        "Methods and functions are both used to perform operations but they have key differences: <br>         \n",
        "\n",
        "- **Methods** are dependent to a specific type of object. <br> They are used on objects using the dot notation.\n",
        "\n",
        "- **Functions** can be used on different types of objects. <br> They are called with their given name along with the required arguments.\n"
      ],
      "metadata": {
        "id": "Z2zv3C3Fb3sJ"
      }
    },
    {
      "cell_type": "markdown",
      "source": [
        "## **<font color=#023F7C>2.3 Lists</font>**\n",
        "\n",
        "Lists are data types that store collections of data. <br>\n",
        "They are defined using <u>brackets</u> `[]`.\n"
      ],
      "metadata": {
        "id": "Sw8YXn0714xu"
      }
    },
    {
      "cell_type": "code",
      "source": [
        "list1 = [2,4,1]"
      ],
      "metadata": {
        "id": "qPxg4bSpf5wv"
      },
      "execution_count": null,
      "outputs": []
    },
    {
      "cell_type": "markdown",
      "source": [
        "Lists can also contain other lists. <br> These types of list are called <u>nested lists</u>."
      ],
      "metadata": {
        "id": "jix_-tmzf1VN"
      }
    },
    {
      "cell_type": "code",
      "source": [
        "list2 = [2, 4.1, \"hello\"] # List with different data types"
      ],
      "metadata": {
        "id": "JYfkBNvDxfkX"
      },
      "execution_count": null,
      "outputs": []
    },
    {
      "cell_type": "code",
      "source": [
        "list3 = [[1,2,3],[8,2,4]] # Nested list"
      ],
      "metadata": {
        "id": "dt0m-7o2dhmT"
      },
      "execution_count": null,
      "outputs": []
    },
    {
      "cell_type": "markdown",
      "source": [
        "**<font size='4'>Slice a list**</font> <br>\n",
        "Lists are also <u>sequences</u> in Python. <br>\n",
        "List items are thus ordered and can be sliced/accessed using positional indexes.\n"
      ],
      "metadata": {
        "id": "LjYDzVBdLIKF"
      }
    },
    {
      "cell_type": "code",
      "source": [
        "list1[0] # slice with a single index"
      ],
      "metadata": {
        "colab": {
          "base_uri": "https://localhost:8080/"
        },
        "id": "5QB7yhywSUXI",
        "outputId": "c747f226-0e7d-4aeb-8c6f-15077eaf9fe4"
      },
      "execution_count": null,
      "outputs": [
        {
          "output_type": "execute_result",
          "data": {
            "text/plain": [
              "2"
            ]
          },
          "metadata": {},
          "execution_count": 23
        }
      ]
    },
    {
      "cell_type": "code",
      "source": [
        "list1[:2] # Slice with a range of indexes"
      ],
      "metadata": {
        "colab": {
          "base_uri": "https://localhost:8080/"
        },
        "id": "5uLZ3VJxSWST",
        "outputId": "d88fca1c-3080-49da-9821-ae315da5ca45"
      },
      "execution_count": null,
      "outputs": [
        {
          "output_type": "execute_result",
          "data": {
            "text/plain": [
              "[2, 4]"
            ]
          },
          "metadata": {},
          "execution_count": 24
        }
      ]
    },
    {
      "cell_type": "code",
      "source": [
        "list1[-1] # Negative indexing"
      ],
      "metadata": {
        "colab": {
          "base_uri": "https://localhost:8080/"
        },
        "id": "RwHUt0Udn62n",
        "outputId": "09e023e4-6456-465d-ac9a-4c2aa1b45975"
      },
      "execution_count": null,
      "outputs": [
        {
          "output_type": "execute_result",
          "data": {
            "text/plain": [
              "1"
            ]
          },
          "metadata": {},
          "execution_count": 25
        }
      ]
    },
    {
      "cell_type": "markdown",
      "source": [
        "**<font size='4'>Modify a list**</font> <br>\n",
        "Lists are <u>mutable objects</u> in Python. <br>\n",
        "You can modify the items of a list with positional indexing.\n",
        "\n",
        "> **Note**: An object is considered **mutable** if it can be modified after assignement/creation. <br> This isn't the case for immutable objects such as numerical types and strings.\n",
        "\n",
        "\n",
        "\n",
        "\n"
      ],
      "metadata": {
        "id": "wGIKq5S1KHc8"
      }
    },
    {
      "cell_type": "code",
      "source": [
        "list1 # original list"
      ],
      "metadata": {
        "colab": {
          "base_uri": "https://localhost:8080/"
        },
        "id": "ivwP0g4dSCjB",
        "outputId": "c3528650-df8d-4f47-8564-49bbd6b60bad"
      },
      "execution_count": null,
      "outputs": [
        {
          "output_type": "execute_result",
          "data": {
            "text/plain": [
              "[2, 4, 1]"
            ]
          },
          "metadata": {},
          "execution_count": 26
        }
      ]
    },
    {
      "cell_type": "code",
      "source": [
        "list1[0] = 4"
      ],
      "metadata": {
        "id": "5D5SmyLcSKss"
      },
      "execution_count": null,
      "outputs": []
    },
    {
      "cell_type": "code",
      "source": [
        "list1 # modified list"
      ],
      "metadata": {
        "colab": {
          "base_uri": "https://localhost:8080/"
        },
        "id": "n6-Rrd8vSNvD",
        "outputId": "0b50f84e-4e7e-44bf-eaf6-929b90773d50"
      },
      "execution_count": null,
      "outputs": [
        {
          "output_type": "execute_result",
          "data": {
            "text/plain": [
              "[4, 4, 1]"
            ]
          },
          "metadata": {},
          "execution_count": 28
        }
      ]
    },
    {
      "cell_type": "markdown",
      "source": [
        "**<font size='4'>List methods**</font> <br>\n",
        "Python possess many list specific methods, such as:\n",
        "\n",
        "- `.append()`: add a new element to the list\n",
        "- `.count()`: return the number of elements with the specified value\n",
        "- `.index()`: return the index of the first element with the specified value\n",
        "- `.copy()`: return a copy of the list\n",
        "\n",
        "You can find a list of every string methods available in Python [here](https://www.w3schools.com/python/python_ref_list.asp).\n",
        "\n",
        "\n",
        "\n",
        "> **Reminder**: Methods are specific to data types, which means that the previous methods can only be used on lists.\n",
        "\n",
        "\n"
      ],
      "metadata": {
        "id": "4WdG4SiPXyNk"
      }
    },
    {
      "cell_type": "code",
      "source": [
        "list1"
      ],
      "metadata": {
        "colab": {
          "base_uri": "https://localhost:8080/"
        },
        "id": "VGHHboommGpT",
        "outputId": "c240ff2c-fdb5-44f6-92db-911893bea090"
      },
      "execution_count": null,
      "outputs": [
        {
          "output_type": "execute_result",
          "data": {
            "text/plain": [
              "[4, 4, 1]"
            ]
          },
          "metadata": {},
          "execution_count": 29
        }
      ]
    },
    {
      "cell_type": "code",
      "source": [
        "list1.append(5)\n",
        "list1"
      ],
      "metadata": {
        "colab": {
          "base_uri": "https://localhost:8080/"
        },
        "id": "FGoIZjLTmN6l",
        "outputId": "1e3ab1c3-a56a-4f0d-85a7-82de8e567a44"
      },
      "execution_count": null,
      "outputs": [
        {
          "output_type": "execute_result",
          "data": {
            "text/plain": [
              "[4, 4, 1, 5]"
            ]
          },
          "metadata": {},
          "execution_count": 30
        }
      ]
    },
    {
      "cell_type": "markdown",
      "source": [
        "Some methods can operate on the list itself. <br>\n",
        "The `.sort()` method sorts a python list and saves the result within the list. It doesn't return a new object.\n",
        "\n"
      ],
      "metadata": {
        "id": "_KD30pfBTWua"
      }
    },
    {
      "cell_type": "code",
      "source": [
        "list_sort = [3,7,1]"
      ],
      "metadata": {
        "id": "wDHOLKY6Iqlt"
      },
      "execution_count": null,
      "outputs": []
    },
    {
      "cell_type": "code",
      "source": [
        "list_sort.sort() # replaced the original list with the sorted list\n",
        "list_sort"
      ],
      "metadata": {
        "id": "OvQd38IrXCDH",
        "colab": {
          "base_uri": "https://localhost:8080/"
        },
        "outputId": "1d4269aa-4da5-4194-9bd0-96ca506fda76"
      },
      "execution_count": null,
      "outputs": [
        {
          "output_type": "execute_result",
          "data": {
            "text/plain": [
              "[1, 3, 7]"
            ]
          },
          "metadata": {},
          "execution_count": 32
        }
      ]
    },
    {
      "cell_type": "markdown",
      "source": [
        "## **<font color=#023F7C>2.4 Sets and Dictionaries</font>**\n",
        "**<font size='4'>Sets**</font> <br>\n",
        "A set is a collection of objects which is <u>unordered</u>, <u>unchangeable</u>, and <u>unindexed</u>. <br>\n",
        "Sets are defined using braces `{}` or with the `set()` function\n",
        "- `{}` are used to create sets with non-collection type objects (int, float, string...)\n",
        "- `set()` is used to create a set from collection type objects (lists,...)\n",
        "\n",
        "\n",
        "\n"
      ],
      "metadata": {
        "id": "0y7ielJR1-L2"
      }
    },
    {
      "cell_type": "code",
      "source": [
        "set1 = {1,4,2}\n",
        "set2 = set([1,2,3])\n",
        "set3 = {1,\"1\",\"2\"}"
      ],
      "metadata": {
        "id": "nU0VgNUVZ9x3"
      },
      "execution_count": null,
      "outputs": []
    },
    {
      "cell_type": "markdown",
      "source": [
        "Elements of a set are <u>unique</u>. <br>\n",
        "Sets can be used to extract the unique elements of a list."
      ],
      "metadata": {
        "id": "CN3pEt2P5zI7"
      }
    },
    {
      "cell_type": "code",
      "source": [
        "set([1,1,2,2,2,3])"
      ],
      "metadata": {
        "colab": {
          "base_uri": "https://localhost:8080/"
        },
        "id": "hEZ-HSZc9Dcd",
        "outputId": "9f515a4c-ede5-492f-ca12-acc062256ef9"
      },
      "execution_count": null,
      "outputs": [
        {
          "output_type": "execute_result",
          "data": {
            "text/plain": [
              "{1, 2, 3}"
            ]
          },
          "metadata": {},
          "execution_count": 34
        }
      ]
    },
    {
      "cell_type": "markdown",
      "source": [
        "**<font size='4'>Dictionaries**</font> <br>\n",
        "Dictionaries are built-in Python data types that stores a **collection of data**. <br> They are defined using braces `{}` and contain **keys** and **values**. <br>\n",
        "\n",
        "\n",
        "In dictionaries, each value is identified by a key (of string type). <br>\n",
        "\n",
        "\n"
      ],
      "metadata": {
        "id": "NQcHuKkUZYsm"
      }
    },
    {
      "cell_type": "code",
      "source": [
        "mydict = {\n",
        "  \"brand\": \"Ford\", # <key>: <value>\n",
        "  \"model\": \"Mustang\",\n",
        "  \"year\": 1964\n",
        "}"
      ],
      "metadata": {
        "id": "qhiJkm5ZuzO-"
      },
      "execution_count": null,
      "outputs": []
    },
    {
      "cell_type": "code",
      "source": [
        "mydict[\"brand\"] # \"brand\" = key, \"Ford\" = value"
      ],
      "metadata": {
        "colab": {
          "base_uri": "https://localhost:8080/",
          "height": 36
        },
        "id": "f86NA-cPQMKR",
        "outputId": "f1c7c651-8423-43fb-84e2-8a94ac6dd6fb"
      },
      "execution_count": null,
      "outputs": [
        {
          "output_type": "execute_result",
          "data": {
            "text/plain": [
              "'Ford'"
            ],
            "application/vnd.google.colaboratory.intrinsic+json": {
              "type": "string"
            }
          },
          "metadata": {},
          "execution_count": 36
        }
      ]
    },
    {
      "cell_type": "markdown",
      "source": [
        "You can use `.keys()` and `.values()` to access a dictionary's **keys** and **values**. <br>"
      ],
      "metadata": {
        "id": "bKkyulPFvCA6"
      }
    },
    {
      "cell_type": "code",
      "source": [
        "mydict.keys() # access dict keys"
      ],
      "metadata": {
        "colab": {
          "base_uri": "https://localhost:8080/"
        },
        "id": "Pkn_gCXKv73z",
        "outputId": "fdac872d-7381-4fb7-e4e4-8769c9b9afb3"
      },
      "execution_count": null,
      "outputs": [
        {
          "output_type": "execute_result",
          "data": {
            "text/plain": [
              "dict_keys(['brand', 'model', 'year'])"
            ]
          },
          "metadata": {},
          "execution_count": 37
        }
      ]
    },
    {
      "cell_type": "code",
      "source": [
        "mydict.values() # access dict keys"
      ],
      "metadata": {
        "id": "y3xtb-DDYl8D",
        "colab": {
          "base_uri": "https://localhost:8080/"
        },
        "outputId": "6c0ec7d3-5555-40ee-9193-4b4be7674efd"
      },
      "execution_count": null,
      "outputs": [
        {
          "output_type": "execute_result",
          "data": {
            "text/plain": [
              "dict_values(['Ford', 'Mustang', 1964])"
            ]
          },
          "metadata": {},
          "execution_count": 38
        }
      ]
    },
    {
      "cell_type": "markdown",
      "source": [
        "You can also use `items()` to access the key/value combination in a dictionary."
      ],
      "metadata": {
        "id": "b3-D78BfgMqt"
      }
    },
    {
      "cell_type": "code",
      "source": [
        "mydict.items() # access dict items (key,value)"
      ],
      "metadata": {
        "colab": {
          "base_uri": "https://localhost:8080/"
        },
        "id": "KrflHocKz_G3",
        "outputId": "d3a08cfb-2569-4f14-dde4-ba48aaf6ed6f"
      },
      "execution_count": null,
      "outputs": [
        {
          "output_type": "execute_result",
          "data": {
            "text/plain": [
              "dict_items([('brand', 'Ford'), ('model', 'Mustang'), ('year', 1964)])"
            ]
          },
          "metadata": {},
          "execution_count": 39
        }
      ]
    },
    {
      "cell_type": "markdown",
      "source": [
        "In `mydict.items()`, the dictionary's keys and values are represented as python tuples. <br> We won't cover this type of object in this course."
      ],
      "metadata": {
        "id": "01Wnf5BefkRh"
      }
    },
    {
      "cell_type": "markdown",
      "source": [
        "# **<font color=#023F7C>3. Conditional statements &#10067;</font>**\n",
        "\n",
        "Conditional statements allow you to automate decision making in Python. <br> They can also help you control the flow of your program. <br>\n"
      ],
      "metadata": {
        "id": "ejwtr4D1JzFm"
      }
    },
    {
      "cell_type": "markdown",
      "source": [
        "## **<font color=#023F7C>3.1 Built-in operators</font>**\n",
        "\n",
        "Conditional statements are often created with the help of operators. <br>\n",
        "They allow you to create test statements for decision making.\n",
        "\n",
        "Each of the following operator returns a **boolean** type object (`True` or `False`). <br>\n"
      ],
      "metadata": {
        "id": "4IsFJBfTw_mH"
      }
    },
    {
      "cell_type": "markdown",
      "source": [
        "\n",
        "**<font size='4'>Comparison operators**</font> <br>\n",
        "Python has built-in operators that can compare two variables.\n",
        "\n",
        "| Operator  | Description |\n",
        "|-----------|-------------|\n",
        "| `==` | Test for equality |  \n",
        "| `!=` | Test for inequality  |\n",
        "| `<` | Test if a number is less than |\n",
        "| `<=` | Test if a number is less than or equal to |\n",
        "| `>` | Test if a number is greater than |\n",
        "| `>=` | Test if a number is greater than or equal to |\n",
        "\n",
        "\n",
        "\n"
      ],
      "metadata": {
        "id": "E5tPyzlJxW9O"
      }
    },
    {
      "cell_type": "code",
      "source": [
        "a1, b1 = 10, 11"
      ],
      "metadata": {
        "id": "1mG2-ODwxwKc"
      },
      "execution_count": null,
      "outputs": []
    },
    {
      "cell_type": "code",
      "source": [
        "a1 == b1"
      ],
      "metadata": {
        "colab": {
          "base_uri": "https://localhost:8080/"
        },
        "id": "X4DE412Yx1aX",
        "outputId": "f77c3d4c-64d8-40b2-fe33-aeb456bd9652"
      },
      "execution_count": null,
      "outputs": [
        {
          "output_type": "execute_result",
          "data": {
            "text/plain": [
              "False"
            ]
          },
          "metadata": {},
          "execution_count": 41
        }
      ]
    },
    {
      "cell_type": "code",
      "source": [
        "a1 <= b1"
      ],
      "metadata": {
        "colab": {
          "base_uri": "https://localhost:8080/"
        },
        "id": "1fADwZTKx7Jy",
        "outputId": "1ae819cb-75aa-4538-847f-6617d722c094"
      },
      "execution_count": null,
      "outputs": [
        {
          "output_type": "execute_result",
          "data": {
            "text/plain": [
              "True"
            ]
          },
          "metadata": {},
          "execution_count": 42
        }
      ]
    },
    {
      "cell_type": "markdown",
      "source": [
        "**<font size='4'>Logical operators**</font> <br>\n",
        "You can also test multiple statements using logical operators.\n",
        "\n",
        "| Operator | Description |\n",
        "|----------|-------------|\n",
        "| `and` | Returns True if both statements are true\n",
        "| `or` | Returns True if only one statement is true\n",
        "| `not` | Reverses the result of a statement"
      ],
      "metadata": {
        "id": "4uxcaTOOeCsy"
      }
    },
    {
      "cell_type": "code",
      "source": [
        "(a1 < b1) and (a1 == b1)"
      ],
      "metadata": {
        "id": "HoeWMQVU2ANH",
        "colab": {
          "base_uri": "https://localhost:8080/"
        },
        "outputId": "ab6b740b-48c4-4991-b127-ecac0cb708c6"
      },
      "execution_count": null,
      "outputs": [
        {
          "output_type": "execute_result",
          "data": {
            "text/plain": [
              "False"
            ]
          },
          "metadata": {},
          "execution_count": 43
        }
      ]
    },
    {
      "cell_type": "code",
      "source": [
        "not(a1 < b1) # a1 < b1 is True"
      ],
      "metadata": {
        "colab": {
          "base_uri": "https://localhost:8080/"
        },
        "id": "RkIdp-o22Pk8",
        "outputId": "80b6abf5-ac44-4062-d021-f6dab9c5e902"
      },
      "execution_count": null,
      "outputs": [
        {
          "output_type": "execute_result",
          "data": {
            "text/plain": [
              "False"
            ]
          },
          "metadata": {},
          "execution_count": 44
        }
      ]
    },
    {
      "cell_type": "markdown",
      "source": [
        "**<font size='4'>Identity operators**</font> <br>\n",
        "Identity operators test if two variables have the same memory location and type. <br>\n",
        "\n",
        "| Operator | Description |\n",
        "|----------|-------------|\n",
        "| `is` | Test if two variables have the same identity <br> (same memory location and type) |\n",
        "| `is not` | Test that two variables don't have the same identity |\n",
        "\n"
      ],
      "metadata": {
        "id": "Ira9Hb0sfJej"
      }
    },
    {
      "cell_type": "code",
      "source": [
        "a2, b2 = 10, 10.0"
      ],
      "metadata": {
        "id": "i4m0EhP87Idv"
      },
      "execution_count": null,
      "outputs": []
    },
    {
      "cell_type": "code",
      "source": [
        "b2 is a2 # False since a2 and b2 don't have the same dtype"
      ],
      "metadata": {
        "colab": {
          "base_uri": "https://localhost:8080/"
        },
        "id": "0pZZTgWN7OJb",
        "outputId": "fcd88e0e-24cf-4986-9b3f-77e444c45f5e"
      },
      "execution_count": null,
      "outputs": [
        {
          "output_type": "execute_result",
          "data": {
            "text/plain": [
              "False"
            ]
          },
          "metadata": {},
          "execution_count": 46
        }
      ]
    },
    {
      "cell_type": "markdown",
      "source": [
        "Identity operators are different from the equal `=` and not equal `!=` operators since they check for equality/inequality but also check if both variables have or not the same data type.\n",
        "\n",
        "\n"
      ],
      "metadata": {
        "id": "wfCH2ONz5TT6"
      }
    },
    {
      "cell_type": "code",
      "source": [
        "b2 == a2 # True since they are mathematically equal, even if they don't have the same type."
      ],
      "metadata": {
        "colab": {
          "base_uri": "https://localhost:8080/"
        },
        "id": "6iFt89Ye7QzN",
        "outputId": "7b3d2d8f-8d68-4eac-f7e0-f13b032b0c96"
      },
      "execution_count": null,
      "outputs": [
        {
          "output_type": "execute_result",
          "data": {
            "text/plain": [
              "True"
            ]
          },
          "metadata": {},
          "execution_count": 47
        }
      ]
    },
    {
      "cell_type": "markdown",
      "source": [
        "**<font size='4'>Membership operators**</font> <br>\n",
        "Membership operators test if an object is present in a sequence. <br>\n",
        "\n",
        "| Operator | Description |\n",
        "|----------|-------------|\n",
        "| `in` | Test if a object is present in a sequence |\n",
        "| `not in` | Test that an object is not in a sequence |\n"
      ],
      "metadata": {
        "id": "2G3tNwaaf7WF"
      }
    },
    {
      "cell_type": "code",
      "source": [
        "a3 = [1,2,3]"
      ],
      "metadata": {
        "id": "uUjNqTwk8Hvo"
      },
      "execution_count": null,
      "outputs": []
    },
    {
      "cell_type": "code",
      "source": [
        "1 in a3 # True since 1 is in a3"
      ],
      "metadata": {
        "colab": {
          "base_uri": "https://localhost:8080/"
        },
        "id": "BZJtWtJJ8LJL",
        "outputId": "8d6e8e2b-a46c-417a-fb37-e1583c44347f"
      },
      "execution_count": null,
      "outputs": [
        {
          "output_type": "execute_result",
          "data": {
            "text/plain": [
              "True"
            ]
          },
          "metadata": {},
          "execution_count": 49
        }
      ]
    },
    {
      "cell_type": "code",
      "source": [
        "4 not in a3 # False since 4 isn't part of a3"
      ],
      "metadata": {
        "colab": {
          "base_uri": "https://localhost:8080/"
        },
        "id": "XkpQp9uC8Nqk",
        "outputId": "bebaf513-a5cc-495a-bcc5-d5e22345da49"
      },
      "execution_count": null,
      "outputs": [
        {
          "output_type": "execute_result",
          "data": {
            "text/plain": [
              "True"
            ]
          },
          "metadata": {},
          "execution_count": 50
        }
      ]
    },
    {
      "cell_type": "markdown",
      "source": [
        "## **<font color=#023F7C>3.2 If, else and elif</font>**\n",
        "\n",
        "**<font size='4'>If statement**</font> <br>\n",
        "The `if` statement evaluates a statement and executes code inside of its body based on the condition's validity. <br>\n",
        "```\n",
        "if <test statement>:\n",
        "  # block of code\n",
        "```\n",
        "The block of code in if will be executed if the test statement is `True`. <br>\n",
        "The block of code in if will be skipped if the test statement is `False`.\n"
      ],
      "metadata": {
        "id": "F8L_fKRxMnPP"
      }
    },
    {
      "cell_type": "markdown",
      "source": [
        "Here are examples of if statements with the operators detailed in the last section."
      ],
      "metadata": {
        "id": "qon8TPmf8XLV"
      }
    },
    {
      "cell_type": "code",
      "source": [
        "a4, b4 = 1, 1.5"
      ],
      "metadata": {
        "id": "7URstkWD8oLX"
      },
      "execution_count": null,
      "outputs": []
    },
    {
      "cell_type": "code",
      "source": [
        "if a4 <= b4: # True statement\n",
        "  print(\"The condition is True\")"
      ],
      "metadata": {
        "colab": {
          "base_uri": "https://localhost:8080/"
        },
        "id": "WhER7abR8jNe",
        "outputId": "4b083d04-185d-4668-ea82-87d1826b457d"
      },
      "execution_count": null,
      "outputs": [
        {
          "output_type": "stream",
          "name": "stdout",
          "text": [
            "The condition is True\n"
          ]
        }
      ]
    },
    {
      "cell_type": "code",
      "source": [
        "if (a4 == b4) or (a4 > b4): # False statement\n",
        "  print(\"The condition is True\")"
      ],
      "metadata": {
        "id": "5AXBnmCZ83sD"
      },
      "execution_count": null,
      "outputs": []
    },
    {
      "cell_type": "markdown",
      "source": [
        "**<font size='4'>If-else statement**</font> <br>\n",
        "An `if-else` statement adds onto the if statement by providing an alternative instruction/code to execute.\n",
        "\n",
        "\n",
        "```\n",
        "if condition:\n",
        "  # block of code\n",
        "else:\n",
        "  # block of code\n",
        "```\n",
        "\n",
        "Here are some examples:"
      ],
      "metadata": {
        "id": "OEOaUl-IYqaq"
      }
    },
    {
      "cell_type": "code",
      "source": [
        "if a4 <= b4: # True statement\n",
        "  print(\"if statement\")\n",
        "else:\n",
        "  print(\"else statement\")"
      ],
      "metadata": {
        "colab": {
          "base_uri": "https://localhost:8080/"
        },
        "id": "Y4GAxj4KxW6G",
        "outputId": "2d8439d0-0e17-445d-8e2f-3e862fce47cb"
      },
      "execution_count": null,
      "outputs": [
        {
          "output_type": "stream",
          "name": "stdout",
          "text": [
            "if statement\n"
          ]
        }
      ]
    },
    {
      "cell_type": "code",
      "source": [
        "if a4 == b4: # False statement\n",
        "  print(\"if statement\")\n",
        "else:\n",
        "  print(\"else statement\")"
      ],
      "metadata": {
        "colab": {
          "base_uri": "https://localhost:8080/"
        },
        "id": "Clmd_7FDxLxQ",
        "outputId": "b8c6c99a-fa2e-4dde-d6f3-65b565284d3b"
      },
      "execution_count": null,
      "outputs": [
        {
          "output_type": "stream",
          "name": "stdout",
          "text": [
            "else statement\n"
          ]
        }
      ]
    },
    {
      "cell_type": "markdown",
      "source": [
        "**<font size='4'>If-elif-else statement**</font> <br>\n",
        "An `if-elif-else` statement is used when your code needs to **make decisions between multiple statements**. <br>\n",
        "They allow you to add another statement to be tested before an `else` statement.\n",
        "\n",
        "<figure><img src = https://www.programiz.com/sites/tutorial2program/files/python-elif.png width = \"600\" height = \"300\" ></figure>"
      ],
      "metadata": {
        "id": "VFXQPb8_31Jv"
      }
    },
    {
      "cell_type": "code",
      "source": [
        "a5 = 10\n",
        "b5 = 20"
      ],
      "metadata": {
        "id": "poNQMA1BJ-Xv"
      },
      "execution_count": null,
      "outputs": []
    },
    {
      "cell_type": "code",
      "source": [
        "if a5 > b5: # False\n",
        "  print(\"if statement\")\n",
        "\n",
        "elif a5 < b5: # True => execute elif statement\n",
        "  print(\"elif statement\")\n",
        "\n",
        "else:\n",
        "  print(\"else statement\")"
      ],
      "metadata": {
        "colab": {
          "base_uri": "https://localhost:8080/"
        },
        "id": "eHVsWrptKGWQ",
        "outputId": "5710595b-78fe-4ea7-f13d-4d6935ed66c8"
      },
      "execution_count": null,
      "outputs": [
        {
          "output_type": "stream",
          "name": "stdout",
          "text": [
            "elif statement\n"
          ]
        }
      ]
    },
    {
      "cell_type": "markdown",
      "source": [
        "# **<font color=#023F7C>4. Loops &#10160;</font>**\n",
        "\n",
        "Loops allow you to repeatedly execute a block of code. <br> They enable coding efficiency since they help you avoid writing the same code multiple times.\n",
        "\n",
        "\n"
      ],
      "metadata": {
        "id": "pydFD744WslO"
      }
    },
    {
      "cell_type": "markdown",
      "source": [
        "## **<font color=#023F7C>4.1 For loops</font>**\n",
        "\n",
        "For-loops are used to **repeat code a fixed number of times**.</u> <br>\n",
        "They can only be used on iterable objects (an object you can interate over).<br>\n",
        "\n",
        "Examples of iterables are lists, dictionaries and strings.\n",
        "\n",
        "\n",
        "\n",
        "\n"
      ],
      "metadata": {
        "id": "krzXMllqLxDD"
      }
    },
    {
      "cell_type": "code",
      "source": [
        "for i in [1,2,3,4,5]: # [1,2,3,4,5] is an iterable object\n",
        "  print(i)"
      ],
      "metadata": {
        "colab": {
          "base_uri": "https://localhost:8080/"
        },
        "id": "UDt-FDlUjNVY",
        "outputId": "149232d0-ff7d-40e9-8fbb-511bceac5170"
      },
      "execution_count": null,
      "outputs": [
        {
          "output_type": "stream",
          "name": "stdout",
          "text": [
            "1\n",
            "2\n",
            "3\n",
            "4\n",
            "5\n"
          ]
        }
      ]
    },
    {
      "cell_type": "markdown",
      "source": [
        "**<font size='4'>For-loops with range()**</font> <br>\n",
        "The `range(start,stop,step)` function creates a range of integers you can iterate on. <br>\n",
        "- `start`: start of the range, default at 0.\n",
        "- `stop` : end the range.\n",
        "- `step`: step of the range, default at 1.\n",
        "\n",
        "\n",
        "\n"
      ],
      "metadata": {
        "id": "c029gLjjYD_N"
      }
    },
    {
      "cell_type": "markdown",
      "source": [
        "You can use range to iterate over the indexes of an object."
      ],
      "metadata": {
        "id": "DXd5Riz2HoD9"
      }
    },
    {
      "cell_type": "code",
      "source": [
        "list_range = [1,2,3,4,5]"
      ],
      "metadata": {
        "id": "zLS7FobR8ta2"
      },
      "execution_count": null,
      "outputs": []
    },
    {
      "cell_type": "code",
      "source": [
        "for i in range(0,len(list_range)):\n",
        "  print(list_range[i])"
      ],
      "metadata": {
        "colab": {
          "base_uri": "https://localhost:8080/"
        },
        "id": "RV_cjQjFYT2c",
        "outputId": "f78091a0-344b-4ea2-b7f7-a83a7f4bb830"
      },
      "execution_count": null,
      "outputs": [
        {
          "output_type": "stream",
          "name": "stdout",
          "text": [
            "1\n",
            "2\n",
            "3\n",
            "4\n",
            "5\n"
          ]
        }
      ]
    },
    {
      "cell_type": "markdown",
      "source": [
        "**<font size='4'>For-loops with .append()**</font> <br>\n",
        "The .`append()` method is commonly used with for-loops. <br> It allows you to store iteratively computations into a list."
      ],
      "metadata": {
        "id": "iJCAwvGhpdoP"
      }
    },
    {
      "cell_type": "code",
      "source": [
        "empty_list = []\n",
        "for i in list_range:\n",
        "  empty_list.append(i**2)"
      ],
      "metadata": {
        "id": "dA79F4OzqwWo"
      },
      "execution_count": null,
      "outputs": []
    },
    {
      "cell_type": "code",
      "source": [
        "empty_list"
      ],
      "metadata": {
        "colab": {
          "base_uri": "https://localhost:8080/"
        },
        "id": "AfE8RhgsrHdp",
        "outputId": "ddc6a427-4674-4da2-9bf8-baa59eb89da6"
      },
      "execution_count": null,
      "outputs": [
        {
          "output_type": "execute_result",
          "data": {
            "text/plain": [
              "[1, 4, 9, 16, 25]"
            ]
          },
          "metadata": {},
          "execution_count": 62
        }
      ]
    },
    {
      "cell_type": "markdown",
      "source": [
        "In this example, we created an empty list then added elements to it with `.append()` and for-loop."
      ],
      "metadata": {
        "id": "xXBdsp_F8w-T"
      }
    },
    {
      "cell_type": "markdown",
      "source": [
        "**<font size='4'>Nested loops**</font> <br>\n",
        "Nested loops are for-loops that contain other for-loops. <br>\n",
        "They can be helpful to parse through objects with different levels of indexes (such as nested lists)."
      ],
      "metadata": {
        "id": "L7_J0kgIX7Cp"
      }
    },
    {
      "cell_type": "code",
      "source": [
        "nested_list = [[1,2,3],[4,5,6]]"
      ],
      "metadata": {
        "id": "kySyvDzQ8xtX"
      },
      "execution_count": null,
      "outputs": []
    },
    {
      "cell_type": "code",
      "source": [
        "for l in nested_list:\n",
        "  for i in l:\n",
        "    print(l,i)"
      ],
      "metadata": {
        "colab": {
          "base_uri": "https://localhost:8080/"
        },
        "id": "TQlfziu2gqQO",
        "outputId": "b030bed5-2f7f-4896-ad6c-a2c335676998"
      },
      "execution_count": null,
      "outputs": [
        {
          "output_type": "stream",
          "name": "stdout",
          "text": [
            "[1, 2, 3] 1\n",
            "[1, 2, 3] 2\n",
            "[1, 2, 3] 3\n",
            "[4, 5, 6] 4\n",
            "[4, 5, 6] 5\n",
            "[4, 5, 6] 6\n"
          ]
        }
      ]
    },
    {
      "cell_type": "markdown",
      "source": [
        "## **<font color=#023F7C>4.2 While loops</font>**\n",
        "\n",
        "While-loops are used to execute a block of statements repeatedly **until a given condition is satisfied**. <br>\n",
        "Python exits a while-loop once the tested condition becomes `False`. <br>"
      ],
      "metadata": {
        "id": "5E8tKNfML02w"
      }
    },
    {
      "cell_type": "code",
      "source": [
        "count = 0\n",
        "while (count < 5):\n",
        "  count = count + 1"
      ],
      "metadata": {
        "id": "oIX47qI00ufb"
      },
      "execution_count": null,
      "outputs": []
    },
    {
      "cell_type": "code",
      "source": [
        "count"
      ],
      "metadata": {
        "colab": {
          "base_uri": "https://localhost:8080/"
        },
        "id": "OwDnMh8A1Ngo",
        "outputId": "11ce8128-c805-4048-b503-4f18292af532"
      },
      "execution_count": null,
      "outputs": [
        {
          "output_type": "execute_result",
          "data": {
            "text/plain": [
              "5"
            ]
          },
          "metadata": {},
          "execution_count": 66
        }
      ]
    },
    {
      "cell_type": "markdown",
      "source": [
        "While-loops can create <u>infinite loops</u> if the tested condition is always `True`. <br>\n",
        "This next example would produce an infinite loop if implemented since `num > 10` never returns `False`. <br>\n",
        "\n",
        "\n",
        "```\n",
        "num = 50\n",
        "while num > 10: # always TRUE\n",
        "  print(\"continue\")\n",
        "```\n",
        "\n"
      ],
      "metadata": {
        "id": "IQ-mA8T22osh"
      }
    },
    {
      "cell_type": "markdown",
      "source": [
        "> We would encourage you to use for-loops instead of while-loops when its possible. <br> While-loops are essential statements in Python but can be difficult to manage for beginners."
      ],
      "metadata": {
        "id": "XXOn-a3HrhoG"
      }
    },
    {
      "cell_type": "markdown",
      "source": [
        "# **<font color=#023F7C>5. Functions 🔨</font>**\n",
        "A function is a **sequence of statements that performs an operation**.<br>\n",
        "\n",
        "We have already introduced many of Python's built-in functions, such as `print()`, `len()` or `type()`. <br>\n",
        "We will now show you how to access to even more with Python's Standard Library and custom functions. <br>\n",
        "\n",
        "\n",
        "\n",
        "\n",
        "\n",
        "\n",
        "\n",
        "\n",
        "\n",
        "\n"
      ],
      "metadata": {
        "id": "fPgUalBJEHre"
      }
    },
    {
      "cell_type": "markdown",
      "source": [
        "## **<font color=#023F7C>5.1 Standard Library</font>**\n",
        "\n",
        "The **Standard Library** is a collection of built-in modules accessible to a Python program. <br>\n",
        "Each module contain functions that can be imported into your code. <br>\n",
        "\n",
        "To import a module, you need to use the `import` keyword.\n",
        "\n",
        "\n",
        "\n",
        "\n",
        "\n",
        "\n",
        "\n"
      ],
      "metadata": {
        "id": "vo6pPRJkDt_n"
      }
    },
    {
      "cell_type": "code",
      "source": [
        "import math"
      ],
      "metadata": {
        "id": "x-VkUmkfDaS4"
      },
      "execution_count": null,
      "outputs": []
    },
    {
      "cell_type": "code",
      "source": [
        "math.exp(0) # exponential function"
      ],
      "metadata": {
        "colab": {
          "base_uri": "https://localhost:8080/"
        },
        "id": "GTXenno9JlbO",
        "outputId": "f85f5066-7a19-4b72-c3f4-cbaf07fbdad8"
      },
      "execution_count": null,
      "outputs": [
        {
          "output_type": "execute_result",
          "data": {
            "text/plain": [
              "1.0"
            ]
          },
          "metadata": {},
          "execution_count": 68
        }
      ]
    },
    {
      "cell_type": "markdown",
      "source": [
        "**Math** is a module that contains additional math functions and constants.\n",
        "\n",
        "You can import a specific function by adding `from`."
      ],
      "metadata": {
        "id": "g9xaSwm-JV_2"
      }
    },
    {
      "cell_type": "code",
      "source": [
        "from math import sqrt"
      ],
      "metadata": {
        "id": "fcTK6pBqLDC1"
      },
      "execution_count": null,
      "outputs": []
    },
    {
      "cell_type": "code",
      "source": [
        "sqrt(25)"
      ],
      "metadata": {
        "id": "PfaDoEhykTqD",
        "colab": {
          "base_uri": "https://localhost:8080/"
        },
        "outputId": "21702b90-a058-4c45-e187-1ddd013b1f22"
      },
      "execution_count": null,
      "outputs": [
        {
          "output_type": "execute_result",
          "data": {
            "text/plain": [
              "5.0"
            ]
          },
          "metadata": {},
          "execution_count": 70
        }
      ]
    },
    {
      "cell_type": "markdown",
      "source": [
        "You can also import open-source librairies into Python. <br>\n",
        "You will learn more about open-source libraries in the **Data Science Crash course**."
      ],
      "metadata": {
        "id": "3sU4etScjuJw"
      }
    },
    {
      "cell_type": "markdown",
      "source": [
        "## **<font color=#023F7C>5.2 Custom functions</font>**\n",
        "\n",
        "A **custom function** is a block of code that only runs when called. <br>\n",
        "\n",
        "- It includes a <u>function name</u>, <u>input arguments</u>, an indented <u>function body</u> and a <u>return</u> value. <br>\n",
        "- Custom function are created using the `def` statement.\n",
        "\n",
        "<br>\n",
        "\n",
        "<img src = https://www.learnbyexample.org/wp-content/uploads/python/Python-Function-Syntax.png width = \"600\" height = \"300\" >\n",
        "\n",
        "<br>\n",
        "\n",
        "Custom functions are useful since they allow parts of your code to be reusable. <br>They can also help you organize your code into manageable pieces.\n",
        "\n"
      ],
      "metadata": {
        "id": "3WCj2ZUEWSuh"
      }
    },
    {
      "cell_type": "markdown",
      "source": [
        "**<font size='4'>Examples**</font> <br>\n",
        "The `add_elements()` function sums two given numbers. <br>"
      ],
      "metadata": {
        "id": "J5yDGsU7-daz"
      }
    },
    {
      "cell_type": "code",
      "source": [
        "def add_elements(x,y):\n",
        "  add = x + y\n",
        "  return add"
      ],
      "metadata": {
        "id": "r0HRH1tkci2E"
      },
      "execution_count": null,
      "outputs": []
    },
    {
      "cell_type": "code",
      "source": [
        "add_elements(x=10,y=10)"
      ],
      "metadata": {
        "colab": {
          "base_uri": "https://localhost:8080/"
        },
        "id": "3Aht-dwAAFJU",
        "outputId": "486c1c07-7556-4f59-b0d0-15bbf0ee7c3c"
      },
      "execution_count": null,
      "outputs": [
        {
          "output_type": "execute_result",
          "data": {
            "text/plain": [
              "20"
            ]
          },
          "metadata": {},
          "execution_count": 72
        }
      ]
    },
    {
      "cell_type": "markdown",
      "source": [
        "The `sum_list()` function sums each element of a list of integers."
      ],
      "metadata": {
        "id": "DRjNIzyi-fvM"
      }
    },
    {
      "cell_type": "code",
      "source": [
        "def sum_list(list1):\n",
        "  sum_ = 0\n",
        "  for x in list1: # add the value's of the list at each iteration\n",
        "    sum_ = sum_ + x\n",
        "  return sum_"
      ],
      "metadata": {
        "id": "sB4vb32u8h_5"
      },
      "execution_count": null,
      "outputs": []
    },
    {
      "cell_type": "code",
      "source": [
        "sum_list(list1=[10,10,10,10])"
      ],
      "metadata": {
        "colab": {
          "base_uri": "https://localhost:8080/"
        },
        "id": "uphBpG4uAHXq",
        "outputId": "cb2745cc-ecec-4967-9a00-05b5b9936703"
      },
      "execution_count": null,
      "outputs": [
        {
          "output_type": "execute_result",
          "data": {
            "text/plain": [
              "40"
            ]
          },
          "metadata": {},
          "execution_count": 74
        }
      ]
    },
    {
      "cell_type": "markdown",
      "source": [
        "**<font size='4'>Return statement**</font> <br>\n",
        "You can **return** more than one object in a function. <br>\n",
        "Each returned object can be saved in a separate variable."
      ],
      "metadata": {
        "id": "YjYmI80kEmpt"
      }
    },
    {
      "cell_type": "code",
      "source": [
        "def compute_squares(x):\n",
        "  s1 = x**2\n",
        "  s2 = x**3\n",
        "  s3 = x**4\n",
        "  return s1, s2, s3 # return three variables"
      ],
      "metadata": {
        "id": "1lc5la7WHqNb"
      },
      "execution_count": null,
      "outputs": []
    },
    {
      "cell_type": "code",
      "source": [
        "s1, s2, s3 = compute_squares(10)"
      ],
      "metadata": {
        "id": "h4dvAeGsH7SF"
      },
      "execution_count": null,
      "outputs": []
    },
    {
      "cell_type": "code",
      "source": [
        "print(s1)\n",
        "print(s2)\n",
        "print(s3)"
      ],
      "metadata": {
        "colab": {
          "base_uri": "https://localhost:8080/"
        },
        "id": "BR6Rfe-YIO67",
        "outputId": "c6240fa0-42d0-46b0-edfd-8a2271552aa9"
      },
      "execution_count": null,
      "outputs": [
        {
          "output_type": "stream",
          "name": "stdout",
          "text": [
            "100\n",
            "1000\n",
            "10000\n"
          ]
        }
      ]
    },
    {
      "cell_type": "markdown",
      "source": [
        "**<font size='4'>Default arguments**</font> <br>\n",
        "Default arguments allow you to specify default values for function arguments. <br>\n",
        "\n",
        "Arguments with a default value can be omitted when calling a function. <br>\n",
        "The function will use the argument's default values instead."
      ],
      "metadata": {
        "id": "PnoJC44x-6RV"
      }
    },
    {
      "cell_type": "code",
      "source": [
        "def add_elements(x,y=5): # default value of y is 5\n",
        "  add = x + y\n",
        "  return add"
      ],
      "metadata": {
        "id": "7-KVCQtt_w0w"
      },
      "execution_count": null,
      "outputs": []
    },
    {
      "cell_type": "code",
      "source": [
        "add_elements(x=5)"
      ],
      "metadata": {
        "colab": {
          "base_uri": "https://localhost:8080/"
        },
        "id": "7L04kFFH_5VS",
        "outputId": "1b1730c8-7537-4256-d37c-7565e4b30ee9"
      },
      "execution_count": null,
      "outputs": [
        {
          "output_type": "execute_result",
          "data": {
            "text/plain": [
              "10"
            ]
          },
          "metadata": {},
          "execution_count": 79
        }
      ]
    },
    {
      "cell_type": "markdown",
      "source": [
        "**<font size='4'>Lambda functions**</font> <br>\n",
        "Lambda functions are functions defined on in a single line of code. <br>\n",
        "- These functions are defined anonymously using the `lambda` keyword. <br>\n",
        "- They also requiere <u>input arguments</u> and an <u>expression</u> to be returned.\n",
        "\n",
        "<img src = https://miro.medium.com/v2/resize:fit:1200/0*4eRr7IZ3sP2ZAE8H.png width = \"600\" height = \"300\" >\n",
        "\n",
        "\n",
        "Functions with a single return expression can easily be converted into lambda functions. <br>\n",
        "Here is an example with the `add_elements()` function defined earlier."
      ],
      "metadata": {
        "id": "MoKisFSoslEK"
      }
    },
    {
      "cell_type": "code",
      "source": [
        "add_elements_v2 = lambda x,y: x + y # x and y are the inputs"
      ],
      "metadata": {
        "id": "AAey-WnSIZuz"
      },
      "execution_count": null,
      "outputs": []
    },
    {
      "cell_type": "code",
      "source": [
        "# Returns the same result\n",
        "print(add_elements(10,10))\n",
        "print(add_elements_v2(10,10))"
      ],
      "metadata": {
        "colab": {
          "base_uri": "https://localhost:8080/"
        },
        "id": "Tq3YSCKjIfH_",
        "outputId": "b0db70c0-e4fd-45cb-c5c5-17361636ef97"
      },
      "execution_count": null,
      "outputs": [
        {
          "output_type": "stream",
          "name": "stdout",
          "text": [
            "20\n",
            "20\n"
          ]
        }
      ]
    },
    {
      "cell_type": "markdown",
      "source": [
        "# <font color=#023F7C>**6. Types of errors** ❌ <font color=#023F7C>\n",
        "\n",
        "A Python program terminates as soon as it encounters an error. <br>\n",
        "Here are a few types of errors you might encounter:\n"
      ],
      "metadata": {
        "id": "p4Io1Gong3C4"
      }
    },
    {
      "cell_type": "markdown",
      "source": [
        "\n",
        "**NameError** <br>\n",
        "`NameError` is raised when an object cannot be found by Python.  <br> This error usually appears when you call a variable that doesn't exist in your code."
      ],
      "metadata": {
        "id": "CWbErrm5mmhv"
      }
    },
    {
      "cell_type": "code",
      "source": [
        "myvariable # variable doesn't exist in the notebook"
      ],
      "metadata": {
        "colab": {
          "base_uri": "https://localhost:8080/",
          "height": 171
        },
        "id": "XPig8cz0UcFq",
        "outputId": "5974676c-7a7c-46e8-82fd-6adebca4ace4"
      },
      "execution_count": null,
      "outputs": [
        {
          "output_type": "error",
          "ename": "NameError",
          "evalue": "ignored",
          "traceback": [
            "\u001b[0;31m---------------------------------------------------------------------------\u001b[0m",
            "\u001b[0;31mNameError\u001b[0m                                 Traceback (most recent call last)",
            "\u001b[0;32m<ipython-input-82-d5984979b243>\u001b[0m in \u001b[0;36m<cell line: 1>\u001b[0;34m()\u001b[0m\n\u001b[0;32m----> 1\u001b[0;31m \u001b[0mmyvariable\u001b[0m \u001b[0;31m# variable doesn't exist in the notebook\u001b[0m\u001b[0;34m\u001b[0m\u001b[0;34m\u001b[0m\u001b[0m\n\u001b[0m",
            "\u001b[0;31mNameError\u001b[0m: name 'myvariable' is not defined"
          ]
        }
      ]
    },
    {
      "cell_type": "markdown",
      "source": [
        "**ZeroDivisionError** <br>\n",
        "`ZeroDivisionError` is raised when you try to divide a number by 0"
      ],
      "metadata": {
        "id": "1rmMkhB9VVKY"
      }
    },
    {
      "cell_type": "code",
      "source": [
        "20/0"
      ],
      "metadata": {
        "id": "cavNYoTUVcQl"
      },
      "execution_count": null,
      "outputs": []
    },
    {
      "cell_type": "markdown",
      "source": [
        "**IndexError** <br>\n",
        "`IndexError` is raised when you try to access an element with an invalid index."
      ],
      "metadata": {
        "id": "kZdN4WjzUPnP"
      }
    },
    {
      "cell_type": "code",
      "execution_count": null,
      "metadata": {
        "id": "ZS6q4oCan5rU"
      },
      "outputs": [],
      "source": [
        "error_list = [\"a\",\"b\",\"c\",\"d\"]\n",
        "error_list[4] # index 4 doesn't exist since the range stops at 3"
      ]
    },
    {
      "cell_type": "markdown",
      "source": [
        "**ValueError** <br>\n",
        "`ValueError` is raised when a function gets an argument of improper value but correct type"
      ],
      "metadata": {
        "id": "DL_yzNwNTzT0"
      }
    },
    {
      "cell_type": "code",
      "source": [
        "float(\"text\") # cannot convert text into a decimal point number"
      ],
      "metadata": {
        "id": "p-oEZFGdTyGt"
      },
      "execution_count": null,
      "outputs": []
    },
    {
      "cell_type": "markdown",
      "source": [
        "You can find [here](https://www.tutorialsteacher.com/python/error-types-in-python) a full list of Python errors.\n",
        "\n",
        "Don't hesitate to search Python error on google if your code doesn't work. <br>\n",
        "Websites such as [Stackoverflow](https://stackoverflow.com/) host forums where people can request help for their code and get potential solutions.\n"
      ],
      "metadata": {
        "id": "r_sYtwDxVnrj"
      }
    },
    {
      "cell_type": "markdown",
      "source": [
        "# **<font color=#023F7C>7. Exercises &#128221;</font>**\n",
        "\n",
        "Here are now some exercices to **test your Python coding skills.** <br>\n",
        "\n",
        "We have added indications to help you in case you are stuck. <br>\n",
        "You can also find solutions to the exercises at the end of the notebook.\n",
        "\n",
        "\n",
        "\n",
        "\n",
        "\n",
        "\n",
        "\n",
        "\n"
      ],
      "metadata": {
        "id": "8ACJjgsZt5_A"
      }
    },
    {
      "cell_type": "markdown",
      "source": [
        "**<font size='4'><u>Exercise 1 &#128221;**</u></font> <br>\n",
        "**Compute the sum of the following numbers.** <br>\n",
        "\n"
      ],
      "metadata": {
        "id": "9PVJ1yxOcqB_"
      }
    },
    {
      "cell_type": "code",
      "source": [
        "var1_ex1 = \"6\"\n",
        "var2_ex1 = \"10\"\n",
        "var3_ex1 = \"21\""
      ],
      "metadata": {
        "id": "wd4TuOPUc1FN"
      },
      "execution_count": null,
      "outputs": []
    },
    {
      "cell_type": "code",
      "source": [],
      "metadata": {
        "id": "oqN1rp6ehLMF"
      },
      "execution_count": null,
      "outputs": []
    },
    {
      "cell_type": "markdown",
      "source": [
        "**Expected result** &#9989;\n",
        "\n",
        "\n",
        "```\n",
        "37\n",
        "```"
      ],
      "metadata": {
        "id": "DFA_WMbkg8G7"
      }
    },
    {
      "cell_type": "markdown",
      "source": [
        "**<font size='4'><u>Exercise 2</u> &#128221;**</font> <br>\n",
        "**Print the lowest and highest number of a list of integers.** <br>\n",
        "*You can use a Python function that sort lists.*\n"
      ],
      "metadata": {
        "id": "b_UPX8RimAvS"
      }
    },
    {
      "cell_type": "code",
      "source": [
        "list_ex2 = [18,3,10,45,12]"
      ],
      "metadata": {
        "id": "xVUyRJVJmMcM"
      },
      "execution_count": null,
      "outputs": []
    },
    {
      "cell_type": "code",
      "source": [],
      "metadata": {
        "id": "pqo7CwGtobXH"
      },
      "execution_count": null,
      "outputs": []
    },
    {
      "cell_type": "markdown",
      "source": [
        "**Expected result** &#9989;\n",
        "\n",
        "\n",
        "```\n",
        "3\n",
        "45\n",
        "```"
      ],
      "metadata": {
        "id": "FAhQMzlqnSHV"
      }
    },
    {
      "cell_type": "markdown",
      "source": [
        "**<font size='4'><u>Exercise 3</u> &#128221;**</font> <br>\n",
        "**Write a statement that goes through a list of integers and prints**:  \n",
        "- \"Positive\" if the number is positive\n",
        "- \"Zero\" if the number is 0\n",
        "- \"Negative\" if the number is negative\n"
      ],
      "metadata": {
        "id": "DEP4gR3KtqFD"
      }
    },
    {
      "cell_type": "code",
      "source": [
        "list_ex3 = [-3,-2,-1,0,1,2]"
      ],
      "metadata": {
        "id": "3rZDaBf-t8Tn"
      },
      "execution_count": null,
      "outputs": []
    },
    {
      "cell_type": "code",
      "source": [],
      "metadata": {
        "id": "Ogzh1uO5ct7O"
      },
      "execution_count": null,
      "outputs": []
    },
    {
      "cell_type": "markdown",
      "source": [
        "**Expected result** &#9989;\n",
        "\n",
        "\n",
        "```\n",
        "Negative\n",
        "Negative\n",
        "Negative\n",
        "Zero\n",
        "Positive\n",
        "Positive\n",
        "```"
      ],
      "metadata": {
        "id": "ZIy1bRqXuCQL"
      }
    },
    {
      "cell_type": "markdown",
      "source": [
        "**<font size='4'><u>Exercise 4</u> &#128221;**</font> <br>\n",
        "**Write a statement that prints the odd numbers of a list.** <br>\n",
        "*You can use the mathematical `%` operator to check if a number is even or odd.*\n",
        "\n",
        "\n",
        "\n",
        "\n"
      ],
      "metadata": {
        "id": "KH7CmXyU70x7"
      }
    },
    {
      "cell_type": "code",
      "source": [
        "list_ex4 = [1,3,6,7,9,12]"
      ],
      "metadata": {
        "id": "xCaFa1F2DpiK"
      },
      "execution_count": null,
      "outputs": []
    },
    {
      "cell_type": "code",
      "source": [],
      "metadata": {
        "id": "QgwLiPz7qIJz"
      },
      "execution_count": null,
      "outputs": []
    },
    {
      "cell_type": "markdown",
      "source": [
        "**Expected result** &#9989;\n",
        "\n",
        "\n",
        "```\n",
        "1\n",
        "3\n",
        "7\n",
        "9\n",
        "```"
      ],
      "metadata": {
        "id": "itMF9tj3Bi8d"
      }
    },
    {
      "cell_type": "markdown",
      "source": [
        "**<font size='4'><u>Exercise 5</u> &#128221;**</font> <br>\n",
        "**Write a function that computes the average value of a list.** <br>\n",
        "*You can use the `sum()` operator to compute the sum of a list*\n",
        "\n"
      ],
      "metadata": {
        "id": "KCXlY7zavK8J"
      }
    },
    {
      "cell_type": "code",
      "source": [
        "list_ex5 = [5,10,15,20,25,30]"
      ],
      "metadata": {
        "id": "3bZV2mJCwTJq"
      },
      "execution_count": null,
      "outputs": []
    },
    {
      "cell_type": "code",
      "source": [],
      "metadata": {
        "id": "mDP6NNnWxMJp"
      },
      "execution_count": null,
      "outputs": []
    },
    {
      "cell_type": "markdown",
      "source": [
        "**Expected result** &#9989; <br>\n",
        "\n",
        "\n",
        "```\n",
        "17.5\n",
        "```\n"
      ],
      "metadata": {
        "id": "hUrDk5AmxY01"
      }
    },
    {
      "cell_type": "markdown",
      "source": [
        "**<font size='4'><u>Exercice 6</u> &#128221;**</font> <br>\n",
        "**Write a statement that multiplies by ten each element of a list.** <br>\n",
        "\n",
        "*You can use the `.append()` method with a for-loop to write this statement.* <br>\n",
        "*Go to section 4.1 on For-loops for an example.*"
      ],
      "metadata": {
        "id": "FoykgUKIAVbX"
      }
    },
    {
      "cell_type": "code",
      "source": [
        "list_ex6 = [10,100,1000,10000,100000]"
      ],
      "metadata": {
        "id": "hRS4FPkvyc9J"
      },
      "execution_count": null,
      "outputs": []
    },
    {
      "cell_type": "code",
      "source": [],
      "metadata": {
        "id": "i3OM2yKJy4R9"
      },
      "execution_count": null,
      "outputs": []
    },
    {
      "cell_type": "markdown",
      "source": [
        "**Expected result** &#9989;\n",
        "\n",
        "\n",
        "```\n",
        "[100, 1000, 10000, 100000, 1000000]\n",
        "```"
      ],
      "metadata": {
        "id": "9_VLqX6Byycq"
      }
    },
    {
      "cell_type": "markdown",
      "source": [
        "**<font size='4'><u>Exercise 7</u> &#128221;**</font> <br>\n",
        "**Write a function that normalizes an array/list of integers.** <br>\n",
        "\n",
        "*The formula to normalize an array $X$ is:* $X_{normalized} = \\frac{X-X_{min}}{X_{max}-X_{min}}$ <br>\n",
        "*You can use the `min()` and `max()` functions.*\n"
      ],
      "metadata": {
        "id": "dg5Mqn3FBII5"
      }
    },
    {
      "cell_type": "code",
      "source": [
        "list_ex7 = list(range(10,100,10))\n",
        "list_ex7"
      ],
      "metadata": {
        "id": "8y4PLmvUqK__",
        "colab": {
          "base_uri": "https://localhost:8080/"
        },
        "outputId": "363b4236-76fd-4246-c073-28e4c33316a7"
      },
      "execution_count": null,
      "outputs": [
        {
          "output_type": "execute_result",
          "data": {
            "text/plain": [
              "[10, 20, 30, 40, 50, 60, 70, 80, 90]"
            ]
          },
          "metadata": {},
          "execution_count": 89
        }
      ]
    },
    {
      "cell_type": "code",
      "source": [],
      "metadata": {
        "id": "D_P9GczyrImT"
      },
      "execution_count": null,
      "outputs": []
    },
    {
      "cell_type": "markdown",
      "source": [
        "**Expected result** &#9989; <br>\n",
        "\n",
        "\n",
        "```\n",
        "[0.0, 0.125, 0.25, 0.375, 0.5, 0.625, 0.75, 0.875, 1.0]\n",
        "```\n",
        "\n"
      ],
      "metadata": {
        "id": "3D9Tl3A_I04F"
      }
    },
    {
      "cell_type": "markdown",
      "source": [
        "**<font size='4'><u>Exercise 8** &#128221;</u></font> <br>\n",
        "**Write a function that returns the length of each word in a text.** <br>\n",
        "*You can split a text into a list of words with `.split()`*."
      ],
      "metadata": {
        "id": "lxLEaxp5X3bB"
      }
    },
    {
      "cell_type": "code",
      "source": [
        "list_ex8 = \"I'm learning how to code in Python\"\n",
        "list_ex8.split()"
      ],
      "metadata": {
        "colab": {
          "base_uri": "https://localhost:8080/"
        },
        "id": "HtqdlVydYH2e",
        "outputId": "e4ef9e06-3952-4160-97dc-b0bf61114d63"
      },
      "execution_count": null,
      "outputs": [
        {
          "output_type": "execute_result",
          "data": {
            "text/plain": [
              "[\"I'm\", 'learning', 'how', 'to', 'code', 'in', 'Python']"
            ]
          },
          "metadata": {},
          "execution_count": 90
        }
      ]
    },
    {
      "cell_type": "code",
      "source": [],
      "metadata": {
        "id": "QQnKaWp3n8v2"
      },
      "execution_count": null,
      "outputs": []
    },
    {
      "cell_type": "markdown",
      "source": [
        "**Expected result** &#9989;\n",
        "\n",
        "\n",
        "```\n",
        "[3, 8, 3, 2, 4, 2, 6]\n",
        "```"
      ],
      "metadata": {
        "id": "IZ3E-173ZVBu"
      }
    },
    {
      "cell_type": "markdown",
      "source": [
        "**<font size='4'><u>Exercise 9</u>** &#128221;</font> <br>\n",
        "**Write a function that returns the frequency (in percentage) of 0 and 1 in a list.** <br>\n",
        "\n",
        "*You can use the `collections.Counter()` function, which returns a dictionary type object.* <br> *The `collections` module is part of Python's standard library.*<br>\n",
        "\n",
        "*You can also try to write a function without using an imported library.*\n"
      ],
      "metadata": {
        "id": "GzNP8CUIxY6V"
      }
    },
    {
      "cell_type": "code",
      "source": [
        "import collections"
      ],
      "metadata": {
        "id": "4BE-0IpCZ67k"
      },
      "execution_count": null,
      "outputs": []
    },
    {
      "cell_type": "code",
      "source": [
        "list_ex9 = [0,0,0,0,1,1,0,0,0,0,1,1,1,1,1,1,0,0,0,0,0]"
      ],
      "metadata": {
        "id": "Poc21Cl6zYBr"
      },
      "execution_count": null,
      "outputs": []
    },
    {
      "cell_type": "code",
      "source": [],
      "metadata": {
        "id": "kpKY-wNW2Bq2"
      },
      "execution_count": null,
      "outputs": []
    },
    {
      "cell_type": "markdown",
      "source": [
        "**Expected result** &#9989;\n",
        "\n",
        "\n",
        "```\n",
        "62\n",
        "38\n",
        "```"
      ],
      "metadata": {
        "id": "KdAQCu2-zW_q"
      }
    },
    {
      "cell_type": "markdown",
      "source": [
        "Here are some additional ressources with exercices in Python:\n",
        "- **PracticePython**: https://www.practicepython.org/\n",
        "- **Pynative**: https://pynative.com/python-exercises-with-solutions/\n",
        "- **CodeWars**: https://www.codewars.com/\n"
      ],
      "metadata": {
        "id": "MYT11alPOlgS"
      }
    },
    {
      "cell_type": "markdown",
      "source": [
        "# **<font color=#023F7C>8. Solutions</font>** ✔️\n",
        "\n",
        "In this section, we provide solutions for the courses' exercices. <br>\n",
        "There might be other possible solutions we haven't mentioned here.\n",
        "\n",
        "\n",
        "\n"
      ],
      "metadata": {
        "id": "4kHV9TW0nnU9"
      }
    },
    {
      "cell_type": "markdown",
      "source": [
        "**<font size='4'>Exercise 1**</font> <br>\n",
        "Compute the sum of the following variables. <br>"
      ],
      "metadata": {
        "id": "zla-wAZX4aGS"
      }
    },
    {
      "cell_type": "code",
      "source": [
        "# You have to convert the string variables to int/float\n",
        "int(var1_ex1) + int(var2_ex1) + int(var3_ex1)"
      ],
      "metadata": {
        "colab": {
          "base_uri": "https://localhost:8080/"
        },
        "id": "8vPDMx-oTl9d",
        "outputId": "97213fd1-bbf9-4ac7-fbe9-cfb20651b551"
      },
      "execution_count": null,
      "outputs": [
        {
          "output_type": "execute_result",
          "data": {
            "text/plain": [
              "37"
            ]
          },
          "metadata": {},
          "execution_count": 93
        }
      ]
    },
    {
      "cell_type": "markdown",
      "source": [
        "**<font size='4'>Exercise 2**</font> <br>\n",
        "Print the lowest and highest number of a list of integers. <br>"
      ],
      "metadata": {
        "id": "AM8iueEmUcjv"
      }
    },
    {
      "cell_type": "code",
      "source": [
        "# The .sort() method modifies directly list_ex2\n",
        "list_ex2.sort()"
      ],
      "metadata": {
        "id": "Gj_WyzfJUxSx"
      },
      "execution_count": null,
      "outputs": []
    },
    {
      "cell_type": "code",
      "source": [
        "print(list_ex2[0])\n",
        "print(list_ex2[-1]) # use negative indexing to get the last element"
      ],
      "metadata": {
        "colab": {
          "base_uri": "https://localhost:8080/"
        },
        "id": "gyYEyveNVLIh",
        "outputId": "5da6b64f-0dda-40a7-b237-922b150ae09e"
      },
      "execution_count": null,
      "outputs": [
        {
          "output_type": "stream",
          "name": "stdout",
          "text": [
            "3\n",
            "45\n"
          ]
        }
      ]
    },
    {
      "cell_type": "markdown",
      "source": [
        "**<font size='4'>Exercise 3**</font> <br>\n",
        "Write a statement that goes through a list of integers and prints:  \n",
        "- \"Positive\" if the number is positive  \n",
        "- \"Zero\" if the number is 0\n",
        "- \"Negative\" if the number is negative  "
      ],
      "metadata": {
        "id": "oC7ckQ5iUrUp"
      }
    },
    {
      "cell_type": "code",
      "source": [
        "for i in list_ex3:\n",
        "  if i>0:\n",
        "    print(\"Positive\")\n",
        "  elif i==0:\n",
        "    print(\"Zero\")\n",
        "  else:\n",
        "    print(\"Negative\")"
      ],
      "metadata": {
        "colab": {
          "base_uri": "https://localhost:8080/"
        },
        "id": "eO5paaqhVUFv",
        "outputId": "2328106d-41c7-4be2-a749-d9c8383fe634"
      },
      "execution_count": null,
      "outputs": [
        {
          "output_type": "stream",
          "name": "stdout",
          "text": [
            "Negative\n",
            "Negative\n",
            "Negative\n",
            "Zero\n",
            "Positive\n",
            "Positive\n"
          ]
        }
      ]
    },
    {
      "cell_type": "markdown",
      "source": [
        "**<font size='4'>Exercise 4**</font> <br>\n",
        "Write a statement that prints the odd numbers of a list."
      ],
      "metadata": {
        "id": "7VvJ4i8nVn9-"
      }
    },
    {
      "cell_type": "code",
      "source": [
        "for i in list_ex4:\n",
        "  if i%2 != 0: # odd numbers aren't divisible by 2\n",
        "    print(i)"
      ],
      "metadata": {
        "colab": {
          "base_uri": "https://localhost:8080/"
        },
        "id": "Jw-aCwc1Vuk-",
        "outputId": "185bbc7c-253e-4ce3-db85-d30d92d1ab0e"
      },
      "execution_count": null,
      "outputs": [
        {
          "output_type": "stream",
          "name": "stdout",
          "text": [
            "1\n",
            "3\n",
            "7\n",
            "9\n"
          ]
        }
      ]
    },
    {
      "cell_type": "markdown",
      "source": [
        "**<font size='4'>Exercise 5**</font> <br>\n",
        "Write a function that computes the average value of a list.\n",
        "\n",
        "<u>First method</u>"
      ],
      "metadata": {
        "id": "kkzbg3_dWvZY"
      }
    },
    {
      "cell_type": "code",
      "source": [
        "# First method\n",
        "def compute_average1(x):\n",
        "  avg = sum(x)/len(x)\n",
        "  return avg"
      ],
      "metadata": {
        "id": "Q_yuqfn6W0Im"
      },
      "execution_count": null,
      "outputs": []
    },
    {
      "cell_type": "code",
      "source": [
        "compute_average1(list_ex5)"
      ],
      "metadata": {
        "colab": {
          "base_uri": "https://localhost:8080/"
        },
        "id": "kc1kA5_pW9tm",
        "outputId": "9c15afbc-7336-4c64-a773-16d21aae651b"
      },
      "execution_count": null,
      "outputs": [
        {
          "output_type": "execute_result",
          "data": {
            "text/plain": [
              "17.5"
            ]
          },
          "metadata": {},
          "execution_count": 99
        }
      ]
    },
    {
      "cell_type": "markdown",
      "source": [
        "<u>Second method</u>"
      ],
      "metadata": {
        "id": "8jUVpx9dm9_s"
      }
    },
    {
      "cell_type": "code",
      "source": [
        "# Second method with a lambda function\n",
        "compute_average2 = lambda x: sum(x)/len(x)"
      ],
      "metadata": {
        "id": "QPWJd_GUXLWI"
      },
      "execution_count": null,
      "outputs": []
    },
    {
      "cell_type": "code",
      "source": [
        "compute_average2(list_ex5)"
      ],
      "metadata": {
        "colab": {
          "base_uri": "https://localhost:8080/"
        },
        "id": "uwZ9F7omXYQd",
        "outputId": "48127bc4-9b43-4971-db59-a91ff296ac90"
      },
      "execution_count": null,
      "outputs": [
        {
          "output_type": "execute_result",
          "data": {
            "text/plain": [
              "17.5"
            ]
          },
          "metadata": {},
          "execution_count": 101
        }
      ]
    },
    {
      "cell_type": "markdown",
      "source": [
        "**<font size='4'>Exercice 6**</font> <br>\n",
        "Write a statement that multiplies by ten each element of a list. <br>"
      ],
      "metadata": {
        "id": "Q9mtV88enYKZ"
      }
    },
    {
      "cell_type": "code",
      "source": [
        "l = []\n",
        "for i in list_ex6:\n",
        "  l.append(i*10)"
      ],
      "metadata": {
        "id": "eTjs-P7LnfjO"
      },
      "execution_count": null,
      "outputs": []
    },
    {
      "cell_type": "code",
      "source": [
        "l"
      ],
      "metadata": {
        "colab": {
          "base_uri": "https://localhost:8080/"
        },
        "id": "8tLl7tWmnsdP",
        "outputId": "0db344a1-d60e-4c35-eceb-a37a86935c64"
      },
      "execution_count": null,
      "outputs": [
        {
          "output_type": "execute_result",
          "data": {
            "text/plain": [
              "[100, 1000, 10000, 100000, 1000000]"
            ]
          },
          "metadata": {},
          "execution_count": 103
        }
      ]
    },
    {
      "cell_type": "markdown",
      "source": [
        "**<font size='4'>Exercise 7**</font> <br>\n",
        "Write a function that normalizes an array/list of integers."
      ],
      "metadata": {
        "id": "Do3AoJ4Nn-AM"
      }
    },
    {
      "cell_type": "code",
      "source": [
        "def normalize(array):\n",
        "  norm = []\n",
        "  min_value = min(array)\n",
        "  max_value = max(array)\n",
        "  for x in array:\n",
        "    norm.append((x-min_value)/(max_value-min_value))\n",
        "  return norm"
      ],
      "metadata": {
        "id": "LI0Z5REhoFtP"
      },
      "execution_count": null,
      "outputs": []
    },
    {
      "cell_type": "code",
      "source": [
        "normalize(list_ex7)"
      ],
      "metadata": {
        "colab": {
          "base_uri": "https://localhost:8080/"
        },
        "id": "IlpNnj9rpUHp",
        "outputId": "bc9e00a3-43dc-4358-96da-08f7027934ed"
      },
      "execution_count": null,
      "outputs": [
        {
          "output_type": "execute_result",
          "data": {
            "text/plain": [
              "[0.0, 0.125, 0.25, 0.375, 0.5, 0.625, 0.75, 0.875, 1.0]"
            ]
          },
          "metadata": {},
          "execution_count": 105
        }
      ]
    },
    {
      "cell_type": "markdown",
      "source": [
        "**<font size='4'>Exercise 8**</font> <br>\n",
        "Write a function that returns the length of each word in a text."
      ],
      "metadata": {
        "id": "EZfZi6FUp_Wc"
      }
    },
    {
      "cell_type": "code",
      "source": [
        "def length_words(l):\n",
        "  list_ = []\n",
        "  for elem in l.split(): # split the string into a list\n",
        "    list_.append(len(elem)) # get the length of each word\n",
        "  return list_"
      ],
      "metadata": {
        "id": "XnfzYx6grOWI"
      },
      "execution_count": null,
      "outputs": []
    },
    {
      "cell_type": "code",
      "source": [
        "length_words(list_ex8)"
      ],
      "metadata": {
        "colab": {
          "base_uri": "https://localhost:8080/"
        },
        "id": "HZsTy5UbrpY5",
        "outputId": "3f01a18c-2c03-4625-c345-49e7aa8c7297"
      },
      "execution_count": null,
      "outputs": [
        {
          "output_type": "execute_result",
          "data": {
            "text/plain": [
              "[3, 8, 3, 2, 4, 2, 6]"
            ]
          },
          "metadata": {},
          "execution_count": 107
        }
      ]
    },
    {
      "cell_type": "markdown",
      "source": [
        "**<font size='4'>Exercise 9**</font> <br>\n",
        "Write a function that returns the frequency (in percentage) of 0 and 1 in a list <br>"
      ],
      "metadata": {
        "id": "8icMircQUPME"
      }
    },
    {
      "cell_type": "code",
      "source": [
        "import collections"
      ],
      "metadata": {
        "id": "XU2tZEIZzxRp"
      },
      "execution_count": null,
      "outputs": []
    },
    {
      "cell_type": "code",
      "source": [
        "dict_ex = collections.Counter(list_ex9) # collections.Counter() function"
      ],
      "metadata": {
        "id": "xCBDuZmiFmVo"
      },
      "execution_count": null,
      "outputs": []
    },
    {
      "cell_type": "code",
      "source": [
        "def freq_labels(array):\n",
        "  dict_array = collections.Counter(array)\n",
        "  freq1 = 100*dict_array[0]/len(array) # select dict element with key 0\n",
        "  freq2 = 100*dict_array[1]/len(array)  # select dict element with key 1\n",
        "  return round(freq1), round(freq2)"
      ],
      "metadata": {
        "id": "yK119X-Wsoin"
      },
      "execution_count": null,
      "outputs": []
    },
    {
      "cell_type": "code",
      "source": [
        "print(freq_labels(list_ex9)[0])\n",
        "print(freq_labels(list_ex9)[1])"
      ],
      "metadata": {
        "colab": {
          "base_uri": "https://localhost:8080/"
        },
        "id": "vqbfGKw_0nKn",
        "outputId": "45a8cff8-beb9-4c3a-b787-dd13bb8af5c1"
      },
      "execution_count": null,
      "outputs": [
        {
          "output_type": "stream",
          "name": "stdout",
          "text": [
            "62\n",
            "38\n"
          ]
        }
      ]
    },
    {
      "cell_type": "markdown",
      "source": [
        "**<font size='5'>Congrats ! 🥳 </font><br>\n",
        "<font size='4'>You have finished the Python Crash Course.**</font> <br>\n",
        "\n",
        "We hope this notebook helped you learn the basics of Python. <br>\n",
        "\n",
        "You can now start the **Data Science Crash Course**. <br>\n",
        "This second course will show you how Python is used in Data Science projects.\n"
      ],
      "metadata": {
        "id": "pa8_H4uvm3Jv"
      }
    },
    {
      "cell_type": "code",
      "source": [],
      "metadata": {
        "id": "uxswWBAjnMcO"
      },
      "execution_count": null,
      "outputs": []
    }
  ]
}