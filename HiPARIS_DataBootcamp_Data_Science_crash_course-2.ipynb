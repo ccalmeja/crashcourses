{
  "nbformat": 4,
  "nbformat_minor": 0,
  "metadata": {
    "colab": {
      "provenance": [],
      "toc_visible": true
    },
    "kernelspec": {
      "name": "python3",
      "display_name": "Python 3"
    },
    "language_info": {
      "name": "python"
    }
  },
  "cells": [
    {
      "cell_type": "markdown",
      "source": [
        "**<center><font color='#023F7C' size=\"6.5\">Data Science Crash Course &#128218;</font>** <br>\n",
        "<font color=#023F7C size=4>**Hi! PARIS DataBootcamp**</font> <br>\n",
        "\n",
        "</center>\n",
        "\n",
        "<img src = https://www.hi-paris.fr/wp-content/uploads/2020/09/logo-hi-paris-retina.png width = \"300\" height = \"200\" >\n",
        "\n",
        "<font color=\"#023F7C\">**Author**:</font> Laurène DAVID, Machine Learning Research Engineer @ Hi! PARIS"
      ],
      "metadata": {
        "id": "TwUZKxphVkov"
      }
    },
    {
      "cell_type": "markdown",
      "source": [
        "# **<font  color=#023F7C>Introduction </font>**\n",
        "\n",
        "The **Hi! PARIS DataBootcamp** 🚀 is a one-week program where you will learn the fundamentals of AI and Data Science. <br> During the week, you will get to work on a Data Science project with a real business use case. <br>\n",
        "\n",
        "In the first crash course, you learned about the **fundamentals of Python programming &#128187;**. <br> Now, we will show you how **Python is used in Data Science &#128218;**.\n",
        "\n",
        "To illustrate this course, we will use a dataset with information on passengers of the titanic. <br> The end goal is to **predict if a passenger would survive or not on the titanic.**\n",
        "\n"
      ],
      "metadata": {
        "id": "GYfr15PCO-XN"
      }
    },
    {
      "cell_type": "markdown",
      "source": [
        "**<font size='4'>Need help ?**</font> <br>\n",
        "This course was designed to run on Google Colaboratory. <br>\n",
        "If you need help using the platform, we have provided a tutorial in *Google_colab_tutorial.pdf*.<br>\n",
        "\n",
        "You can contact us directly at data-event@hi-paris.fr if you have more questions about Colab or the course."
      ],
      "metadata": {
        "id": "EO2Za5IT3IJY"
      }
    },
    {
      "cell_type": "markdown",
      "source": [
        "# **<font color=#023F7C>1. Data Science Libraries &#128230;</font>**\n",
        "\n",
        "Python has many **open-sourced libraries** dedicated to Data Science. <br>\n",
        "It has libraries for Numerical computing, Data wrangling, Data visualization and Machine Learning.\n",
        "\n",
        "This first section will introduce you to three important libraries: **Numpy**, **Pandas** and **Matplotlib**. <br>\n",
        "\n",
        "We will also use **scikit-learn** for model building at the end of the course.\n",
        "<br> We won't introduce this library today but you'll have plenty of time to get familiar with it during the bootcamp.\n",
        "\n",
        "<br>\n",
        "\n",
        "<img src = https://cdn.analyticsvidhya.com/wp-content/uploads/2020/11/Untitled-design24.png width = \"600\" height = \"300\">\n",
        "\n",
        "\n",
        "\n",
        "\n"
      ],
      "metadata": {
        "id": "sdaUdXJN8DZK"
      }
    },
    {
      "cell_type": "markdown",
      "source": [
        "**<font size='4'>Importing libraries**</font> <br>\n",
        "Open-sourced libraries are developed by external Python contributors. <br>\n",
        "This means that need to be installed and imported into Python. <br>\n",
        "1. **Install** a library using `pip install <library-name>` in a terminal or a notebook. <br>\n",
        "\n",
        "2. **Import** a library into your Python environement using `import`. <br> You can also create an alias for libraries with `as` to shorten functions calls.\n",
        "\n",
        "\n",
        "> Google colab has many libraries already installed in its environement, which includes numpy, pandas, matplotlib and scikit-learn. <br> For this course, you'll only need to import them into your environment."
      ],
      "metadata": {
        "id": "-dGJfeOzhzll"
      }
    },
    {
      "cell_type": "markdown",
      "source": [
        "## **<font size=5 color=#023F7C>1.1 Numpy</font>**\n",
        "\n",
        "**NumPy** is a fundamental Python library for numerical computing. <br>\n",
        "It provides tools to work with multi-dimensional arrays and matrices. <br>\n",
        "\n",
        "Numpy also has a vast collection of mathematical functions that can be used on its arrays.\n",
        "\n",
        "<br>\n",
        "\n",
        "<img src = https://user-images.githubusercontent.com/67586773/105040771-43887300-5a88-11eb-9f01-bee100b9ef22.png width = \"150\" height = \"150\" >\n",
        "\n",
        "\n"
      ],
      "metadata": {
        "id": "jWzTvVSTHFXK"
      }
    },
    {
      "cell_type": "code",
      "source": [
        "import numpy as np # np is the alias for numpy\n",
        "np.random.seed(1)"
      ],
      "metadata": {
        "id": "5t7DiXlnQuaY"
      },
      "execution_count": null,
      "outputs": []
    },
    {
      "cell_type": "markdown",
      "source": [
        "**<font size='5'>Numpy arrays**</font> <br>\n",
        "NumPy provides an array object that is much faster to process than Python lists.<br>\n",
        "You can create an array from a list with **`np.array()`**.\n",
        "\n"
      ],
      "metadata": {
        "id": "0QKRQ7qCTT3I"
      }
    },
    {
      "cell_type": "code",
      "source": [
        "# A 1D numpy array\n",
        "array1D = np.array([1,2,3,4])\n",
        "array1D"
      ],
      "metadata": {
        "colab": {
          "base_uri": "https://localhost:8080/"
        },
        "id": "uAAKofYJXZt-",
        "outputId": "39c07083-eee7-4f7b-fdad-7360c87a4312"
      },
      "execution_count": null,
      "outputs": [
        {
          "output_type": "execute_result",
          "data": {
            "text/plain": [
              "array([1, 2, 3, 4])"
            ]
          },
          "metadata": {},
          "execution_count": 3
        }
      ]
    },
    {
      "cell_type": "markdown",
      "source": [
        "Numpy arrays can have multiple dimensions. <br>\n",
        "Here are examples of 2D and 3D arrays.\n"
      ],
      "metadata": {
        "id": "BlfP17RFXteX"
      }
    },
    {
      "cell_type": "code",
      "source": [
        "# A 2D array with 2 rows and 2 columns\n",
        "array2D = np.array([[1,2],[3,4]])\n",
        "array2D"
      ],
      "metadata": {
        "colab": {
          "base_uri": "https://localhost:8080/"
        },
        "id": "uLR6l262X9cp",
        "outputId": "eb6fdde9-9c1e-42aa-c86b-7a9718cad37a"
      },
      "execution_count": null,
      "outputs": [
        {
          "output_type": "execute_result",
          "data": {
            "text/plain": [
              "array([[1, 2],\n",
              "       [3, 4]])"
            ]
          },
          "metadata": {},
          "execution_count": 4
        }
      ]
    },
    {
      "cell_type": "code",
      "source": [
        "array2D.shape # 2D shape"
      ],
      "metadata": {
        "id": "yaqCYeN54Olu",
        "colab": {
          "base_uri": "https://localhost:8080/"
        },
        "outputId": "5b2d5fbe-b9cd-4a6a-d2b3-b82bc2c23a51"
      },
      "execution_count": null,
      "outputs": [
        {
          "output_type": "execute_result",
          "data": {
            "text/plain": [
              "(2, 2)"
            ]
          },
          "metadata": {},
          "execution_count": 5
        }
      ]
    },
    {
      "cell_type": "code",
      "source": [
        "# A 3D array\n",
        "array3D = np.array([[[1,2],[3,4]],[[5,6],[7,8]]])\n",
        "array3D"
      ],
      "metadata": {
        "colab": {
          "base_uri": "https://localhost:8080/"
        },
        "id": "TZ22nbY88Wxx",
        "outputId": "f1f97cbe-a644-4f5c-bb8e-4e89a655b13a"
      },
      "execution_count": null,
      "outputs": [
        {
          "output_type": "execute_result",
          "data": {
            "text/plain": [
              "array([[[1, 2],\n",
              "        [3, 4]],\n",
              "\n",
              "       [[5, 6],\n",
              "        [7, 8]]])"
            ]
          },
          "metadata": {},
          "execution_count": 6
        }
      ]
    },
    {
      "cell_type": "code",
      "source": [
        "array3D.shape #3D shape"
      ],
      "metadata": {
        "colab": {
          "base_uri": "https://localhost:8080/"
        },
        "id": "gdOQ_Ndl9Dy4",
        "outputId": "6811a296-2c86-4289-fe2f-538c717d313c"
      },
      "execution_count": null,
      "outputs": [
        {
          "output_type": "execute_result",
          "data": {
            "text/plain": [
              "(2, 2, 2)"
            ]
          },
          "metadata": {},
          "execution_count": 7
        }
      ]
    },
    {
      "cell_type": "markdown",
      "source": [
        "Arrays are **collection type objects** that can be sliced with positional indexing. <br>\n",
        "- 1D arrays: `array[0]` (1 index)\n",
        "- 2D arrays: `array[0,0]` (2 indexes for the row and column position)\n",
        "- 3D arrays:`array[0,0,0]` (3 indexes for each dimension)\n"
      ],
      "metadata": {
        "id": "GroCepn8ZGsv"
      }
    },
    {
      "cell_type": "code",
      "source": [
        "# Slice a 1D array\n",
        "array1D[0]"
      ],
      "metadata": {
        "colab": {
          "base_uri": "https://localhost:8080/"
        },
        "id": "ryysOGtyaL1Z",
        "outputId": "8280bcc4-273b-4412-8ef0-1049522ead2d"
      },
      "execution_count": null,
      "outputs": [
        {
          "output_type": "execute_result",
          "data": {
            "text/plain": [
              "1"
            ]
          },
          "metadata": {},
          "execution_count": 8
        }
      ]
    },
    {
      "cell_type": "code",
      "source": [
        "# Slice a 2D array\n",
        "array2D[0,0]"
      ],
      "metadata": {
        "colab": {
          "base_uri": "https://localhost:8080/"
        },
        "id": "jZsE87W4if47",
        "outputId": "7a78bfec-1733-46c1-bb50-0f56a12e8f4f"
      },
      "execution_count": null,
      "outputs": [
        {
          "output_type": "execute_result",
          "data": {
            "text/plain": [
              "1"
            ]
          },
          "metadata": {},
          "execution_count": 9
        }
      ]
    },
    {
      "cell_type": "code",
      "source": [
        "# Slice a 3D array\n",
        "array3D[0,0,0]"
      ],
      "metadata": {
        "colab": {
          "base_uri": "https://localhost:8080/"
        },
        "id": "c-pp_RrX9oB_",
        "outputId": "4ff21b7f-f7dc-43b8-e12f-524d71be83fe"
      },
      "execution_count": null,
      "outputs": [
        {
          "output_type": "execute_result",
          "data": {
            "text/plain": [
              "1"
            ]
          },
          "metadata": {},
          "execution_count": 10
        }
      ]
    },
    {
      "cell_type": "markdown",
      "source": [
        "**<font size='5'>Numpy operations**</font> <br>\n",
        "\n",
        "NumPy offers many **mathematical operations** that can be used on numbers or arrays.  <br>\n",
        "Popular ones include `np.round`, `np.mean` or `np.sqrt`. <br>\n",
        "\n",
        "Here is a [link](https://numpy.org/doc/stable/reference/routines.math.html) to numpy's full list of mathematical operations.\n",
        "\n",
        "\n"
      ],
      "metadata": {
        "id": "ZrA49s7dVnr1"
      }
    },
    {
      "cell_type": "code",
      "source": [
        "# Round a number or array\n",
        "np.round(2.6)"
      ],
      "metadata": {
        "colab": {
          "base_uri": "https://localhost:8080/"
        },
        "id": "DrV301nthAs9",
        "outputId": "017d9c63-77a4-4416-93d4-b032d239f083"
      },
      "execution_count": null,
      "outputs": [
        {
          "output_type": "execute_result",
          "data": {
            "text/plain": [
              "3.0"
            ]
          },
          "metadata": {},
          "execution_count": 11
        }
      ]
    },
    {
      "cell_type": "code",
      "source": [
        "# Compute the mean value of an array\n",
        "np.mean(np.array([5,10,15]))"
      ],
      "metadata": {
        "colab": {
          "base_uri": "https://localhost:8080/"
        },
        "id": "YtxEZM85hCyI",
        "outputId": "d4eed6bb-cc7a-4631-f901-326ea0f5f472"
      },
      "execution_count": null,
      "outputs": [
        {
          "output_type": "execute_result",
          "data": {
            "text/plain": [
              "10.0"
            ]
          },
          "metadata": {},
          "execution_count": 12
        }
      ]
    },
    {
      "cell_type": "code",
      "source": [
        "# Compute the square root of a number or an aray\n",
        "np.sqrt(25)"
      ],
      "metadata": {
        "colab": {
          "base_uri": "https://localhost:8080/"
        },
        "id": "qnUtDIxWag-d",
        "outputId": "906cdfb5-8a7c-4acb-aacb-2460f8b57fc8"
      },
      "execution_count": null,
      "outputs": [
        {
          "output_type": "execute_result",
          "data": {
            "text/plain": [
              "5.0"
            ]
          },
          "metadata": {},
          "execution_count": 13
        }
      ]
    },
    {
      "cell_type": "markdown",
      "source": [
        "## <font size=5 color=#023F7C>**1.2 Pandas</font>**\n",
        "\n",
        "**Pandas** is a popular Python library for data manipulation and analysis. <br>\n",
        "It provides easy-to-use data structures and data analysis tools for indexing, merging, and aggregating datasets. <bR>\n",
        "\n",
        "Pandas also has tools to build data visualizations from datasets.\n",
        "\n",
        "<img src = https://upload.wikimedia.org/wikipedia/commons/thumb/e/ed/Pandas_logo.svg/1200px-Pandas_logo.svg.png width = \"250\" height = \"100\" >\n",
        "\n"
      ],
      "metadata": {
        "id": "E2cRjY0WHITC"
      }
    },
    {
      "cell_type": "code",
      "source": [
        "import pandas as pd"
      ],
      "metadata": {
        "id": "OVSKAT8PQsek"
      },
      "execution_count": null,
      "outputs": []
    },
    {
      "cell_type": "markdown",
      "source": [
        "**<font size='5'>Load a dataset**</font> <br>\n",
        "Pandas has many function to import data from external files (txt, csv, xlsx, json, etc...). <br>\n",
        "\n",
        "We will use the `pd.read_csv()` function to read the titanic dataset.<br> It reads the file as a `DataFrame` object."
      ],
      "metadata": {
        "id": "cWRb36MRhh6f"
      }
    },
    {
      "cell_type": "code",
      "source": [
        "# File path to the csv\n",
        "path = \"Titanic-Dataset.csv\"\n",
        "\n",
        "# Import the csv file\n",
        "dataset = pd.read_csv(path)"
      ],
      "metadata": {
        "id": "BYhaB5gPQm7i"
      },
      "execution_count": null,
      "outputs": []
    },
    {
      "cell_type": "markdown",
      "source": [
        "The `pd.read_csv()` function reads the dataset as a `DataFrame` object."
      ],
      "metadata": {
        "id": "9FdUnz_nlz-k"
      }
    },
    {
      "cell_type": "markdown",
      "source": [
        "**<font size='5'>Series & DataFrames**</font> <br>\n",
        "**Series** are one-dimensional data structures in Pandas (with one column). <br>\n",
        "You can create a Series with `pd.Series()`.\n",
        "\n",
        "\n",
        "\n"
      ],
      "metadata": {
        "id": "l5gVOygQeAHF"
      }
    },
    {
      "cell_type": "code",
      "source": [
        "# Create a pandas series with a list\n",
        "pd.Series([\"A\",\"B\",\"C\",\"D\"], index=[0,1,2,3])"
      ],
      "metadata": {
        "colab": {
          "base_uri": "https://localhost:8080/"
        },
        "id": "pglQaClGljqB",
        "outputId": "33783fb7-9fb1-481d-f92d-a1b01897ba95"
      },
      "execution_count": null,
      "outputs": [
        {
          "output_type": "execute_result",
          "data": {
            "text/plain": [
              "0    A\n",
              "1    B\n",
              "2    C\n",
              "3    D\n",
              "dtype: object"
            ]
          },
          "metadata": {},
          "execution_count": 16
        }
      ]
    },
    {
      "cell_type": "markdown",
      "source": [
        "**DataFrames** are two-dimensional data structures composed of rows and columns. <br>\n",
        "Each column can contain a different data types (dtypes in pandas).\n",
        "\n",
        "\n",
        "<img src = https://pynative.com/wp-content/uploads/2021/02/dataframe.png width = \"600\" height = \"300\" >\n",
        "\n",
        "You can create a DataFrame with `pd.Dataframe()`.\n"
      ],
      "metadata": {
        "id": "0Iu1xYasGiYv"
      }
    },
    {
      "cell_type": "code",
      "source": [
        "# Show the first 5 rows with .head()\n",
        "dataset.head()"
      ],
      "metadata": {
        "colab": {
          "base_uri": "https://localhost:8080/",
          "height": 206
        },
        "id": "Miy2rxFSncdt",
        "outputId": "47184d13-90dd-495a-99db-e699a7006aba"
      },
      "execution_count": null,
      "outputs": [
        {
          "output_type": "execute_result",
          "data": {
            "text/plain": [
              "   PassengerId  Survived  Pclass  \\\n",
              "0            1         0       3   \n",
              "1            2         1       1   \n",
              "2            3         1       3   \n",
              "3            4         1       1   \n",
              "4            5         0       3   \n",
              "\n",
              "                                                Name     Sex   Age  SibSp  \\\n",
              "0                            Braund, Mr. Owen Harris    male  22.0      1   \n",
              "1  Cumings, Mrs. John Bradley (Florence Briggs Th...  female  38.0      1   \n",
              "2                             Heikkinen, Miss. Laina  female  26.0      0   \n",
              "3       Futrelle, Mrs. Jacques Heath (Lily May Peel)  female  35.0      1   \n",
              "4                           Allen, Mr. William Henry    male  35.0      0   \n",
              "\n",
              "   Parch            Ticket     Fare Cabin Embarked  \n",
              "0      0         A/5 21171   7.2500   NaN        S  \n",
              "1      0          PC 17599  71.2833   C85        C  \n",
              "2      0  STON/O2. 3101282   7.9250   NaN        S  \n",
              "3      0            113803  53.1000  C123        S  \n",
              "4      0            373450   8.0500   NaN        S  "
            ],
            "text/html": [
              "\n",
              "  <div id=\"df-b43d65f7-298e-4e6d-abc7-d247dd8db43b\" class=\"colab-df-container\">\n",
              "    <div>\n",
              "<style scoped>\n",
              "    .dataframe tbody tr th:only-of-type {\n",
              "        vertical-align: middle;\n",
              "    }\n",
              "\n",
              "    .dataframe tbody tr th {\n",
              "        vertical-align: top;\n",
              "    }\n",
              "\n",
              "    .dataframe thead th {\n",
              "        text-align: right;\n",
              "    }\n",
              "</style>\n",
              "<table border=\"1\" class=\"dataframe\">\n",
              "  <thead>\n",
              "    <tr style=\"text-align: right;\">\n",
              "      <th></th>\n",
              "      <th>PassengerId</th>\n",
              "      <th>Survived</th>\n",
              "      <th>Pclass</th>\n",
              "      <th>Name</th>\n",
              "      <th>Sex</th>\n",
              "      <th>Age</th>\n",
              "      <th>SibSp</th>\n",
              "      <th>Parch</th>\n",
              "      <th>Ticket</th>\n",
              "      <th>Fare</th>\n",
              "      <th>Cabin</th>\n",
              "      <th>Embarked</th>\n",
              "    </tr>\n",
              "  </thead>\n",
              "  <tbody>\n",
              "    <tr>\n",
              "      <th>0</th>\n",
              "      <td>1</td>\n",
              "      <td>0</td>\n",
              "      <td>3</td>\n",
              "      <td>Braund, Mr. Owen Harris</td>\n",
              "      <td>male</td>\n",
              "      <td>22.0</td>\n",
              "      <td>1</td>\n",
              "      <td>0</td>\n",
              "      <td>A/5 21171</td>\n",
              "      <td>7.2500</td>\n",
              "      <td>NaN</td>\n",
              "      <td>S</td>\n",
              "    </tr>\n",
              "    <tr>\n",
              "      <th>1</th>\n",
              "      <td>2</td>\n",
              "      <td>1</td>\n",
              "      <td>1</td>\n",
              "      <td>Cumings, Mrs. John Bradley (Florence Briggs Th...</td>\n",
              "      <td>female</td>\n",
              "      <td>38.0</td>\n",
              "      <td>1</td>\n",
              "      <td>0</td>\n",
              "      <td>PC 17599</td>\n",
              "      <td>71.2833</td>\n",
              "      <td>C85</td>\n",
              "      <td>C</td>\n",
              "    </tr>\n",
              "    <tr>\n",
              "      <th>2</th>\n",
              "      <td>3</td>\n",
              "      <td>1</td>\n",
              "      <td>3</td>\n",
              "      <td>Heikkinen, Miss. Laina</td>\n",
              "      <td>female</td>\n",
              "      <td>26.0</td>\n",
              "      <td>0</td>\n",
              "      <td>0</td>\n",
              "      <td>STON/O2. 3101282</td>\n",
              "      <td>7.9250</td>\n",
              "      <td>NaN</td>\n",
              "      <td>S</td>\n",
              "    </tr>\n",
              "    <tr>\n",
              "      <th>3</th>\n",
              "      <td>4</td>\n",
              "      <td>1</td>\n",
              "      <td>1</td>\n",
              "      <td>Futrelle, Mrs. Jacques Heath (Lily May Peel)</td>\n",
              "      <td>female</td>\n",
              "      <td>35.0</td>\n",
              "      <td>1</td>\n",
              "      <td>0</td>\n",
              "      <td>113803</td>\n",
              "      <td>53.1000</td>\n",
              "      <td>C123</td>\n",
              "      <td>S</td>\n",
              "    </tr>\n",
              "    <tr>\n",
              "      <th>4</th>\n",
              "      <td>5</td>\n",
              "      <td>0</td>\n",
              "      <td>3</td>\n",
              "      <td>Allen, Mr. William Henry</td>\n",
              "      <td>male</td>\n",
              "      <td>35.0</td>\n",
              "      <td>0</td>\n",
              "      <td>0</td>\n",
              "      <td>373450</td>\n",
              "      <td>8.0500</td>\n",
              "      <td>NaN</td>\n",
              "      <td>S</td>\n",
              "    </tr>\n",
              "  </tbody>\n",
              "</table>\n",
              "</div>\n",
              "    <div class=\"colab-df-buttons\">\n",
              "\n",
              "  <div class=\"colab-df-container\">\n",
              "    <button class=\"colab-df-convert\" onclick=\"convertToInteractive('df-b43d65f7-298e-4e6d-abc7-d247dd8db43b')\"\n",
              "            title=\"Convert this dataframe to an interactive table.\"\n",
              "            style=\"display:none;\">\n",
              "\n",
              "  <svg xmlns=\"http://www.w3.org/2000/svg\" height=\"24px\" viewBox=\"0 -960 960 960\">\n",
              "    <path d=\"M120-120v-720h720v720H120Zm60-500h600v-160H180v160Zm220 220h160v-160H400v160Zm0 220h160v-160H400v160ZM180-400h160v-160H180v160Zm440 0h160v-160H620v160ZM180-180h160v-160H180v160Zm440 0h160v-160H620v160Z\"/>\n",
              "  </svg>\n",
              "    </button>\n",
              "\n",
              "  <style>\n",
              "    .colab-df-container {\n",
              "      display:flex;\n",
              "      gap: 12px;\n",
              "    }\n",
              "\n",
              "    .colab-df-convert {\n",
              "      background-color: #E8F0FE;\n",
              "      border: none;\n",
              "      border-radius: 50%;\n",
              "      cursor: pointer;\n",
              "      display: none;\n",
              "      fill: #1967D2;\n",
              "      height: 32px;\n",
              "      padding: 0 0 0 0;\n",
              "      width: 32px;\n",
              "    }\n",
              "\n",
              "    .colab-df-convert:hover {\n",
              "      background-color: #E2EBFA;\n",
              "      box-shadow: 0px 1px 2px rgba(60, 64, 67, 0.3), 0px 1px 3px 1px rgba(60, 64, 67, 0.15);\n",
              "      fill: #174EA6;\n",
              "    }\n",
              "\n",
              "    .colab-df-buttons div {\n",
              "      margin-bottom: 4px;\n",
              "    }\n",
              "\n",
              "    [theme=dark] .colab-df-convert {\n",
              "      background-color: #3B4455;\n",
              "      fill: #D2E3FC;\n",
              "    }\n",
              "\n",
              "    [theme=dark] .colab-df-convert:hover {\n",
              "      background-color: #434B5C;\n",
              "      box-shadow: 0px 1px 3px 1px rgba(0, 0, 0, 0.15);\n",
              "      filter: drop-shadow(0px 1px 2px rgba(0, 0, 0, 0.3));\n",
              "      fill: #FFFFFF;\n",
              "    }\n",
              "  </style>\n",
              "\n",
              "    <script>\n",
              "      const buttonEl =\n",
              "        document.querySelector('#df-b43d65f7-298e-4e6d-abc7-d247dd8db43b button.colab-df-convert');\n",
              "      buttonEl.style.display =\n",
              "        google.colab.kernel.accessAllowed ? 'block' : 'none';\n",
              "\n",
              "      async function convertToInteractive(key) {\n",
              "        const element = document.querySelector('#df-b43d65f7-298e-4e6d-abc7-d247dd8db43b');\n",
              "        const dataTable =\n",
              "          await google.colab.kernel.invokeFunction('convertToInteractive',\n",
              "                                                    [key], {});\n",
              "        if (!dataTable) return;\n",
              "\n",
              "        const docLinkHtml = 'Like what you see? Visit the ' +\n",
              "          '<a target=\"_blank\" href=https://colab.research.google.com/notebooks/data_table.ipynb>data table notebook</a>'\n",
              "          + ' to learn more about interactive tables.';\n",
              "        element.innerHTML = '';\n",
              "        dataTable['output_type'] = 'display_data';\n",
              "        await google.colab.output.renderOutput(dataTable, element);\n",
              "        const docLink = document.createElement('div');\n",
              "        docLink.innerHTML = docLinkHtml;\n",
              "        element.appendChild(docLink);\n",
              "      }\n",
              "    </script>\n",
              "  </div>\n",
              "\n",
              "\n",
              "<div id=\"df-9481e829-0504-44d5-901b-964a0a48fe66\">\n",
              "  <button class=\"colab-df-quickchart\" onclick=\"quickchart('df-9481e829-0504-44d5-901b-964a0a48fe66')\"\n",
              "            title=\"Suggest charts\"\n",
              "            style=\"display:none;\">\n",
              "\n",
              "<svg xmlns=\"http://www.w3.org/2000/svg\" height=\"24px\"viewBox=\"0 0 24 24\"\n",
              "     width=\"24px\">\n",
              "    <g>\n",
              "        <path d=\"M19 3H5c-1.1 0-2 .9-2 2v14c0 1.1.9 2 2 2h14c1.1 0 2-.9 2-2V5c0-1.1-.9-2-2-2zM9 17H7v-7h2v7zm4 0h-2V7h2v10zm4 0h-2v-4h2v4z\"/>\n",
              "    </g>\n",
              "</svg>\n",
              "  </button>\n",
              "\n",
              "<style>\n",
              "  .colab-df-quickchart {\n",
              "      --bg-color: #E8F0FE;\n",
              "      --fill-color: #1967D2;\n",
              "      --hover-bg-color: #E2EBFA;\n",
              "      --hover-fill-color: #174EA6;\n",
              "      --disabled-fill-color: #AAA;\n",
              "      --disabled-bg-color: #DDD;\n",
              "  }\n",
              "\n",
              "  [theme=dark] .colab-df-quickchart {\n",
              "      --bg-color: #3B4455;\n",
              "      --fill-color: #D2E3FC;\n",
              "      --hover-bg-color: #434B5C;\n",
              "      --hover-fill-color: #FFFFFF;\n",
              "      --disabled-bg-color: #3B4455;\n",
              "      --disabled-fill-color: #666;\n",
              "  }\n",
              "\n",
              "  .colab-df-quickchart {\n",
              "    background-color: var(--bg-color);\n",
              "    border: none;\n",
              "    border-radius: 50%;\n",
              "    cursor: pointer;\n",
              "    display: none;\n",
              "    fill: var(--fill-color);\n",
              "    height: 32px;\n",
              "    padding: 0;\n",
              "    width: 32px;\n",
              "  }\n",
              "\n",
              "  .colab-df-quickchart:hover {\n",
              "    background-color: var(--hover-bg-color);\n",
              "    box-shadow: 0 1px 2px rgba(60, 64, 67, 0.3), 0 1px 3px 1px rgba(60, 64, 67, 0.15);\n",
              "    fill: var(--button-hover-fill-color);\n",
              "  }\n",
              "\n",
              "  .colab-df-quickchart-complete:disabled,\n",
              "  .colab-df-quickchart-complete:disabled:hover {\n",
              "    background-color: var(--disabled-bg-color);\n",
              "    fill: var(--disabled-fill-color);\n",
              "    box-shadow: none;\n",
              "  }\n",
              "\n",
              "  .colab-df-spinner {\n",
              "    border: 2px solid var(--fill-color);\n",
              "    border-color: transparent;\n",
              "    border-bottom-color: var(--fill-color);\n",
              "    animation:\n",
              "      spin 1s steps(1) infinite;\n",
              "  }\n",
              "\n",
              "  @keyframes spin {\n",
              "    0% {\n",
              "      border-color: transparent;\n",
              "      border-bottom-color: var(--fill-color);\n",
              "      border-left-color: var(--fill-color);\n",
              "    }\n",
              "    20% {\n",
              "      border-color: transparent;\n",
              "      border-left-color: var(--fill-color);\n",
              "      border-top-color: var(--fill-color);\n",
              "    }\n",
              "    30% {\n",
              "      border-color: transparent;\n",
              "      border-left-color: var(--fill-color);\n",
              "      border-top-color: var(--fill-color);\n",
              "      border-right-color: var(--fill-color);\n",
              "    }\n",
              "    40% {\n",
              "      border-color: transparent;\n",
              "      border-right-color: var(--fill-color);\n",
              "      border-top-color: var(--fill-color);\n",
              "    }\n",
              "    60% {\n",
              "      border-color: transparent;\n",
              "      border-right-color: var(--fill-color);\n",
              "    }\n",
              "    80% {\n",
              "      border-color: transparent;\n",
              "      border-right-color: var(--fill-color);\n",
              "      border-bottom-color: var(--fill-color);\n",
              "    }\n",
              "    90% {\n",
              "      border-color: transparent;\n",
              "      border-bottom-color: var(--fill-color);\n",
              "    }\n",
              "  }\n",
              "</style>\n",
              "\n",
              "  <script>\n",
              "    async function quickchart(key) {\n",
              "      const quickchartButtonEl =\n",
              "        document.querySelector('#' + key + ' button');\n",
              "      quickchartButtonEl.disabled = true;  // To prevent multiple clicks.\n",
              "      quickchartButtonEl.classList.add('colab-df-spinner');\n",
              "      try {\n",
              "        const charts = await google.colab.kernel.invokeFunction(\n",
              "            'suggestCharts', [key], {});\n",
              "      } catch (error) {\n",
              "        console.error('Error during call to suggestCharts:', error);\n",
              "      }\n",
              "      quickchartButtonEl.classList.remove('colab-df-spinner');\n",
              "      quickchartButtonEl.classList.add('colab-df-quickchart-complete');\n",
              "    }\n",
              "    (() => {\n",
              "      let quickchartButtonEl =\n",
              "        document.querySelector('#df-9481e829-0504-44d5-901b-964a0a48fe66 button');\n",
              "      quickchartButtonEl.style.display =\n",
              "        google.colab.kernel.accessAllowed ? 'block' : 'none';\n",
              "    })();\n",
              "  </script>\n",
              "</div>\n",
              "\n",
              "    </div>\n",
              "  </div>\n"
            ],
            "application/vnd.google.colaboratory.intrinsic+json": {
              "type": "dataframe",
              "variable_name": "dataset",
              "summary": "{\n  \"name\": \"dataset\",\n  \"rows\": 891,\n  \"fields\": [\n    {\n      \"column\": \"PassengerId\",\n      \"properties\": {\n        \"dtype\": \"number\",\n        \"std\": 257,\n        \"min\": 1,\n        \"max\": 891,\n        \"num_unique_values\": 891,\n        \"samples\": [\n          710,\n          440,\n          841\n        ],\n        \"semantic_type\": \"\",\n        \"description\": \"\"\n      }\n    },\n    {\n      \"column\": \"Survived\",\n      \"properties\": {\n        \"dtype\": \"number\",\n        \"std\": 0,\n        \"min\": 0,\n        \"max\": 1,\n        \"num_unique_values\": 2,\n        \"samples\": [\n          1,\n          0\n        ],\n        \"semantic_type\": \"\",\n        \"description\": \"\"\n      }\n    },\n    {\n      \"column\": \"Pclass\",\n      \"properties\": {\n        \"dtype\": \"number\",\n        \"std\": 0,\n        \"min\": 1,\n        \"max\": 3,\n        \"num_unique_values\": 3,\n        \"samples\": [\n          3,\n          1\n        ],\n        \"semantic_type\": \"\",\n        \"description\": \"\"\n      }\n    },\n    {\n      \"column\": \"Name\",\n      \"properties\": {\n        \"dtype\": \"string\",\n        \"num_unique_values\": 891,\n        \"samples\": [\n          \"Moubarek, Master. Halim Gonios (\\\"William George\\\")\",\n          \"Kvillner, Mr. Johan Henrik Johannesson\"\n        ],\n        \"semantic_type\": \"\",\n        \"description\": \"\"\n      }\n    },\n    {\n      \"column\": \"Sex\",\n      \"properties\": {\n        \"dtype\": \"category\",\n        \"num_unique_values\": 2,\n        \"samples\": [\n          \"female\",\n          \"male\"\n        ],\n        \"semantic_type\": \"\",\n        \"description\": \"\"\n      }\n    },\n    {\n      \"column\": \"Age\",\n      \"properties\": {\n        \"dtype\": \"number\",\n        \"std\": 14.526497332334042,\n        \"min\": 0.42,\n        \"max\": 80.0,\n        \"num_unique_values\": 88,\n        \"samples\": [\n          0.75,\n          22.0\n        ],\n        \"semantic_type\": \"\",\n        \"description\": \"\"\n      }\n    },\n    {\n      \"column\": \"SibSp\",\n      \"properties\": {\n        \"dtype\": \"number\",\n        \"std\": 1,\n        \"min\": 0,\n        \"max\": 8,\n        \"num_unique_values\": 7,\n        \"samples\": [\n          1,\n          0\n        ],\n        \"semantic_type\": \"\",\n        \"description\": \"\"\n      }\n    },\n    {\n      \"column\": \"Parch\",\n      \"properties\": {\n        \"dtype\": \"number\",\n        \"std\": 0,\n        \"min\": 0,\n        \"max\": 6,\n        \"num_unique_values\": 7,\n        \"samples\": [\n          0,\n          1\n        ],\n        \"semantic_type\": \"\",\n        \"description\": \"\"\n      }\n    },\n    {\n      \"column\": \"Ticket\",\n      \"properties\": {\n        \"dtype\": \"string\",\n        \"num_unique_values\": 681,\n        \"samples\": [\n          \"11774\",\n          \"248740\"\n        ],\n        \"semantic_type\": \"\",\n        \"description\": \"\"\n      }\n    },\n    {\n      \"column\": \"Fare\",\n      \"properties\": {\n        \"dtype\": \"number\",\n        \"std\": 49.6934285971809,\n        \"min\": 0.0,\n        \"max\": 512.3292,\n        \"num_unique_values\": 248,\n        \"samples\": [\n          11.2417,\n          51.8625\n        ],\n        \"semantic_type\": \"\",\n        \"description\": \"\"\n      }\n    },\n    {\n      \"column\": \"Cabin\",\n      \"properties\": {\n        \"dtype\": \"category\",\n        \"num_unique_values\": 147,\n        \"samples\": [\n          \"D45\",\n          \"B49\"\n        ],\n        \"semantic_type\": \"\",\n        \"description\": \"\"\n      }\n    },\n    {\n      \"column\": \"Embarked\",\n      \"properties\": {\n        \"dtype\": \"category\",\n        \"num_unique_values\": 3,\n        \"samples\": [\n          \"S\",\n          \"C\"\n        ],\n        \"semantic_type\": \"\",\n        \"description\": \"\"\n      }\n    }\n  ]\n}"
            }
          },
          "metadata": {},
          "execution_count": 17
        }
      ]
    },
    {
      "cell_type": "markdown",
      "source": [
        "You can select columns of a dataframe using column names. <br>\n"
      ],
      "metadata": {
        "id": "wE6gD66ZoKrA"
      }
    },
    {
      "cell_type": "code",
      "source": [
        "dataset[\"Name\"] # a single columns dataframe is also pandas series"
      ],
      "metadata": {
        "colab": {
          "base_uri": "https://localhost:8080/"
        },
        "id": "ie_8eCLwrtM4",
        "outputId": "62aaaf11-d330-4aac-f08e-7c7bec21c901"
      },
      "execution_count": null,
      "outputs": [
        {
          "output_type": "execute_result",
          "data": {
            "text/plain": [
              "0                                Braund, Mr. Owen Harris\n",
              "1      Cumings, Mrs. John Bradley (Florence Briggs Th...\n",
              "2                                 Heikkinen, Miss. Laina\n",
              "3           Futrelle, Mrs. Jacques Heath (Lily May Peel)\n",
              "4                               Allen, Mr. William Henry\n",
              "                             ...                        \n",
              "886                                Montvila, Rev. Juozas\n",
              "887                         Graham, Miss. Margaret Edith\n",
              "888             Johnston, Miss. Catherine Helen \"Carrie\"\n",
              "889                                Behr, Mr. Karl Howell\n",
              "890                                  Dooley, Mr. Patrick\n",
              "Name: Name, Length: 891, dtype: object"
            ]
          },
          "metadata": {},
          "execution_count": 18
        }
      ]
    },
    {
      "cell_type": "code",
      "source": [
        "# Select multiple columns with a list of column names\n",
        "dataset[[\"PassengerId\", \"Name\"]].head()"
      ],
      "metadata": {
        "colab": {
          "base_uri": "https://localhost:8080/",
          "height": 206
        },
        "id": "5vLwUsQyrvqM",
        "outputId": "b0f63685-819c-4468-e9e5-f6d6dcdb7857"
      },
      "execution_count": null,
      "outputs": [
        {
          "output_type": "execute_result",
          "data": {
            "text/plain": [
              "   PassengerId                                               Name\n",
              "0            1                            Braund, Mr. Owen Harris\n",
              "1            2  Cumings, Mrs. John Bradley (Florence Briggs Th...\n",
              "2            3                             Heikkinen, Miss. Laina\n",
              "3            4       Futrelle, Mrs. Jacques Heath (Lily May Peel)\n",
              "4            5                           Allen, Mr. William Henry"
            ],
            "text/html": [
              "\n",
              "  <div id=\"df-363942d5-402a-457f-9c56-652b61ed4095\" class=\"colab-df-container\">\n",
              "    <div>\n",
              "<style scoped>\n",
              "    .dataframe tbody tr th:only-of-type {\n",
              "        vertical-align: middle;\n",
              "    }\n",
              "\n",
              "    .dataframe tbody tr th {\n",
              "        vertical-align: top;\n",
              "    }\n",
              "\n",
              "    .dataframe thead th {\n",
              "        text-align: right;\n",
              "    }\n",
              "</style>\n",
              "<table border=\"1\" class=\"dataframe\">\n",
              "  <thead>\n",
              "    <tr style=\"text-align: right;\">\n",
              "      <th></th>\n",
              "      <th>PassengerId</th>\n",
              "      <th>Name</th>\n",
              "    </tr>\n",
              "  </thead>\n",
              "  <tbody>\n",
              "    <tr>\n",
              "      <th>0</th>\n",
              "      <td>1</td>\n",
              "      <td>Braund, Mr. Owen Harris</td>\n",
              "    </tr>\n",
              "    <tr>\n",
              "      <th>1</th>\n",
              "      <td>2</td>\n",
              "      <td>Cumings, Mrs. John Bradley (Florence Briggs Th...</td>\n",
              "    </tr>\n",
              "    <tr>\n",
              "      <th>2</th>\n",
              "      <td>3</td>\n",
              "      <td>Heikkinen, Miss. Laina</td>\n",
              "    </tr>\n",
              "    <tr>\n",
              "      <th>3</th>\n",
              "      <td>4</td>\n",
              "      <td>Futrelle, Mrs. Jacques Heath (Lily May Peel)</td>\n",
              "    </tr>\n",
              "    <tr>\n",
              "      <th>4</th>\n",
              "      <td>5</td>\n",
              "      <td>Allen, Mr. William Henry</td>\n",
              "    </tr>\n",
              "  </tbody>\n",
              "</table>\n",
              "</div>\n",
              "    <div class=\"colab-df-buttons\">\n",
              "\n",
              "  <div class=\"colab-df-container\">\n",
              "    <button class=\"colab-df-convert\" onclick=\"convertToInteractive('df-363942d5-402a-457f-9c56-652b61ed4095')\"\n",
              "            title=\"Convert this dataframe to an interactive table.\"\n",
              "            style=\"display:none;\">\n",
              "\n",
              "  <svg xmlns=\"http://www.w3.org/2000/svg\" height=\"24px\" viewBox=\"0 -960 960 960\">\n",
              "    <path d=\"M120-120v-720h720v720H120Zm60-500h600v-160H180v160Zm220 220h160v-160H400v160Zm0 220h160v-160H400v160ZM180-400h160v-160H180v160Zm440 0h160v-160H620v160ZM180-180h160v-160H180v160Zm440 0h160v-160H620v160Z\"/>\n",
              "  </svg>\n",
              "    </button>\n",
              "\n",
              "  <style>\n",
              "    .colab-df-container {\n",
              "      display:flex;\n",
              "      gap: 12px;\n",
              "    }\n",
              "\n",
              "    .colab-df-convert {\n",
              "      background-color: #E8F0FE;\n",
              "      border: none;\n",
              "      border-radius: 50%;\n",
              "      cursor: pointer;\n",
              "      display: none;\n",
              "      fill: #1967D2;\n",
              "      height: 32px;\n",
              "      padding: 0 0 0 0;\n",
              "      width: 32px;\n",
              "    }\n",
              "\n",
              "    .colab-df-convert:hover {\n",
              "      background-color: #E2EBFA;\n",
              "      box-shadow: 0px 1px 2px rgba(60, 64, 67, 0.3), 0px 1px 3px 1px rgba(60, 64, 67, 0.15);\n",
              "      fill: #174EA6;\n",
              "    }\n",
              "\n",
              "    .colab-df-buttons div {\n",
              "      margin-bottom: 4px;\n",
              "    }\n",
              "\n",
              "    [theme=dark] .colab-df-convert {\n",
              "      background-color: #3B4455;\n",
              "      fill: #D2E3FC;\n",
              "    }\n",
              "\n",
              "    [theme=dark] .colab-df-convert:hover {\n",
              "      background-color: #434B5C;\n",
              "      box-shadow: 0px 1px 3px 1px rgba(0, 0, 0, 0.15);\n",
              "      filter: drop-shadow(0px 1px 2px rgba(0, 0, 0, 0.3));\n",
              "      fill: #FFFFFF;\n",
              "    }\n",
              "  </style>\n",
              "\n",
              "    <script>\n",
              "      const buttonEl =\n",
              "        document.querySelector('#df-363942d5-402a-457f-9c56-652b61ed4095 button.colab-df-convert');\n",
              "      buttonEl.style.display =\n",
              "        google.colab.kernel.accessAllowed ? 'block' : 'none';\n",
              "\n",
              "      async function convertToInteractive(key) {\n",
              "        const element = document.querySelector('#df-363942d5-402a-457f-9c56-652b61ed4095');\n",
              "        const dataTable =\n",
              "          await google.colab.kernel.invokeFunction('convertToInteractive',\n",
              "                                                    [key], {});\n",
              "        if (!dataTable) return;\n",
              "\n",
              "        const docLinkHtml = 'Like what you see? Visit the ' +\n",
              "          '<a target=\"_blank\" href=https://colab.research.google.com/notebooks/data_table.ipynb>data table notebook</a>'\n",
              "          + ' to learn more about interactive tables.';\n",
              "        element.innerHTML = '';\n",
              "        dataTable['output_type'] = 'display_data';\n",
              "        await google.colab.output.renderOutput(dataTable, element);\n",
              "        const docLink = document.createElement('div');\n",
              "        docLink.innerHTML = docLinkHtml;\n",
              "        element.appendChild(docLink);\n",
              "      }\n",
              "    </script>\n",
              "  </div>\n",
              "\n",
              "\n",
              "<div id=\"df-efc73ec4-949b-4566-b04c-256703ffbc23\">\n",
              "  <button class=\"colab-df-quickchart\" onclick=\"quickchart('df-efc73ec4-949b-4566-b04c-256703ffbc23')\"\n",
              "            title=\"Suggest charts\"\n",
              "            style=\"display:none;\">\n",
              "\n",
              "<svg xmlns=\"http://www.w3.org/2000/svg\" height=\"24px\"viewBox=\"0 0 24 24\"\n",
              "     width=\"24px\">\n",
              "    <g>\n",
              "        <path d=\"M19 3H5c-1.1 0-2 .9-2 2v14c0 1.1.9 2 2 2h14c1.1 0 2-.9 2-2V5c0-1.1-.9-2-2-2zM9 17H7v-7h2v7zm4 0h-2V7h2v10zm4 0h-2v-4h2v4z\"/>\n",
              "    </g>\n",
              "</svg>\n",
              "  </button>\n",
              "\n",
              "<style>\n",
              "  .colab-df-quickchart {\n",
              "      --bg-color: #E8F0FE;\n",
              "      --fill-color: #1967D2;\n",
              "      --hover-bg-color: #E2EBFA;\n",
              "      --hover-fill-color: #174EA6;\n",
              "      --disabled-fill-color: #AAA;\n",
              "      --disabled-bg-color: #DDD;\n",
              "  }\n",
              "\n",
              "  [theme=dark] .colab-df-quickchart {\n",
              "      --bg-color: #3B4455;\n",
              "      --fill-color: #D2E3FC;\n",
              "      --hover-bg-color: #434B5C;\n",
              "      --hover-fill-color: #FFFFFF;\n",
              "      --disabled-bg-color: #3B4455;\n",
              "      --disabled-fill-color: #666;\n",
              "  }\n",
              "\n",
              "  .colab-df-quickchart {\n",
              "    background-color: var(--bg-color);\n",
              "    border: none;\n",
              "    border-radius: 50%;\n",
              "    cursor: pointer;\n",
              "    display: none;\n",
              "    fill: var(--fill-color);\n",
              "    height: 32px;\n",
              "    padding: 0;\n",
              "    width: 32px;\n",
              "  }\n",
              "\n",
              "  .colab-df-quickchart:hover {\n",
              "    background-color: var(--hover-bg-color);\n",
              "    box-shadow: 0 1px 2px rgba(60, 64, 67, 0.3), 0 1px 3px 1px rgba(60, 64, 67, 0.15);\n",
              "    fill: var(--button-hover-fill-color);\n",
              "  }\n",
              "\n",
              "  .colab-df-quickchart-complete:disabled,\n",
              "  .colab-df-quickchart-complete:disabled:hover {\n",
              "    background-color: var(--disabled-bg-color);\n",
              "    fill: var(--disabled-fill-color);\n",
              "    box-shadow: none;\n",
              "  }\n",
              "\n",
              "  .colab-df-spinner {\n",
              "    border: 2px solid var(--fill-color);\n",
              "    border-color: transparent;\n",
              "    border-bottom-color: var(--fill-color);\n",
              "    animation:\n",
              "      spin 1s steps(1) infinite;\n",
              "  }\n",
              "\n",
              "  @keyframes spin {\n",
              "    0% {\n",
              "      border-color: transparent;\n",
              "      border-bottom-color: var(--fill-color);\n",
              "      border-left-color: var(--fill-color);\n",
              "    }\n",
              "    20% {\n",
              "      border-color: transparent;\n",
              "      border-left-color: var(--fill-color);\n",
              "      border-top-color: var(--fill-color);\n",
              "    }\n",
              "    30% {\n",
              "      border-color: transparent;\n",
              "      border-left-color: var(--fill-color);\n",
              "      border-top-color: var(--fill-color);\n",
              "      border-right-color: var(--fill-color);\n",
              "    }\n",
              "    40% {\n",
              "      border-color: transparent;\n",
              "      border-right-color: var(--fill-color);\n",
              "      border-top-color: var(--fill-color);\n",
              "    }\n",
              "    60% {\n",
              "      border-color: transparent;\n",
              "      border-right-color: var(--fill-color);\n",
              "    }\n",
              "    80% {\n",
              "      border-color: transparent;\n",
              "      border-right-color: var(--fill-color);\n",
              "      border-bottom-color: var(--fill-color);\n",
              "    }\n",
              "    90% {\n",
              "      border-color: transparent;\n",
              "      border-bottom-color: var(--fill-color);\n",
              "    }\n",
              "  }\n",
              "</style>\n",
              "\n",
              "  <script>\n",
              "    async function quickchart(key) {\n",
              "      const quickchartButtonEl =\n",
              "        document.querySelector('#' + key + ' button');\n",
              "      quickchartButtonEl.disabled = true;  // To prevent multiple clicks.\n",
              "      quickchartButtonEl.classList.add('colab-df-spinner');\n",
              "      try {\n",
              "        const charts = await google.colab.kernel.invokeFunction(\n",
              "            'suggestCharts', [key], {});\n",
              "      } catch (error) {\n",
              "        console.error('Error during call to suggestCharts:', error);\n",
              "      }\n",
              "      quickchartButtonEl.classList.remove('colab-df-spinner');\n",
              "      quickchartButtonEl.classList.add('colab-df-quickchart-complete');\n",
              "    }\n",
              "    (() => {\n",
              "      let quickchartButtonEl =\n",
              "        document.querySelector('#df-efc73ec4-949b-4566-b04c-256703ffbc23 button');\n",
              "      quickchartButtonEl.style.display =\n",
              "        google.colab.kernel.accessAllowed ? 'block' : 'none';\n",
              "    })();\n",
              "  </script>\n",
              "</div>\n",
              "\n",
              "    </div>\n",
              "  </div>\n"
            ],
            "application/vnd.google.colaboratory.intrinsic+json": {
              "type": "dataframe",
              "summary": "{\n  \"name\": \"dataset[[\\\"PassengerId\\\", \\\"Name\\\"]]\",\n  \"rows\": 5,\n  \"fields\": [\n    {\n      \"column\": \"PassengerId\",\n      \"properties\": {\n        \"dtype\": \"number\",\n        \"std\": 1,\n        \"min\": 1,\n        \"max\": 5,\n        \"num_unique_values\": 5,\n        \"samples\": [\n          2,\n          5,\n          3\n        ],\n        \"semantic_type\": \"\",\n        \"description\": \"\"\n      }\n    },\n    {\n      \"column\": \"Name\",\n      \"properties\": {\n        \"dtype\": \"string\",\n        \"num_unique_values\": 5,\n        \"samples\": [\n          \"Cumings, Mrs. John Bradley (Florence Briggs Thayer)\",\n          \"Allen, Mr. William Henry\",\n          \"Heikkinen, Miss. Laina\"\n        ],\n        \"semantic_type\": \"\",\n        \"description\": \"\"\n      }\n    }\n  ]\n}"
            }
          },
          "metadata": {},
          "execution_count": 19
        }
      ]
    },
    {
      "cell_type": "markdown",
      "source": [
        "**<font size='5'>Pandas Dtypes**</font> <br>\n",
        "Pandas dtypes refers to the data types that define the columns of a DataFrame/Series. <br> A dtypes determine how the column is stored in memory.\n",
        "\n",
        "Here is a table that summarizes pandas' dtypes and which python type it is associted with.\n",
        "\n"
      ],
      "metadata": {
        "id": "mdWkoklyyNuK"
      }
    },
    {
      "cell_type": "markdown",
      "source": [
        "| Pandas dtype |\tPython type  |\tUsage |\n",
        "---------------|:-------------|:-------|\n",
        "| object |\tstr or mixed\t|\tText or mixed numeric and non-numeric values\n",
        "int64\t| int\t| Integer numbers\n",
        "float64\t| float\t|Floating point numbers\n",
        "bool |\tbool\t| True/False values\n",
        "datetime64 |\tNA\t| Date and time values\n",
        "timedelta[ns]|\tNA|Differences between two datetimes\n",
        "category| NA | Finite list of text values"
      ],
      "metadata": {
        "id": "0BSN5IJL1goZ"
      }
    },
    {
      "cell_type": "markdown",
      "source": [
        "You can print each variable's dtype with `.dtypes`."
      ],
      "metadata": {
        "id": "1H20Mp2nTGWQ"
      }
    },
    {
      "cell_type": "code",
      "source": [
        "dataset.dtypes"
      ],
      "metadata": {
        "colab": {
          "base_uri": "https://localhost:8080/"
        },
        "id": "Y0zcwLn622LW",
        "outputId": "a146a395-f16b-4aa4-850a-1425a068e67b"
      },
      "execution_count": null,
      "outputs": [
        {
          "output_type": "execute_result",
          "data": {
            "text/plain": [
              "PassengerId      int64\n",
              "Survived         int64\n",
              "Pclass           int64\n",
              "Name            object\n",
              "Sex             object\n",
              "Age            float64\n",
              "SibSp            int64\n",
              "Parch            int64\n",
              "Ticket          object\n",
              "Fare           float64\n",
              "Cabin           object\n",
              "Embarked        object\n",
              "dtype: object"
            ]
          },
          "metadata": {},
          "execution_count": 20
        }
      ]
    },
    {
      "cell_type": "markdown",
      "source": [
        "**<font size='5'>Filter a DataFrame**</font> <br>\n",
        "Pandas `.loc[]` allows you to select rows of a dataframe based on a specific condition. <br>\n",
        "This method takes a logical expression as argument and returns the rows that satisfy the expression. <br>\n",
        "\n"
      ],
      "metadata": {
        "id": "Fro797eotHN6"
      }
    },
    {
      "cell_type": "code",
      "source": [
        "# Filter passengers who are only female\n",
        "dataset.loc[dataset[\"Sex\"]==\"female\"] # logical expression => dataset[\"Sex\"]==\"female\""
      ],
      "metadata": {
        "colab": {
          "base_uri": "https://localhost:8080/",
          "height": 423
        },
        "id": "NK4wXC_kwt47",
        "outputId": "0d2e1cf5-735c-453e-fa89-c8332d76bf1f"
      },
      "execution_count": null,
      "outputs": [
        {
          "output_type": "execute_result",
          "data": {
            "text/plain": [
              "     PassengerId  Survived  Pclass  \\\n",
              "1              2         1       1   \n",
              "2              3         1       3   \n",
              "3              4         1       1   \n",
              "8              9         1       3   \n",
              "9             10         1       2   \n",
              "..           ...       ...     ...   \n",
              "880          881         1       2   \n",
              "882          883         0       3   \n",
              "885          886         0       3   \n",
              "887          888         1       1   \n",
              "888          889         0       3   \n",
              "\n",
              "                                                  Name     Sex   Age  SibSp  \\\n",
              "1    Cumings, Mrs. John Bradley (Florence Briggs Th...  female  38.0      1   \n",
              "2                               Heikkinen, Miss. Laina  female  26.0      0   \n",
              "3         Futrelle, Mrs. Jacques Heath (Lily May Peel)  female  35.0      1   \n",
              "8    Johnson, Mrs. Oscar W (Elisabeth Vilhelmina Berg)  female  27.0      0   \n",
              "9                  Nasser, Mrs. Nicholas (Adele Achem)  female  14.0      1   \n",
              "..                                                 ...     ...   ...    ...   \n",
              "880       Shelley, Mrs. William (Imanita Parrish Hall)  female  25.0      0   \n",
              "882                       Dahlberg, Miss. Gerda Ulrika  female  22.0      0   \n",
              "885               Rice, Mrs. William (Margaret Norton)  female  39.0      0   \n",
              "887                       Graham, Miss. Margaret Edith  female  19.0      0   \n",
              "888           Johnston, Miss. Catherine Helen \"Carrie\"  female   NaN      1   \n",
              "\n",
              "     Parch            Ticket     Fare Cabin Embarked  \n",
              "1        0          PC 17599  71.2833   C85        C  \n",
              "2        0  STON/O2. 3101282   7.9250   NaN        S  \n",
              "3        0            113803  53.1000  C123        S  \n",
              "8        2            347742  11.1333   NaN        S  \n",
              "9        0            237736  30.0708   NaN        C  \n",
              "..     ...               ...      ...   ...      ...  \n",
              "880      1            230433  26.0000   NaN        S  \n",
              "882      0              7552  10.5167   NaN        S  \n",
              "885      5            382652  29.1250   NaN        Q  \n",
              "887      0            112053  30.0000   B42        S  \n",
              "888      2        W./C. 6607  23.4500   NaN        S  \n",
              "\n",
              "[314 rows x 12 columns]"
            ],
            "text/html": [
              "\n",
              "  <div id=\"df-8e4718b8-7396-4115-b8f7-b76c60d3ac04\" class=\"colab-df-container\">\n",
              "    <div>\n",
              "<style scoped>\n",
              "    .dataframe tbody tr th:only-of-type {\n",
              "        vertical-align: middle;\n",
              "    }\n",
              "\n",
              "    .dataframe tbody tr th {\n",
              "        vertical-align: top;\n",
              "    }\n",
              "\n",
              "    .dataframe thead th {\n",
              "        text-align: right;\n",
              "    }\n",
              "</style>\n",
              "<table border=\"1\" class=\"dataframe\">\n",
              "  <thead>\n",
              "    <tr style=\"text-align: right;\">\n",
              "      <th></th>\n",
              "      <th>PassengerId</th>\n",
              "      <th>Survived</th>\n",
              "      <th>Pclass</th>\n",
              "      <th>Name</th>\n",
              "      <th>Sex</th>\n",
              "      <th>Age</th>\n",
              "      <th>SibSp</th>\n",
              "      <th>Parch</th>\n",
              "      <th>Ticket</th>\n",
              "      <th>Fare</th>\n",
              "      <th>Cabin</th>\n",
              "      <th>Embarked</th>\n",
              "    </tr>\n",
              "  </thead>\n",
              "  <tbody>\n",
              "    <tr>\n",
              "      <th>1</th>\n",
              "      <td>2</td>\n",
              "      <td>1</td>\n",
              "      <td>1</td>\n",
              "      <td>Cumings, Mrs. John Bradley (Florence Briggs Th...</td>\n",
              "      <td>female</td>\n",
              "      <td>38.0</td>\n",
              "      <td>1</td>\n",
              "      <td>0</td>\n",
              "      <td>PC 17599</td>\n",
              "      <td>71.2833</td>\n",
              "      <td>C85</td>\n",
              "      <td>C</td>\n",
              "    </tr>\n",
              "    <tr>\n",
              "      <th>2</th>\n",
              "      <td>3</td>\n",
              "      <td>1</td>\n",
              "      <td>3</td>\n",
              "      <td>Heikkinen, Miss. Laina</td>\n",
              "      <td>female</td>\n",
              "      <td>26.0</td>\n",
              "      <td>0</td>\n",
              "      <td>0</td>\n",
              "      <td>STON/O2. 3101282</td>\n",
              "      <td>7.9250</td>\n",
              "      <td>NaN</td>\n",
              "      <td>S</td>\n",
              "    </tr>\n",
              "    <tr>\n",
              "      <th>3</th>\n",
              "      <td>4</td>\n",
              "      <td>1</td>\n",
              "      <td>1</td>\n",
              "      <td>Futrelle, Mrs. Jacques Heath (Lily May Peel)</td>\n",
              "      <td>female</td>\n",
              "      <td>35.0</td>\n",
              "      <td>1</td>\n",
              "      <td>0</td>\n",
              "      <td>113803</td>\n",
              "      <td>53.1000</td>\n",
              "      <td>C123</td>\n",
              "      <td>S</td>\n",
              "    </tr>\n",
              "    <tr>\n",
              "      <th>8</th>\n",
              "      <td>9</td>\n",
              "      <td>1</td>\n",
              "      <td>3</td>\n",
              "      <td>Johnson, Mrs. Oscar W (Elisabeth Vilhelmina Berg)</td>\n",
              "      <td>female</td>\n",
              "      <td>27.0</td>\n",
              "      <td>0</td>\n",
              "      <td>2</td>\n",
              "      <td>347742</td>\n",
              "      <td>11.1333</td>\n",
              "      <td>NaN</td>\n",
              "      <td>S</td>\n",
              "    </tr>\n",
              "    <tr>\n",
              "      <th>9</th>\n",
              "      <td>10</td>\n",
              "      <td>1</td>\n",
              "      <td>2</td>\n",
              "      <td>Nasser, Mrs. Nicholas (Adele Achem)</td>\n",
              "      <td>female</td>\n",
              "      <td>14.0</td>\n",
              "      <td>1</td>\n",
              "      <td>0</td>\n",
              "      <td>237736</td>\n",
              "      <td>30.0708</td>\n",
              "      <td>NaN</td>\n",
              "      <td>C</td>\n",
              "    </tr>\n",
              "    <tr>\n",
              "      <th>...</th>\n",
              "      <td>...</td>\n",
              "      <td>...</td>\n",
              "      <td>...</td>\n",
              "      <td>...</td>\n",
              "      <td>...</td>\n",
              "      <td>...</td>\n",
              "      <td>...</td>\n",
              "      <td>...</td>\n",
              "      <td>...</td>\n",
              "      <td>...</td>\n",
              "      <td>...</td>\n",
              "      <td>...</td>\n",
              "    </tr>\n",
              "    <tr>\n",
              "      <th>880</th>\n",
              "      <td>881</td>\n",
              "      <td>1</td>\n",
              "      <td>2</td>\n",
              "      <td>Shelley, Mrs. William (Imanita Parrish Hall)</td>\n",
              "      <td>female</td>\n",
              "      <td>25.0</td>\n",
              "      <td>0</td>\n",
              "      <td>1</td>\n",
              "      <td>230433</td>\n",
              "      <td>26.0000</td>\n",
              "      <td>NaN</td>\n",
              "      <td>S</td>\n",
              "    </tr>\n",
              "    <tr>\n",
              "      <th>882</th>\n",
              "      <td>883</td>\n",
              "      <td>0</td>\n",
              "      <td>3</td>\n",
              "      <td>Dahlberg, Miss. Gerda Ulrika</td>\n",
              "      <td>female</td>\n",
              "      <td>22.0</td>\n",
              "      <td>0</td>\n",
              "      <td>0</td>\n",
              "      <td>7552</td>\n",
              "      <td>10.5167</td>\n",
              "      <td>NaN</td>\n",
              "      <td>S</td>\n",
              "    </tr>\n",
              "    <tr>\n",
              "      <th>885</th>\n",
              "      <td>886</td>\n",
              "      <td>0</td>\n",
              "      <td>3</td>\n",
              "      <td>Rice, Mrs. William (Margaret Norton)</td>\n",
              "      <td>female</td>\n",
              "      <td>39.0</td>\n",
              "      <td>0</td>\n",
              "      <td>5</td>\n",
              "      <td>382652</td>\n",
              "      <td>29.1250</td>\n",
              "      <td>NaN</td>\n",
              "      <td>Q</td>\n",
              "    </tr>\n",
              "    <tr>\n",
              "      <th>887</th>\n",
              "      <td>888</td>\n",
              "      <td>1</td>\n",
              "      <td>1</td>\n",
              "      <td>Graham, Miss. Margaret Edith</td>\n",
              "      <td>female</td>\n",
              "      <td>19.0</td>\n",
              "      <td>0</td>\n",
              "      <td>0</td>\n",
              "      <td>112053</td>\n",
              "      <td>30.0000</td>\n",
              "      <td>B42</td>\n",
              "      <td>S</td>\n",
              "    </tr>\n",
              "    <tr>\n",
              "      <th>888</th>\n",
              "      <td>889</td>\n",
              "      <td>0</td>\n",
              "      <td>3</td>\n",
              "      <td>Johnston, Miss. Catherine Helen \"Carrie\"</td>\n",
              "      <td>female</td>\n",
              "      <td>NaN</td>\n",
              "      <td>1</td>\n",
              "      <td>2</td>\n",
              "      <td>W./C. 6607</td>\n",
              "      <td>23.4500</td>\n",
              "      <td>NaN</td>\n",
              "      <td>S</td>\n",
              "    </tr>\n",
              "  </tbody>\n",
              "</table>\n",
              "<p>314 rows × 12 columns</p>\n",
              "</div>\n",
              "    <div class=\"colab-df-buttons\">\n",
              "\n",
              "  <div class=\"colab-df-container\">\n",
              "    <button class=\"colab-df-convert\" onclick=\"convertToInteractive('df-8e4718b8-7396-4115-b8f7-b76c60d3ac04')\"\n",
              "            title=\"Convert this dataframe to an interactive table.\"\n",
              "            style=\"display:none;\">\n",
              "\n",
              "  <svg xmlns=\"http://www.w3.org/2000/svg\" height=\"24px\" viewBox=\"0 -960 960 960\">\n",
              "    <path d=\"M120-120v-720h720v720H120Zm60-500h600v-160H180v160Zm220 220h160v-160H400v160Zm0 220h160v-160H400v160ZM180-400h160v-160H180v160Zm440 0h160v-160H620v160ZM180-180h160v-160H180v160Zm440 0h160v-160H620v160Z\"/>\n",
              "  </svg>\n",
              "    </button>\n",
              "\n",
              "  <style>\n",
              "    .colab-df-container {\n",
              "      display:flex;\n",
              "      gap: 12px;\n",
              "    }\n",
              "\n",
              "    .colab-df-convert {\n",
              "      background-color: #E8F0FE;\n",
              "      border: none;\n",
              "      border-radius: 50%;\n",
              "      cursor: pointer;\n",
              "      display: none;\n",
              "      fill: #1967D2;\n",
              "      height: 32px;\n",
              "      padding: 0 0 0 0;\n",
              "      width: 32px;\n",
              "    }\n",
              "\n",
              "    .colab-df-convert:hover {\n",
              "      background-color: #E2EBFA;\n",
              "      box-shadow: 0px 1px 2px rgba(60, 64, 67, 0.3), 0px 1px 3px 1px rgba(60, 64, 67, 0.15);\n",
              "      fill: #174EA6;\n",
              "    }\n",
              "\n",
              "    .colab-df-buttons div {\n",
              "      margin-bottom: 4px;\n",
              "    }\n",
              "\n",
              "    [theme=dark] .colab-df-convert {\n",
              "      background-color: #3B4455;\n",
              "      fill: #D2E3FC;\n",
              "    }\n",
              "\n",
              "    [theme=dark] .colab-df-convert:hover {\n",
              "      background-color: #434B5C;\n",
              "      box-shadow: 0px 1px 3px 1px rgba(0, 0, 0, 0.15);\n",
              "      filter: drop-shadow(0px 1px 2px rgba(0, 0, 0, 0.3));\n",
              "      fill: #FFFFFF;\n",
              "    }\n",
              "  </style>\n",
              "\n",
              "    <script>\n",
              "      const buttonEl =\n",
              "        document.querySelector('#df-8e4718b8-7396-4115-b8f7-b76c60d3ac04 button.colab-df-convert');\n",
              "      buttonEl.style.display =\n",
              "        google.colab.kernel.accessAllowed ? 'block' : 'none';\n",
              "\n",
              "      async function convertToInteractive(key) {\n",
              "        const element = document.querySelector('#df-8e4718b8-7396-4115-b8f7-b76c60d3ac04');\n",
              "        const dataTable =\n",
              "          await google.colab.kernel.invokeFunction('convertToInteractive',\n",
              "                                                    [key], {});\n",
              "        if (!dataTable) return;\n",
              "\n",
              "        const docLinkHtml = 'Like what you see? Visit the ' +\n",
              "          '<a target=\"_blank\" href=https://colab.research.google.com/notebooks/data_table.ipynb>data table notebook</a>'\n",
              "          + ' to learn more about interactive tables.';\n",
              "        element.innerHTML = '';\n",
              "        dataTable['output_type'] = 'display_data';\n",
              "        await google.colab.output.renderOutput(dataTable, element);\n",
              "        const docLink = document.createElement('div');\n",
              "        docLink.innerHTML = docLinkHtml;\n",
              "        element.appendChild(docLink);\n",
              "      }\n",
              "    </script>\n",
              "  </div>\n",
              "\n",
              "\n",
              "<div id=\"df-49292641-2f9b-44ce-862e-351f467b2759\">\n",
              "  <button class=\"colab-df-quickchart\" onclick=\"quickchart('df-49292641-2f9b-44ce-862e-351f467b2759')\"\n",
              "            title=\"Suggest charts\"\n",
              "            style=\"display:none;\">\n",
              "\n",
              "<svg xmlns=\"http://www.w3.org/2000/svg\" height=\"24px\"viewBox=\"0 0 24 24\"\n",
              "     width=\"24px\">\n",
              "    <g>\n",
              "        <path d=\"M19 3H5c-1.1 0-2 .9-2 2v14c0 1.1.9 2 2 2h14c1.1 0 2-.9 2-2V5c0-1.1-.9-2-2-2zM9 17H7v-7h2v7zm4 0h-2V7h2v10zm4 0h-2v-4h2v4z\"/>\n",
              "    </g>\n",
              "</svg>\n",
              "  </button>\n",
              "\n",
              "<style>\n",
              "  .colab-df-quickchart {\n",
              "      --bg-color: #E8F0FE;\n",
              "      --fill-color: #1967D2;\n",
              "      --hover-bg-color: #E2EBFA;\n",
              "      --hover-fill-color: #174EA6;\n",
              "      --disabled-fill-color: #AAA;\n",
              "      --disabled-bg-color: #DDD;\n",
              "  }\n",
              "\n",
              "  [theme=dark] .colab-df-quickchart {\n",
              "      --bg-color: #3B4455;\n",
              "      --fill-color: #D2E3FC;\n",
              "      --hover-bg-color: #434B5C;\n",
              "      --hover-fill-color: #FFFFFF;\n",
              "      --disabled-bg-color: #3B4455;\n",
              "      --disabled-fill-color: #666;\n",
              "  }\n",
              "\n",
              "  .colab-df-quickchart {\n",
              "    background-color: var(--bg-color);\n",
              "    border: none;\n",
              "    border-radius: 50%;\n",
              "    cursor: pointer;\n",
              "    display: none;\n",
              "    fill: var(--fill-color);\n",
              "    height: 32px;\n",
              "    padding: 0;\n",
              "    width: 32px;\n",
              "  }\n",
              "\n",
              "  .colab-df-quickchart:hover {\n",
              "    background-color: var(--hover-bg-color);\n",
              "    box-shadow: 0 1px 2px rgba(60, 64, 67, 0.3), 0 1px 3px 1px rgba(60, 64, 67, 0.15);\n",
              "    fill: var(--button-hover-fill-color);\n",
              "  }\n",
              "\n",
              "  .colab-df-quickchart-complete:disabled,\n",
              "  .colab-df-quickchart-complete:disabled:hover {\n",
              "    background-color: var(--disabled-bg-color);\n",
              "    fill: var(--disabled-fill-color);\n",
              "    box-shadow: none;\n",
              "  }\n",
              "\n",
              "  .colab-df-spinner {\n",
              "    border: 2px solid var(--fill-color);\n",
              "    border-color: transparent;\n",
              "    border-bottom-color: var(--fill-color);\n",
              "    animation:\n",
              "      spin 1s steps(1) infinite;\n",
              "  }\n",
              "\n",
              "  @keyframes spin {\n",
              "    0% {\n",
              "      border-color: transparent;\n",
              "      border-bottom-color: var(--fill-color);\n",
              "      border-left-color: var(--fill-color);\n",
              "    }\n",
              "    20% {\n",
              "      border-color: transparent;\n",
              "      border-left-color: var(--fill-color);\n",
              "      border-top-color: var(--fill-color);\n",
              "    }\n",
              "    30% {\n",
              "      border-color: transparent;\n",
              "      border-left-color: var(--fill-color);\n",
              "      border-top-color: var(--fill-color);\n",
              "      border-right-color: var(--fill-color);\n",
              "    }\n",
              "    40% {\n",
              "      border-color: transparent;\n",
              "      border-right-color: var(--fill-color);\n",
              "      border-top-color: var(--fill-color);\n",
              "    }\n",
              "    60% {\n",
              "      border-color: transparent;\n",
              "      border-right-color: var(--fill-color);\n",
              "    }\n",
              "    80% {\n",
              "      border-color: transparent;\n",
              "      border-right-color: var(--fill-color);\n",
              "      border-bottom-color: var(--fill-color);\n",
              "    }\n",
              "    90% {\n",
              "      border-color: transparent;\n",
              "      border-bottom-color: var(--fill-color);\n",
              "    }\n",
              "  }\n",
              "</style>\n",
              "\n",
              "  <script>\n",
              "    async function quickchart(key) {\n",
              "      const quickchartButtonEl =\n",
              "        document.querySelector('#' + key + ' button');\n",
              "      quickchartButtonEl.disabled = true;  // To prevent multiple clicks.\n",
              "      quickchartButtonEl.classList.add('colab-df-spinner');\n",
              "      try {\n",
              "        const charts = await google.colab.kernel.invokeFunction(\n",
              "            'suggestCharts', [key], {});\n",
              "      } catch (error) {\n",
              "        console.error('Error during call to suggestCharts:', error);\n",
              "      }\n",
              "      quickchartButtonEl.classList.remove('colab-df-spinner');\n",
              "      quickchartButtonEl.classList.add('colab-df-quickchart-complete');\n",
              "    }\n",
              "    (() => {\n",
              "      let quickchartButtonEl =\n",
              "        document.querySelector('#df-49292641-2f9b-44ce-862e-351f467b2759 button');\n",
              "      quickchartButtonEl.style.display =\n",
              "        google.colab.kernel.accessAllowed ? 'block' : 'none';\n",
              "    })();\n",
              "  </script>\n",
              "</div>\n",
              "\n",
              "    </div>\n",
              "  </div>\n"
            ],
            "application/vnd.google.colaboratory.intrinsic+json": {
              "type": "dataframe",
              "summary": "{\n  \"name\": \"dataset\",\n  \"rows\": 314,\n  \"fields\": [\n    {\n      \"column\": \"PassengerId\",\n      \"properties\": {\n        \"dtype\": \"number\",\n        \"std\": 256,\n        \"min\": 2,\n        \"max\": 889,\n        \"num_unique_values\": 314,\n        \"samples\": [\n          357,\n          80,\n          597\n        ],\n        \"semantic_type\": \"\",\n        \"description\": \"\"\n      }\n    },\n    {\n      \"column\": \"Survived\",\n      \"properties\": {\n        \"dtype\": \"number\",\n        \"std\": 0,\n        \"min\": 0,\n        \"max\": 1,\n        \"num_unique_values\": 2,\n        \"samples\": [\n          0,\n          1\n        ],\n        \"semantic_type\": \"\",\n        \"description\": \"\"\n      }\n    },\n    {\n      \"column\": \"Pclass\",\n      \"properties\": {\n        \"dtype\": \"number\",\n        \"std\": 0,\n        \"min\": 1,\n        \"max\": 3,\n        \"num_unique_values\": 3,\n        \"samples\": [\n          1,\n          3\n        ],\n        \"semantic_type\": \"\",\n        \"description\": \"\"\n      }\n    },\n    {\n      \"column\": \"Name\",\n      \"properties\": {\n        \"dtype\": \"string\",\n        \"num_unique_values\": 314,\n        \"samples\": [\n          \"Bowerman, Miss. Elsie Edith\",\n          \"Dowdell, Miss. Elizabeth\"\n        ],\n        \"semantic_type\": \"\",\n        \"description\": \"\"\n      }\n    },\n    {\n      \"column\": \"Sex\",\n      \"properties\": {\n        \"dtype\": \"category\",\n        \"num_unique_values\": 1,\n        \"samples\": [\n          \"female\"\n        ],\n        \"semantic_type\": \"\",\n        \"description\": \"\"\n      }\n    },\n    {\n      \"column\": \"Age\",\n      \"properties\": {\n        \"dtype\": \"number\",\n        \"std\": 14.110146457544129,\n        \"min\": 0.75,\n        \"max\": 63.0,\n        \"num_unique_values\": 63,\n        \"samples\": [\n          62.0\n        ],\n        \"semantic_type\": \"\",\n        \"description\": \"\"\n      }\n    },\n    {\n      \"column\": \"SibSp\",\n      \"properties\": {\n        \"dtype\": \"number\",\n        \"std\": 1,\n        \"min\": 0,\n        \"max\": 8,\n        \"num_unique_values\": 7,\n        \"samples\": [\n          1\n        ],\n        \"semantic_type\": \"\",\n        \"description\": \"\"\n      }\n    },\n    {\n      \"column\": \"Parch\",\n      \"properties\": {\n        \"dtype\": \"number\",\n        \"std\": 1,\n        \"min\": 0,\n        \"max\": 6,\n        \"num_unique_values\": 7,\n        \"samples\": [\n          0\n        ],\n        \"semantic_type\": \"\",\n        \"description\": \"\"\n      }\n    },\n    {\n      \"column\": \"Ticket\",\n      \"properties\": {\n        \"dtype\": \"string\",\n        \"num_unique_values\": 247,\n        \"samples\": [\n          \"364516\"\n        ],\n        \"semantic_type\": \"\",\n        \"description\": \"\"\n      }\n    },\n    {\n      \"column\": \"Fare\",\n      \"properties\": {\n        \"dtype\": \"number\",\n        \"std\": 57.99769762308599,\n        \"min\": 6.75,\n        \"max\": 512.3292,\n        \"num_unique_values\": 156,\n        \"samples\": [\n          7.25\n        ],\n        \"semantic_type\": \"\",\n        \"description\": \"\"\n      }\n    },\n    {\n      \"column\": \"Cabin\",\n      \"properties\": {\n        \"dtype\": \"category\",\n        \"num_unique_values\": 75,\n        \"samples\": [\n          \"B78\"\n        ],\n        \"semantic_type\": \"\",\n        \"description\": \"\"\n      }\n    },\n    {\n      \"column\": \"Embarked\",\n      \"properties\": {\n        \"dtype\": \"category\",\n        \"num_unique_values\": 3,\n        \"samples\": [\n          \"C\"\n        ],\n        \"semantic_type\": \"\",\n        \"description\": \"\"\n      }\n    }\n  ]\n}"
            }
          },
          "metadata": {},
          "execution_count": 21
        }
      ]
    },
    {
      "cell_type": "markdown",
      "source": [
        "You can add multiple conditions with `&` (and) or `|` (or)."
      ],
      "metadata": {
        "id": "LXmP7jsUlB2G"
      }
    },
    {
      "cell_type": "code",
      "source": [
        "# Select female passengers who are over 30 years old\n",
        "dataset.loc[(dataset[\"Sex\"]==\"female\") & (dataset[\"Age\"]>30)]"
      ],
      "metadata": {
        "colab": {
          "base_uri": "https://localhost:8080/",
          "height": 423
        },
        "id": "lY6e3tl7xVtb",
        "outputId": "60f31fd5-6c61-4153-fb07-7751388cdf09"
      },
      "execution_count": null,
      "outputs": [
        {
          "output_type": "execute_result",
          "data": {
            "text/plain": [
              "     PassengerId  Survived  Pclass  \\\n",
              "1              2         1       1   \n",
              "3              4         1       1   \n",
              "11            12         1       1   \n",
              "15            16         1       2   \n",
              "18            19         0       3   \n",
              "..           ...       ...     ...   \n",
              "862          863         1       1   \n",
              "865          866         1       2   \n",
              "871          872         1       1   \n",
              "879          880         1       1   \n",
              "885          886         0       3   \n",
              "\n",
              "                                                  Name     Sex   Age  SibSp  \\\n",
              "1    Cumings, Mrs. John Bradley (Florence Briggs Th...  female  38.0      1   \n",
              "3         Futrelle, Mrs. Jacques Heath (Lily May Peel)  female  35.0      1   \n",
              "11                            Bonnell, Miss. Elizabeth  female  58.0      0   \n",
              "15                    Hewlett, Mrs. (Mary D Kingcome)   female  55.0      0   \n",
              "18   Vander Planke, Mrs. Julius (Emelia Maria Vande...  female  31.0      1   \n",
              "..                                                 ...     ...   ...    ...   \n",
              "862  Swift, Mrs. Frederick Joel (Margaret Welles Ba...  female  48.0      0   \n",
              "865                           Bystrom, Mrs. (Karolina)  female  42.0      0   \n",
              "871   Beckwith, Mrs. Richard Leonard (Sallie Monypeny)  female  47.0      1   \n",
              "879      Potter, Mrs. Thomas Jr (Lily Alexenia Wilson)  female  56.0      0   \n",
              "885               Rice, Mrs. William (Margaret Norton)  female  39.0      0   \n",
              "\n",
              "     Parch    Ticket     Fare Cabin Embarked  \n",
              "1        0  PC 17599  71.2833   C85        C  \n",
              "3        0    113803  53.1000  C123        S  \n",
              "11       0    113783  26.5500  C103        S  \n",
              "15       0    248706  16.0000   NaN        S  \n",
              "18       0    345763  18.0000   NaN        S  \n",
              "..     ...       ...      ...   ...      ...  \n",
              "862      0     17466  25.9292   D17        S  \n",
              "865      0    236852  13.0000   NaN        S  \n",
              "871      1     11751  52.5542   D35        S  \n",
              "879      1     11767  83.1583   C50        C  \n",
              "885      5    382652  29.1250   NaN        Q  \n",
              "\n",
              "[103 rows x 12 columns]"
            ],
            "text/html": [
              "\n",
              "  <div id=\"df-d198fda2-7029-486e-ab44-c633b7e4aecc\" class=\"colab-df-container\">\n",
              "    <div>\n",
              "<style scoped>\n",
              "    .dataframe tbody tr th:only-of-type {\n",
              "        vertical-align: middle;\n",
              "    }\n",
              "\n",
              "    .dataframe tbody tr th {\n",
              "        vertical-align: top;\n",
              "    }\n",
              "\n",
              "    .dataframe thead th {\n",
              "        text-align: right;\n",
              "    }\n",
              "</style>\n",
              "<table border=\"1\" class=\"dataframe\">\n",
              "  <thead>\n",
              "    <tr style=\"text-align: right;\">\n",
              "      <th></th>\n",
              "      <th>PassengerId</th>\n",
              "      <th>Survived</th>\n",
              "      <th>Pclass</th>\n",
              "      <th>Name</th>\n",
              "      <th>Sex</th>\n",
              "      <th>Age</th>\n",
              "      <th>SibSp</th>\n",
              "      <th>Parch</th>\n",
              "      <th>Ticket</th>\n",
              "      <th>Fare</th>\n",
              "      <th>Cabin</th>\n",
              "      <th>Embarked</th>\n",
              "    </tr>\n",
              "  </thead>\n",
              "  <tbody>\n",
              "    <tr>\n",
              "      <th>1</th>\n",
              "      <td>2</td>\n",
              "      <td>1</td>\n",
              "      <td>1</td>\n",
              "      <td>Cumings, Mrs. John Bradley (Florence Briggs Th...</td>\n",
              "      <td>female</td>\n",
              "      <td>38.0</td>\n",
              "      <td>1</td>\n",
              "      <td>0</td>\n",
              "      <td>PC 17599</td>\n",
              "      <td>71.2833</td>\n",
              "      <td>C85</td>\n",
              "      <td>C</td>\n",
              "    </tr>\n",
              "    <tr>\n",
              "      <th>3</th>\n",
              "      <td>4</td>\n",
              "      <td>1</td>\n",
              "      <td>1</td>\n",
              "      <td>Futrelle, Mrs. Jacques Heath (Lily May Peel)</td>\n",
              "      <td>female</td>\n",
              "      <td>35.0</td>\n",
              "      <td>1</td>\n",
              "      <td>0</td>\n",
              "      <td>113803</td>\n",
              "      <td>53.1000</td>\n",
              "      <td>C123</td>\n",
              "      <td>S</td>\n",
              "    </tr>\n",
              "    <tr>\n",
              "      <th>11</th>\n",
              "      <td>12</td>\n",
              "      <td>1</td>\n",
              "      <td>1</td>\n",
              "      <td>Bonnell, Miss. Elizabeth</td>\n",
              "      <td>female</td>\n",
              "      <td>58.0</td>\n",
              "      <td>0</td>\n",
              "      <td>0</td>\n",
              "      <td>113783</td>\n",
              "      <td>26.5500</td>\n",
              "      <td>C103</td>\n",
              "      <td>S</td>\n",
              "    </tr>\n",
              "    <tr>\n",
              "      <th>15</th>\n",
              "      <td>16</td>\n",
              "      <td>1</td>\n",
              "      <td>2</td>\n",
              "      <td>Hewlett, Mrs. (Mary D Kingcome)</td>\n",
              "      <td>female</td>\n",
              "      <td>55.0</td>\n",
              "      <td>0</td>\n",
              "      <td>0</td>\n",
              "      <td>248706</td>\n",
              "      <td>16.0000</td>\n",
              "      <td>NaN</td>\n",
              "      <td>S</td>\n",
              "    </tr>\n",
              "    <tr>\n",
              "      <th>18</th>\n",
              "      <td>19</td>\n",
              "      <td>0</td>\n",
              "      <td>3</td>\n",
              "      <td>Vander Planke, Mrs. Julius (Emelia Maria Vande...</td>\n",
              "      <td>female</td>\n",
              "      <td>31.0</td>\n",
              "      <td>1</td>\n",
              "      <td>0</td>\n",
              "      <td>345763</td>\n",
              "      <td>18.0000</td>\n",
              "      <td>NaN</td>\n",
              "      <td>S</td>\n",
              "    </tr>\n",
              "    <tr>\n",
              "      <th>...</th>\n",
              "      <td>...</td>\n",
              "      <td>...</td>\n",
              "      <td>...</td>\n",
              "      <td>...</td>\n",
              "      <td>...</td>\n",
              "      <td>...</td>\n",
              "      <td>...</td>\n",
              "      <td>...</td>\n",
              "      <td>...</td>\n",
              "      <td>...</td>\n",
              "      <td>...</td>\n",
              "      <td>...</td>\n",
              "    </tr>\n",
              "    <tr>\n",
              "      <th>862</th>\n",
              "      <td>863</td>\n",
              "      <td>1</td>\n",
              "      <td>1</td>\n",
              "      <td>Swift, Mrs. Frederick Joel (Margaret Welles Ba...</td>\n",
              "      <td>female</td>\n",
              "      <td>48.0</td>\n",
              "      <td>0</td>\n",
              "      <td>0</td>\n",
              "      <td>17466</td>\n",
              "      <td>25.9292</td>\n",
              "      <td>D17</td>\n",
              "      <td>S</td>\n",
              "    </tr>\n",
              "    <tr>\n",
              "      <th>865</th>\n",
              "      <td>866</td>\n",
              "      <td>1</td>\n",
              "      <td>2</td>\n",
              "      <td>Bystrom, Mrs. (Karolina)</td>\n",
              "      <td>female</td>\n",
              "      <td>42.0</td>\n",
              "      <td>0</td>\n",
              "      <td>0</td>\n",
              "      <td>236852</td>\n",
              "      <td>13.0000</td>\n",
              "      <td>NaN</td>\n",
              "      <td>S</td>\n",
              "    </tr>\n",
              "    <tr>\n",
              "      <th>871</th>\n",
              "      <td>872</td>\n",
              "      <td>1</td>\n",
              "      <td>1</td>\n",
              "      <td>Beckwith, Mrs. Richard Leonard (Sallie Monypeny)</td>\n",
              "      <td>female</td>\n",
              "      <td>47.0</td>\n",
              "      <td>1</td>\n",
              "      <td>1</td>\n",
              "      <td>11751</td>\n",
              "      <td>52.5542</td>\n",
              "      <td>D35</td>\n",
              "      <td>S</td>\n",
              "    </tr>\n",
              "    <tr>\n",
              "      <th>879</th>\n",
              "      <td>880</td>\n",
              "      <td>1</td>\n",
              "      <td>1</td>\n",
              "      <td>Potter, Mrs. Thomas Jr (Lily Alexenia Wilson)</td>\n",
              "      <td>female</td>\n",
              "      <td>56.0</td>\n",
              "      <td>0</td>\n",
              "      <td>1</td>\n",
              "      <td>11767</td>\n",
              "      <td>83.1583</td>\n",
              "      <td>C50</td>\n",
              "      <td>C</td>\n",
              "    </tr>\n",
              "    <tr>\n",
              "      <th>885</th>\n",
              "      <td>886</td>\n",
              "      <td>0</td>\n",
              "      <td>3</td>\n",
              "      <td>Rice, Mrs. William (Margaret Norton)</td>\n",
              "      <td>female</td>\n",
              "      <td>39.0</td>\n",
              "      <td>0</td>\n",
              "      <td>5</td>\n",
              "      <td>382652</td>\n",
              "      <td>29.1250</td>\n",
              "      <td>NaN</td>\n",
              "      <td>Q</td>\n",
              "    </tr>\n",
              "  </tbody>\n",
              "</table>\n",
              "<p>103 rows × 12 columns</p>\n",
              "</div>\n",
              "    <div class=\"colab-df-buttons\">\n",
              "\n",
              "  <div class=\"colab-df-container\">\n",
              "    <button class=\"colab-df-convert\" onclick=\"convertToInteractive('df-d198fda2-7029-486e-ab44-c633b7e4aecc')\"\n",
              "            title=\"Convert this dataframe to an interactive table.\"\n",
              "            style=\"display:none;\">\n",
              "\n",
              "  <svg xmlns=\"http://www.w3.org/2000/svg\" height=\"24px\" viewBox=\"0 -960 960 960\">\n",
              "    <path d=\"M120-120v-720h720v720H120Zm60-500h600v-160H180v160Zm220 220h160v-160H400v160Zm0 220h160v-160H400v160ZM180-400h160v-160H180v160Zm440 0h160v-160H620v160ZM180-180h160v-160H180v160Zm440 0h160v-160H620v160Z\"/>\n",
              "  </svg>\n",
              "    </button>\n",
              "\n",
              "  <style>\n",
              "    .colab-df-container {\n",
              "      display:flex;\n",
              "      gap: 12px;\n",
              "    }\n",
              "\n",
              "    .colab-df-convert {\n",
              "      background-color: #E8F0FE;\n",
              "      border: none;\n",
              "      border-radius: 50%;\n",
              "      cursor: pointer;\n",
              "      display: none;\n",
              "      fill: #1967D2;\n",
              "      height: 32px;\n",
              "      padding: 0 0 0 0;\n",
              "      width: 32px;\n",
              "    }\n",
              "\n",
              "    .colab-df-convert:hover {\n",
              "      background-color: #E2EBFA;\n",
              "      box-shadow: 0px 1px 2px rgba(60, 64, 67, 0.3), 0px 1px 3px 1px rgba(60, 64, 67, 0.15);\n",
              "      fill: #174EA6;\n",
              "    }\n",
              "\n",
              "    .colab-df-buttons div {\n",
              "      margin-bottom: 4px;\n",
              "    }\n",
              "\n",
              "    [theme=dark] .colab-df-convert {\n",
              "      background-color: #3B4455;\n",
              "      fill: #D2E3FC;\n",
              "    }\n",
              "\n",
              "    [theme=dark] .colab-df-convert:hover {\n",
              "      background-color: #434B5C;\n",
              "      box-shadow: 0px 1px 3px 1px rgba(0, 0, 0, 0.15);\n",
              "      filter: drop-shadow(0px 1px 2px rgba(0, 0, 0, 0.3));\n",
              "      fill: #FFFFFF;\n",
              "    }\n",
              "  </style>\n",
              "\n",
              "    <script>\n",
              "      const buttonEl =\n",
              "        document.querySelector('#df-d198fda2-7029-486e-ab44-c633b7e4aecc button.colab-df-convert');\n",
              "      buttonEl.style.display =\n",
              "        google.colab.kernel.accessAllowed ? 'block' : 'none';\n",
              "\n",
              "      async function convertToInteractive(key) {\n",
              "        const element = document.querySelector('#df-d198fda2-7029-486e-ab44-c633b7e4aecc');\n",
              "        const dataTable =\n",
              "          await google.colab.kernel.invokeFunction('convertToInteractive',\n",
              "                                                    [key], {});\n",
              "        if (!dataTable) return;\n",
              "\n",
              "        const docLinkHtml = 'Like what you see? Visit the ' +\n",
              "          '<a target=\"_blank\" href=https://colab.research.google.com/notebooks/data_table.ipynb>data table notebook</a>'\n",
              "          + ' to learn more about interactive tables.';\n",
              "        element.innerHTML = '';\n",
              "        dataTable['output_type'] = 'display_data';\n",
              "        await google.colab.output.renderOutput(dataTable, element);\n",
              "        const docLink = document.createElement('div');\n",
              "        docLink.innerHTML = docLinkHtml;\n",
              "        element.appendChild(docLink);\n",
              "      }\n",
              "    </script>\n",
              "  </div>\n",
              "\n",
              "\n",
              "<div id=\"df-a5e05415-83ba-4b29-b614-a3043383e4c4\">\n",
              "  <button class=\"colab-df-quickchart\" onclick=\"quickchart('df-a5e05415-83ba-4b29-b614-a3043383e4c4')\"\n",
              "            title=\"Suggest charts\"\n",
              "            style=\"display:none;\">\n",
              "\n",
              "<svg xmlns=\"http://www.w3.org/2000/svg\" height=\"24px\"viewBox=\"0 0 24 24\"\n",
              "     width=\"24px\">\n",
              "    <g>\n",
              "        <path d=\"M19 3H5c-1.1 0-2 .9-2 2v14c0 1.1.9 2 2 2h14c1.1 0 2-.9 2-2V5c0-1.1-.9-2-2-2zM9 17H7v-7h2v7zm4 0h-2V7h2v10zm4 0h-2v-4h2v4z\"/>\n",
              "    </g>\n",
              "</svg>\n",
              "  </button>\n",
              "\n",
              "<style>\n",
              "  .colab-df-quickchart {\n",
              "      --bg-color: #E8F0FE;\n",
              "      --fill-color: #1967D2;\n",
              "      --hover-bg-color: #E2EBFA;\n",
              "      --hover-fill-color: #174EA6;\n",
              "      --disabled-fill-color: #AAA;\n",
              "      --disabled-bg-color: #DDD;\n",
              "  }\n",
              "\n",
              "  [theme=dark] .colab-df-quickchart {\n",
              "      --bg-color: #3B4455;\n",
              "      --fill-color: #D2E3FC;\n",
              "      --hover-bg-color: #434B5C;\n",
              "      --hover-fill-color: #FFFFFF;\n",
              "      --disabled-bg-color: #3B4455;\n",
              "      --disabled-fill-color: #666;\n",
              "  }\n",
              "\n",
              "  .colab-df-quickchart {\n",
              "    background-color: var(--bg-color);\n",
              "    border: none;\n",
              "    border-radius: 50%;\n",
              "    cursor: pointer;\n",
              "    display: none;\n",
              "    fill: var(--fill-color);\n",
              "    height: 32px;\n",
              "    padding: 0;\n",
              "    width: 32px;\n",
              "  }\n",
              "\n",
              "  .colab-df-quickchart:hover {\n",
              "    background-color: var(--hover-bg-color);\n",
              "    box-shadow: 0 1px 2px rgba(60, 64, 67, 0.3), 0 1px 3px 1px rgba(60, 64, 67, 0.15);\n",
              "    fill: var(--button-hover-fill-color);\n",
              "  }\n",
              "\n",
              "  .colab-df-quickchart-complete:disabled,\n",
              "  .colab-df-quickchart-complete:disabled:hover {\n",
              "    background-color: var(--disabled-bg-color);\n",
              "    fill: var(--disabled-fill-color);\n",
              "    box-shadow: none;\n",
              "  }\n",
              "\n",
              "  .colab-df-spinner {\n",
              "    border: 2px solid var(--fill-color);\n",
              "    border-color: transparent;\n",
              "    border-bottom-color: var(--fill-color);\n",
              "    animation:\n",
              "      spin 1s steps(1) infinite;\n",
              "  }\n",
              "\n",
              "  @keyframes spin {\n",
              "    0% {\n",
              "      border-color: transparent;\n",
              "      border-bottom-color: var(--fill-color);\n",
              "      border-left-color: var(--fill-color);\n",
              "    }\n",
              "    20% {\n",
              "      border-color: transparent;\n",
              "      border-left-color: var(--fill-color);\n",
              "      border-top-color: var(--fill-color);\n",
              "    }\n",
              "    30% {\n",
              "      border-color: transparent;\n",
              "      border-left-color: var(--fill-color);\n",
              "      border-top-color: var(--fill-color);\n",
              "      border-right-color: var(--fill-color);\n",
              "    }\n",
              "    40% {\n",
              "      border-color: transparent;\n",
              "      border-right-color: var(--fill-color);\n",
              "      border-top-color: var(--fill-color);\n",
              "    }\n",
              "    60% {\n",
              "      border-color: transparent;\n",
              "      border-right-color: var(--fill-color);\n",
              "    }\n",
              "    80% {\n",
              "      border-color: transparent;\n",
              "      border-right-color: var(--fill-color);\n",
              "      border-bottom-color: var(--fill-color);\n",
              "    }\n",
              "    90% {\n",
              "      border-color: transparent;\n",
              "      border-bottom-color: var(--fill-color);\n",
              "    }\n",
              "  }\n",
              "</style>\n",
              "\n",
              "  <script>\n",
              "    async function quickchart(key) {\n",
              "      const quickchartButtonEl =\n",
              "        document.querySelector('#' + key + ' button');\n",
              "      quickchartButtonEl.disabled = true;  // To prevent multiple clicks.\n",
              "      quickchartButtonEl.classList.add('colab-df-spinner');\n",
              "      try {\n",
              "        const charts = await google.colab.kernel.invokeFunction(\n",
              "            'suggestCharts', [key], {});\n",
              "      } catch (error) {\n",
              "        console.error('Error during call to suggestCharts:', error);\n",
              "      }\n",
              "      quickchartButtonEl.classList.remove('colab-df-spinner');\n",
              "      quickchartButtonEl.classList.add('colab-df-quickchart-complete');\n",
              "    }\n",
              "    (() => {\n",
              "      let quickchartButtonEl =\n",
              "        document.querySelector('#df-a5e05415-83ba-4b29-b614-a3043383e4c4 button');\n",
              "      quickchartButtonEl.style.display =\n",
              "        google.colab.kernel.accessAllowed ? 'block' : 'none';\n",
              "    })();\n",
              "  </script>\n",
              "</div>\n",
              "\n",
              "    </div>\n",
              "  </div>\n"
            ],
            "application/vnd.google.colaboratory.intrinsic+json": {
              "type": "dataframe",
              "summary": "{\n  \"name\": \"dataset\",\n  \"rows\": 103,\n  \"fields\": [\n    {\n      \"column\": \"PassengerId\",\n      \"properties\": {\n        \"dtype\": \"number\",\n        \"std\": 257,\n        \"min\": 2,\n        \"max\": 886,\n        \"num_unique_values\": 103,\n        \"samples\": [\n          277,\n          572,\n          527\n        ],\n        \"semantic_type\": \"\",\n        \"description\": \"\"\n      }\n    },\n    {\n      \"column\": \"Survived\",\n      \"properties\": {\n        \"dtype\": \"number\",\n        \"std\": 0,\n        \"min\": 0,\n        \"max\": 1,\n        \"num_unique_values\": 2,\n        \"samples\": [\n          0,\n          1\n        ],\n        \"semantic_type\": \"\",\n        \"description\": \"\"\n      }\n    },\n    {\n      \"column\": \"Pclass\",\n      \"properties\": {\n        \"dtype\": \"number\",\n        \"std\": 0,\n        \"min\": 1,\n        \"max\": 3,\n        \"num_unique_values\": 3,\n        \"samples\": [\n          1,\n          2\n        ],\n        \"semantic_type\": \"\",\n        \"description\": \"\"\n      }\n    },\n    {\n      \"column\": \"Name\",\n      \"properties\": {\n        \"dtype\": \"string\",\n        \"num_unique_values\": 103,\n        \"samples\": [\n          \"Lindblom, Miss. Augusta Charlotta\",\n          \"Appleton, Mrs. Edward Dale (Charlotte Lamson)\"\n        ],\n        \"semantic_type\": \"\",\n        \"description\": \"\"\n      }\n    },\n    {\n      \"column\": \"Sex\",\n      \"properties\": {\n        \"dtype\": \"category\",\n        \"num_unique_values\": 1,\n        \"samples\": [\n          \"female\"\n        ],\n        \"semantic_type\": \"\",\n        \"description\": \"\"\n      }\n    },\n    {\n      \"column\": \"Age\",\n      \"properties\": {\n        \"dtype\": \"number\",\n        \"std\": 8.528685876015688,\n        \"min\": 30.5,\n        \"max\": 63.0,\n        \"num_unique_values\": 32,\n        \"samples\": [\n          57.0\n        ],\n        \"semantic_type\": \"\",\n        \"description\": \"\"\n      }\n    },\n    {\n      \"column\": \"SibSp\",\n      \"properties\": {\n        \"dtype\": \"number\",\n        \"std\": 0,\n        \"min\": 0,\n        \"max\": 3,\n        \"num_unique_values\": 4,\n        \"samples\": [\n          0\n        ],\n        \"semantic_type\": \"\",\n        \"description\": \"\"\n      }\n    },\n    {\n      \"column\": \"Parch\",\n      \"properties\": {\n        \"dtype\": \"number\",\n        \"std\": 1,\n        \"min\": 0,\n        \"max\": 6,\n        \"num_unique_values\": 7,\n        \"samples\": [\n          0\n        ],\n        \"semantic_type\": \"\",\n        \"description\": \"\"\n      }\n    },\n    {\n      \"column\": \"Ticket\",\n      \"properties\": {\n        \"dtype\": \"string\",\n        \"num_unique_values\": 95,\n        \"samples\": [\n          \"17421\"\n        ],\n        \"semantic_type\": \"\",\n        \"description\": \"\"\n      }\n    },\n    {\n      \"column\": \"Fare\",\n      \"properties\": {\n        \"dtype\": \"number\",\n        \"std\": 70.12096806738312,\n        \"min\": 7.75,\n        \"max\": 512.3292,\n        \"num_unique_values\": 73,\n        \"samples\": [\n          18.0\n        ],\n        \"semantic_type\": \"\",\n        \"description\": \"\"\n      }\n    },\n    {\n      \"column\": \"Cabin\",\n      \"properties\": {\n        \"dtype\": \"category\",\n        \"num_unique_values\": 45,\n        \"samples\": [\n          \"D17\"\n        ],\n        \"semantic_type\": \"\",\n        \"description\": \"\"\n      }\n    },\n    {\n      \"column\": \"Embarked\",\n      \"properties\": {\n        \"dtype\": \"category\",\n        \"num_unique_values\": 3,\n        \"samples\": [\n          \"C\"\n        ],\n        \"semantic_type\": \"\",\n        \"description\": \"\"\n      }\n    }\n  ]\n}"
            }
          },
          "metadata": {},
          "execution_count": 22
        }
      ]
    },
    {
      "cell_type": "markdown",
      "source": [
        "Pandas also has many built-in methods to manipulate datasets. <br>\n",
        "We will go through them during the bootcamp week.\n",
        "\n",
        "In the meantime, here is a cheatsheet where you will find pandas' most common methods. <br>\n",
        "https://pandas.pydata.org/Pandas_Cheat_Sheet.pdf\n"
      ],
      "metadata": {
        "id": "H6rSNi38zx4G"
      }
    },
    {
      "cell_type": "markdown",
      "source": [
        "## **<font size=5 color=#023F7C>1.3 Matplotlib</font>**\n",
        "Matplotlib is a popular Python **data visualization library**. <br>\n",
        "It provides a wide range of tools and functions to create plots, charts, and graphs.\n",
        "\n",
        "<img src = https://interactivechaos.com/sites/default/files/2019-02/tutorial_matplotlib.png width = \"200\" height = \"100\" >\n",
        "\n",
        "<br>\n",
        "\n",
        "<img src = https://datascientest.com/wp-content/uploads/2021/02/matplotlib-graphs-1024x576.png width = \"500\" height = \"250\" >\n",
        "\n",
        "\n",
        "\n"
      ],
      "metadata": {
        "id": "rnYG7Y3wHLcO"
      }
    },
    {
      "cell_type": "markdown",
      "source": [
        "Most of the Matplotlib functions lies under the `pyplot` submodule."
      ],
      "metadata": {
        "id": "VpLjGP2N4TsF"
      }
    },
    {
      "cell_type": "code",
      "source": [
        "import matplotlib.pyplot as plt"
      ],
      "metadata": {
        "id": "kVaTq9AGQ_dh"
      },
      "execution_count": null,
      "outputs": []
    },
    {
      "cell_type": "markdown",
      "source": [
        "Matplotlib's most basic plotting function is `plt.plot()`. <br>\n",
        "This function allows you create a **line plot** with x-axis and y-axis values.\n"
      ],
      "metadata": {
        "id": "RLUpnD5E48GA"
      }
    },
    {
      "cell_type": "code",
      "source": [
        "x = np.array([1,2,3,4]) # x-axis values\n",
        "y = np.array([2,4,6,8]) # y-axis values\n",
        "\n",
        "plt.plot(x,y)\n",
        "plt.show()"
      ],
      "metadata": {
        "colab": {
          "base_uri": "https://localhost:8080/",
          "height": 430
        },
        "id": "NV3N6fMK5YPI",
        "outputId": "1286e58b-0c80-43bf-e754-d883f3a6252c"
      },
      "execution_count": null,
      "outputs": [
        {
          "output_type": "display_data",
          "data": {
            "text/plain": [
              "<Figure size 640x480 with 1 Axes>"
            ],
            "image/png": "[encoded data removed]"
          },
          "metadata": {}
        }
      ]
    },
    {
      "cell_type": "markdown",
      "source": [
        "You can add **markers**, a **title** and **x-axis**/**y-axis** **labels** to a matplotlib plot. <br>\n"
      ],
      "metadata": {
        "id": "rVe8hNEm6hX9"
      }
    },
    {
      "cell_type": "code",
      "source": [
        "plt.plot(x,y)\n",
        "\n",
        "# Add x, y axis labels\n",
        "plt.xlabel(\"First variable\")\n",
        "plt.ylabel(\"Second variable\")\n",
        "\n",
        "# Add a title\n",
        "plt.title(\"Plot with title and labels\")\n",
        "\n",
        "plt.show()"
      ],
      "metadata": {
        "colab": {
          "base_uri": "https://localhost:8080/",
          "height": 472
        },
        "id": "k-EKQiEB6x0G",
        "outputId": "26240e7f-8574-4f35-dd58-97b249eab74c"
      },
      "execution_count": null,
      "outputs": [
        {
          "output_type": "display_data",
          "data": {
            "text/plain": [
              "<Figure size 640x480 with 1 Axes>"
            ],
            "image/png": "[encoded data removed]"
          },
          "metadata": {}
        }
      ]
    },
    {
      "cell_type": "markdown",
      "source": [
        "You can add multiple plots to a same graph and create a legend for each with `plt.legend()`."
      ],
      "metadata": {
        "id": "dJwALZ588Fms"
      }
    },
    {
      "cell_type": "code",
      "source": [
        "# Define values\n",
        "x = [1, 2, 3, 4]\n",
        "y1 = np.array([1, 4, 9, 16])\n",
        "y2 = np.array([1, 8, 27, 64])\n",
        "\n",
        "# Create plots for y1 and y2\n",
        "plt.plot(x, y1, label='plot 1') # label = define the legend name of a plot\n",
        "plt.plot(x, y2, label='plot 2', color=\"red\") # color = define the color of the plot\n",
        "\n",
        "# Add title, x and y axis labels\n",
        "plt.xlabel(\"First variable\")\n",
        "plt.ylabel(\"Second variable\")\n",
        "plt.title(\"Plot Title\")\n",
        "\n",
        "# Add plot legends\n",
        "plt.legend(title=\"legend title\");"
      ],
      "metadata": {
        "colab": {
          "base_uri": "https://localhost:8080/",
          "height": 472
        },
        "id": "wxO-KM1G7siP",
        "outputId": "2e1a23fb-6b11-4984-c0d1-7a67f8f5b61e"
      },
      "execution_count": null,
      "outputs": [
        {
          "output_type": "display_data",
          "data": {
            "text/plain": [
              "<Figure size 640x480 with 1 Axes>"
            ],
            "image/png": "[encoded data removed]"
          },
          "metadata": {}
        }
      ]
    },
    {
      "cell_type": "markdown",
      "source": [
        "Matplotlib also has built-in functions to create:\n",
        "- scatter plots: `plt.scatter()`\n",
        "- box plots: `plt.boxplot()`\n",
        "- bar plots: `plt.bar()`\n",
        "- pie charts: `plt.pie()`\n",
        "- stacked plots: `plt.stackplot()`\n",
        "\n",
        "You will learn more about this plots in section 2.2 about Data Visualization."
      ],
      "metadata": {
        "id": "MKQ-K0GvBMUX"
      }
    },
    {
      "cell_type": "markdown",
      "source": [
        "# **<font size=6 color=#023F7C>2. Exploratory Data Analysis &#128269;</font>**\n",
        "\n",
        "There are many steps involved in a Data Science project, from **Data Cleaning 🧹** to **Model Deployment 🚀**. <br>\n",
        "In this section, we will focus on **Exploratory Data Analysis** &#128269;. <br>\n",
        "\n",
        "EDA involves investigating data to gain insights, identify patterns/anomalies, and formulate hypotheses.\n",
        "\n",
        "<br>\n",
        "\n",
        "\n",
        "<img src =https://miro.medium.com/v2/resize:fit:1400/format:webp/1*1oVjIRY3Bnmbw-idCtg4BQ@2x.jpeg width = \"600\" height = \"400\" >\n",
        "\n",
        "\n",
        "\n"
      ],
      "metadata": {
        "id": "V1czoRTAHUTj"
      }
    },
    {
      "cell_type": "markdown",
      "source": [
        "## **<font size=5 color=#023F7C>2.1 Descriptive Analysis</font>**\n",
        "\n",
        "The first step of Exploratory Data Analysis is gathering information about your data. <br>\n",
        "This includes analyzing your dataset's variables, missing values, statistical trends etc...\n",
        "\n",
        "\n",
        "\n",
        "\n",
        "\n",
        "\n",
        "\n",
        "\n",
        "\n"
      ],
      "metadata": {
        "id": "vYDmDsZbHuZN"
      }
    },
    {
      "cell_type": "markdown",
      "source": [
        "**<font size='5'>General information**</font> <br>\n",
        "\n",
        "Here is a description of each variable in the titanic dataset.\n",
        "<br>\n",
        "This is the type of information you can gather during the collection phase of the project.\n",
        "\n",
        "\n"
      ],
      "metadata": {
        "id": "sj7hI6Y3eqLH"
      }
    },
    {
      "cell_type": "markdown",
      "source": [
        "| Name |\tDescription |\n",
        "-------|:-------------|\n",
        "Survived | A passenger died (0) or survived (1)\n",
        "Pclass | Ticket class of a passenger\n",
        "Sex | Gender of a passenger\n",
        "Age | Age of a passenger\n",
        "SibSp | Number of siblings + spouse aboard the titanic\n",
        "Parche | Number of children + parents aboard the titanic\n",
        "Ticket | Ticket number\n",
        "Fare | Passenger fare (price paid for the ticket)\n",
        "Cabin | Cabin number\n",
        "Embarked | Port of Embarkation (C = Cherbourg, Q = Queenstown, S = Southampton)"
      ],
      "metadata": {
        "id": "M-tp4cX1fbFK"
      }
    },
    {
      "cell_type": "markdown",
      "source": [
        "You can also use `.info()` to get information on the pandas dataframe.\n"
      ],
      "metadata": {
        "id": "vQ6ny0f1cP6w"
      }
    },
    {
      "cell_type": "code",
      "source": [
        "dataset.info()"
      ],
      "metadata": {
        "colab": {
          "base_uri": "https://localhost:8080/"
        },
        "id": "UQJepX8qyRXo",
        "outputId": "fc04b9ce-af6c-41be-f59f-d36ae99cfd8b"
      },
      "execution_count": null,
      "outputs": [
        {
          "output_type": "stream",
          "name": "stdout",
          "text": [
            "<class 'pandas.core.frame.DataFrame'>\n",
            "RangeIndex: 891 entries, 0 to 890\n",
            "Data columns (total 12 columns):\n",
            " #   Column       Non-Null Count  Dtype  \n",
            "---  ------       --------------  -----  \n",
            " 0   PassengerId  891 non-null    int64  \n",
            " 1   Survived     891 non-null    int64  \n",
            " 2   Pclass       891 non-null    int64  \n",
            " 3   Name         891 non-null    object \n",
            " 4   Sex          891 non-null    object \n",
            " 5   Age          714 non-null    float64\n",
            " 6   SibSp        891 non-null    int64  \n",
            " 7   Parch        891 non-null    int64  \n",
            " 8   Ticket       891 non-null    object \n",
            " 9   Fare         891 non-null    float64\n",
            " 10  Cabin        204 non-null    object \n",
            " 11  Embarked     889 non-null    object \n",
            "dtypes: float64(2), int64(5), object(5)\n",
            "memory usage: 83.7+ KB\n"
          ]
        }
      ]
    },
    {
      "cell_type": "markdown",
      "source": [
        "The titanic dataset has 12 variables/columns and 891 rows. <br>\n",
        "\n",
        "Each row represents a titanic passenger with a unique passenger id. <br> The target is **Survived** since we are trying to predict the survival of passengers."
      ],
      "metadata": {
        "id": "UEH4-OUmgAdI"
      }
    },
    {
      "cell_type": "markdown",
      "source": [
        "<br>\n",
        "\n",
        "**<font size='5'>Variable analysis**</font> <br>\n",
        "\n",
        "\n",
        "Seven variables have an `int64`/`float64` dtype and five are an `object` dtype. <br>\n",
        "Most variables of our dataset are categorical, only Fare and Age are continuous.\n",
        "\n",
        "\n"
      ],
      "metadata": {
        "id": "BJrNe-qNqQKF"
      }
    },
    {
      "cell_type": "code",
      "source": [
        "dataset[\"Pclass\"].value_counts() # example of a categorical variable"
      ],
      "metadata": {
        "colab": {
          "base_uri": "https://localhost:8080/"
        },
        "id": "-mhAaO_WQYW8",
        "outputId": "5383bafc-af83-41fc-d790-5b2c5524cdf2"
      },
      "execution_count": null,
      "outputs": [
        {
          "output_type": "execute_result",
          "data": {
            "text/plain": [
              "3    491\n",
              "1    216\n",
              "2    184\n",
              "Name: Pclass, dtype: int64"
            ]
          },
          "metadata": {},
          "execution_count": 27
        }
      ]
    },
    {
      "cell_type": "markdown",
      "source": [
        "\n",
        "> A variable is <u>categorical</u> if it has a finite number of possible values/classes (string or numerical). <br>\n",
        "A <u>continuous</u> variable can have an infinite number of values (numerical)."
      ],
      "metadata": {
        "id": "1XMBncj_f3fB"
      }
    },
    {
      "cell_type": "markdown",
      "source": [
        "Our target variable Survived is **categorical** since it only takes two values. <br>\n",
        "This information is essential since it will guide our choice on the predictive model to build."
      ],
      "metadata": {
        "id": "KJrMKE6Sfc8o"
      }
    },
    {
      "cell_type": "code",
      "source": [
        "# Target variable with two values => 0/1 (binary)\n",
        "dataset[\"Survived\"].value_counts()"
      ],
      "metadata": {
        "colab": {
          "base_uri": "https://localhost:8080/"
        },
        "id": "GheyeaU-t1KI",
        "outputId": "35a8e59b-bcb5-4868-b271-a19995ccf6bb"
      },
      "execution_count": null,
      "outputs": [
        {
          "output_type": "execute_result",
          "data": {
            "text/plain": [
              "0    549\n",
              "1    342\n",
              "Name: Survived, dtype: int64"
            ]
          },
          "metadata": {},
          "execution_count": 28
        }
      ]
    },
    {
      "cell_type": "markdown",
      "source": [
        "<br>\n",
        "\n",
        "**<font size='5'>Missing values**</font> <br>\n",
        "We can see that the *Age*, *Cabin* and *Embarked* variables have missing values (`NaN`). <br> This could be an issue later on when trying to build a predictive model.\n",
        "\n"
      ],
      "metadata": {
        "id": "9G8T7w5oDPXO"
      }
    },
    {
      "cell_type": "markdown",
      "source": [
        "\n",
        "**<font size=4><u>Exercise 1 &#128221;</u></font>** <br>\n",
        "**Compute the percentage of missing values for Age, Cabin and Embarked**<br>\n",
        "\n",
        "*We used panda's `.isna().sum()` functions to filter then count the number of `NaN` observations.*\n",
        "- *`.isna()` checks which observation is missing in a variable (`True` or `False`)*\n",
        "- *`.sum()` counts the number of `True` observations*"
      ],
      "metadata": {
        "id": "zVtRYXEhfN3C"
      }
    },
    {
      "cell_type": "code",
      "source": [
        "# Number of missing values in Age\n",
        "dataset[\"Age\"].isna().sum()"
      ],
      "metadata": {
        "colab": {
          "base_uri": "https://localhost:8080/"
        },
        "id": "lWhQw991Z7vg",
        "outputId": "0bca9f43-1c8e-45db-f2bc-65b9a827ceb3"
      },
      "execution_count": null,
      "outputs": [
        {
          "output_type": "execute_result",
          "data": {
            "text/plain": [
              "177"
            ]
          },
          "metadata": {},
          "execution_count": 29
        }
      ]
    },
    {
      "cell_type": "code",
      "source": [],
      "metadata": {
        "id": "0lyjlb56HIv5"
      },
      "execution_count": null,
      "outputs": []
    },
    {
      "cell_type": "markdown",
      "source": [
        "**Expected result** &#9989; <br>\n",
        "\n",
        "```\n",
        "19.865319865319866\n",
        "77.10437710437711\n",
        "0.22446689113355783\n",
        "```\n",
        "\n"
      ],
      "metadata": {
        "id": "Bm8DVzpBZz9X"
      }
    },
    {
      "cell_type": "markdown",
      "source": [
        "*Cabin*'s missing values represent almost 80% of its data, when they only represent 20% in *Age*. <br> For the *Embarked* variable, missing values only represents 0.2% of the data.\n",
        "\n",
        "There are many ways to deal with missing values.\n",
        "\n",
        "\n",
        "\n",
        "\n",
        "\n"
      ],
      "metadata": {
        "id": "5feu3GfPuC5r"
      }
    },
    {
      "cell_type": "markdown",
      "source": [
        "<br>\n",
        "\n",
        "**<font size='5'>Statistical analysis**</font> <br>\n",
        "You can perform statistical analysis on the continuous variables of a dataset. <br>\n",
        "This is usually done by measuring a variable's **mean value**, **standard deviation**, **quantiles**, etc...\n",
        "\n",
        "Statistical analysis can help you identify outliers and remove them if needed.\n"
      ],
      "metadata": {
        "id": "SbvDIskqd6vV"
      }
    },
    {
      "cell_type": "markdown",
      "source": [
        "**<font size=4><u>Exercise 2 &#128221;</u> </font>** <br>\n",
        "**Compute the standard deviation of the Fare variable**<br>\n",
        "*You can use a pandas function for standard deviation*. <br>\n"
      ],
      "metadata": {
        "id": "vYf-EtCeczsW"
      }
    },
    {
      "cell_type": "code",
      "source": [],
      "metadata": {
        "id": "a7E8FGuLrluY"
      },
      "execution_count": null,
      "outputs": []
    },
    {
      "cell_type": "markdown",
      "source": [
        "**Expected result** &#9989; <br>\n",
        "\n",
        "\n",
        "```\n",
        "49.6934285971809\n",
        "```\n",
        "\n"
      ],
      "metadata": {
        "id": "zrtMd0qBtGoq"
      }
    },
    {
      "cell_type": "markdown",
      "source": [
        "**<font size='4'><u>Exercise 3 &#128221;</u> </font>** <br>\n",
        "**Count the number of values of \"Fare\" that are higher (>) than the variable's mean value.** <br>\n",
        "\n",
        "*You can get a variable's mean value with `.mean()`.* <br>\n",
        "*You can select the values of a variable based on a specific condition using `df.loc[]`.*\n"
      ],
      "metadata": {
        "id": "Jqm_eYaPdaxJ"
      }
    },
    {
      "cell_type": "code",
      "source": [
        "dataset[\"Fare\"].mean()"
      ],
      "metadata": {
        "colab": {
          "base_uri": "https://localhost:8080/"
        },
        "id": "bSxFyCRJxHNq",
        "outputId": "9b8c8ee9-9aaa-48bd-8fa3-91f2e502c746"
      },
      "execution_count": null,
      "outputs": [
        {
          "output_type": "execute_result",
          "data": {
            "text/plain": [
              "32.204207968574636"
            ]
          },
          "metadata": {},
          "execution_count": 30
        }
      ]
    },
    {
      "cell_type": "code",
      "source": [],
      "metadata": {
        "id": "Mscvgwrz-7x-"
      },
      "execution_count": null,
      "outputs": []
    },
    {
      "cell_type": "markdown",
      "source": [
        "**Expected result** &#9989; <br>\n",
        "\n",
        "\n",
        "\n",
        "```\n",
        "211\n",
        "```\n",
        "\n"
      ],
      "metadata": {
        "id": "dT8hT6NbrkL7"
      }
    },
    {
      "cell_type": "markdown",
      "source": [
        "<br>\n",
        "\n",
        "## **<font size=5 color=#023F7C>2.2 Data Visualization</font>**\n",
        "\n",
        "Data visualization is used to detect **hidden patterns**, **outliers** or even **explore hypothesis** you have about the data.<br>\n",
        "It is also a powerful communication tool to share visual insights to others.\n",
        "\n",
        "\n"
      ],
      "metadata": {
        "id": "kfxJeseCIRD1"
      }
    },
    {
      "cell_type": "markdown",
      "source": [
        "<img src = https://s3.amazonaws.com/ga-instruction/assets/python-fundamentals/chart_types.png width = \"600\" height = \"300\" >\n",
        "\n",
        "<!-- <img src = https://editor.analyticsvidhya.com/uploads/23452DV.png width = \"600\" height = \"400\" > -->\n",
        "\n"
      ],
      "metadata": {
        "id": "MBmKc4yX87Ea"
      }
    },
    {
      "cell_type": "markdown",
      "source": [
        "<br>\n",
        "\n",
        "**<font size='5'>Scatter plot &#128309;**</font> <br>\n",
        "Scatter plots represent a **relationship between two numerical variables** using dots. <br> They are commonly used with continuous variables.\n",
        "\n",
        "\n",
        "\n",
        "Let's create a scatter plot with \"Age\" and \"Fare\" since both variables are continuous. <br>"
      ],
      "metadata": {
        "id": "s6CDZ4uOW0Qm"
      }
    },
    {
      "cell_type": "code",
      "source": [
        "plt.scatter(x=dataset['Age'], y=dataset['Fare']);\n",
        "plt.xlabel(\"Age\");\n",
        "plt.ylabel(\"Fare\"); # add ; to hide the text output of matplotlib"
      ],
      "metadata": {
        "colab": {
          "base_uri": "https://localhost:8080/",
          "height": 449
        },
        "id": "QDsk4n0P2JZP",
        "outputId": "ea05f7df-540d-467e-cb06-f7daf296bf63"
      },
      "execution_count": null,
      "outputs": [
        {
          "output_type": "display_data",
          "data": {
            "text/plain": [
              "<Figure size 640x480 with 1 Axes>"
            ],
            "image/png": "[encoded data removed]"
          },
          "metadata": {}
        }
      ]
    },
    {
      "cell_type": "markdown",
      "source": [
        "There doesn't seem to be any relationship between *Age* and *Fare*. <br>\n",
        "The fare prices are between 0 and 300 for every age group.\n",
        "\n",
        "Scatter plots are usually used to identify **linear relationships** between variables. <br> We can see that it isn't the case for Age and Fare. <br>\n"
      ],
      "metadata": {
        "id": "pCsQ6tz5cmtK"
      }
    },
    {
      "cell_type": "markdown",
      "source": [
        "**<font size='4'><u>Exercise 4</u> &#128221;</font>**<br>\n",
        "\n",
        "**Create a scatter plot between the X and Y variables with \"X\" and \"Y\" as axis labels and \"Linear relationship\" as the title.** <br>\n",
        "*`np.linspace()` generates an array with a set number of elements and values between a range of two integers* <br>\n",
        "*`np.random.randn()` generates n random numbers* <br>\n",
        "\n",
        "\n"
      ],
      "metadata": {
        "id": "ecmNnXQPS1yk"
      }
    },
    {
      "cell_type": "code",
      "source": [
        "X = np.linspace(0, 10, 500)\n",
        "Y = 2 * X + 3*np.random.randn(500)"
      ],
      "metadata": {
        "id": "iKKtJlTZfIE9"
      },
      "execution_count": null,
      "outputs": []
    },
    {
      "cell_type": "code",
      "source": [],
      "metadata": {
        "id": "AOYYWJNDQ1f6"
      },
      "execution_count": null,
      "outputs": []
    },
    {
      "cell_type": "markdown",
      "source": [
        "**Expected result** &#9989;: <br>\n",
        "The range of Y values of your plot might not match those of the expected result. <br> This is because we generate the Y values randomly.\n",
        "\n",
        "![scatter_plot.png](data:image/png;base64,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)"
      ],
      "metadata": {
        "id": "Nfy-klvpXfj3"
      }
    },
    {
      "cell_type": "markdown",
      "source": [
        "This plot shows a positive linear relationship between the simulated X and Y variables. <br>\n",
        "When the X variable increases in the graph, the Y variable increases too. <br>\n"
      ],
      "metadata": {
        "id": "0vszYymdVGj3"
      }
    },
    {
      "cell_type": "markdown",
      "source": [
        "**<font size='4'><u>Exercise 5</u> &#128221;**</font> <br>\n",
        "\n",
        "**Create a scatter plot with the X, Y1 and Y2 values with legends. <br> The Y1 and Y2 values should have differently colored markers.**</font><br>\n",
        "\n",
        "*Go to the Matplotlib section to see how to a create a graph with two different plots*\n",
        "\n",
        "\n",
        "\n"
      ],
      "metadata": {
        "id": "939PgmV0V3sU"
      }
    },
    {
      "cell_type": "code",
      "source": [
        "X = np.linspace(0, 10, 500)\n",
        "Y1 = 2*X + 3*np.random.randn(500)\n",
        "Y2 = 2*X + 5*np.random.randn(500)"
      ],
      "metadata": {
        "id": "XKJekbEdKoSG"
      },
      "execution_count": null,
      "outputs": []
    },
    {
      "cell_type": "code",
      "source": [],
      "metadata": {
        "id": "Xv1YOsmUGQsT"
      },
      "execution_count": null,
      "outputs": []
    },
    {
      "cell_type": "markdown",
      "source": [
        "**Expected result** &#9989; <br>\n",
        "The range of the Y1, Y2 values of your plot might not match those of the expected result. <br> This is because we generate the Y1 and Y2 values randomly.\n",
        "\n",
        "![scatter_plot2.png](data:image/png;base64,iVBORw0KGgoAAAANSUhEUgAAAioAAAGdCAYAAAA8F1jjAAAAOXRFWHRTb2Z0d2FyZQBNYXRwbG90bGliIHZlcnNpb24zLjcuMSwgaHR0cHM6Ly9tYXRwbG90bGliLm9yZy/bCgiHAAAACXBIWXMAAA9hAAAPYQGoP6dpAADRDElEQVR4nOydeXwU5f3H3zObzX0RMCTghSICooBKAEFrLUiqgFSpP7wArypiAa31qoqoBa9WwCJarXe9UQTU4InIGS8QjHjiUUmIEMhByLUzvz9mZ7PHHM9uNgf4vF8vS7M7O/PM7Ow83+d7fL6Krus6EolEIpFIJB0Qtb0HIJFIJBKJRGKHNFQkEolEIpF0WKShIpFIJBKJpMMiDRWJRCKRSCQdFmmoSCQSiUQi6bBIQ0UikUgkEkmHRRoqEolEIpFIOizSUJFIJBKJRNJhSWjvAbQUTdPYtm0bGRkZKIrS3sORSCQSiUQigK7rVFdX061bN1TV3m+yzxsq27Zt46CDDmrvYUgkEolEIomBn376iQMPPND2/X3eUMnIyACME83MzGzn0UgkEolEIhGhqqqKgw46KDCP27HPGypmuCczM1MaKhKJRCKR7GO4pW3IZFqJRCKRSCQdFmmoSCQSiUQi6bBIQ0UikUgkEkmHZZ/PURFB13Wamprw+XztPZR2wePxkJCQIMu3JRKJRLLPsd8bKg0NDZSWllJbW9veQ2lXUlNTyc/PJzExsb2HIpFIJBKJMPu1oaJpGlu3bsXj8dCtWzcSExN/dV4FXddpaGjgl19+YevWrRxxxBGOwjoSiUQikXQk9mtDpaGhAU3TOOigg0hNTW3v4bQbKSkpeL1efvjhBxoaGkhOTm7vIUkkEolEIsSvYmktPQjyGkgkEolk32S/9qhIJBKJRNLh0Xzwwxqo2Q7pXeGQE0D1tPeoOgxymR3EySefzIwZM9p7GK6sWLECRVHYvXt3ew9FIpFIJC2hZAnM7QdPjIZFFxv/zu1nvC4BpKEikUgkEkn7ULIEXpgIVdtCX68qNV6XxgogDRWJRCKRSNoezQdF1wG6xZv+14quN7b7lSMNFRvq6+u55ppr6N69O2lpaQwePJgVK1aEbPPwww8HKor+8Ic/8M9//pPs7OyQbV599VWOPfZYkpOTOeyww5g1axZNTU2B9xVF4ZFHHuEPf/gDqampHHHEESxZEmpFv/766/Tq1YuUlBR++9vf8v3337fSWUskEomkTfhhTaQnJQQdqn42trNC88HWD2DTS8a/+7FBIw0VG6688krWrl3Lc889x2effcYf//hHCgsL+frrrwFYvXo1l19+OdOnT2fDhg2MHDmSv//97yH7+OCDD5g4cSLTp0+npKSEhx56iMcffzxiu1mzZnH22Wfz2Wefcdppp3HeeedRUVEBwE8//cSZZ57JmDFj2LBhA5dccgnXX39921wEiUQikbQONdtj3+5XltciDRULfvzxRx577DFefPFFTjzxRA4//HCuueYahg8fzmOPPQbA/fffz+9//3uuueYaevXqxRVXXMHvf//7kP3MmjWL66+/nkmTJnHYYYcxcuRIbr/9dh566KGQ7SZPnsw555xDz549mT17NjU1NRQXFwOwcOFCDj/8cP7xj39w5JFHct555zF58uQ2uQ4SiUQiaSXSu8a23a8wr0WWJ1uwadMmfD4fvXr1Cnm9vr6ezp07A/Dll1/yhz/8IeT9goICli1bFvh748aNrF69OsSD4vP5qKuro7a2NiBCd8wxxwTeT0tLIzMzk/LycgC++OILBg8eHHKcoUOHxuEsJRKJRNJuHHICZHYzDAzLPBXFeP+QE5pfcs1rUYy8lt6n71flzdJQsaCmpgaPx8PHH3+MxxP6Zaenp0e1n1mzZnHmmWdGvBesDuv1ekPeUxQFTdOiHLVEIpFI9hlUDxTeZXhBUAg1PvytXgrvDDU4oslr6XFi/MfcTkhDxYKBAwfi8/koLy/nxBOtv+wjjzySDz/8MOS18L+PPfZYvvzyS3r27BnzWPr06RORXLtu3bqY9yeRSCSSDkLfsXD2k4aXJNgAyexmGCl9x4Zu35K8ln0YaahY0KtXL8477zwmTpzIP/7xDwYOHMgvv/zCO++8wzHHHMPpp5/On//8Z0466ST++c9/MmbMGN59913eeOONkKaHt9xyC6NHj+bggw9m/PjxqKrKxo0b2bx5M3fccYfQWC6//HL+8Y9/8Ne//pVLLrmEjz/+mMcff7yVzlwikUgkbUrfsUaoRkSZNta8ln0cmUxrw2OPPcbEiRP5y1/+wpFHHsm4ceP48MMPOfjggwEYNmwYDz74IP/85z/p378/RUVFXHXVVSEhnVGjRrFs2TLefPNNBg0axJAhQ7jvvvs45JBDhMdx8MEHs2jRIhYvXkz//v158MEHmT17dtzPVyKRSCTthOoxQjVHjzf+tcsvMfNaUKzfR4HM7qF5LfsBiq7rVlk5+wxVVVVkZWVRWVlJZmZmyHt1dXVs3bqVHj16tEnH4EsvvZQtW7bwwQcftPqxoqWtr4VEIpFIWgGz6gewzGs5+8nIkFEHxWn+DkZ6VFrAvffey8aNG/nmm2+4//77eeKJJ5g0aVJ7D0sikUgk+ytmXktmfujrmd32KSMlGmSOSgsoLi7m7rvvprq6msMOO4z58+dzySWXtPewJBKJRNLetGZH5GjyWvYDpKHSAl544YX2HoJEIpFIOholS2wqee6Kn8fDzGv5FSBDPxKJRCKRxItfoXJsayMNFYlEIpFI4oHsiNwqSENFIpFIJJJ40NKOyBJLpKEikUgkEkk8+JUqx7Y20lCRSCQSiSQe/EqVY1sbaahIJBKJRBIPfqXKsa2NNFQkEolEIokHZkdkINJYsemILHGlVQ2VhQsXcswxx5CZmUlmZiZDhw7ljTfeCLxfV1fH1KlT6dy5M+np6Zx11lls3/7rjt3pus6IESMYNWpUxHsPPPAA2dnZ/O9//2Py5MkcffTRJCQkMG7cuLYfqEQikUgi+RUqx7Y2rSr4duCBB3LnnXdyxBFHoOs6TzzxBGeccQaffvopRx11FFdddRWvvfYaL774IllZWVx55ZWceeaZrF69ujWHFTU+Tad4awXl1XXkZiRT0CMHj2rn2msZiqLw2GOPcfTRR/PQQw9x2WWXAbB161auvfZaFi5cSKdOnUhJSWHatGksWrSoVcYhkUgkkhj5lSnHtjZt3pQwJyeHe+65h/Hjx3PAAQfwzDPPMH78eAC2bNlCnz59WLt2LUOGDBHaX2s3JSzaXMqspSWUVtYFXsvPSmbmmL4U9st3+GTLeOKJJ7jyyiv57LPPOPTQQ/nd735HdnY2L7/8csh2kydPZvfu3SxevNhxf7IpoUQikUg6Eh2uKaHP5+O5555jz549DB06lI8//pjGxkZGjBgR2KZ3794cfPDBrF27tq2G5UjR5lKmPP1JiJECUFZZx5SnP6Foc2mrHXvSpEn87ne/46KLLuJf//oXmzdv5qGHHmq140kkEolE0hFp9V4/mzZtYujQodTV1ZGens4rr7xC37592bBhA4mJiWRnZ4ds37VrV8rKymz3V19fT319feDvqqqqVhm3T9OZtbTEVl9QAWYtLWFk37xWCwP9+9//5qijjmLlypUsWrSIAw44oFWOI5FIJBJJR6XVPSpHHnkkGzZsYP369UyZMoVJkyZRUlIS8/7mzJlDVlZW4L+DDjoojqNtpnhrRYQnJRgdKK2so3hrRascHyA3N5fLLruMPn36yIRZiUQikfwqaXVDJTExkZ49e3LccccxZ84c+vfvz7x588jLy6OhoYHdu3eHbL99+3by8vJs93fDDTdQWVkZ+O+nn35qlXGXV9sbKbFsFysJCQkkJMgm1xKJRCL5ddLmOiqaplFfX89xxx2H1+vlnXfeCbz35Zdf8uOPPzJ06FDbzyclJQXKnc3/WoPcDLGEU9HtJBKJRCKRRE+rLtVvuOEGfv/733PwwQdTXV3NM888w4oVK1i+fDlZWVlcfPHFXH311eTk5JCZmcmf//xnhg4dKlzx05oU9MghPyuZsso6yzwVBcjLMkqV24OSkhIaGhqoqKigurqaDRs2ADBgwIB2GY9EIpHs92g+WXLcDrSqoVJeXs7EiRMpLS0lKyuLY445huXLlzNy5EgA7rvvPlRV5ayzzqK+vp5Ro0bxwAMPtOaQhPGoCjPH9GXK05+gENq020ydnTmmb6sl0rpx2mmn8cMPPwT+HjhwIGAIxkkkEokkzpQsgaLrQrsjZ3YzlGiliFur0uY6KvFmf9VRiTdSR0UikUhipGQJvDARIvzr/oWqVJyNCVEdFZml6UJhv3xG9s1rM2VaiUQikXQgNJ/hSXESqyi63lCilWGgVkEaKgJ4VIWhh3du72FIJBKJpK35YU1ouCcCHap+NrbrcWKbDevXhOyeLJFIJBKJHTWCjXJFt5NEjTRUJBKJRCKxI71rfLeTRI00VCQSiUQiseOQE4zqHuzyEhXI7G5sJ2kVpKEikUgkEokdqscoQQYijRX/34V3ykTaVkQaKhKJRCKRONF3rFGCnBkmSZHZTZYmtwGy6kcikUgkEjf6jjVKkKUybZsjDRWJRCKRSERQPa1Tgiyl+R2RhopEIpFIJO2FlOZ3ReaodDB0XWfEiBGMGjUq4r0HHniA7Oxsnn76ac444wzy8/NJS0tjwIAB/Pe//22H0UokEokkZkxp/nBBuapS4/WSJe0zrg6GNFRE0Hyw9QPY9JLxr+ZrtUMpisJjjz3G+vXreeihhwKvb926lWuvvZb777+fH3/8kWOOOYZFixbx2WefceGFFzJx4kSWLVvWauOSSCQSSRxxlebHkOZvxflmX0GGftxoB7fcQQcdxLx587jyyis59dRTOfTQQ7n44os59dRTueCCCyK2nz59Om+++SYvv/wyo0ePbpUxSSQSiSSOxCLNL5DL4tP0/a43nTRUnLDrmGm65VqxLG3SpEm88sorXHTRRZx55pls3ryZzz//3Hb7yspK+vTp0ypjkUgkEkmciVaaX2DRXLS5lFlLSyitrAtskp+VzMwxfSnsF1ZavQ8hQz92dAC33L///W82b97MjBkz+Pe//80BBxxgud0LL7zAhx9+yIUXXthqY5FIJBJJHIlGml8gl6VocylTnv4kxEgBKKusY8rTn1C0uTROA297pKFiRzRuuVYiNzeXyy67jD59+jBu3DjLbd577z0uvPBCHn74YY466qhWG4tEIpFI4oioNP9Bg10XzXrR9dy+ZJPTsppZS0vwaVZbdHykoWJHB+mYmZCQQEKCdYTu/fffZ8yYMdx3331MnDixVcchkUgkkjgiKs3/03rXRbNS9TMH1Wx02AJKK+so3lrRggG3H9JQsaODd8xcsWIFp59+OnfddRd/+tOf2mUMEolEImkBItL8govhXHa7blNeXee6TUdEJtPaYbrlqkqxdrkpxvvt0DHzvffeY/To0UyfPp2zzjqLsrIyABITE8nJyWnz8UgkEokkRtyk+QUXw+Vku26Tm5HcgoG2H9KjYkcH7pj5xBNPUFtby5w5c8jPzw/8d+aZZ7b5WCQSiUTSQkxp/qPHG/8GzysHDQbFfqrWAR8qH2m9bLdRMKp/CnrsmwtZaag40QE6Zt56661s2LAh5LXHH38cXdcj/luxYkWrj0cikUgkbchP60HXbN9WAA8ax6tf2b4PMHNM331WT0WGftyQHTMlEolE0l60MEclbz/QUZGGigit1TFTIpFIJBInWpijcu/4/gw7okscB9T2SENFIpFIJPsPAjLz+xQuhR2aDmV0pljrbfnxHXvqW3mArY80VCQSiUSyf9AOvdlEaFH/HbOw44WJGBknzcaKqd82q/ECNJuU03210icYaahIJBKJZN+nHXuzORGX/jtmYUeYEVaudObWhgtYrhVEfETByE9xq/TxaTrF3/6C7/vV5Cq7Ofyww/EcOqxDeaF+FYaKru+bssHxRF4DiUSy3+Lam00xerP1Pt16Am6lcJHZfyd8VGb/nYXnHxudsRJW2LGhpgfL/7sxzM8iXulTtLmUFYsfZVrjI3RT/Kq1q6A+sRNJY+dCv3FiY2tl9mtDxev1AlBbW0tKSko7j6Z9qa2tBZqviUQikURFR879iKY3W3hhRCuFi3yazqylJU6mE7OWljCyb150YaCg8RcCC8/3RHhsRCp9ijaXsviZB3nAOzfivaSGXegvTULZNg1OvV1sbK3Ifm2oeDwesrOzKS8vByA1NRVF2TfryGNF13Vqa2spLy8nOzsbj6eDPFgkEsm+QwfN/QgQa2+2VgwXFW+tiOhkHExw/52hh3eO6RgAhf3yGdk3L6ocGJ+mc/uSTbzofRIAu031NfNRuh8HR42LeXzxYL82VADy8vIAAsbKr5Xs7OzAtZBIJBJhOmjuRwix9GZrabjIBdG+OjH13wnzbnkOOSEqY6d4awUH1WykW6J9k8KA7fLaX6DPmHb1nu33hoqiKOTn55Obm0tjY2N7D6dd8Hq90pMikUiip5Un87gRS2+2loSLBBCttom6KicO3q23S8qEmhgCULsj5msQL/Z7Q8XE4/HIyVoikUiioZUn87jhUMIb8A2cOjs0x6a6VGzfomGlMAp65JCflUxZZZ2d6SRUlRNCHLxbPk3nlQ0/00ugiWGAGK9BvPjVGCoSiUQiiZJYcz/aA5sSXjK7Qb+z4M0bQl9PFQyViIaVwvCoCjPH9GXK05/EXJUTQpy8W8VbK6jY00gxvdmhZ9BFqXY/dozXIF5IQ0UikUgk1sSS+9GeWPVmq90JL04mYoKv3emyM4twUZQU9stn4fnHxlSVE0FLvVv+vBbvF18wRK2kWOvNTY0XstA7HwDbOpPM7i26BvFAGioSiUQisSaW3I+W0tIy6OASXs0Hc/thPfZgbHwehXe2OPcmlqocS1ri3QrKazkeeC4Rtuk5zGqcyENNo7ksYVnERwwfjRKXa9BSpKEikUgkEmtEcj/iOZHFuwza1QvhJ7WzkTQacsw741bN5FEV26ocYXn9WL1bNnkteVSw0DuXKY0zuKJxOnd4H6VzcBgos3tcr0FLUPR9XLK0qqqKrKwsKisryczMbO/hSCQSyf6HpQER54nMLlHUNIhiKYMuugHWPeC+3ZkPQ0Z+q4vZhRslu/Y0cPtrgvL6pnfIzbs1Y1Pz2AOfsTbWzIaGw+vnAVCgbiGX3Zw/YhAFJ7d+SbLo/C09KhKJRLI/0JrKsVa5H/Hcf2uUQWs++Ox5sW0z8lutask0Tt4qKWPxhm1U7Glw3N5WXj8W75aLR0lVoBs7KVC3sE7ryw8ZxzJ5TF8KosmdaQOkoSKRSCT7Om2hHBsm3x5XWqMM+oc1AgmzQGqX6HJsojAIrRoSuuEor+9U2WTl3RIswTY1VW4+vU90Cb5thDRUJBKJZF9mX1COdaM1yqBFtz3mbHEvTRQGoV1DQhEc5fVFvVslSwwvlADlZKMAt7/2BaP65Uef6NvKSENFIpFI9lX2FeVYN1qjDFp02yNPE9suCoPQqSFhNNjK67t5t2zzfUIxc1SKtd4B42jdtztRVaVlFUpxRhoqEolEsq+yryjHuhGHMuiI6plDhuJx3CfiGiFRGoRuDQlFiVpeH6CpAZZdhYiRAjCr8QI01MDrU5/5hN17m9vN2Cb3tiHSUJFIJJJ9lX1JOdaJFpZBW+WC5GUmcdNh0zm96noMRZAWlFZHaRDG1GgwbHRRy+uD4UlZNkMoN6eCTP7WeBHLtYKQ14ONFHBI7m1DVPdNJBKJRNIh2deUY50wE0UzwybDzG6OeTZmLki4B6Osqp4rNxzE5Q3TKdU7RbXPCKI0CGPyhAShAxMGHRTdh8xwj0gCMXB74/kRRordWMBI7vVp7aNmIj0qEolEsq/SHsqxrUmUZdAiuSDLtQLeqj8+oBFy0rH9+MO4P+JJiGL6i9IgdGtIGIyKFhhbOdkUa73RULnv7a957sOfxMIujqEpa7Yj7q1xTO5tA6RHRSKRSPZVzJAJ0NzqjtC/O4AEelSYiaJHjzf+dWmwJ5ILoqGyTuvLEu0Ervkok2F3v0/RZsHuydBsEEZc4yBSOoGugeYLNCTE+RNMSN/A552u4bnEO5if+C+eS7yDVUnTGKUWA81hF9exiirwAjpKIIHWJDvFK/TZloa0YkUaKhKJRLIvE2PIZH8g1omzrErQADBxNAj97N0FT441lGBLlgQaEuZlhYaBctK8XDzsUJaP2s2cpntI3lsW8r4pbT9KLUbH8LgsefUFtM9ehK0fGN6TcAT1UszRH/DH+/jvpScwb8IAnr10CAvOO1bosy0NacWKDP1IJBLJvk5rK8d2UIInTrsQihOWomp22ImthRNUrlzYb6x1Q0I0mDseq1CNqhgVOTO9T6E26tzsfYpujRXwsn8DK92WPb+4jx8gOQvG/gtP37EMDXrZp+mOoaqYk3vjhOz1I5FIJB2d1pTH34fxaTrD73qX/tUrucX7JN2UisB7Zndgt4TRZy8dEl3eheYzPBsvTTa8KJZY9N0JZusH8MRo10PpumHKhNpRFr2PPnsBXr7Ufex/eAj6T2g+j6B7qqimB1P+u9E4buTRWqXqR/b6kUgkkv2BtpDH30fxqAoPHPs/+q+ZG/FecHdgJ2Ml6vCR6jH+szVSwFW/Jopy8Uhnj4WQX4agAZHZ3fjX4p4qzOzGy7+9nis+OTC0zFvqqEgkEonElv1BHr810XwM/PxOdCUycyQ4hPJW/fG2YaCY8i5aql8jWEWk2EakwgyhQPWXQ0gqszu+g4byzXv/pdf7UzHSaoOoKmXg2ums+uMTFCcP71DKtDKZViKRSDoirmqoGKtqq+TKjoIZJtn0kn0iaEvwV7vYTaOqAt0UoztwOAqG6mpMeRei5co1263P2aWKSFiuxDSEAsm+Srj54f9b4dOjruOku98lY8VN6Hr4VsaWAJ7lNzC0RzZnDOjO0B7ZeH5Y1XrfnyDSoyKRSCQdkX1dHr8tQlaCng2zO7CJOUnPHNM3Nm+Bq36Nn+U3wtp/RZ6z6oF+42HN/IiPRJU1Gmww9R3Lp0Pn0W3tLLrSLPq2nRxW97yGa97rwmB1I90SKyx2FDh68z21d1eHCTlKQ0UikbQcmewZf/Zlefy2ClkJejaa0nKhuvnvFuddOEr+h2F1ziVLYM391tsr8O3hkzm4tIjE2u1h0v9BG4UJ+RVtLmXKe11QmBdZ/bTZCJ6EG2y2fPk6rFsYeV7tFHKUhopEImkZMtmzddhX5fE1HyydTpt0dBZU5r1/2lQu+KHSNe8iorGhU36GaLly+DmDo4qsAhzxy1tw+l3w4mREeh8FK/TqfnE7K8rJdhhnEJ+9YDO+9unILQ0ViUQSOzLZM/6Y3qnqUkjt4u/dsg/J46+8F/YKhhdaGrISbGboSUhwLUG2amzo2jnY1K9Z/6AR5rEl6JzBXUW26mdI7WxtCGV2M4yUoN+VqEJvsdabbXoOeVRYVBMBKMZxa3eInUsbhRyloSKRSGLDNdmz7Vde+zxW3ilLOqg8vuaD1fPEto1XyMrOsxE2oTt5S8zGhuF3slDnYNUj7NXa+MUW+h/UyX1DMAzVY84WEvITLbHWUJnVOJGF3rloemjps45i3FXHnA3rHnDfWRuGHKWhIpFIYmNfT/bsaNh5p6ywWFV3CFbeC417xLaNZ8jKRZnXyVsysm+ebWNDv7ntrmAreC6vrt5A/e9+h3vPYqDoBkhINs7N5fcTTYn1cq2AKY0zmOl9km4Eeb7Meyqlk5ih0oYhR2moSCSS2NiXkz07GiLdb1O7QOEcQ9yrIyYraz5YLzDBAaTkRB+yckvYNpsZhuHkLbn86U8Yf2x3x7CJUOdgf66MXlVqk/xqcIv3abavfB09JQdl7y4cv+/ancLhU7Nbs1v4x2wzkEQTf2m8HAXoQhXnjxhEwcljjGuo+dD9eT+iibytjTRUJBJJbOyryZ4dEZHut7U7DCOlo3qnflgDe3eLbTv48ugMrRgTtoOTTMMxX3vpk5+FhuAYXlE9fHrU9fRfOw09PKSihwq3HaBXwF6RI4qHTz2qws2n9+GKZz613WaUWmx4UYLaDFSSTnnfCznCNFKAopJyVtSez2z97gj5fs0YEUobhxyl4JtEIokNF9EqY+XVveMle3ZE9gfvlOjYEtPhpGvE92uGxMINOTNhu2SJ7UdFk0xFcAqvFG0u5cz3ujClYQZlhArIhavLGhO/YniVUt16DIUl4TrQKS3J9r1RajELvXPJIzTJOYsajii5H+7pCSVLAt6n52oGMKVxBtvDzqVMz2FKw3SKtEGu44kn0lCRSCSxEVDDhEhjpYMme3ZUWts71doKsSA+thOmid8TrgnbOrxxne35RN3HxwI3Bdtgr81yrYDh9fO5rfF8l33qRmXUsZPFBrH1fdfvzO5cVTRmep80/r/dmmJvBfoLE1mx+NGQK61HXHfj71lLS/AJy+e2HGmoSCSS2DErLjLDKiIyu8nS5GhoTe9UyRKY28/o1rvoYuPfuf0cPREx4XoOGF6EaLwpIiGx6m1GEq8FMfXxCUJEwTbca6OhskPPFjuAKjgFr7zH9TuzO9cCdQvdFLty5GB0pjX+BxUtyAMT2ngxj1084J3LMdUrKd7qVIIeX1rVUJkzZw6DBg0iIyOD3Nxcxo0bx5dffhmyTV1dHVOnTqVz586kp6dz1llnsX17B3ZvSiSSUPqOhRmbYdIyOPNhGDUbRtxqVA905D40HYnW8k61IGwSNY7n4GfMvOjOQTSctGK2cS5hnqOCQ7LIz0p2Mp0cyctKjihN9mk6a7/dyasbfmbttzspq4r0ZAgLqx0y3N24M3H5zsyEWgXDizJELWGsuoYT1M1CQ1Ew+iINVktsPTDm3zO9T1FeJVjdFQcUXY+qs0BUFBYWMmHCBAYNGkRTUxM33ngjmzdvpqSkhLS0NACmTJnCa6+9xuOPP05WVhZXXnklqqqyevVqoWNUVVWRlZVFZWUlmZmZrXUqEonEDalQa49LxYqp8eH5cin9N88hqbas+bOZ3WMrRdZ8xirc1iPhr96YsSm+4TnL+yDGc9j6geEBEiElB7zJEfffp0ddz5nvdREp+g7h5tP7MHlYjxBPilWZc06al4o9jSGfVdFYlTTNWVgtsxu+aZ/xzQfP+7sZ41gxFPw5u++saHMpi595kFvCkmajYX7jOKZ5F7tu9/nIZzhq2OkxHcNEdP5uVUMlnF9++YXc3Fzef/99TjrpJCorKznggAN45plnGD9+PABbtmyhT58+rF27liFDhrjuUxoqEkkHwFYDxP+U3h/CQLH2M3Ix4MInPxWNwozvuGxgKv379I69FFl0kp+0LLSSKB59m+LV+8nV2HLDmPqX9b6TaRsOCtydZpluSD8cf4BBwfCkrLrulAgjxarM2Q4zfALhngnjj0+HzuOKTw6ktLLOsiLHic9HPkPvoadFhqNKlqC/MBEdPSRcYs7y4Ym9VsxvGse0hMWu22lnPoJ6zB+FxmuH6PzdpuXJlZWVAOTkGElJH3/8MY2NjYwYMSKwTe/evTn44INtDZX6+nrq6+sDf1dVVbXyqCUSiSO/BoXaWL1FLi0GPh06jylhq30NlTeqe/LGSlh4cE8KY71msVQSiZyniBFio2kSNQGJ/Ati3IGRDnrcF3ejMA8d1dIo2KbnMKtxIss1Q4otPCfFp+lc//ImEX9HYJvlWgFXNM4wvBthwmqfHnWd38tTF9j2rfrjmZHwkpCR8M7rL/D8ex8y+oQBIfonFF2Hgh4ZPFQMYyW8VDoYHahLyWNdZV+m4T4GNSPPdZt40WaGiqZpzJgxg2HDhtGvXz8AysrKSExMJDs7O2Tbrl27UlZWZrEXI+9l1qxZrT1ciUQiyv6uUBtrPyMXA05HIX/trMAEGvquoCKqE6JVOKldDO/Ll69bK5IGnye0fXiv71g4+UYjDyUGVIzciwJ1C1nUBLwcweRRwULvXK5Rr+HUsy5pzknxG2VvrttA77o6imn2vFjRKS2Rij0Ngb83ZpzEZ6MvpVv61oBh5ztoKFfc837ASDHRUFmriRkJ07yLoQlYCXs/zCNlzD1GTpjD79DJm6L7b7gt/a9nYveRbF/0EAfoOy3DVjoKyv4q+DZ16lQ2b97MqlWrWrSfG264gauvvjrwd1VVFQcddFBLhyeRSGJlf9AAsaMl3iIXA05BJw9jArXqdiukiOqESGfhlE7w6hSx7r9Lp4OVmqpoA8oYw0E+Tae4+4UMSP4PyXXbY06M7UoF13mfA6yTRDUd5qT8l6S+NxpjXXkvrF8Ie3fxe+D3iaGeF6vw0c2n9yEvK8Win9CBgWMVf7vTUtvF8PQ84XgOViGcpL1l6C9MRBkyJZbLErK/u1buYPK5Hrr88T6UFyf5v/nm7zvQD6iNZQfaxFC58sorWbZsGStXruTAA5u/sLy8PBoaGti9e3eIV2X79u3k5Vm7lZKSkkhKshe2kUgkbcz+rFDbEm+RoGGWy27H92PWAnHtLOzX8hBVSbXtiCwQ3osxdBacvzNKPYeF3rnoSmzlqp2VKsccEFWBpNrSEAMlHNPz8u+m0YxNWBMRPqquvIMjjz3PcRxW32dwPosddnkmKv5v9rMXHD8vQi67DS/edWNRLBo9Ku3UY6pVy5N1XefKK6/klVde4d1336VHjx4h7x933HF4vV7eeeedwGtffvklP/74I0OHDm3NoUkkknixPyvUtsRbJGiYuZWytkgLxE7nJiPfqJKJGw4KqjGWSJvJq6b3wWymV6aHjTujm/9crO8/TYdtemd26oLFFitmWxop0OyJuSxhWYTKa55SYVTvuJR8h3+fQoJsGAaKXfhGQTdaLKR2QajU2YZysimtrOPx1Vvx9R7TLDtw1n+Mf2dsapek+Fb1qEydOpVnnnmGV199lYyMjEDeSVZWFikpKWRlZXHxxRdz9dVXk5OTQ2ZmJn/+858ZOnSoUMWPRCLpALiu3Nl3FWpb4i1yCb3oKGwnhw+13pa7NKtP7BRRobmsOTLUEIRVZ2FdgydbYcIJN9gE8nQall1LUf0AcjPTAuO369FjJp0WqFvolbqHmeeegufQYbDlNcv7zxRPndV4AZWkx+UUzcsbbg4EVv0uieOm3klZZR06zYJsceGYs2HdQn+IJvQ6mOO1MnY0HSrI5COtFwC3v/YFj6zayswxfSns1/55Za3qUVm4cCGVlZWcfPLJ5OfnB/57/vnnA9vcd999jB49mrPOOouTTjqJvLw8Xn755dYclkQiiTf7skKtk7x8S7xFLiJuClA6dCYaqp3Em6MiatHmUobf9S7nPLyO6c9t4JyH1zH8rncp2lxqPZYeJ8LR441/9/xicz4tJNxgE8jTSaot5dkXnw8Zv1OPHg2VdVpfnqwZRLF+lHFuNvdfGZ2Z0jiD5VoBxVpvtuk5tK7yu3tvHo+qMHOMkZOk4B76i4ojT+PTofMo1TuFvFxGZx5qGo0OluevKtBFqWJl0gxGqcXGZyrrmPL0J9b3UxvTqh4VEYmW5ORkFixYwIIFC1pzKBKJpLWxWrnHqp/RVrjlTqge6Dce1sy334eTt8icQC2PcScD+45lYfdIEbG8rGT/ajbfYqf2mh7m5BKuphpB3POF/EJk4QZblHk65vgvGnao0OeC8z18vcdQ7B2C7/vV5Cq7qVA6cd5bnkCVjobKrMaJLPTORdPDwyzhnsAW4nLehf3yWXDusdz06mbK92YL7XKnnkEnqi3DQ5oOdal5JB00lCuea2B7/XxLnZhP9Z5GaTbWHhwzB8c07lpceRYn2lRHRSKR7OfESz+jLRApOwZYc7/9Pk74s7u3yMWAK+yXz8i+ee4hHD92YRGIoqzZtSIoGuzDe8W/JFAgsIcuym5UtIB36ZUNPwsd2cz3CBXNSwRyyc9K5pKT8lmysTQkz+VG77XM9D5Jyt5g9d9ucOykmEugI3AxBIs2l3L7ayVU7GmgGMPTk6dUWIY4NB0qSeeJppHMSHg5wsgyPSQ/FdxCxQ+V/nNVLSvJlmsFvFN/LOuTppJDtWVnZ003JPLfqj8eDbVllWdxQhoqEonk14dI2fEb1/nnYIeJfPMio6+Rm9fIxYDzqIrwROAUFgHBsmbHvKIoSe0Mo++LMNiKNpcy9U0PHyTlOEjJG9zifZpLEl4PlP5W7GkkJy2RXXsa7AqrA/k7Tt6lf6/cyoJzB9IpLSnICDwND9dHGo4AnzzuaLwFBwlsdUkSM8DXZNxjVjL3m/7H488+yyB2U64a3o6Ap4dQI0T3GyWdqOFq78tU6EaeTQ41zedJZ25vuoB5J57DFoEwzfHqV3RWqm3fVxXoFlY2H48u1C1Bdk+WSCS/PkTKjqu3uUu3u+QjtAaik4brdrZ5Rd1h/BOQki02oMI5EUaK6fXx+cMtEJkbEZ4ZYIYdzByJAQdlOZpPZp6Hk3cJjMTQgh45nDGgO0MP72x4mcJzdlRPwHjTwULb1WAX6Y65HgA0VMPT4+CenhEVQL7PX2XgopN4LvEO5if+i+cS72BV0jQAo6IJ50qsbGrIpoZ/NJ7FtIYrmdBwE8Pr5/GGr4APt1YIVYiJ5sQEb9fSLtQtRRoqEonk10c8xedc9hXebdfXwmxO0UlDaLvgztfBJaj9xsHgK8QGlBGZCxPs9QmUFYdNwlZhBzDCDioa726xT/j900k9KOyXH5V3SYQibRA3JPw1Ihl1l57OPxrP4vj6B7nTd66QUcHeCkP63zRWSpagvjiJXH1nyGamgQYwvH4+5zTcyC493VLu3rxG5ySsYJk2hHVa30AOziVPfMhLH/1IVorXdkgK0JR6gPO4/Zhl8/kulWdtgQz9SCSSXx/xTCZ12JdVt918l0RZN8LLW8MRKWsOwS4sddI1sP5BB6E3mwRaIr05ZlnxZE8Rt3ifth+KP+wwWN3CWoscC5MlG0u5trBP/LxLBCcoD+AFrJNRg8/HyPW4ghxqnJv9FV0PvQoNZV9017wQHZVOSo3lrsztw0MzAHubNBZ96uwB1IGxZ4yHtx6yDXFpuhFO+kjrxRC1hMJOOmvfqcJz6DAKDj+gXZJqpUdFIpH8+hApO87o1iIhu3DBMpOWln2Gl7eGjQhwLmt2I+AB+qyMLwvusAmDRCbQBnuOdlTXR3xCQ2WHni00hgNcwhOmKFmXdDGVcjfvUnCCslNn5WCMXA8XIwWM8ODSGbC3wvZOUpXmfkSxhGZEyU71gmJfNm86+5Y0DWVl0gyeS7yDyWV/Z/jqyRzy9GD+Nnt2u5QrS4+KRCLpMAgJmMVr36PuxPPiJGxF6n7vf5jHIGQnXJnT+wA8P62Nupy7sF8+C88/NuqyZjciPUDZTEj/q3WVTJCUupXnyPQUBOOmwhvNdre/9gV5mUlkp3qprG20zWfJSfNSVlXH2m93ht5PQb2HtlSlsL1SY5T6kWtnZZNoDAXfZy8iUqRvGkci/IKg0m4QlbWN/vL1QRRalM2X0ZklTUP5U8KyiM/mUcHsxru54pkGOPfymO+xWFB0EbGTDkxVVRVZWVlUVlaSmRn9FyeRSDoGrREmcdv3A8f+j4Gf3xmmcdI9tJ+JpdZKd8eeJ2u/3ck5D69zHNMotZj52c+RVBtuAIh3Io6nYWdXPaNgeBmePdVHwQFNEQaV+TlFwBOhorEqaZptFZCOQkNqHn0q7nHsUhw8Nt3i/9sRuJ/UDyO+0wo9nU7UGF4Vi/JfU1vEZIhawnOJd7iOMRomNNxEsdbb8RqZlOo53GphQLlhhgZXXXcKHjQ+X1vEQ6+toZxsPtJ6sTJphu2xzbDQH5MeZOX1I1u8iBCdv6WhImldYuyYKvl1Eesk2dJ9Ayw8rz+F6Vud79Eo7+NXN/zM9Oc22L5vNqFTlHDnu/8vJzXfVvhN+TSd4Xe9a5uYGjK5BU1O5ueOqV5p64l4Sy8I8axMSN/AnKZ7/Gca6aXy/fEJhi9Jt83BsRpbVqqX5AQPZVXOuSgK/mufOC9EYh7sm/5B8wQ9vH5ewIAyjK4/k88u2/CPWUGkCpzJLj2d4+ofREMNaVJoZwvYGVCiPHvpEIYe3jnkXhU1viY03MT0iy9qsbaK6PwtQz+S1iPGjqmSXxdOYZJT1WJjAlwZlNAZxT0kFIJZ9iUjwybgCKIUsnPKiQhuQhd5RJdOxK30m4pVm6V4awXHVK+07PwbrHJacNokumQkBXRMlC1H26r1evqOZaZuemncvSQ6sLu2kb+ddjh9u2VRXlXH7a99QcWehohtFTRu8T7p7zIU9p7T1x+WwGrmsbzeNISLE96wrNAxxy1ipAA82lQYMILMSqmZ3ifohn2DxHBxNtH8GmhOMA6+V7vaKNaGk8vuNtVWkYaKpHUQUf2UxooE+0kyeFUZQhT3UFzE0WLAqTLHvQldUL+YYOPI5jel+6+H0oLfVKzVM+VVe2w7/wZPpB+mX8wZA7o3v2mq9W79AH5YZZxSjxPh0OGAfQ6OE39/fQv5WclMGHRQiJESPHl3UXa3qAFgLrsZpRZzq/dJ8oP249OJzEFJyeHbbqPp+e2Trvut0ZNZ4BsX8tpyrYCqxlSeTbRXyw02oLKoEc6vgWYDxbxX+1ev5GbvU65jBSOHqC21VaShIok/IqqfLh1GJb8erCbJYK9DpKND/B6KZ/lqNJiVOVZeAeEkzGB9FofflIKOBtQt/Ssp4ddDMEyUm5EstBoPn5x61m5ynPjNibRn7Sbg4NA3t7wW6lX54J4Q75DZWuDx1Vu5/bUvbI8RTFllHfe9/XXg71GmRy5O3YkPUcq4KuGliNc9ihE6+kTryWq9H2u1vvyYOJCrUnbSE3dD5aGm0ZaejwOoEhrXCOVjLkp4I+L18N49EFm+7lEVHjj2f/RfM9f1OGYI7Kf0/m2qrSLLkyXxR0T1sx0UPSUdE6uVmel1sI/GiN1DcRVHixLTK5CXFbrvprRcsR0E67O4/KZUIGVvGcUrlja/WLIE5vaDJ0bDoouNf+f2i1BLBSioW8Wa5OkRiqmmSqyCtfBXn4xaoVOJ2M70DoWfk+kt84/RoypMHtaDvEyx7yfYjDM9cnmC4QwnNN3wTpyb8C5gnzdyrPoNX2iHsFbrx7aqRq79KJ0yOtuq2Oq6kcQb7k0xEa0A+kPCKstxhYvoWZavaz4Gfn4nimJ/XtCcE3Nb4wXcPPboNtVTkYaKJP6Iqn7GUx20NdB8hmt600vGv5qvvUe0X2K6noMfezF5HQT3HYzdBAzE5fsv7JfPqutO4dlLhzBvwgCevXQI9183lb0pebaTl6bD3pS8UH0Wwd/KsjUbDOVbQUMAcFVMHaUWo2OtzfLRDnsV1GDUjLzmP1w8rjpQv+xaXv30R9Z+Xc6H773KyY3vM0QtQUUTO56jR84+70XXI6X9ze/p2abfku9gPCuK8d/t3sdQ0fyJtCp3KxeG7Cd4vzpwQ+MltnkkxZrRsNBO0l/TYYeeSWfFuqsyhGq05GUlR3bW9hvBbmZHBZnc6L2WcW1cmgwy9CNpDURVP+Peaj6O/JoSgdujMivomJ70rswcfSRT/rsxECYRXUm63UNOIRhHcbQ4fv/hDQd9ms6sxonM5m7bTrizGifyd9RA3oMvLVdIh+Or2jSKv/2FoaKhV0Avug4d3TnHRB3CyL55Ie+LNB3UUVDC1WtdvEMKOkm1pXzz0iwGJbxLN6WCIQCJzjkXwbjlAVlNyjoKKDq79PSIpn+zGi8giSbHY5p0UaoCSbc68PLeYzllwN0M2nIXXWk2BsuVzvw8+BY+23AQik2Fk47KfO8lzGm6x2hYGPSeea8s9p3AJQlFruO67ZQuHH6KRdK4oBFcMfxW/v67i9pFmVYaKpL449pC3l56u0Pwa0oEbsmE7GTgOL1ncczCzG68/NvrueKTAymtrCObKny6gkexW/uK30PBiZnbK2sDeRh7k7twyIDfkZWSiE/Tmx/AIt9/79NjNu6Kt1bwXM0AdqkzjPyJoNCEOSkurx/AGUEJvsW+3hyi2xsEZu5AsdYb3/erowq9Kg6raTPHpFf9Zoq3FgTGE950cKF3bqTRhd8gCBfFE5wYr054KeLpYZVzYUUsqq1KZjc+Peo6xr+XwyCLXJ0haonwvsKP7+s9mi7jL+bz9cvZu+tnUjp1p/fgUeQlJDDzoNAKp/BcoZPPmITiOZqaxX8ho6E8sE/zXqkknUtwN1R6Hd7T2r0kuGDs1bOXc2yoFZGGiiT+OLaQd1b0bHf21UTgWLwiLTHInAwccH7P5pgD105n1R+f4JvyGnq9f3/kNuFEcQ8V9stnpFJM02vXNgusabDt4/nMWjeRqzNOMoTA+ua6f/9Lp7fI22Im7pr9b+wSWIMTfMv3NPK4nUEQ8MJcgIZKrrJb6JpEE3oNL0e1ajoYYXTpnak++XaODL8mUXhSnbw8ZkmuFcIeuVGzjfH4fzMDVQ8Lupdy4ytJrNvTGLJpsdabHXoGXZRq192GH/+rsmqKM5IpGHpahEci2JC20qPhrUeh8C5Sr/2CS/5+P6n1OwL3CsBgtYRdejpZ1Ih7tYLZBxaW0lCRtA5mC3kbrYQO65GIJhE4Cl2NViUWr0hLDDJHA+cC6+OZ76XkOB7TU3Q9RyrYbONH8cD4R6O7h0qW4HlxUoSmhblCv6Iapjxdx/OnNlLg9v3vrYC9YS9H4W0LTtzVUEMay9ltl5uRHDAI5ngfCQlNqIqRkAnQOS2Rww87HFY5DsEgCoMhvBzVrulguNF1X6djOTJoO5+mU9x0JAOSu5JcVx4huhaMna6JXVO+YMzcDnt1V//kO/hyfKiGuu9nZeRmJDOybx6/6ZVLwey3qa5rDvdoqNzUeCELvfNtx6frUOr3bAWzYMW3LFjxbUAZd2TvA9gS5F0ZOXgUI5Ua1BfnYbdw8Jz9JOPPmhAQL7SqaArXczGMWJ1vDjyTI6wv5z6xsJSGiqT1MLUS9iVl2n0tEThWr0isBpmrgeOwP3DoxOvfptq5+6uxmQ9So9A88Y/ZSuTLXKHf4l+hL1uzgeg1PiEab1ss3Y/Nz1AN2dRETEjZ1LDQO5dPjz8Mz6Hn+1fI1tcyIDm/5xfoewZ6Zjf0qm2WvgkzpPRj2jFous6rG34mNyOZLulJluXM4YZDsHET3MZglHqOoZETocwrjlN4R3MISQVPvkUl5SFaLSoap6R8Qxd2cVRDBsWElmgXaUN4qOk7LrPohaP7k2NNz5YVpZV1vPLMgwxIfIqjgvJVtr+VQ6dEDY/LwqFwxiYWnDuQpc8/xIKEubbnb2Ke9xEl96PPXYRit3ixWVjWp+axsd/1+JKGURAcHm1jpKEiaV2iVPRsd/alROCWeEViNchcDZw2IhpD0aWqwVyhD1K38FVtGiTGOii/cffeHDjsN7ZGeSwJvh5VYeboIznmpUuM7SxCIjpw3Bd3wajz4dQ56C9NAgvFVPNP7aWLUf+oGpPXCxdYTOjGtkuahlKp65z3yPrA6xPSP2VN8qPkBU22wYmu4cZWeBuD5VoB9zWdxV+8i+wupitdlN1ckFbM2b8dxJs1Pbh/xfch77+lHc99TeO5KKGITkEeKNOrW6QNCvQoGqJuYYTyMX9IWEVn3R/aSYRdehqPNhWywPeHgPHxRPpFDB44goGf3QG1OwK73a50ZmbDBY65MwERQ1MW2c8BegVqpJBuEM0Lh04pR3JzgnVFk+I3vJWgvwM4LF58mk5x0jDKf7ucnrWbaNi9jYc31FJUcRjaShVWrotb361YkIaKRBKMS7zWbJqWcNBQoSqMVqUlYapYDbKO4kmKxlAUHHMuu1mmDWFvcldS6spxF2+34YN74IN70DO78dXAm9jS6eSIhoGxdD8uTN8KbpUs/u/bl5pj3J9OsvBo6C9OQvvjkzyjjuN832LL7f6UsIxPG3uy3O9rGqUWM7txbtBB/WM3w2j+RFfT2LJrY5Cl7LEfnAs+XeEW79PgA96Gnsld+Uo9J2AkWIVFdulplPW5kD5n32YkAd/1bnOLBpvr2knZw1+8i7gwYTk3NF7ChynDeP+vvyUxQcU34gK2rF9O7c7/UU4nPk84iuUrv7cds1PJtLCjomY7vrIdriJ7Vig2ixerhp3QLeLzZZV1/s7Lx8ryZImkXXGI15rx3mm7/4/P7nm/3VYXAVoSpoo1ga5VPUkKZOQblz2eiX2CYy4nGw2VHwfP5Mj3pyLWj9cevWobR6y4gn/6J+7wFampvCrc/TiK7/vb7dX0Ehxn07JrGeFrCF/kA8aKXA9KXgVcJfNvTXyKcWddGjhPqzYGKhrjPKsFRxiJGlYNllxXHqgGAoyGj2GfyWIP2VsWwJbBFCcNs+1RZEUnf2htyl74+IfjqNzb4J/cAQ70b/W94z7cWycIsPNbchVBwUBLQhcvdg07bT5p9MZaWsLIvnlS8E0isaStBNjMeG1mqBFSRudAWaS5uijaXNo6YxChJWEq0yADLKYn4x+rBDrTwIkps0DxJ9Mq9sf8/V2xjcsJ/5idRLO26Z35UOtNflYyPX9zruX3X5+SR31itu1+wjEfrqYqqNU9Y2qsnDGgO0MP7+z88I/i+y7Xs4U2VYCkvWWOQmbBgmFuisGqAnnsNLw/fqzaEwxWS4SqZ5zGHfq3MdXO9D7Jnd5HjDvMzmtRdD3llVWOgnARx/NvM9P7FG9//jNTnv5EuAeRSSwl0xF88gSHH9qjxbvRqstY/fUOrl+0KSpTXKe5N1ZbIj0qkn2DthZg6zsWX6/T+PNdC0jYUx5ROtqeq4sALS0rjKUyy7VCQLf4/ya6UWXRpRdNr1/fXCZsdcx4Voz5x6y8MNEo1Yzwkhmy4Bpqc25IUCL4xi+28NCntRTtOoyR6kcs9M5FV8RWeeEVKpb3jEtpuU/TDa9L1SEUpuaRWLvdvlompRPoGp6Dh7BtlVPVS/RENdEGeX/C2xOMUou50/twfAYVhHGtnSdQxe9ROObnl6L2bpjf5Y8b3kEX9lc1I1wy7UTVz3gUQ7k4qbYs5u/2yqXbeL16vfuGNrRl52SQhopkX6CdBNiKf6jk9eqeQE/L94NXF/HsvCtMPMoKXbrY2n7GyZCAyPdMVsxmB52Z2XAeu8kkl900peUyduRZFPY9sHm7eFeM+ceshI2rknQebRrFpvRhLBx7dGgoT/VQtKcnU1ZWhSSBBjRDopjozEk+5J7pkQ0r74X1C2HvruaNgwzw8PyBUeoEHkycG2FwBdi7C54cy5DMbjyuDGeSHtnXJ1aimmiDvD+79tQH7k7bjtgCWCX7xsohauy5VoPr1/NWDIaKW8m08PnV7iBlzD3oL0xEQ48qLKKjUKrnUFR9WBSfiqQtOyeDDP1IOjoi5bBF17dKGKi9Ou9GhU2Yisxuwgac74tl1C+6DFYaSaA8Oda2eV3IcWdshknL4Kz/GP/O2GS8br538o2WHz1A38kD3vlkUcMS7QTeqO7JlP9ujAyjmRVjR483/m1pWXvQuPSUTgB0Umr4i3cRq5KnU6h+GLK5XRLocq2A4fXzmdBwE4+q44UOHT7Je75cCvccDitmhxopYBhSL1zAp8ufiAgxLNcKmNIwg1K9k/MBq0qZpC/h4abT8en2s5/ZbK9Uz3HsPbRNN7RBzMnWbtsAtUY1UNHmUqY+82lAcVU03KLp4NNDp6cKMl0OKo6aE3v4ZFzCauGeQ8FoqNyrXmT8/7Dr53o9g0nvCn3Hopz9JEpKtvDHdL+56FQ+7YaCQ2+sVkR6VCQtpzV7xbSjAFt7dt6NihZ4Hz5d/gQD1k7DG5ZJqVeVorh5q9xKzz953PpjFuqibRZG2/IarJgT4Y1Q/MYBZz8VOF+rJFATU6ituLY3Z2d9QFr9dsvMlWBpe5NRajGDiuc6DlMHDl17IwoPRqyZi/ziaoXp3/Av7zyUcEMHI8ShA2MS1vHnxitZ4L3feD1YDMz/76zGiQC2MvjQHBoz/v/5LPTOj9ByCWH5jTQccTo3vrI5cKVFk0nNSXtq45UBr1s52Xyk9WJl0oyWeyRScmDQpdR/MB/vnujDJ8G9fNy44uTD6ZyWSE56EnmZyRT0OI2Nbx1Mt7WzQvr+lNGZ2xrP4xbv0+4idWYot+9YlOQsY2EhQENqHtN2/59rnyQ77Ern2wLpUZG0jChaycdEOwqwtajzblsTg/ehaNP/6LrmVnRL/QxjoovZW+ViYAYnaIIxMW+vrGXL2tdbL1na0TvnZ+n0wHFFPGUaKn+pPgddt18lB69gPWjclviU634VjEqTqZ7Flu/7UNlZ22RppJiY17iCLC5vnEEpofdpmd6cHG6GtMrCtmlMzWfjCfPZmHGSsU80uikVgU7BtlT9zNQ7/0XFnmZxENEcl0rSuaJxWoiRUqz1pomEgFFl5YEQnjoHXw4JiSScfndAdyRa3M7FfDb85dQjufjEw/jDwOZk6YGjJtHlpq9YNvDfTGu4kgkNNzG8fh5F2hDb89P9pvWXA/+GL3jaPnS4e3J7SieYuISikW/GbKQA1p2X2wjpUZHETlvkjrSjAFvMnXf3AXyazpIliyh01OVogbcqCu0SCNK9eCtoPNEkS4t49UTE6vZW8MULt7B70NV0SU8SOgfbXjdmg8GgyWGQuiVkJe3GRQlFLPCNs3TVi078uexmiXaCY18h8zzCtznnjP/jjIEHs2qkzjfvP8PB62eRUif23abU7YCgXA7RHJfHmk7lFu/TId6XYDG5fzeNtlSGdUMHlJQcOOkaADxHncGn/5tP1zW3uibhhiNyLiHPhrD703PICfgOGc6Stekhn7G7l0r1HONeWp5N/rp3m8vcRfLUTp8Likqfne8wRN0R8b1bKQx3zUrl5tP70CktSax0vpWRhookNtqqeV+8GmbFGJ6KRZhrX6B4awUJe8rFVFhj8VZFoV1im2ApavCKVoQJnkfeF49x22eZ9EypZURKNu/t7Rm6irXArcEgQFqihxuGZEOx0DAAI4fGLswgOvGb2zn1FTIJ32Z6ZhoAni1L6fX+VKLRlQkfn1tHbE2HGlKYkfByxHvNYnLTGJuwxlbzxQ7TQ7FhwK0MDPrdDxw1iaJuv+OOJYtI2FPOL2TyT++DdFUqLL9xMxk1vJdPMBEKrjb3Z++BN4HFd+h2L0UIrzklt/c7C968Aaq20Qt4LjHU6LMSxqtPzSPh9LvxHBUp+tZeSENFEhttlTsSj8qWFpY2Ry3M1REJM9TKqw4Rr+KIxVt1yAlGLoBNbx8zd8PMOwCr/AIBgzcar57geXRS9vBs4mxD9RTYlpTDbY0TKXJxm7sZAkkJKv1SxL0pJnaek5/S+6MnG0a8VQWQVX6MKCES+JqPvUv/SpJghYldXs4D/mZ+dqgKZLLXMvfFzGu6w/s4XZSqqM+ngkxuaryIjZ8cyKqRoT1rCo8+kJFHTQv8vqt2HUje+1P97zZfV5Fk1Jw0b0C5FnC8P3u9P5UJ6X/l+ZoBEd+e071kKY1gladWuxNenBxxbNPo+3fTaP5k4ZlKqt0OL04CpXWqKWNBGiqS2GhJ7ki03o2WdGKOU3jKFObaJ7Ew1ApT83iDs13LJRvT8kmKpb37ltdsjRTd34tkVuMFHK9+5ZJgaRi8vu9XU6wfFWoookXn1TvkBEjJhr27ozqVPKWChYlzubxhRoti/IPqVqO+P9fSG+CEnUF589ijUdS7jDLV8CRYi/wYUcLDmsXvLqVgb5njZ5yOG021Dzh3Te5C9EYKwO2N51OkFaD686COytwb8uwJ/X2fB10zIn4zIsmoFXsa+XBrBaqqUF61h8K3/kqipUSgUWA+0/skL3IMWkRfb2cspRGCk9s1n5EraLFXVTGSpC9NeD3wd+Te4+QRjxPSUJHERqy5I9F6N0yjxtcAZyw0nmJ7fhEzcNoqPNVKBIS+WuLFsTHUEmu3szBxPg81Gqsqq4lOUSDh9LuivzaB626DArv0dN7Sjme0uk5ol7OeeZcna5qVTPOzkpk3uJqCaLx6qgcGX2GUBEeBijGtzM9+nqKRF7OjponbX/siyn00T9ai36CTR+SqEb38oYWxfHXi/XRZeQOdab4+VvkxogSHNX2aHlVHaavjDlZLWi4d30K2kxNdHpSFh6Jo9yEsf36T67GmPvMJu/c2MkQt4YxEJwNPJ2VvGf8d6eOq4tSQ0HJ2ipfdextdj2Wb8O2WzA6gOJVYt141ZSxIQ0USG7HkjkTr3XAyakR+PO1Y2txSrBqFRd291MFQM6p6FMYmrGVq43Ru9j4VkQi6fehMBh51hv2+7bxiLtddAXKUGp78XROdUk+At/7leipf1aaF/F1WWcfTb39IgUCOjVZdxvpvdxoGX/cLGZLyIIqNt8d+zDpJtaWckf0DvqOH8vHKpZaKxXZE2+fFySOSl5nElaf0xKcZCa4HfXg7qUFy9Dv0DG5rPC8qI+Xm0/vQJSMpwiAu3loh3FH6tsbzedxXGDLe1lCh3aln0IlqIe+Maex1opoF3nkR7+tV2+CFiWh/fAJP+L0eVn6f+61Y2M40MESTnV9fu4Gbx/4pJHFVC+tWbYetNEK8qiA7SBNSaahIYiPa3JFovRuxhGzCJ89qwT48HeTHaGLXKCzq7qWuBoNON2UnSlpnhlfPDyTvNaXlMnbsWRQefaD1B928YoLXc3ieD44qhPX2Bq+GUUYb7lXQEU8mffzVIt7c+33AoJiQfglzuAcsXfIufPk6nlf+xAON2wKTd3Byoh3R9nkxdDVCPRPmWG8dexRvlZSxYvGjzG68O/RNIIdqHvDOZ0qjKmSsdEr1MnlYjwhvnU/TWf3NDiFF1TI6WxopsarQWmEcJ4fnmk7mqoSXI7yA4bktze0RzuMWr1ESHlmGD5quU/7iVWzUjrO/52mWKyirrBMK04jen1/VpvHUM5+y8PxjOWNAd8C49k7HCskhsiJeVZCt2oRUHKmjIokdO1XUjHw4+QYjXGPqYUTj3YhFjdZKz6XoerHz6CA/RrBXQ4XmqzFraQk+EfEHQYPhX2O68d9LT+D/xp9D/99fzMjTxpOVmmJ9DNOADP8uTQOyZEl0YUGH5og6Cuj2eRZuKqnmyxf5XuK5xDtYlTSNUWoxz9cM4KHG08XGGM66ByLO3UxOHKVal/MoiE9a85vGMaHhJu7r+yIb0k8KPY5fxwJg6tMfMa3xEcC6izEYgnrdMhJITXQO3VldvqLNpQy/613+9d43aKi2+h7BxkB4yWs0eSlumMdJpoGrvS+jKJH7Db9HzCaiu8l0baSYz04ef/ZZ5r39Fa9u+Jm13+6MuP89aMwbXM0YdQ1D1BJXdVq3+zNY8RdCf9emNALYtuZ0lkYINA9tAf6+Ua3W/DUKpEdF0jLCY7k7vzUUSYPzADK7Qd9xYvur2R59yMbO+1Lr5qoVLG1uQ5zUUCHK/kKCBoOakUflngbuXv6lc6hJ1Cs2bUN0YUGbZOm9KV25qnKCrVfAnECtFFV187BBr4mUuDqiqMaDOwxVac5heWfUpdz+euh17JTmZeLYCdQvf8RWCdX0SsxtGm9UfHxaRl5mEleNOIJDu6QFQjIAw+96l0EuoSSzgd5Dv2lkzDLns9xd2xhyPxVtLmXq0x8xSN3CINUoj31LO95S38M8l1u8T6MHeXBEQ1126rbhr+8mnU7UkE1NyHamEXBf01ks9J3BM6fqJNX9YjSRrD4MDZWx6hrXcYDh9brv7a8Df4fc/34vYkHVtkC4MdiTZpVT4nR/muN+tulkRqvrjBBiZe+Q76FF0giqB06dAy9NEjjzcI+4H3/fqFZt/iqINFQkLceM5ZYsgRVzsAzXrHtAbF/pXaOrKBJRGwViLm1uY+LaX0gwj6iopgdT/isQahI1IH9aD4VGNQoRzfNsrrtF8uLGpiNZ/p/Q/jvh2AlkQfxLXK2MlMCx/Dksp2VuhdP7ctOrmwOqrBV7Grn99a/oOuAGBq6fbjtp3dZ4Xoh2xodVvZn79tcsPP/YwOS19tudlFbWMUjdLTTkt9ZvAAa6bldWuRcwPHorFj/KB0mPWAqu3d54AQ/4cz0UCyPQVLqNJtRlF7L5Z+NZ/KDnB7RNdKy9R5oO53lXcNSE2yjwh27uL2xORO+5B6E8qHCvl3n/v/zbHQxcO53w31C+sosHE+fx1W8WsOOgUZY5JXb3524Mobe/eBcFXtum5/C/L2fC4ZMDr7VIGiFNsEoxtTPU7rB/v5Wbv4ogDRVJfBAJ1yiqf6nrssr+QWwFRHpXMbVRiPwxipQ2twNx7S8kkEfkGzWHWUu+dPKRNOs1RGFAFinDWJHwV6Y1hk54e1O6kjLmHuvrHpa8WOASpzcJFsg6QdnMNO/i+Ja4Kh4ouBTWP+i66cYvtjDV3205RPGzOpuz3+/NXUfN5oRv7o1IXF7SNNRSjfW2xonMWpoc0MswDdRDFLH8q5qKUsaqe0OSfq2USG9/7QtSEj30+OXd5ryXIExDZDfpjgaD2b9JNNR1X9OZTEhYEXI9ypXO3NpwQUC3ZohaQr6L9yiPnRSmbwUMQyWk3FjLo3JFLhkN5Y7erI+0XgxRS0KuiwJ0WzvLn3oeiuL/hRz56d/peeL/2d6r4QJuhyhlXJXwUsQ48qggv3gGHJoT8vsQkkawSm4X/b0WzoG0XHhpcmSDTKAjVEhKQ0USH0QMhsCK1MW7EU1F0eeviI2vcI6ROxNt48TWbLhogVvCnmsSXTguGjTFScMorbQvEQ4JNQmGkop/SWDKm5+gM4AXmB/qJajrzQLteAoF9mPG6S9/+hPXbU2BrFxBT4MIgdDQWY8aq1MBQ+WhT2vRwVLxc5uew73fXsT7R7zALyUrAtfEriIljwoe8M5lSjUUbx3A0MM7k5uRjIrGOQnvOjYF1HXQULjF+3TI8Zc0ncDYhDWRBtHeiUx9uo5PMm4F7A2RHCU09BK+TTeM/k0f6s4JuKCgZ3Zj6Ji7+LCmjp61m+iTUYuakceGmh4s/+/GwFNC2DtjMzH7ULndN5G7udfWm7WkaSgrk2ZEXJdnm37r0vLA8CJ6flrr2G5DQ2VLcn8+rK3ng6RpgPU11sHaIHB6Dtkkt/sGTkLkSeVLz8OjKDZGSuh5tleFpDRUJPFB1HofcgWULHYWboumokg0cTMjP/ofWAsVbWPRQWmV/kIO3ZXfXvq50C7Kq+u48+dsJjpMPrrfgLxqXSo6Rrw+XGEzQlHThZF988hO9bK71l1TAuAXMoW226ln0EmpdqwmUDK7N9+Xms/ReNZRqE7MpajqMNtqlzwquFe/lyklTWxJOoHNGtTWN7DKYeIyvRQfVl0MdKagRw6FGd/RrdFpUjEMGFUPHWceFZY9ckyDaG7TWWQ1ltsm7ojecred0oVDTz6drR9Ukf/+VL/BF3knK4V3MvSIXP9rBwfeLQQWnu8J5Ga0VEG5eGsFL9UeS7Vq3Y9pSdNQS4XWPCq4KmFRxOuW1Gyn8OgTHXNKAB5/5mnH3B3L/lpOzyGwrY5U359DhZ5ONjWOnqQffL0ZWrdS+DzbA2moSKLCdvIVNRiOPA1OvcPdSyGqRhuvXkDhtFDRtiU6KK3SXygsrALGd/nKhp+FPv7dL3t48IMf2araJwcqis6WAX/j5zftjQrTQ7Pu250B9c7g1XT4vVC8tULYSDG8GE8IbasGXPk2iYQn32g0rzPH4mA8awC6zl9rzgGwrXYJNjxO3Hs8PlSuO3IH3X5wT4rtWbsJOBiPqnDZwFShfkFWOTpO8vQXJix336kAjSm5vLG5lNyDCw19kuXXh/yGa1O68lPBLfTsPcZ2xR+Sm1F1NPVvPUJi7XbLVgFuv3EzXGbVQ8ephYN5XYTwP//cckryh2eL9XoyDQLH59AFRpsKx8CtgZNy8Wl7GiGr/Zq/iiANFYkwjpNv3ygMBotJ0xIHT0CAePQCCqeFirbx0EFpi/5CxVsrqNjjbgTkpHp5cu33gEun4IYLOKLxeOAb131OfeYTBtevjgiPhHusRJOLo9XsyPaHMPSUTqHib8FeFD8B47zhOHr/ZgG9Pr0DJWjiLdOb1ViHuKiwNodHStBR6fzjR0Lj7ZNRG/j//fv0jqqxYTBOuTudsA/rBBM+6ZnoKGwnhzFLNTQ2AJCflc7M0W+R88tHLFuzga9q0yiu6422XA3tAmxBc25GZ0i6J+bfeHA+V7iHT+T7gvBpP4zM7iFGklNOifB3l95VLO/PQbhQQSdHqeEfjeM5J+Fd287ekzOSW2/BFyekoSIRQmjyjbfBAGJGTUt6AVnRAkVbNx2UaEIfrd1fSNQIGHxYDm9sbnb5OnV3PUKwY8ng+tWWhoVeVYoS5LESSRqORbNDwZhwy/fCjyc9RsEBmqUhHGmcZ9M9cx7/OLGW19f6J94gZVrRfIpHvP8gTakXbkas/vKloUl0yAmBSUWv2ha9YJ0Lu/R0spUay/1qulGtkk1NZDk4CrquMzNM86asso7L/7sR8AKDQvbnZLhHeG57j8ET42/cKe9L9Puyuh4B42XUbMfnWsi5pB3JkMxuKCIGgWihgAs/6HkMr58f8XvVUck3891UJf4LvjgiDRWJKz5N5/YlmxgclhFvNtIKTL7Xxf4waTEi3pdw7BLUWtBwMa46KK2MaIXR4QdkAKHnatfddehhXVj0yc+OlTpOhoUp7a/4PVYiaqDRytMHxqEYeQgz3v6WyeeeT2EPo7dNsV9u//sdtcx9+6uI426ramTCW6ETr1lJ01P5n9Cx05T6kL/tVuyB1z+4x/jP9DgV3oXywgXiJyvIY02FXOV9yTZUcGPjReioER617eQws/EC3tKOZ6i6maFKCSiwVuvLeq2vpWCfneEebhyqaBRmfMdlA1PpH22/L5zzvoTzXywIXJ5U+9+xlRd6Qvr5zOEeFDeDIE75IOVko1vkikFYvlu8F3xxRBoqEle+ef8ZXqy/iW6JkboKy7WC0Mk3FoMhXoiGlMA5QS3WhovEWQellRExAvKzkhl6eGf+9Z57OKdzWiJDDu9sOykEjutiWAQnFHp6nBjYnx3RytNbfX7W0hI0DW5/rcTR0ITIc7Kq8HGqyLHCvFbBH7E0XoJzpMY/AYsudNR3EcVMrPyXbxxf6gcyK/Ep8oKqXYKF3WY1TrRcoY9UP+KjpMtDKoOmsZgKPZ0bGi+xFO4LN9zDPbeBa9tYYYRMiomu35cfu7yvn9L7s9eTR8re7Qi7t8LY+MUW+luMxc4L/XzNAHar07kv6zlSgrtShxsELc4HMbwzk0eeww/LvhTLd2vP57cD0lCROFOyhF7vT0UP+7mFCzyBMfkabs7dlFcfRm5GXwoOiW9eRVxwS5Qd/3jM8dq46qC0MqIVRkMO60x+VrLrBH77Gf3wqIrtpGCqd0Zbbmru79Yln1NWVR+xmaimiB3lZFNaWccVz7iXQYdjlxsTjZES+IzL3wZBOVIzNoHyGLw4KXIrU7ooilCY2argTa2ADFTu0f8ZsQ+r3z00Xwerw3Wihge9c7k87DPBmM+O4LCp3bUNDw+KYpv3tcUu/0WM+4truLDXDoYc1jnwrHMLAS/XChjhG8bKicl49pRbGwQieSMpnYLKiq29M4V9D2TkUd3F892iWfC1EYqu67GZkR2EqqoqsrKyqKysJDNTrDRRIojmg7n9bGPh5ipseP08NFSuGtGL5z78sWUdfy2IpczXFv852cd+/UbIqNnw4mT/axYPAJuHpE/TGX7XuyFeinCBrZ/S+7Py+pGtY8DFoPsiUqFktzo0ueykHtxwWmgoKPx7MzvCDlFLeC7xDtdT+W/vBZw34fyQ/d3/ztfMfadZ5lxFY1XSn8lnl6OmiNV74fdvtBjHnuagFRIjvUfDlshy2XA+H/kMvYeeBl8soem1a0mqbV6dNyZmowFJDbuFDvmPxvHc7zsTaD6vfKVC6Hcv+h2UksPw+vmW1/rZS4cAcM7D60LG4KTDQmY3w1iLx2rfysMqwA49k4L6B9D8+R7mb2bttzsD5+LEs5cOcQ4BBxZVYPscAgvvcGRSeEdEdP6WHhWJPf5kLrtnsFnBMFgtIS0pkW/fXcMhZLOd5uRC10oXl4m1JWW+Tudkjz/skNo5pnhtuJfiVIuwwF5PnrGKi/dDJErdF9OQqG/SuHd8f1BgR029pTFo5yXJSfNyxxn9OO2YbiH7tDIqfZpO90wvSo3GLj2dLBd9h5s3ZNGpbymnHWN8z2+VlPH8Rz+FbGuEkdw1Rexk2u0aHooQa26MKwf0ETJUHnptDSvf8QIpVNXeG9r9esxZFB6VD1s/QPcrjtobHTks8I0LvOZ2XsHCbuu0vsLfQTcqAp8JvE6zgOGyz5rvW/drG2cBsvCQR/kWIyfIhcVNwyyfdfVNYuE41xCwaN5IBwzXxBNpqPxaiEVhVTCZ6wHvfDrpNZZt7x0rXVwm1niU+cZ6TtRsh6PHx/QAMCf1FYsfZXbj3Ij3U/aWGRoI4VodLSFK3RcnA9BuhedWMu1mVHq2LOVtz19JSWxe+bsZEDe/uplR/fJ4q6TM8l4QrtoIm6V3Y583IUpLc2MsyeyO75DheAQmyXKygzRmmpMllWp4478bWXi+h8J+J/NVwd85YsUVEdL3zdd6YoixJnpe5nbRXIfgbcMTOoPDoVGr0cZDQTo45LH1AyFD5W39uMD/N+/NG1/ZxLz/Gyh0SKEQsKhMQwcL18QTaaj8GohVYVUwmSs7TFY7PI5tWeniMrH6/vgEs5amx6XMN5ZzCmwX4wOgsG8uo958Gqoc9BdWzDY6Tbe0M6mI3sLSaZCcBYcOp6ikPDDph/ejmfp0LQvOP15A2yLUe2JXIRPc2G3A2ukkueQABOs7AOzc08C6b3faxvtjqdrQdSNvYpC6hUrSQ8qLo6ElFSNWY0JRUArvpNh3JAW6YojSWemV6IYs/EdaL+t9Efr72NLpZP5pp30TdK1NRM/L3C6a6xC8bXhCZ3Byd1RqtDE+3xxDyoES8FJLkTnT61es9Y54r2JPI9Oe+5TsVC+VtY3xaYXh9Bxq4zYf7YE0VPZ3WqKw6pLMZb4S/iwNb1BmTgIBN6eAoFrTa9exvfIesJlAYi7zbSthox/WhIiC2VK1reWdSUX0Fvwt2/XMbqyoPR+dAbb9aOYvvoSRfW90NACtvCcQmY9jNnbLXzsLXdcjy5H990ol6VzROM2ylHXtdztsE3mLNeeeMlb5KebflyQUcQlFIR7AaHA7tqaDjopHaQ4D2OXL7CKduxOu4O+9x+B7ZzEexd6gUxRIQON49SvLEnEI/X3kZiQ7at+E7Bv4UOtNdWIuafXOTfzMSdq4Dp0cc1QA9MzuTB8ziXP2NFqGF4PDph+6XNvA77R2pz+XLIrnm+ajeMXSZgE6/3UICSn7hSSVFyYa5fLBSsQCYcNdQWrKTonqLc5Ta2Gbj32F2IKzkn0DkZV20fXGdlaYqq+AlV9AsXzV/1EFuilGHNsk4OYUyBNJqi0N+awdUZf5Op5THIWNotVAcPoe4nmsqlJmN97N9Z5nWOidSx6heQB5VDC78W6+ef8Z+6H6Q3LhxsMotZhVSdN4LvEO5if+i+cS72BV0jSu8LxCHjttE05VBTopNeiolg/+n3fttR2LhsqsRiPZMLK/rVjVi+kBHKUWo6IxRC1hrLqGIWoJqiGQz5DDcrjv7P6kJTXfF8HHDpdaN/+e2nglq4Y9zlfD5/KPxvGUEbqC3qWn84/Gszi+/kGeqxlgGBbKbvdBAyOUj123Ka+uC3gqTC2NJdoJrLPRNsnLSmbB+cfzxYC/OZ5X8CRtXIdJ6DRXG1lh9vY5Y0B3hh7e2XKSNsOmuVmpttc28Ds9dTYsv4Gonm8lS9h7T18KVk7itqb7AvfoKLU44P0r2uyvIvPnhyiZod7FMjpHVD1Zni+Qneqla2ZoeCcvKzm2sHU45iI0/FlqGmklS1q2/w6E9Kjsz7RAYTWAXTJXSFmcPbnsjnRzCk6sInHqmMp820LYKCoNhBYmBkZxLMVfaH5pwuuAfX+Tg4pvgxP/CD+tD3Ep+1AtwzBOjfhEG7tZfd+qAq9siLyHwz03UxunMzf7+ZDKF1HMc57jfYRbeZL8MA/TrMaJvPldAUMP68ye+lBj0rGlgD+sMumwIXxRXcf9vlwW+MY5ejXKq+soOOxwWOU+7nEJq5ntO88xbJWbkexYhm5y8bBDGdE3L+DlWJsyhimrtgqHi8zrMMf7CDnhUvwpOTBmnvDvqjkXagAffdmD/pvnhHyvgV5BqTl4onm+lSxBf2FiRPgxOFT9plYQGlIOyg/Rqsv4vCqFSW97qNDck2V1YHdtI/+9+Fijr1U8W2G0sM3HvoY0VPZnWqCwGoJVMpeuwZPuDx4z1hzi5hScWJvSclGqbQM00cV4w4lG2Cg4BpzaRUwZ0zXEZEGsSpSBY4mVVhpfg/2DVlUgdW8Z/LMP1O5ofiOzG98MvInSyuzQ7R2UZqNp7GaVl2D1WauQ1XY6k3DaPyCtC1p1GUWLn+Q0TbAjrH+cOdREeASCJ7F/f2D9wLcLqwRLlBdvNcZqp+hrkpuRjOfQYdQndiKpwXkh0EWpiqiiMQn/fdhVbQWHO4JzNrqkJbEx/SROrDqeQS7hovDrcP/QPZye8Y1x2/c4EQ4dHvVkGciFOnwyFF4QGqrx9wqamP4ut4nsrGZ7yMQePvrwUHVESNmfH6ICRwOzs51L9cPZUVPLGdk/gGc7qF2BE8C2HaMg8ViE7kNIQ2V/pgUKqxGEJ3O5tL0349g/pfdn4dijQ92cgnkiY0eexRv/3dh6MV6RRFk3fQW7eHBIs0RBYlWiVD1w6hx4KVL4q0UEGykAVaX0en8qo9TpIStqkXJWsG9mZ5WYaGfg2HluctmJ8tJkOPlG1JOuocsvHvhA3FAxsessPNP7FMPrj8cuWh5ugHjQKFBLuKF/Np4fEik4ZKirCrCqwK49DaB6SDr2HFj3gOt4rbxQdr8Pp6otq5yj7FQvPlTWa33FZdAUlZGnnw0JarPh81lZizwJRSXlTHnTix7WK+ir2rRApaEj6V2FpRZMw88ppGwafTe+ssm1qecotZjCt66GYE9fPHJI4rUI3UeQOSr7M6ZBYPvzVCI6fwrjkOuho6AoCtUn387K60dGxmIF80QKjz6QhecfS15Wy2O8Pk1n7bc7eXXDz6z9dic+kWW+XQw4GKd4sBliynAbZwu+B5O0tugbZFyzmd6nArkbACNUsQ7ACmI5D+OP7W5ppDj3CPKzYjbM7UdBV5X6xGzHnAlRrPKtnBilFrMmeTrPJd5B/+Jr4InReOYfzQPHOvcB0nSjq3TR5lI48jShY5WTTVpi6Oq8U5qXBecOtPx9mJ6K4DwRu5wjs/Q5LUl8PXvpiT1ITFAp2lzK8Lve5ZyH1zH9uQ2c8/A6ht/1bnP+hyBOCq9mMrO9bzDodxVluNktpFzYL591N4wgJ83eUipUi3kwcS6J4eHIeOSQtHQRqvmMEuxNLxn/xpof10ZIQ2V/prUTR82JOCzZTMnshnL2kxz52/PsV1A2nyWzW0imfmG/fFZddwrPXjqEeRMG8OylQ1h13SmhD2GXH11MD03HGHAwLknJfcfCVZ8bmimWxCmBN4qVk6aDT1eFQzLBKOghk7aKxh88q4U++8+myGTS8MREBXj7i3LLz5ueG9dFedU2eGkyScdPBMU5wTMaRHKm7un7PQ8mziM3qE+OMaZSBq6dzku/+cVx/Dpww8ubeGXXIdSn5tlOwpoO2/TOfJnYjzvPOiZkwqzY08jtr31he38HG+2rv97BrUusDQGTmvomOqV6uXjYoTx76RAuPbGHZYjPVCe2M3wiklUFcGryGUhm1q0SqcN+V4ITeznZzR2FXUhMUJn9h36WRQUeNG7xG9WRX7dAIYMbLVmEliwx1LmfGA2LLjb+nduvQyffSgn9XwOWJWxxlFgOq+P3HTSU4h8qHZPHAm7hqj30rN1En4xa1Iy86DUAYhSNM0dj65nZ+oHxA46GScucQ0mt+T0Ijtc0Th5uOp0/JbwGxNaXZlrDlSzVTuBKzyL+4nVPljWlxgEGqyVC3XXDGauuYX7iv4TGp6PQkJpHwmlzaFh2HSl1zYZctA0DTSY03GSbX5KflczM0UdS+NZIRw9cQ1IOf62ewHZyXPVbgsNcVkJtTpUndvd30ab/sWTJIhL2lLvmnFjt09xfQ5PGU2u/54eKWg7JSeWCoYeS6A/3DL/rXVvjwsydWXXdKUJhoFc3/Mz05zY4bjNKLWZu5rMh33HE7yrQOsM5VH1i/TxHHSErrMJmp2V8wwONt7h/2O2Z4YSIvH74c8VOrsKlNUhrISX0Jc3E2hFTVEgoKNejaHMps+5537VvTGRSXw4zx/SkMFojpbVE42KJ7caSlBwvcSbB5N0yjCqWStK5THkt5sOdP2IQqWs2cFWjWEWPKTUengg7jcXCOibRCIsp/hL3K179kbFj32Vk2nd8+923+HZ8w2E/vhRaHZTRDZrq0PfuilrcC4w2Ajef3ofC9G9dE5oT6yuYl2gYbG7nLVJRZIfV/f3p8ic4Zs2tFCoVESrSb2nuGisE7S8xQeXiEw8LLDje2Fwa6Ofk1LzSSv/IadEiUtW3XCtgw1lTGZrwpbNyayBnLDTrzTT85nsvZsEfozNSwDr3Z3B1DSwW+HBLckiirV7chyuFpEdFYk0MQkIi3gsgNg9HOALNBetT8+hTcY/ritGyMVhreFRaG7/hZjxyIh/E9zWdxQLfH9BQo/JORJDZHaZtQJ/f3zFBMZgJDTeRRY2wh8BKOA6IugngtIYrWaKdwAPnDgz0I7I0wLe8hv7CRPSwqpBovBeLT9pm5KQIIrJvaL4WXamgs1LFTj1TyCNj8uylQyioW4X64kR03fra7yadnCCFaScjyvy9WCbg+jtkuzFvwgDOGNA9sI9jqldGVHKR2Q3fqDsZviTdNgnZ9NC8/9ff8vEPu9xLgEuWwBvXQnVz+KnO24mKnuPoOuhMPIcOa/kkXbIEls0wxOjciMczQ3RBKfpMa8PnmPSoSGInBjXb8KS38InmQ603ty75HCzXrDHI4kchGudUDgrWonFFNT04xlEZMxgBNdtWlLkOrEgbjqP3bxZw6Ie3hXgMrFbgLZJ/73cW/LReSHnX9EZ8pPViZdIMwL6E2SwPHal+ZKmYO6txIrMaJ/Jg4lzhoZrneeWzn/IvFKPBoVW1V9+xfPWbBWSsuCnkuNF4Lx76tBb3Op1m7BScw9FQyaKG67zPWV4TN0/U46u+5uhtfyXVoupKVZpbCgQT3gYjmPLquohFSeD3Xr+bctU9pJSbkRzYx6k2lVx6VSmeFyfxwNB5nPleF9vqv7H98/nNPe+JNy4Ni/slN+6i2xePwRePtbwixza0EjGI+Chgg3ibj324UqhVDZWVK1dyzz338PHHH1NaWsorr7zCuHHjAu/rus7MmTN5+OGH2b17N8OGDWPhwoUcccQRrTksiRMxugeDk97spNln1Tg/VKOSxY9RNM5qpR7uXvZpOrOWfckxjRNZ6J1rW1ZrIJAM24oy15Gr2my6Zcynr1JCav0OWzd+LNLzAdbcD1qT0PgUjIqe49WvhDryTvUs5qqElyLeD544PyyYR8EXd4asisMJD9doOlzxzCc8qNp77LZ0Opmr6ucLhUDC0YGi6sOoz8mLSnQuvCzWCicxvXBjwur+rvzyA9ITt9vmXVp9z05GVJe0JK598RMGqyXksptDlDLOTXjXUijP7ve+s7qev7/xBYpjJZeOjsLAz+9i4XlvMmvZlyHGSF5WMmP75/PvlVvFGpeKGBEirUXsEE7Aj6MCdjTEU66ijWlVQ2XPnj3079+fiy66iDPPPDPi/bvvvpv58+fzxBNP0KNHD26++WZGjRpFSUkJyckxKI52QBwbX3VEYhQSMr0S0TxU7RCSxY9BNM5OKKxL3X3AGcYLmo8ta4sYVL0moHh6s/epkByBEMLiwRHfd90qPC9OIqZeSy7YhdpKq5vYRi/AumkdNFdMWBliQsmmn70gNMZ/No1nuVbAWHWN0PYXJRQBzl6XH45YB4UXwMp70VfMtg1nWPVicfLY5WYkuwqyOaGh8mO30zjim0ej/qylKi8ag9US7vQ+YlSWWF0T3D1Rr/ti6xAdbkSZYZacn5bzYv1NdEtsPo6TUJ7V7/2WpZup2NPIEBcNHsX/vClM38rI604J+W0dd0gnfnPPe2IeWrQoqvhizNUQ6bkFkNoZRt/X9r14oulz1sEaHbaqofL73/+e3//+95bv6brO3LlzuemmmzjjDGOSePLJJ+natSuLFy9mwoQJrTm0NsGt7X2HJEb3YG5GMgk0Mdv7H/uHatAKDbBduQrJ4kcpGleoFvOApVBYBcqLk0AxVnUUXcdRVduYH5RseFvj+ewmk1x28wtGHPUAqjj7t8cz/HdjAz/g8O9bRWNt8lXkWnahaVnympO+hPmQzkr1kpzgoazK2vCzS9Z0r4jRDTG41C7+OLxdAmoOC3zjAALXzY1OYZ24gzEnzq6eLaCeRFGXibzSUBtVsqmTx87sieOUDOqEisbB216P6bPhoTgro9r6mIbGi5Mn6iJPUUxjMjHbYAA8cOz/6L1yur8RQzNuv/dwg9EUShMp+QagZntI526Atd/uFE/cVUuElZtjVnUVfXYePb59GgY6JBSHeHm2vNbhGh22W47K1q1bKSsrY8SIEYHXsrKyGDx4MGvXrrU1VOrr66mvrw/8XVVV1epjjQW71a6lS7I9Cbec0w4Q+1yYR6OgbhXFyVeSQ7XtR4Ld++ckvBux8rutcSIbM04Sk8UX/NEV9j2QhefBwEV/BosQjmJO60un+3sXhX5jeVTwgHc+UxpnsEQLjSefc9iQECMl/Ps2EiCdEur8D8StH8DhJ7ufcxBO+hL+PUf0GXmrZDvLPiuNCA+cVD+X49WvKFSLmZzwpvggjjkb1i3EropiVuNE4dLXaPB8vxLfwSdw65LPKRPsChyMncfOoyrcfHofrnjm06jHpACFGd9F3WvIqqLIzivpxCXeIsv72zQYfLqKgiachBxMOdnk+cuvB7410kg4FtiPSFhLOFfKwoMq2pC0vLrOkK+PlmhzNXZ+K7bd+gfhkGHtM+m7VQpB1PmJbUG7GSplZcYPumvX0Buwa9eugfesmDNnDrNmzWrVsQlj4x4TWe0KJ422Jla5Exn5RhMxi0nbwCIJrGQJnhcn0UlQaPvqhJcitjQMgrlsPPYw8Wti86OrTenKT4NuomdyNp5NL1FYsx3Yaa+NhA57rVeuVitD0wVuGlQ+TbcUzRJeLb40GcbMF34A+DSd1d/ssMxHCJ+gd+ypD1RXvPZZqX3+UONEirQCJhOFoXLkaXDw0Ijrb+XROIA4LihW3kPTR0/Rv2YCZRREHa5x8th1SkuKaUg6cNnAVCgW/4xViMpJfdeJLGps72+zt5OuR7YxMEM2Vl4004g6tXAck4b3xPPDKuEqr2Dsfgc5aYl8uMclVwoFxSbpVLQhaW5Gsr/HTpREk6tRssRQRRaincuA7WQSwKik7IDly/tc1c8NN9zA1VdfHfi7qqqKgw46qO0H4pAgWZw0LGotgTbHLrGsuizoNQf3oHmjBiWQCT/AlEhJZFUhkDjHyPPFfwj+H11w07JODdXc/P4teFY6u81FCV4ZrvdPiMF9VO5/52vL8IrwanHvLuHVSnA556oka4Mj2EDIzUgOGM521RV5VLAwcS5fnvgv9I3dBKp5goxV1QO9T+fztUU89NoaW4NJ9FqIirEl1m4XznkKxk11VHSVHk52qpd+vY+MylApozO3+Q26q0YcwaFd0jis5lO6vR3NfatASrZQJ/P/NP2e0xLWh4TJdpFOJ38zxuDrHqwt8vfhPY17PcZqkPDv3jT0bz69L1Of+YTbGifygFWuFIrxTLFJOjVDdW6ly8b3HU2T0CgrcgLPQFFiDC3FE6tKoa0fdNhGh+0moZ+XlwfA9u2hN//27dsD71mRlJREZmZmyH9tjl0PGL97zPPlUqHdxPpQbDEilT0pOa7y9oB4AlkQdvOQEvxDiIKiknL+700vT9YMIosaFnjnkWeX/NoCctkd0WdozuslzH3na8vtA71IRJWKXCS1zfDSMdUrWeidG3GOZgLjKNWYLYM7926vrHXscIwOh338d5RRc3BwPaH7//ONmtM8eageeg89jQ8zTrFVmXW7FroenWKsWeQ+0/tkSN8hN8b2z3f02Imu0k1UNIaoJZxU9z5btlVCZjdbk13TDYXe6Q1XMKHhJobXz2Njxkk8eP6xTB/RizMGdOforGieCf7jDJ4itPXb+nEMr5/PhIabmNZwJf9oHE89iShK5HUvozNXNM7g5HEXRd313MSU+S/Wegeu01h1DYPVEmaOPpLTjjGa+23MOIkpjTMi2isowc8bizYZHlVh5pi+wVci/Mo0Lygc24lYfDKaipwYnoFAxysD7sDly+3mUenRowd5eXm88847DBgwADC8I+vXr2fKFLEfXpsRHOJJ7eI6yffffCcq7kJj0T4U44ZIZc/eChj/qvFjdcr8bo2bVmCfZnVNWeVebn/tC3Rid5uLctnpJ3Df0Gbp79c/28ZDK7fabu9UWROJzWrFf+9p1WUsWboND4c6GhzBYaoJgw7G489PEelwnFRbalQkWMWw/ZTqRljnsyXpzNRLAwabOWlMefqTCD+cyLWIRdLe8HRVMNWzmPt9kVWFVvx75VYGHtzJNj8sfJXuFF6LCKO9/S9I6QToEedoGmh/a7wo4AG6+fQ+TB7WI9RwisYYMPMKep8Onzxu6y3QdcNzYo59ndaXUWqxZfKtOc77Ey5k3B8vibLreTAKigLzEy5mZGNkNRJvPQqeuyjsN9av6jqAD6sutm6n4eC9Luw3loXnHxtRtJBnVbRgl59hdU2jycOI9RnY0cqAO3D5cqsaKjU1NXzzzTeBv7du3cqGDRvIycnh4IMPZsaMGdxxxx0cccQRgfLkbt26hWittDtWPxJHDKGxwozveKO6p4BLsh0Q/WHV7jAy1IOJNfk2tQsU/Eksjuv/IdiVdltVUwGuk7E1/mlVIC/nqKGFgdnHp+nc9Opm172blTV3Jz5i5BG4EfzdBN17KvAAsCMpgy6Ke8JygbqFQ7sYSsC5GclRVVdw9PhADHtjSQmvrvksQg1VsUgKL+xnrJBvXfI5ZVX1Ebs2r8Uc7yPkiFwLQa5OeImv9AOFQ0BO+WHBBlehWswtEfk8nXi26RSyqOXihDci75a9uwGoUjLIDkosD87bMX//EUYKwEGD/dVUO+xPIKUT/PEJOHR488Kh8C544QLbj3SihpHqRyzXChwNeiMEC7PTnkXpG9ZI0++V0P0J7NbSjX4yu6EU3snfdR3VpTzf03esPwTeGTg4dDtb8cltgc83GzsCMhDh+RmpXQwrec8vsZfhRj1xRxlaaiuiKV9uY1rVUPnoo4/47W9/G/jbzC2ZNGkSjz/+ONdeey179uzhT3/6E7t372b48OEUFRV1HA0VYZXBSC4bmMobK22zPEJyHNocwR/W51UpfLPh5+Yf/palMSTfYjwMrv7CeAA4rPyCfwh2pd12Ak8QRfJqMBHZ7gJ5ORhVN2aJpRvLtQJ+c+RhnPvlNPeNze/G5t5zqqoK5gRlM7lpXsDwEjyVlgsiwzWPr3rwHTKcy59roNR3YMRmZlL4rUs+JyPZy46aenIzkhnZN4+MZC/nPbLecvdvacdzK0/G3BjQCh13ddfgbUsr63h89Va6ZCRZTmqF/fJ5+bc7GLB2boQ+SD67QpowWpWdKygkJadybtWf6UJViCfG8fdvGqa2Rop/+zHz4bDfhL7V+3T/7zDSUFfCPG1uBr0CtrkIRdogViT8lWmNj4TsY29yV1KGXAydDw9JzvS0JDnTVUBND3zeo3rE8/1ElVxFidLTBLS92JsIouXL7TDuVjVUTj75ZJxaCSmKwm233cZtt93WmsOIDWGVQWv69+nNwoN7irkkWwMnwR6XH5aOsQIcs1RDYwMAE9I3MKfpnshVlEjy7ej7IMEvTCLwQygqKbcWMquscwy1CCevjpptXJPw6xJFg69o8oum/+4IFnzo5WSH6gYNUDK7o5hiSzb3nnCPG+9i9KXFUHgXnr5jGTv2LLa9NDeq6gqREuiyqvoQoyQ/K5nT+tnnmBWoW0IUTEVwM2pEymDDuf21LwL/P0LbSPMx8PM7jdBPTCEqnZS67Uw/bDsP/+8giut6Bgwo29+/yKLIKSzxwxrbyjUIvUZRedeCaC7BH8ALhCr4fljXmwVdwhr6tTQ5UyT3o72TUsFlgg8jltBSWxJto8M2Yp+r+mkzYk2QCvIKFKoecZdkPJUA3STbnTqJYvx5a1jJ5LTGRwxB64ihm8m3ncCb7H5zu/wQfL3HMOuud2MyD91k4QPfzeDLra9tFN2NRfOLclK9HH9IJ+a98zWzVOscDTMv4KuBf+NI1SPwgBdDCXKvFx49lk+33Ur+2mnC1RWxJHuXVdbxn9Xf274frddL051TH1uyb5OAttF5/SlM3wpb34+pDDecwf/7D4OBbUk53KtcxEHDzqagR2d21NSz9tudzc8Cl0WRDiipXWDahmaDP5woWkrEol0SLrkQXhKuYBFSiyU5M/g5uL1E7PMOrRTaDLvnWkY3OG5yqKepo3lSwmnNLu8xIg0VO2JKkIp0j4WrKVoSz14wog0FbX5YZXqkBoZ77kcUybfg+EModlGbdMI5YVPQdSnoFhZVMT3ruAP587OfAvZKsGb+QveaAdwCwveee/gk1L0+cNQkfAdm0/TatSHCZIrNasnOGHNKMDXvOrPZnR72mZ7K/4TOLXAsBWp1L6kCcatYGy3qQKFabIgCOgr0xUYeFdyr38uU95qY907z7yrgyUn7xtEwVcAIB/203vidWE0gguHcKcfA7uMmoS991DBkBXMRRLxrEZIL0SZnRp0P6GfPL9Ft31p0wAk+ZuIdHmsh0lCxI5bM5ljcYzF0KrYl2oaC/h+W7/vVzHrmXb6qTbPUwBBeqVol39ph80Noacm2nTEQb9dlcNKlnfdnZN9cHvkgNJ9muYOSqrr6OwrTvqaALUJjqCCDzq45K6Hudc9RZ+DpM1roYWqlU+EkGBds3JpeIgU41eIz0eSoJNMoJEwWrO4aDaPM9gpm4k2csZOTNz05i0/aRn+B/Xy/+kUOfeVP1gua3qcb+WIu3oU+216Bs2+LOhchKhVYk2iSM1uQDyic0N8WdLAJfn9BGip2iPzIMvLhDw/GnjEeY6diW2JpKKh6KNaP4ska+wlPeKVas904pxasILqkx6YMapKT5qVw9J/4IX0qXT1b8Owpd/5uHNSFzZBdl7QkUGBHTX3I/8/NSGbBucdy+2uheUgZyR7+PrYfc5Z/afnNWimpBgwAAZE6c2I+qf4+piW8zLSExe4XJthLI/gwDS85dhSMsxBfu2jYodRuXMzsxsjPRGMQmBO9QqSyqpW6qwJkpiRQXdfkqmHT2iXtgeNY5NGYdtFDn9bygMA+DvnmiUhbKnhBc9yF7lV15u8/ylyEqFRgTUSTM6FF+YBkOOT7dbDmepLYkIaKHSI/st/fFZl9Hw0xdiq2JUbBHrfVknvuh5/lN8Laf1mGrES6SBdtLuXWJZ8LnYJdNdXsPxwdlNCX67yTkiXoRdeFKLHqmd3YcNT1XPHJgUIhqPysZEYfk8+iT36mYk8DAHvqGlm67EUG1e2gXHXvPRNNb5fgibmJBNZo/ZjGYvcPxqh9YJYc375kEzPrxfRbwAgXTkgu44jE/0CTvSCXKOYxGxI7kdSwK/B6uFy/ud+LhvXgvrethfiCia2kPXbCvZM6UFR9GDVZXUmt226daK2Djl2vnqAFzYhbxQZh/v6jCFVEpwIbhIhB1JKcrMzu9uWy8Qyp2yENoTZBGipOtHYGdLyVAGMU7Pl+xx7HzUNyP3CRM7YIWYl0kbZr4hiM+Yz+00k9WLKxtGXVVCVL0F+YaCQIB72sV22j/5ppHNM4g1LcdTlKK+t4+IPmSqSAZ0SrgKAOzOGhEZNoV/TlSmdmNjRPzD+l92evJ4+UvduJt/aBaVzubfBxw1G76Pape1VJSMPJ1VEf0pWk0XcbK+ia7RT/ksBV61L5ub45f8W8D+obGxmilrg2Kow1ATdWrLyTGipLu03j/777m63HyKM4qe/6FzSiuRrBv/8YvWtRSS64GUQtzQcEw9gJ3veW11q/uV5bGEISQBoq7rRmglS8lQAPOQHdH66yFmPyT1oHDQ78sH1puTy/fq/rrpdrBVzROIP7sp4jZa9Th9jQkJVdqXFwF+mRffNsmzgGE2yMXFvYR6yaKgyfplP87S/0feUvZOiRXWBVjMonUV2OYOw8I3ahERBf0ZuVHwfMKGHyTzWcFnzeW+6Ju/ZBuHE5Vv2M0TYFJ8FYNZx0JaWTUK8aADLy8R0y3Pjuc+q4+4+hoThT76f+rb9yRmLzfWpnLAqHNU/8K3i86B8/jlId7IHrjtL3DFjnHrzZpafb5tHUHnYaU778xTLR+nXfIC5JKHIfY9oBrSrYZXrXYpJccDKIWpIPqGtwb69Q7ZmMfGiqp1Wb68Uzt1DiijRURGitBKk4KwEWlZSzovZ8Zut3W2hA+P/odxbM7x9YBXiAl/QcZqnWK36T9KQExv3xclL63mK0KV9+o+225gqv8bvVzFra6PS4YNbSEjKSvUJhlnvH92fYEV2McasKQ3tkNxuQP7gbkObke0j1JzyXWO7YbTZaXQ43tc/wZEqzCqZQFetiZ1Z+eH4uZujhYfdinD1/Vt4t4QldiaGB2PjHjX9fmmxrsOj+38Lymh7MuutdS+/c0MM7ByaQxLC7zs5YFC5p/+0NFJWUc3v9QA5q2Bjw1PxU15/7EmspEMgyebSpMMLwNUMmFww9lIc/OJHhVZGJ1gXqFi5BxFDJbXXBrsJ++eKSC6LEmg/49q2wZn7k5q7lylGG1MOJd26hxBVpqLQncVQCDBZj2qVGVr3sTelKysCzYc39hP/AnFb8JrefcVTziklwBXTLf9+mdO9g2/fNksa134qVhO7YEyTLbuF2rU/NI+H0uy2rWoI9O4PU3ULHiyYsINJLxzR+sqiJ7H0iyMaSEqNCJDz5t/cYir1D8H2/mlxlN4cfdjieQ4dF/aAM18swcZvQTcMzuunKbwT0ONEY55j5/t+CuUcDI/yhc031Obz8340RewnRQXnLupO3XeWNU0l7sL5M8P3zM0H6IVWNnPOmh82d7MNvZq+dBb5x4WcPGCGTxASVcwoO5r63v44wjoVzxF6dYjxPWlmwS0hyIRpiyQfcvNjaSImGWHv0xDu3UOKKNFTaG5vVsDHpGqqiboRPLlYlsD97+7Fy89VE8xAPJi8rJfD/i39JEMjegK31GQJbgWi2f6CiwL9qDs8v8e4pQ3lxIg2J2SQ27A68Xp+ax4qGiegMAMS9A9HocogaNSOUj7nI+0bE66KVsQd/eAd8WNX8QmY3Pg1J/k0EcsnPamTmmPKoFZDt9DKcJnTNP/iojRQINcT9v4W9S/8aEl5sTpg91nJP5rVbsmQRhY32E4hpLP4u9Rvequ0VeN2upL0hNY+k0Xc7ihDqNF+bOdxDeA8c3X+qWwfPpuuGVMeQyaFd0izHLdzcMjjsMGOze7i6IyWCRuMV1Hzw+tUtP2aszfU6cJfh/RVpqHQE+o6lyHcsS5YsImFPueHyretN1yWpIR1q7bCaXMJLYIfs2Ywi8BAPD3eEZ/MXbS5l6psePkhykIOPUtdi6GFdWPTJz2IVBX63a7iRYp6DroO3fnfIrOndU8Zs7maXaniM3FaoouMPFj7rouwWOtdJ6etR6q2rYJy0RUwdkSyqQj6sV5VaJv8G5wDZ3j8WE5VTBZiTYN2zjSeH9MBxxWaF7+s9hhGLkzmoYSNdqaCzUsVOPZNK0lHRIozo4O+g597/CT3RFo7tzolvhIr1WRn3E/9wDqf1PdBVhFAHnqsZQFPqX7ja92iIp6wuJY+UMfdwXN+xrBrlXPnmVALcfO2foBt2+TxhYQen1Xx7JoLaGUii+YA/rIHalgjztSxXpyN3Gd5fkYZKB6BocylT/rsRnZ5Az8DrQpMNYmJMoit+M2eiWOuN7p8UzGx+03Pjc1tdE6prYYdpgAw5vLN4RcHWNY7y5lYTvZXHqKXjtxI+8+kKqmWbAf+ZpHbG69AV181IMc8ldK86OnCn9xGqGlNZr/VFQw3JAQqRNTcniS9fh89eCE1CzOxG74E3gYMnyU6wDuCchPfIUyosr5oGNCZ2aq7asVm9F2+t4OeqRvqpNVznfc5RWM7qOxAhISufm08/nCue+TRsjKHG/Q+vf8moo7sLi529VHssLzMgsgeOdjyFuIdM3NSOl2sFVDWm8myik1aKQNihPRNBRdp7uIVLWuSpiEOuTgfuMry/EnXemyS+2OUEQPNPYNbSEnyabkwyWz+ATS8Z/2o+QEyMSTSMMTnhTZ5LvINVSdP4v/QNIUZSsOfGXOGVEaqbUEZnx1yX8PMzDRCzoiAvK/Rc8rKSQw21GB9SqgLdFMNjBEYX3/uaxlNJetTjN6t78gidIB3b3gMcc3ZMY1eU5v+sUBXopNTwbOJsViVNY5Tf2DRzgIq3+sdZsgTm9oMnRhtVKuFGU1Upvd6fyoT0DY7jMSf0JdoJrPMbRqbxh06EyJqmG4OZXjOJIvXE5pyUkI2Me9v7xSL+7HnZ8vqauVSj1GLb78D5G1ACuhud0tyFBc1rJyp2BtbXJvD7dcEsAXYKoR1AlcO7Qdj9TjQfLJ2OfSIohkfG/2yJK6aBFJ7fYRpIJUvE9iPqqUjMMAyGYDK7tdwQM3NqAFuFoI7YHXkfRnpU2glTo2L1N78I9dD45v1nOPLTOyxXIgW9xziKMYFAMmRY2CFf2WV0S1aPBowfdfjK0kkOXoTsVC8j+zZ32hWqKGihOzWX3ZYr8V16Go82FbLA94fA+HPSvNw8+ihy05tLYL8u3c25664ErKt7rJqF64A29Eo8vUYJlbG2BKvE6PLqOkGJciN9dKb3SV7kGHxRrmPcehm9qRWwMdzDAyGr7OOB473WYbBmz9iTgekh0sNkR+gEEo0k/Ohjurn+vuwINhZFElDtSoBNmtJyEWh7ZP87WXmvY5flVksEjWelTMCj4SISd8a/oM+Y1snD6aBdhvdXpKHSDlgJoDkxSi2m1/vzsHPVes5+kpljBlmGTkwcqxssJgUl6OHh63UaxT9U8vX2SJl9Kzl4K6wa2e2ubYx4gLtWFBxyAvWpeXj3lMUkeX6IUsZVCS9FvJ7FHq5KWMRX+kG86Z/gQ1VuDT7fs8Ex1GDl9dB1+GXtM2zIv5RRmd3Qq7a1mivTKsyVm+aFpaIS5Tope8t49lQf09enRt0g0s14jZi0bQwoJ+9RN6IL9QARE0g0kvBOYmeiRNPDKthgL6vcS8WeBnLSk8jLTKbgkFEw/8HYwg6aD9YLGsrReC5FknLjWSkTUiVk822cMA2OGmf8/9aqvNmfmhB2cKSh0saIKLBC88TelQpu8T6F20qkcMYmFp5/LDcu2kCv+s0hk0RKkpc99T7bFa99czjj4fHnuxbwenVz7oxT91wrnBrZlVcPMF4QrUBQPSScfjfKixOdKyDCMBJkczg34V1jNw5aJ5uThnHz2EgjBaBPRq3YAcP2ncdOHn/uBZqOmc5pldcZCr8uxmKsmInRg9USOqUmMfiHj6OWKC84oIlV150SMllmpni5bVkJ1XVNjp91M14Dk7bjKjsOnPRXOKC35f0UrSS8nacjJ81LxR53F0c04SNwMdhjlTT4YQ3s3S02AFHPpWhSbrwrZew8Gqld4LR/QL9xYvtpKbIJYZsgDZU2xCkfJZjokgSbVyJdf/6OZdqtdEu0SED0V4QEr3gL1WImJ7zpeoSEPeWYSb6i3XODz8VJrfXrXb2gJMP6YXfqHEjrHGG8eI46g0//N5+D1vyNLq7dg5tzJp5t+q1jZYo5wa+ckIznMOvkZbXiO9fj2ZHLbm76sj9LozIWm9F1LIT87HnAO59OTTWwKobBpne1nCwzkhOEDG0nApO26yq7hfT4je0kEoskvFVo8rhDOvGbe96LvgdOS4g17CBqBKTkiCWCRpOU2xqVMtKj8atBGiptiJ1GRTDRNKgLRtvyGgPWL4x4WIbnLCiErngn426ojFKLKSebTlSzwDsv4n07wThXtVagV/FNfjXS8IfdNnhpUuhrQSu1gaMm8WljHV0+utZ1/JWkc33jJSTh7Akw+bRkC436UZH5MZoPPn5MaB9WlJPN7r2NLCc0PNJT/Z9QB+R3fAPp6/lBOPSRTU0Mo3SuWDA9C9cv2sTuvSLJEmFjSvGi6To+TccTQ2K0pkO5kkNWipeUveW0pOoiFkl4K+Mt5h44LSGWSVrUCBh8uftkH23OSWtVykiPxq8Caai0IW5x6pa0nPdteB6PRSjETPCc432Et+qPJzstOdDlt1jrzXY6k0uFY8XK6QnFnE4xPt1Q6rRPcgwVjHNVawWXxL4wglZqRdoglmysExAuhysap7FW68cQtUToMPeuqWTdqnURjRP5YY2APHck4bos2SleKvc2BozFIZQIdUB+RDud4qbe/NmziOkJr9jeI2ZCb/ShJLGKhcJ++WQkeznvkfXRHoDdexs575H15GclM2+wmHCgSaB0vOF8ejZu42rvSxbJs9FVXcRDEr5FPXBaQrSTtKuxgOFNOeka931Fm3MSRxVuya8Paai0IW5x6phbzqd0xrt3p23Jg6JADjVM9SzmsNNnkZeVEngod6m7D+XFidYfDMOj2BszVoJx8e9Ma8i81Sy+hiuq/gEcxjYB4bn1/vFEK/QWoWMTowcAQnVZLhzWg7lvfxV4XEczrms9z3FZwjJHzZWYc12iqFgYclhn8jKTKKuqd93WirLKOnfpeUJv6TI6s6RpKDd7n7b/ncRQdREPSfhW6YETbxyNBT9j5okZC7HknMhKGUmMSEOlrdB8FCifMzH9Q76qTbNMQI15Ym8Sqyi4KKGIV2quR1WVoAfpGfDLjbDCSURKnOBziEaCXhQFnYyG7QGDKBrhtmiF3iJE02Iojd5NOjc0XhIIieVlJnHlKT05Mi+dWUtL2F5ZS4G6hdebBnOx9w1/gXDzBGKO67mm33B/wjxO83zoeDwNBU8UGSRNCWkkHD8JjjzNMnRgltGHT74eVeHWsUdx+dOf2O5bReOkxK/IbKqISLrWCZWeV8ImTh0FXdf5Z9NZ/KDnO4YeA5x8o+ENaKdVedx74LQGtsZC9+iMhVhzTmReiSQGpKHSFvgz4z1V27gNIDEyAVWhBRN74x6hzTopNbxZtJh1Wl9UNAozvuOygan0T4o+18CO4HMQ8RTEuuA0DSI37Y7wBN9otw/RwdgbnWy3phuGVRWpAfn3uiaNt0rKjBW4UkzTa9eSVNvc10YLM1R2k46XJq72vix0TCevlxXP9JjDxMJJlu+ZZfSmMZXLbp5Ky2Xs2LMoPPpACvvl8+D5x3L9y5vYXRt6D52V8gm3ep8ko6HcaD9E5D1vSs9fOGpBhEbQ3pSuXFU5IbCtisaqpGnG/7dT/v3kCcNQ6Ug9bDoi8TAWWpJzIvNKJFGi6LqVRNW+Q1VVFVlZWVRWVpKZmdnew4nEJjNew3jJTEDNSfNyZv88rts8hoSG3VE2eBNnWsOV1JMQc/deO8zwxPD6eSGeouDkYCsPxm7SyaYmaoNlQsNNISWw0ZZMR7v9vP87mjPeGxVzlUr4JH1P3+8Z/93fCG8SaV6XR32FVOrpXJXwkmVekBM1ehLpintIZpeezqme/7DuplERIQqzjP5Umyqv7SfcysBRhoHj03TWfbuTtd/tABRO935E75VTbc8tPOl63oQBnHFMXsjEubbpSM75T7P3aIhawnOJd7if/Mk3wiePt08Pm3iyLxhbgWcbWOactKYUv2S/QHT+lh6VeBP8gEntYpsZrwK6onB32jN87BvKjj2N/LRuER7v7mjb0EaFneBZeD5ANDj1xzE9GLclPkVXmj0SpgcDsBahsxmPqYcS3jBQVHhOdPtwQ6bnHq1FpbTBlVFvaccz7Nt70dFt9VxO8xSj+Cf6aHNOXvMN5v8SVrpu92hTIb/U+yJE98wy+lMdSsvz107Dd2A2nqPOwKMqDDuiC8OO6GLc/3PHYXnP2yRd52YkR6yyCzQ9ROdEOCxqFcJs7R428TYq2rNhYDTInBNJGyENlRiwi9tbPmAcUNDJaiynZ8MmKugdqPhpDTvFmOA7MTlhueXkF80xrZIcb7MImwBcPOxQRvQdQpdDboaf1vLR519w75rKEA+GVSjGDlWBZL2BkepHtv14zAkx+NyicRtaacXoq7Oj2IP9mGZ6n6KqMdW5GipW9VVgh57J35ouYaTnEzpRY6uUu4t0FvjGAZHVaMVbK9heWcvMJIfSch2aXrsOT5/RoZOySzVIcNL1eq2vrcZIuM5Jy/KdopRoj4Z4GxXt2TAwHBEDTOacSNoAaahEiZX8fX5WMg8c+z8Grp1OLCqbueyOveInDCtPhDlpp7OXTCU6SXQrAvv3psGw6XzW+Tw2LvsSwq5JRGlmjxNp1PqybtW6kP1Zya7P+l0eR350s19jJZRsaix1W8yx/eucgXRKS6K8uo4uaUlous76rTsBhcE9crjmxY1sr7YOjdjp2Ciiip4OmJP0UMEy6WgwA7g3N15IEwnc0HgJC71z0W2Shm9ovCTUoxFEeXWde2m5Akm1pRSvWErBKeOa3xCsBjE9JE4aI8Flv8WVzvlO7rRCD5t4GxXx7IfTUqIxwGTOiaSVkYZKFNjJ35dX1tJ1za3oih6TN6Sc7BaX8po5Irc3ns8/s54nZW9zguZu0ulEDemIGSnaidegNtRA8b9B1+w3bNwDK+ZQeHYfRl43Rqg000663AzFmEqePX/zG9g429JQsQshhBtHRZtLuealjSFG5aJPkhk3sBsPrdwauV8XHRvd/z92XgrhEE0rZYW96TuON7TBgFjSsJ1qam5GsvD9+PTbH1KRO7jZIBWsBtmb3IUF4wa6aowEl/3+78uZ5BfP8E/Z4TkRghc1yJCy9YyK0BpGRTz74bSEjuTVkUiQhoowTvL3g2L0hgTrYxSoW4Q+o/v/C84ECc4ReVMr4DPfcFZOTMazpxxfSmcan74YXRdPWL1yXSaThx5Ngf6g2IiKrsfT+3TL0kyrycCpwZsOnNYvjy3rl3OUYAhhndaXq0YcwZWnHBGYaOyMyrLKOv69ciuXndSD5z/6X0i1ipsXQfH/T7hRYlT3iLNW78t4faWLbkonw5Bgl7ABNNLzMX/WFwU6QDs1CHRSTS3okcNTgl16y8luLt9WFddqEPOef6e2J5tf+wJVVVyNlUDZ7+GT4dAc65X+sZPESuxrtsOmlyj+JYGr1qXyc1XzSVp6Ae1oDaMi3v1wYqEjeXUkEj/SUBHESf4+Fm9IeAKqWykvKJCRz089/kjGxv/QSWmWRw8vrf25qpFi/TiGHn0Snq0fGEmsApOdOYksrz6MhLfXUZAoeDI2D+TwMFlwSfTzpx4QMVGYnpL/rP6eX9Q1zBc4fq/UPUwed2zI5OJkVJqhsSUbSym+cQQfbq0IVKuMUbfDavdjhhsOOiqq0ux5svOuBAvQ2em5gJmH08gLTSfzp4Rltl6c8DEpwF+8izg34T1u9VcY2SUNu8nEjx17FttemiskQqcFd0R2EBULv+cjBPVEsMuJAH+1j4PqqqLC8hsBKABe1HOYpTZXYkU1ntYwKlqjH060dBSvjkQSRGt1m9/vcJK/jyXRbzfpITkWpvgVhCaCGvgf+E11HPzZvICRUq0n81pTAX9pvIy3tOOtxyv4oNSDJhEfavTnFHYc06NhGimj1GJWJU3jgcZb6F98DQUrJ7EqeTrLR+3momGHAqHnLXr8meeeEjGpuPVUMrVRnlr7PTv21DOs5wFcNbIXR/Y8QuiYgf3oxn8qkeGx8KL/8EnaDM3sJt1y39nU8KeEZfy7aTSVivU2dnT1VxiNUotDXu+UmsDU3x7Olb/tyb1/7M/Ivnm2+yg8+kC2n3ArKJH3o1WVV8jvw6wGyQz9XsroHHLPm7udtbQEX+RNb4+ZE3H0+GZ5dtNAAmyt8rAwZl7YdYpqPK1hVJjeKNtVhWIIs0XbDycaRFtEtKZXRyIJQxoqgjjJ3xdrvdmhZwjvS9OhjsQI48KcvMoIq4JI6WT8G9YXJ0Op4/SEYp5NnM2qpGkhE1NgvIIPyp1khkwipodHeP4IOk64R8NMUM0Pr2SpKqXX+1Op3bg4YndCx0/pZKiwar6Ql916Kpnc/toXTH9uA+c8vI7hd71LUU0Pl4kiFNPLEVFBZfHx6sRcpjTO4M2g5N+3tOOpJzHCqAHDq6IoChdmfUzGjd/BBa9C79FC4zI9IDO9T6GiBc5GR2HBe9/yr/e+4bxH1hvnvDlyYvJpOmu/3cmPXUfwTr97I+7HcIMDLH4ffcfCjM18PvIZpjVcyYSGmxheP89RUK/F2BhIKNaPufDrFNV4WsOocDS2/H+3Zj+ckiVGWEeE1vTqSCRhSENFEDMJ1FLbA5XFvmHC+1IV6KZUWOalLNcKGF4/n0uUW9lYcK8xQXmdewRB8+qwUC0mPzhB0uWBqulGSeuQ+n+FTCLBHh5nScDIB3KwR0NFY473EZuSaGPH0xr/E+GVcPIwBf7cuwueHIs+t5/xkPXj1lPJirLKOqb8dyOfHiX4oPZjF5IJvH7iX2HSMrJu2MIfzr2cvKzmsRWoW8hXKuz3gU5SbSmen4vh8JONrraCGPeYkcOTlmRMbOHqsWaoI9hYKdpcyvC73uWch9cx/bkNXPpRN05qmM+EhpssDQ4FQu+3kEF4+CZtAEu0E1in9XUU1BM1Ll3xG0hMWgZn/QdGzXZMCA++TlGNp7WMCjtjK7Nb6yaxmgm0tW7qy23g1ZFIwpCGiiCmrgNYP5beDvOOiGCX26Kh8s7eXoxb2Y3iH3YL6bKYq8NbvE8xc/SRzQmSqgffqDsDSbghx/G/8LfGi2iySFcyPTy7bMITdg/k4If8VM8r5CjWeh7GHnTLiSL4+BEepjD0qm3oL0wMGCtORqXtPvz/XvHJgfj++ASkxqlnS27vQHiisF8+q647hWcvHcK8CQO47ZQuYvsw3eyuq3iLw7Obmnqf5XvhoY7wcJ1Jk27kuYQbHE4JuYHjCxqNsRiXtgSHhgRX/uG/RaHxtJZREW5sTVoGMza1npHimEAbTBt4dSQSC6ShEgWmrkPwqhiMxMTJ55wT9STilIdhPjKWrdkgvD9zdViY+g1s/cCobnh3MSe9msLlDdMp1d1d+OEs1wo4vv5B/tE4nl16mMFi80A2H/IqGhclFAmN3c5oMz1Mn494mobELCNRNfy8AV3X2bv0r6D5HI1KJwJu/+ThcPUWSO3S8krisInSrGA5Y0B3eh3eM7p9hKzixXDL9THP+dFV33H9ok2O5xtui+RlJbsmnroZjY4emXggaKiY1ynq8bSWUWGVh9NauCbQ+kntHJ0BpvkCzyG2fhARopVIRJFVP1Hi2M7dc1dQ7wt7TGXQcBl4q/4zX9WmBZq6CfPS5ID+iFHd0IlnlVO4q3ECnZUqduqZbPfL0Du54000VO73nckC37jA+M7+7fEM/91Yywforj2GmFqBuoVOiljDRLsJVQG6ZqXSs2sCiQ2VtpaHqkDK3jJ836/Gc9hJIWJhTom1lmOproOEznza/xb6rzEa4dl5hBxbD7i5yPcINDkM34e5in/jWsfEx+CqHBH+/rp7ebymw82n96FLRpKw7ki4wqxFRxhHj0yLESyXLtZ6i43HTq11X66AEU2MLZwjbqTsK20AJPsE0lCJAdt27na9LyzoRA3jkjfwct2xgLVs+zY9h9saz2dvcldS6soRFrUKE0nLZxd/8S4K2e+sxom2Ropdw77gUtdzDhtiaaT4NJ3bX/sCEC/bbkjM5sO6yAnVnCrG9s/ntmee4e8C+/r2u2/pddhJQKRRuaO6PjA2p/PNTRuET9O54pMDOaZxBnO8j5BDTcTnXL+NfmfZr4Q1H7x5g3uPpVGzLWXLi3zH8uPi27m06TlDV8dCfdaq91JL6ZKRxBkDukf1GTuj0alE2pJYeuo4lUv7/zWvk6uOyv46+YomxmYIfk9SME4SZ2T35NbAdHk+fy40WHsUdBQaUvPoU3EPI9WPHDsMlx51Kd1LHiFekqZ2XWzBMJhmJT5FXlADweDOv6aa6arrTrFcda79difnPGxI5It2vC3tPoqbtw3l3b09QybWTqlezj7+QH5Y9Tx3eP9DF6XadV8fnPAYCYf/xlJt1KfpDL/r3RBVXMu+Pqmd+er4WYx603D/q2hM9SzmooSiEP0adzVaxf6hvPUDeEKgimfSMkt9GlPMztrADdXViSfPXjrE2kgXoEVKsC01Eiw+r2d256uBf2NLp5Pdx2M3+e4PnYI1H8zt56BBoxjXesYmd8MwsC+7hVoU+5Ls94jO39JQaQV8ms6Wta9z1Fvnum47NeFW/tY4315YC1Ayu6OMmg3Lb2hRB9+Q/fpd3sPr5wWMA7OM2BQPC94W4Aq/YROelxA8AX29vYZ/vfcNYEzwq5KmCfdnCTaITM5M+YR7tXuN/Tnswzyf3ysLqKxrrvKwktWf8vQnAIHuwFYVSTrwUONo7vQ1f4em5+UEZTPTvIvdTwiM0M2MTfhQKf72F3zfryZX2Y3yyxaO+FJA+fes/xh5Cn5MYyvYM2HnAYsnbgZqqxIvIyHWLse/hsk3cI3BMkAneo1bYIBLfn2Izt8y9BNnTDXWQdViyqpX9Syj2xaH5m8AVT/jS8mheMz7+L5fzWE73yf/xyUowaWEKZ0s++LY7jdMgj64z01Esqpf9OvWxKcYd9alIUaKVZNGE7PE2EqB1XwUBh/LLLE2PT0qGtdojwbGYEdwqKNSCy1FDVcbNcMQty/ZxJx667Jpk8sSlrFRPzzQP8cMfeWqu+0HE07VzxSvWMrLaz5nWuMj0bdaCHPLW4nZ2anPxptWzSWxI56S7tHkkgQbNTXbW0etNVbDqTWwC1tndjOqfES9RR2hDYBkv0MaKnEk2CVfrmYLfabnARkg0OZn1jPv8mRNNUZm7Ui6Z57GfSfVUnBAk/GQ0zV4MnrXs5lHItItN4+dFKZvBQ4E7PvpBGPXHA/sDSKz2aBoR+kKMvlb40WWoQ4zB2TW0hJO6d2Vj3/YRX2TxjNHriZnU2TeScjYFLjd+xjL6weFeCiiVe397J3nmJ3wRuTY/BfOTm6/MS2fpLBk3Fj1RszsjKtGHMGhXdIor6rn769H5uvY8aeTeojnksST9pB0twoziRDN5NsR813s2hNEYzx1hDYAkv0OWZ4cJ8LVWN2UVXVTOEnw4fpVbRpguPmHqCUcV/M+/3z7a4oYYuzj0OHomd2Itn+zOekK9yvyP4yd+umEY5YYT2i4ifmN4wD7BNJgAS7RMd3eeL5jPoZZgjtkzjuc8/A6rnruEzI/e1ho312UqgiNl2hVe/+QsAqI9AqZBoqd3P7GftdHTBKieiM5aaHuvLysZB48/1imj+hFUoLKYx98zRC1hLHqGoaoJZZtAIJZsrE0Opl7K2IpV23rFboZAoklxCo6+dodw0w2DRIvbHNaWhbdEdoASPY7pEclToS75J3CHpoOiqLjGzUHz6HDncsngTLdKJ+0SpzcvmghPvU+3tILWFF7PrP1uyOqQKwI3i9E4SXwP4zd+ulEHk/l+/SBTOqRDF8udt3ezLcQYbuLIJxJxZ4GILqyaXMswQR/t04JtToKO/UMuihVtvu2+qzZZHLykWMi3jN1SYITgkP2h2GUvP/X3/LxD7siEleLNpey+JkHecn7JN0SQyvMwvODgikNbjwYC7F6ENpyhS4sfBaOP0dFZPLd37sTO1RZScE4SaxIj0o80Hz4vlsZsTq1U1YtozOXN8wwhMUcpLh1FNCN3AuzMigvLHxygL4T9cWJLH7mQZ6rGWB5vPBHohkO+e6gswKvuXkJzGRV30FDAfsQhOnxMa/Fn08+lHkTBnDViF6AwhObxIybLspuPtJ6uY5pmx6qFRJ+fCtPQbTdrq0MJlHV3sU+8ZWjphv/3dZ4Hm/pBezyG1bBuCkkg5FLkpigUtAjh9yMZMqrDSOjoUljxeJHecDiPmpuwbDO9vrFLHPfEg9CW67QRYXPwo8P4pNvNKGsfZX2agMg2W+RVT8txWKlaOqf7CaTXHbzC8a4DqAqpCpj3oQBzZoUFvupTcnjqsoJvKUd71g9E17BE1wFcohSxvne9+iKtbhY8ErarPoB6zLpKY0zmHzxNIYe3jmkDNnEyuNTn5pHSf8bOfM9Q+U1mkqgbXoOS5pO4E8JyxzHZHoB7LRowj0FomXTxvjz6VNxj6PmzFTPYqalvY23YXfzG5nd+XLg35j51jbhY5nnZX6XOqqt8qtVEnNwhZPV+11SVZb4rnC8j3RUPEqzcbJDz+Cmxgsp0oYYpck9sqPLYYhHxUy8KlLc2PQSLLo4us9kdo8u2VT0GGHVXvskHSlZWNIhkVU/LUXkR2ZTNmmsTueHuPXNCTO4OiMk38Aike2Rb7qw/J3vGKKWuCa6BlfwhFeBLPCNY0XBRxz82dyIz+YpoZU2VomvZihiuVbAaf5Vtak+axJs5ASTWLudAWuncapq7N+xEigsjJJHBX9KWMa/m0YzNmFNxJjuVS7kTa1ZMM/q+OGVRNDsPXI3lhQSTr+LrktSbUMtOiovpZ/LjL8+BD+tDblfeqLy09q32FYvciyD4O9yvdaXWUtLGNk3L6Laxkkh2S7JuWfd5pBwj9WxCfNAdVGqWeidz9OeHymoa4K510cXvolHMmy8KlLciDZ8lNoFpm2AhCiko39Nyab7umKvpMMgDRUrROLpDrFmVYlMkAyeMN/UCsgz+4nYGESvf1bKP98x9D5EQxVO2x3w1bOWr6sYU5NZabNcKwhU3FjpcuRmJIeozxr7aC5tjkgYRQ+p5NFQbQ2i8HwNswpobMJaTqqfy/HqVyFjmj6iN7z9FR6H44dXEpkKu3bGUoCUHHyj51KcPJzf9yvj0dXfO0vAJyREPJQ9wM1jj+a2ZybygNOxLMhld3PvIZvcECuFZKck52hDXsGcry1GeXFx5BtuaqPxSoaNtSIlmlW9i9x+BLU74Kf10U3GrseIIt9FIvmVIA2VcETln11WinaT7kzvU7xdf7wxuW1ZamkQfdznOq5ceUDgJdGkUrvtCtQtpNTZTwRuHhmTnDQvZVV1PL56a0hIQaS0OXj/QMAgmuwp4hbv066fPV79KvBZM2H0ylN6cmReOktefYFujdEf37JsOjEdDv8dxQeM46pXU/i5qjm8pYQZoCIS8IX98uHcy7n25QSu9j0aUaJtR/B3+VZJmXASq1OSc7Rl1SbO6rsuCaDx9CBEu0KPNoE3JBFUkGirjWSyqUQSNTKZNhjXjHyMB7Lmi6kc0iy9/e9IHz1+eRf9hYnoYcaOXlXKwHXTGakUB14TSXQNTyo1UYBeqWIVLpOOdi59rdjTyFXPb4jolxOrx0dDZYeeHdVnwxvHFfbL519jugntY4Tyccjfb2oFnFg/n+KTnoAhVxiu/IYa+OJVClZeyIv1lzFKbf4ezOt/8bBDefbSIay67hQhbZHCfvnMvvFv3KdOZmd4B+owrL7LR1d/T9Fm+waEwTglvEZbVi2OQwJoe5WrRpvAa5ZO+xrg5BuMTsEixBKikcmmEklUSEMlmGji6S2IIb+x5hMyVtyErkeqnih+g2im96mQiotnm05BgYhJxqkBnbnv0ScMEBrX74cM4MHzjyU/K1moesakJR6faD+bl5UckWCqZuQJ7eNi7xshhkdeVjILzj+egjwV1i00XPlBmOG64M8owOuby6LrUwMkfrWMu/X76GTR3NDE6buctbRESMfESWfFDHkZ/78VsDLeHaraWs2DEM2CAwyjZW4/Q/p90cWwYjaoXkjKcDhIFAaWlX5M37EwY7MhJX/Wf4x/Z2ySRopEYoEM/QQTTTz9qD9Qn5qHd0+ZcN6BiaduJ928YqGKLGpCKlnCDxWc6BqOGZoo6JsLG5y1WupT8kg5aDCFP63n1AFv4dvwPN56MZ0Nt+RUTTfUY7tSwRC1JCTnReSzZXTmq8R+XDX8cK485YgIA6GopgcD6WyUarskx87Pfp6iEZPpubeEPhkVqClfwqvXoVtI5Vnlt7jljVii+di79K8koTuOrwz7ayx6TDedlTe1Am70XsuclKehOqhBH0rASI4ZO+O9FZNhLRsdRrPg2LvLOtRbsz3otRaEaNzCTzLZVCJxRRoqQfjSchFZ1/nScvGoHjb2u4Hj1093rV4xMUXWdupiZdQjlI+5yEJ63VxY39d0Fgt8fwhM+qmJKg+dfzwVtQ2R3WAL7zJCTRbicwBPVB3PpH8cTcreMlQiXW1W1TPN5+Uiboeh8Dov8QEg1Ohx+ywYHoZdmsbct7/myLwMw5viT5Lc+MUWHl+1m1c5nwXeeY7XU0EnqbaUM94eEeE9cVTKZSeD1RJ01EAyb3nV0YBg3siKpRTsLXPd7i+Nl7NW62f7vkiuiqmzMuXpT2yTf08edxFK3+tDkkyVPb+gv3Qh2Ny7TnL/Qgmg8ZBnD8OuRPvB/t/RX2QH1aXw9kwcxddSOoE3OTYDSzTfTSKROCJ1VIJY+3U5hzw92HV1/8P56xh6RC5rv93J4/+ZH6HdYfVQ11HQdZ0pjTOoJF1IW2OnnkEnqoW0U0yyU73ceebREbkTDU0aN87+u5HQGaIz0pklTUMNrRLFORZod0yTUWoxtyU+FaLZovv/R7EwQMI1UMI/u00P9RYpQLdMLyuHfoKn+MGQJozb9BxKfIcwIuFThzOInV16Op2U5rBNfWoeSaPvcZ1ofJrOrNmzuK3pPtdjTGu4kiWa/WTfOS2R4r+NEAo5uemsWPH101fR8+tHIztJBz0hbBNrh1wBR57WZloZdiXYCjBYVCdn1GxYfqP7dhe8apxTtNVG+3vHZYmkhUgdlRgo39PI4wKr+yO+q6B8TyNd0pLYmH4SJ1Ydz6Cgct5OVHOz96mQCo+9KV25qnJCoCuwSKjESXrdqpIFYHdtI5c//QkPnDuQrJRE1n27HeXHdZRt+57/NWRykhZa5vuR1ouVSTOMfbpcH7tj3nx6H7pkJJGbMYQuh9xs6IlUl0LRDVC7w7ECygypvKkVcNSwCax5b5llWTTAqWoxc+ofwfN+ZJ5HHhXkeaLsTBwF2WG5JYm1221XxcHhiB3V9UafJgGpDbd8nZ17GoRDTk46K3bsGHoT/yzJ4A7vo3RWqgOvmyKCjtU/6x4w/muDxnpOJdg68KHWm+10JpcKm3CW30hIO8DiPQtqd0QvvtYezRQlkv0UaagEkZuRLCR6tvy9bwOvZ6d68aGyXusb8kh8s34Qg9Qt3DA8m/59erOx6UiW/+dDwD1UAob0+iUJRe5jtqm4ueKZTyOVWhObwy7myt1NTM7pmGaZ8ORhPfCgGQ/dL/yrzv9v787DoyrP/oF/z0x2SAIBsylgRGqMIAUxGLAVlSVtDKWtWvoCora+bylcgLEWcIGiQkQUEUWo/l4r7gu+KqCCFFkaWYJgLBgBS6NYIAlrJmxZ5pzfHydnMstZZ8lMJt/PdWHIZObMk2Gcc5/nuZ/77pwhBykax3APer5PHog5xXloaBaxSGVbNNBa0E3veKIEOCUbBIiW84a0aC15CCrbcp3NzXj/g3fxxd5v8F1jsivQssFcHo7ari1vVsrY+9RZEZ1AlfbSS35OGkqSb0B+3bWuwLu7cFp3+7iPNljWMOoz5YQNsxsnYHncM9DNL0nsau4J/Umcb+tmikRRjIGKGyUR8dO61qJnGTiJboIDJ6QU1KEzbBA9rvLrzjUBAFKTYnG65e8AkJ6ahDuLx6N/yzR7vih5JDkaBUR16IzfwzhQ0boKN1up1Z8iYLXo4rlNWK0eTKL6uLw9clN39L7pJthtArYdVC/z715QTu+qXqmsKrX0zAk0WDE+RutV8ZcH/o2sbXNxK07gVsAjKFwn5pvKw9Eq06+wQcTlZyuAPdus53iYqCnint+iBN6jbVZ7zoS+sZ6ZYG2dmI+d+YuRv2+Bdn6J6Ays+JpeMbmOVIGWKMQYqLhx/6CWYEMqzmBG7Fu6vWOUBn8JMTa8/vvBOH6mQXWaXS3JUa0K7E4xF86WqXZ/r8L1KsV6L7tYKQLm/pyuYme2neoJg+dPmzrmj3pf7hqk1o4Vo4Jy3v63+Wf4ecwOz+JqSd19EmiN1KGz7nZixXefv4v+366Qv/FqAWClPYEeVw7Perdgzuwyi4WkzsK+WVg2fqArv8W/InGhXdbQ24LtznlFMVA4QTuYCKT4mlHgxwq0REHDZFoVa/cexaYPXsL8picAGDfDU7x5z3WG+QNqSY7ulIRHAH6NATDfdG9s40MoF3NNNQlUNu/uzF8M5xXFciAG0SBhUI96MuHaPf/By2++6ZGncottO5bEPWf6yGMbH8JOMddj6Q09BgNL+mtv0Zbk7cH3Nf3B1TxSgIg34+YbPt8ppCBVclhuGKn8filJ8ag716S5Odi17CV4705q+U5vmcXPpE5Xno3jLArXj0DcuRrr25dD1FjPKUq4fsFnqK67AEHl9ZRgQ2ZqAspm3GSu1o1q0KHTbFAr8PP+92irZopE7RSTaQNQmJeOUZ++Bjh8t62qJYIqquvOY9vBE7rJi95Jjt07xQMCVGdiRuQ9gG83X4qeO+Z6lMA3ugofbvvC1O+ZjtMQYcMi+91YKD7Vcqv6yUhomTLPd/9grTJKGDTgfbVauQqF62egMM6zE/WbzTeaOpz7jE+G19Kb/HzqV8+tyy93eGwPNprVAgQ0xndF14aTmvub9doTZKUm4PmWoFRtO7Eyhrlxr0KA2lOYWGbxM6mzNb+lGxC/UGPWwUCIljWU2ckP3liO2Srdsh9pugNjiv9gviCfla3ThsXk3P492qqZIlGUY6Ci5vutEHQ+3LV2vzz60Tc4ebbR9b3WdlC1ZnJq7DYBV9w4DrhhrMeH6D/P5KBs5V6gwelzhf6F+COMsX9u6tesRRekdYrF/FkPQjjQ3/cDNak7cPXt2ttOA0kEHDbL84Na4yo1SziFktj3ICWmQTh/yufnCgmAIAj4T/5svH7FEPUdLhonjrPxGfjTmd9aqg+jhA2HLrkFlx98xfDXVXKBWndIeQal7sstii6JsXjoqhPI3Kueu+P6zfWWWYKR1Kl1wtUU+mWNQttOjIp7BpJ353LhJJbFPQPBdg0AC4GA2T5CVgO/ENSPIepoGKioMfnh7p2I6h6kAEB13QVMem03lo0fKM+iHDwG53efI104jd6X9Yb90qHmPrC8PkQLAdx0ZTb+/Ohj+DP+5nFFeVxKRne3raVajkspKBdz8fwv+yEuxubfB2ogV8zderf+Xecq1Xe5Qf2qXkhMA4qf8ZzxUY7t/jvlFvn8nkk9CvDVE5sBh+9ynJJbMjfuVWTCOz/kcTScsgMmApXuwmlcnBIr75BSudLX3E789XvAXsPDa79ng5XU6f3+OHEQ2FTa8kM/q7b6q+X9IqhVE1b+EqpkXn8CP6vNFInIAwMVNSY/3I9BPydGSbSd+X97sOmDlzC16f+1BhVlQENcV8SPXgz0HWN5iHEH1uBpYRG8U4zSYBykAMCHzqF47r8Gec72GHyg+pQr71UAu27CoA7319jwKhXA+ZPAsAdwfsdLSHSr8npK6ox37beg588fRmHeJZ6PMdk91w7gL6PlRGeo/CbrxHz88tf3oLBzlU8Ql9vcjJr1xuX7Z8e+hvvtf4d9n3aRONWZtkADjWAmdXq/P9KvDM+yRjhrlHA3D1GbY6CiptcQSCnZkBxHdDeMLopdjqfsd2PluYGa95EADL7wOearbBWObzwFaeVECEemAiMfVT+A2hZIoPWKUmVXjxlX3TgW1/bNNMypUWhVOn1+4EwM2DYN5vMXVE6MJq9Sv/vPYdx86kmP4npK8iRe/wrLxttbAy+L5cu9d7u4/46ty3degRAAe0wMjhTMwUVbpxq2Ukg8r10kTlOggUYgO1uMhGtZI5w1Sribh6jNcdePhv0bX0efTX8EoH3yF1tORH9oVN99A8jJkHq7alxtz25bAVw1xvOHWjMCA++UO7z6QWlAuPnnGzB3zX5TJdb1ypUDwP/deBwDvn7cRP5Cy4ly2APy0o9yYvt+q9y51sBJpGDQhedV640oxefKZtxkbjdSysWq5ctVm9yZiP6+XLcC2dvmerQAUOdH6fRg7B6xurMlklX9w9T7BRPXhGbJhbt5iILC7Pk7IgKVpUuXYuHChaiurkb//v3x7LPPIj9fv66EIlSByocVh/HxOy9gTuwKZAunNO8nATgqpeH6hiWqJ1CzW4WR1B340wE4YUN51UnY96/GteXTAZ91eIs7LzzGKh+pouAZ/Gpjd83AY9n4ga5gpbFZxHWlG3zyb9wfk5magLL7b4D9h22tV9bnTgDrZnkVgUuTv553q2+Skg2MLAU+LpEfY2Bs40MeCczeycTT7pqIgpj9YTmROZubceiTp5Gzy8S/t9XnDkagoVegrD0RncDCyz3fRx7aoI9ONAV+RGHSbrYnv/322ygpKcHy5csxePBgLF68GKNGjcL+/fuRnp4etnEp5fQdTUm6tTQEANnCSUy2f4Bnnb/yPY7Zyq/njqN802pM25GMmrpzKIufCwmSyiyM5Mp9MeRV5ExIyYZzVCn+uKozJPgmjirHnbu6EiPyMrG+shoPvL8HJ882+dzX/TFH6y6g/Ps6FPT2OvFeWaySfKmyFLPyTqDPSODbdYa/kvvr6dMiAMD5914Efvxrw+MAAPZ/rB4s+HlCt8fEIOfSHGCXiee2uiwRjGWWaEnq3PeRTpACAFJok3kB7uYhakNhD1QWLVqEe+65B3fddRcAYPny5fjoo4/w0ksvYebMmWEbV35OGjJTEnDRGe3GgO5KYlbigHSJzxKQlcqer/19J46KQ3CdQSVWJUjRLvHeckU5tQL4YYfHB2l51WkcrduueWwl8Hjus39h8d8PmJ67WV9Z7ZsIqpwYlaJjerUnDps5u7e+nlotAhIu1MrN8cz45zvAyMd8armYScDVFMpky3AHGpEwI+PaIaYjMU0OIkIt3P8eRB2EUcPckGpsbMSuXbswfPhw1202mw3Dhw/Htm3bVB/T0NAAh8Ph8ScU1u2txpmGZvOBhgD8JfZV2CB63Fwu5uK4lGzqELXoAhtEDLGZ2Y8qByyiz7nfLUEyJk7+IO13q/zVZjfd1O5vn1dZWmB66fPvsHbvUfUfmtmlce64PAOkMVckQUA1umGnmKvbIsBS9dRzx+WxKZTcA++xKgm4lauMj6kkW2rOeQnyEkF7S7asXCUHmytuAd77nfx1cV9zr0kwmd0h5v7vSkTtWlgDlePHj8PpdCIjw/PqMiMjA9XV1aqPKS0tRWpqqutPjx49gj6u0o8r8cc3duNMQzPKRbnzrW9A4EkAkCXIReAUSv7Eh81DIUmtnXjVOCUbbhS+RFn8VEyN+cDUOBc134pqpHnemJKtm8xntk/K6fPayz1qlCUjp9oLZXaZ4+rb3Y7meXQBwNGCORBhc/X+CUqHZGVshhVHIdfmEJ1wihK2HTyBDysOY9vBE56/s7LLRuP3ABD6ZQl/iU45UXXPSvmr6JRvD0YAF6wx1WsEw97YlZgoaoR96ceqWbNmoaSkxPW9w+EIarDy8T+P4K9bqlzfu1cnNUPJoVDLn9ALVGwQ8d8xH5l6DqVU/FLnGCx1jkG+bR/+Z0ASbhx0teF0vNL4T6vXkL9cuSpVJ/2vBRLbSa5Yu/tl1docA/JGY9nFR7H1g51Ac3DG/bUjEbmiBLvJ2hxKHpHubqn2WDpda8lrZCnw6SyYKhkf7OBLbUxJxhWdAbCOCVEUCWug0r17d9jtdtTUeF791NTUIDMzU/Ux8fHxiI+PD8l4nKKEhz70XXZZJ+bj6eZf477Y9wyPUYsumvkTUst/vGufAPJt3nU31LT2pZng2mW0XczD5bE9kSBmo/af1brbau02AQ8XXYk/vvGl4e/iD9WlJcPaEy3+sVD+mpAK9B8H9B4GJGd5BF+FfbMwIukm4JWnAxqnEuwVrxaRseUzLO//b/Q38Tglj8idewVij2Al0GTLtsoJ0as5s3KiwYNDVFxNa0yGO8NYx4Qo2oQ1UImLi8M111yDDRs2YMyYMQAAURSxYcMGTJkypc3HU151UnOHy1LnL/FfMRuRoVUPpeXzNA11eCj2dQC++RNGSxVGQQqg3ZDww4ojeG37Idf3WjVRAKBrp9AEeoDG0pJu0TEVF+qAr14HDnwCFD/jc3K2XzrUXOCjQfIK9qrrLqC07DTeijN+rFrOkvduKVeAGEiyZaBJvWaZWfIyI5hLLbpjchfkAnZEFJHCmqMCACUlJXjxxRexYsUKfPPNN5g0aRLOnj3r2gXUlvQSTeUloPHyR6PK56cSZDwSuyJ4+RNeljSNwfUNz6gWl6u/4LkWolzlqyW4ev+eNoi4zlaJ0batuM5W6ZMQbFZmSjzyc9LUf6gsh6T4Bk6azp9Uz4Ewkwei+jPZKXTGpKbWIn0SgJ1iLmrQTaV7DFruI+CIJHdmVv9569JXwIKRE6KVb+LNTHKqGcFcajE7Ju9lIIP8LCJqn8Keo/Kb3/wGx44dw+zZs1FdXY0f//jHWLt2rU+CbVvQSzS1QUS2cFJ31kMQgO4IzS4kANgq9VUtKqdG8yofnr+nWi7NESkNc5vu0Ky2q+VCs4j1ldWqszgAPJdDqjYDWxaa+03UciCM8kAAn5+dkjrjpeZRWOr8pc/r6IQNsxsnYHncM9C6UndfbtNidleVJsMZDhM5IVZmYwKeCQnBUovZMRWWykuDrGNCFNXCHqgAwJQpU8Ky1ONNK9FU7WTetgTUxV2ELxpyvW7VnxzXSnBVfs/+9VvwvEouTSZOYlnsYo9ZBzPqzjX55mp4U5ZDrJwgtXIgjPJA3H5WVm3HHRtidAONdWI+duYvRv6+BT4n+QMDHsS6dV0Mh2p2V5WmQBvuWexxZG0mpI2WWsyOKTmLdUyIOoCICFQihd0mYE5xHv7Q0kUX0C4spueElIyuqFdd/tEu0qZFvnPqmKdQ+aMivLrtO3x/8hx6pSWha1IcSt79yvAI3lf5dpuAObdcgatX/h6Aei6NKAFzYl/F+oZBQZnF8WF1qeBMjUYfHp08ELef2ZNOQNygXehO4byiGCic4BP8XA4bsrZ/huq6C1qt6JCZmqC99GVWIA33/JmNMdtkb9R835YIodrFxMZ/ROSGgYqXwr5ZuHd4Hzz9928Rg2bMj/1fCDCX6ArI9VBWNv8U/x37kU9QouzYOSMloBMuqB7Te+dPfVw6kn6xEPbcIsR9/zl+16UGuCQD6HUltlWdNjUmtav8ws5VgM4MkU0AsiHXhXHvrWNEd5uyO9fJyFx+RPmxGExb8JmpJopqlFkkU4GGTfAJfuwA5hTnYdJru7XmFTCnOM9UA0NdgVS29Wc2xmx35bzRni0RQrnUEsqOz0TU7oQ9mTYSXdq9E0bZyrE9fjK6CfWmgxRAzmW5J+Yj/LXpFp9ibNXohklN03Ff0x8gwbeqrCjJH8lPNf0aUxunYGzjQ+jveAoPvr8X5xfm+VQFzb9QhqzUBL0aqMjSuso3eeXu3lvHyinYMFfDIyFWj4DziZn47ad2nyU5vYRhb8psmXxE72eQGQUahX2zsGz8QGSmegZ+makJ+stdVgRS2dbf2RitRGfv5FRlhsqt0nHImB0TEUU9zqioyD21CcUWl3sUSj2U0THb8NOGxRhkO+Dq7Fsu5rqWUSY1TZfzXtA6q6G29XiUrRzzmxYDTfA8dzmOwv7uRDzf0gnZ8lW+ySt39+24makJGHttDzz9928NH2cqVyNvNHD7q8DqqcB5tQ7VckH8uU13wKkSU1taakJroDF3daVH0JNpYWamsG8WRuRlqixBBWmbVyCzCYHMxkRik71IHBMRtTlBkvTqpUY+s22iTROdkBb3heQ4EvB009jGh3SXTZQS+2qBjPLzsvipyNSo3aKs1a8d8SnmrtlvbVlEaRSokwcgpWRje/Em1J5tcp2QAeD6BZ+htu4crlUZu7KEUjbjJvMnb9EJbHkS2LHMM2BJuRj7BzyIUSaSWN+85zr9pSY36rkuIdhPHgjVnTsX6+eEmPg3RUo2MH0PT/ZEFHZmz9+cUfH2/VYIjiOWljm0uC+bqBFh0w1k8g26KCs5B4WdqzBixk0oP3gMzu8+R7pwGr0v6w37penaDzVx5S4UPo6CPr7HeH7gf5Cx9S8+W5ofadnSbDlXw2YHhs0Afvonn6vnff+sBlBheAgr24LtNsF0UBM2/swmMLeDiKIQAxVvQaywabrzsgajQMflTA3s+1ajwP0KvAzGlUz96UlTuQoDtk2DJHhesWfiJJbFLUZFwRIM8DdXQ2UHj9ntvgFvC45E/lS2bY99hoiIdDBQ8RaECptKHxm1KqYmCsi7mA50ThwENpX6HFlqqZ0h3rYC9qt+of5YK1fubttfvedLbIL87AMq/gKMGB+0q3ZLu3VIxtwOIooi3PXjzWDXhXdGj/f33k0DlfL0d3TeibdGNCE7Jdb0UMrFXByR0nx2B7k/17mEDLnbsMppXIAESZJw7N17sXbPf7SfyOxuDoPtrwIgl73f8qT2c1kUjN06HVJb7tAhIgohBiredPrISPCtp+L9vbIFeZ2Yj1G2cpTFT8VbcY/hkeancd0/JqIsfhpuTdoNM+T+QnfIf9cIiI5f8Vvd4MEmAJk4gZfffNPUNl5dZpfFdizX7i3jhzbZFkxERBGJSz9qNNb5ja7Zv7l6Jn6/7xocbmhqrWjr/aD6o3hCehL1NnPl6deJ+ZpbmZfE/g7ze/8IMC5Oi3ScNr2NV5PZZbHzJ7VLvPsp5NuCiYgoIjFQ0eK+zv/NKqD8BcOHXNmnD7aMGYHyg8fw4/fuhXBBbblCggTj8vRTbuyNc41OvPT5d/hUzMf6hkEeW5l3irlYetsg2Dr9y9SvU4su5irG6uk1BEjsApw/bXzfICYlK9rFbp1gEZ3MMSEiAgMVfe67LkwEKkjqLp9MY/YDF7RP1Grl6b1rqgy97FoU9ElHfk6aq0CZct+s1AQsVWqk7N0BCDZAElWfyzuxN6DuvjY7MPiPwKb5xvcNQlJyVPAn4LDS/ZiIKMoxUDHDsElaiw8nyScTZ6Opwyrbj9W6M0urXwIKF6Cw72jtJY/KVcDKOzXHJHkl9gJB2Mb70z/JOSjnteq7sGGciz8Bh9Xux0REUY7JtGboJNh6UE4mJw6aOmwturhyWTLheeIXHEeBdyYAmxbA/vV7KLBV4hdXZ6Kgdzc5SNHtlCtzwobJTdOwTszX7/tjhc0OFD8D9deBRcVclIDDO9FZeY9UrvJ9jGH3Y8jdj4OYqExEFOkYqJilJNgmZ+rcqeVksutlw8Zy5xMzcbhTX8yJfQUAVErktxxr03yPRoSuE5xhp1wgRhBxCsmBbeMVnUDVP4A9K+WvotOtYVy2533ZME7mb8BhpfsxEVEHwaUfK/JGAwmpwCt6J2IJqD8CDHugpQibeinzxOKF2JTQCfZX9Erke3Gf/rewvGSl6Z4Ho6ULFhVTZyXgcN8Z5W/3YyKiKMYZFavOHjN3v269DdvU28/WWnxyt6vxTheZesT/FA1B2Yyb/AtSjJYuWFRMnb8BRyDdj4mIohRnVKyycjLJ+Yn+rINfJ5yWq3FJMkjwlZNaryooVFtX0me4dCHIwVJuEYMTNf4GHIZJ20xUJqKOhzMqVhmU2JdPJhe3nkz0Zh0Mj6Xj3HGdBF+TSa1q+ScAcyUCZfU9otBN2maiMhF1TAxUrArmycTsbiI1nTPcklq1l5c0Va6Sk3NX3OKbrMtcicAE8h4J5N+UiCgKCZLk3VavfXE4HEhNTUVdXR1SUlLa7olVE00vlk9AVk8masfS1DL9P31P64lOmRn5vkxeMcj5CXDp9drBklatDuUkOmyWuaJuE9cEtUx+1AnkPcLKtEQU5cyevxmoBCKYJxP3Y5042LJjCFDbMeRzZW2lsJjolGdONIMiAUjOkp/KKFfCPVgidQw4iIhUmT1/M5k2EO4l9oN9rPQrNYIPt6tx0QlseVJ99kOrkqmZ/BMT26uZK2FSMN8jREQdEAOVSGVUp6RyFfDJn4H6oxoH0NidYzavRNlebRQsBZFTlNgdmYiIPDBQiWRaV+OaOSbeVAqLBXN7dRCt3XvU1XxRkeVvoToiIooaDFRMCunVvpU8BhM9fny4z6JYrdXRBksXa/cexaTXdnuMxgYRvep34+M3PkPa8GuRP6yYS01ERB0QAxUTQnq1b7XDrokePz7cZ1GUrbPv3IFIyD9xihLmrq70GIVPN+ktgFSRDUGv67AZTGwlImp3WEfFgHK17x6kAEB13QVMem031u7VyhExwZ8Ou5Zql2gUFougWh3lVSc9XlutbtK6r4kZenVjiIgoYnFGRYfa1b6iJVUVc1dXYkReprVlIKXuyeqpsFym3mrZfa3ZkdwiID7FfO2VEKmtbw1SbBA1u0kLgZTu18rp0doZRb44G0VEYcJARYf31b43CcDRugsorzqJgt7dzB3UdHE3jQ67hjkmLfQKi6mN4avXtZebQig9OcH193zbvtblHlUar4ke9i0KnNXlSSKiIOLSjw73q/1g3E9zqUeP91KPmbL7wx6Qi7FpBSlWl5tCKD8nDVmpCRAApOO0uQdZWf5i36LARNj7hYg6HgYqOtyv9gO+nz+7dQD1pR7NHJOLgdtfBYbNUJ8dMJxdgDy7oDQnbAN2m4A5xXkAgFp0MfcgK8tf7Fvkvwh8vxBRx8OlHx3K1X513QWtjbzITJW3KhuyvFvHa5uwN6OCcH6NwY+llSAo7JuFZeMH4tFVsTjSkIZMnPTJUZEZvCZqrNSNIU8R+n4hoo6FMyo63K/2NXrgYk5xnrlEWqu7dQDjbcJKjZN+t8pfjXIsInh2obBvFrbMHIH6YY9BEARIgXamVig5PZrdqTV2RlFEv1+IqONgoGJAudrPTPVc3slMTcCy8QPN11GxcsUeqm3CET67YLcJuOLGcRBufwVCsLZO6+b0sG+Rrgh/vxBRx8DuySYFXJnW1bVYZ7dOYlfgthWh2yZsOIYI6ooc7O2wqjtXdHZGUft6vxBRu2P2/M1ApS256nkAqhVh26KeRySMIVxYC8S6jvx+IaKQMnv+5tJPW4qEirCRMIZAKQXz9qyUv5rddWI1p4ei4/1CRO0aZ1TCIRKu7CNhDP5g8bHwaK/vFyKKWFz6oeijVQqfyxBERO0Ol34ourD4GBFRh8RAhdoHlsInIuqQGKhQ+8DiY0REHRIDFWofWHyMiKhDYqBC7QNL4RMRdUgMVKh9YCl8IqIOiYEKtR8sPkZE1OHEhHsARJbkjQZyi1h8jIiog2CgQu2PUgqfiIiiHpd+iIiIKGIxUCEiIqKIxUCFiIiIIhYDFSIiIopYDFSIiIgoYjFQISIioojFQIWIiIgiFgMVIiIiilgMVIiIiChiMVAhIiKiiMVAhYiIiCIWe/1oEZ1sfEdERBRmIZtRmTdvHoYMGYKkpCR06dJF9T6HDh1CUVERkpKSkJ6ejvvvvx/Nzc2hGpJ5lauAxX2BFbcA7/1O/rq4r3w7ERERtZmQBSqNjY247bbbMGnSJNWfO51OFBUVobGxEVu3bsWKFSvw8ssvY/bs2aEakjmVq4B37gAcRzxvdxyVb2ewQkRE1GYESZKkUD7Byy+/jOnTp+P06dMet3/yySe45ZZbcOTIEWRkZAAAli9fjhkzZuDYsWOIi4szdXyHw4HU1FTU1dUhJSUlsMGKTnnmxDtIcRGAlGxg+h4uAxEREQXA7Pk7bMm027ZtQ79+/VxBCgCMGjUKDocDX3/9tebjGhoa4HA4PP4EzfdbdYIUAJAAx2H5fmpEJ1D1D2DPSvmr6Aze2IiIiDqgsCXTVldXewQpAFzfV1dXaz6utLQUc+fODc2gztT4f7/KVcDaGZ6BTko2ULgAyBsdnPERERF1MJZmVGbOnAlBEHT/7Nu3L1RjBQDMmjULdXV1rj8//PBD8A7eOcP4Pmr3Y14LERFRSFiaUbnvvvtw55136t7nsssuM3WszMxMlJeXe9xWU1Pj+pmW+Ph4xMfHm3oOy3oNkWdBHEcBqKXutOSo9BrSepPolGdSVO8vyY9ZOxPILWJeCxERkUWWApWLLroIF110UVCeuKCgAPPmzUNtbS3S09MBAOvXr0dKSgry8vKC8hyW2ezyUs07dwAQ4Bl8CPKXwsc9Aw4reS05Pwn+mImIiKJYyJJpDx06hIqKChw6dAhOpxMVFRWoqKjAmTNnAAAjR45EXl4eJkyYgK+++grr1q3DQw89hMmTJ4duxsSMvNHA7a8AKVmet6dky7d755sEktdCREREukKWTDt79mysWLHC9f2AAQMAABs3bsSwYcNgt9uxZs0aTJo0CQUFBejUqRMmTpyIRx55JFRDMi9vtLxUY6Yyrb95LURERGQo5HVUQi2odVT84aq9YpDXwtorRERELhFfRyVqKHktAFx5LC4aeS1ERERkCgOVYLCa10JERESmsHtysFjJayEiIiJTGKgEk83OLchERERBxKUfIiIiilgMVIiIiChiMVAhIiKiiMVAhYiIiCIWk2mDRXRyxw8REVGQMVAJhspVcgdl9+aEKdlyITjWUCEiIvIbl34CVblK7rbs3UHZcVS+vXJVeMZFREQUBRioBEJ0yjMpqj1+Wm5bO1O+HxEREVnGQCUQ32/1nUnxIAGOw/L9iIiIyDIGKoE4UxPc+xEREZEHBiqB6JwR3PsRERGRBwYqgeg1RN7dA0HjDgKQcrF8PyIiIrKMgUogbHZ5CzIA32Cl5fvCx1lPhYiIyE8MVAKVNxq4/RUgJcvz9pRs+XbWUSEiIvIbC74FQ95oILeIlWmJiIiCjIFKsNjsQM5Pwj0KIiKiqMKlHyIiIopYDFSIiIgoYjFQISIioojFQIWIiIgiFgMVIiIiilgMVIiIiChiMVAhIiKiiMVAhYiIiCIWAxUiIiKKWO2+Mq0kSQAAh8MR5pEQERGRWcp5WzmPa2n3gUp9fT0AoEePHmEeCREREVlVX1+P1NRUzZ8LklEoE+FEUcSRI0eQnJwMQRCCemyHw4EePXrghx9+QEpKSlCPTa34OrcNvs5tg69z2+Dr3DZC+TpLkoT6+npkZ2fDZtPORGn3Myo2mw2XXHJJSJ8jJSWF/yO0Ab7ObYOvc9vg69w2+Dq3jVC9znozKQom0xIREVHEYqBCREREEYuBio74+HjMmTMH8fHx4R5KVOPr3Db4OrcNvs5tg69z24iE17ndJ9MSERFR9OKMChEREUUsBipEREQUsRioEBERUcRioEJEREQRi4GKhqVLl+LSSy9FQkICBg8ejPLy8nAPKaqUlpbi2muvRXJyMtLT0zFmzBjs378/3MOKeo8//jgEQcD06dPDPZSodPjwYYwfPx7dunVDYmIi+vXrhy+++CLcw4oqTqcTDz/8MHJycpCYmIjevXvj0UcfNewXQ/q2bNmC4uJiZGdnQxAEfPDBBx4/lyQJs2fPRlZWFhITEzF8+HB8++23bTI2Bioq3n77bZSUlGDOnDnYvXs3+vfvj1GjRqG2tjbcQ4samzdvxuTJk7F9+3asX78eTU1NGDlyJM6ePRvuoUWtnTt34q9//SuuvvrqcA8lKp06dQpDhw5FbGwsPvnkE1RWVuKpp55C165dwz20qLJgwQIsW7YMzz33HL755hssWLAATzzxBJ599tlwD61dO3v2LPr374+lS5eq/vyJJ57AkiVLsHz5cuzYsQOdOnXCqFGjcOHChdAPTiIf+fn50uTJk13fO51OKTs7WyotLQ3jqKJbbW2tBEDavHlzuIcSlerr66U+ffpI69evl2644QZp2rRp4R5S1JkxY4Z0/fXXh3sYUa+oqEi6++67PW771a9+JY0bNy5MI4o+AKT333/f9b0oilJmZqa0cOFC122nT5+W4uPjpTfffDPk4+GMipfGxkbs2rULw4cPd91ms9kwfPhwbNu2LYwji251dXUAgLS0tDCPJDpNnjwZRUVFHu9rCq5Vq1Zh0KBBuO2225Ceno4BAwbgxRdfDPewos6QIUOwYcMGHDhwAADw1VdfoaysDD/72c/CPLLoVVVVherqao/Pj9TUVAwePLhNzovtvilhsB0/fhxOpxMZGRket2dkZGDfvn1hGlV0E0UR06dPx9ChQ9G3b99wDyfqvPXWW9i9ezd27twZ7qFEtX//+99YtmwZSkpK8MADD2Dnzp2YOnUq4uLiMHHixHAPL2rMnDkTDocDubm5sNvtcDqdmDdvHsaNGxfuoUWt6upqAFA9Lyo/CyUGKhR2kydPxt69e1FWVhbuoUSdH374AdOmTcP69euRkJAQ7uFENVEUMWjQIMyfPx8AMGDAAOzduxfLly9noBJE77zzDl5//XW88cYbuOqqq1BRUYHp06cjOzubr3OU4tKPl+7du8Nut6Ompsbj9pqaGmRmZoZpVNFrypQpWLNmDTZu3IhLLrkk3MOJOrt27UJtbS0GDhyImJgYxMTEYPPmzViyZAliYmLgdDrDPcSokZWVhby8PI/brrzyShw6dChMI4pO999/P2bOnImxY8eiX79+mDBhAu69916UlpaGe2hRSzn3heu8yEDFS1xcHK655hps2LDBdZsoitiwYQMKCgrCOLLoIkkSpkyZgvfffx+fffYZcnJywj2kqHTzzTdjz549qKiocP0ZNGgQxo0bh4qKCtjt9nAPMWoMHTrUZ4v9gQMH0KtXrzCNKDqdO3cONpvnqctut0MUxTCNKPrl5OQgMzPT47zocDiwY8eONjkvculHRUlJCSZOnIhBgwYhPz8fixcvxtmzZ3HXXXeFe2hRY/LkyXjjjTfw4YcfIjk52bXOmZqaisTExDCPLnokJyf75P106tQJ3bp1Yz5QkN17770YMmQI5s+fj9tvvx3l5eV44YUX8MILL4R7aFGluLgY8+bNQ8+ePXHVVVfhyy+/xKJFi3D33XeHe2jt2pkzZ/Cvf/3L9X1VVRUqKiqQlpaGnj17Yvr06XjsscfQp08f5OTk4OGHH0Z2djbGjBkT+sGFfF9RO/Xss89KPXv2lOLi4qT8/Hxp+/bt4R5SVAGg+udvf/tbuIcW9bg9OXRWr14t9e3bV4qPj5dyc3OlF154IdxDijoOh0OaNm2a1LNnTykhIUG67LLLpAcffFBqaGgI99DatY0bN6p+Jk+cOFGSJHmL8sMPPyxlZGRI8fHx0s033yzt37+/TcYmSBLL+REREVFkYo4KERERRSwGKkRERBSxGKgQERFRxGKgQkRERBGLgQoRERFFLAYqREREFLEYqBAREVHEYqBCREREEYuBChEREUUsBipEREQUsRioEBERUcRioEJEREQR6/8DUKg7db21WsEAAAAASUVORK5CYII=)"
      ],
      "metadata": {
        "id": "gAKiVaSSYTk6"
      }
    },
    {
      "cell_type": "markdown",
      "source": [
        "<br>\n",
        "\n",
        "**<font size='5'>Bar chart &#128202;**</font> <br>\n",
        "\n",
        "A **bar chart** is a type of data visualization that represents **categorical data using rectangular bars**. <br>\n",
        "- Each category or group (of a variable) is represented by a separate bar.\n",
        "- The length/height of the bar often represents the frequency of the category being represented.\n",
        "\n",
        "Here is an example using the two categories of Survived and their frequency as height.\n",
        "\n",
        "\n"
      ],
      "metadata": {
        "id": "VtvjHQn6keQW"
      }
    },
    {
      "cell_type": "code",
      "source": [
        "survived_freq = dataset[\"Survived\"].value_counts().to_numpy()\n",
        "survived_freq"
      ],
      "metadata": {
        "colab": {
          "base_uri": "https://localhost:8080/"
        },
        "id": "DONx0yc0NPhX",
        "outputId": "86ed29a8-e430-4069-e8c0-8942f5c418fb"
      },
      "execution_count": null,
      "outputs": [
        {
          "output_type": "execute_result",
          "data": {
            "text/plain": [
              "array([549, 342])"
            ]
          },
          "metadata": {},
          "execution_count": 34
        }
      ]
    },
    {
      "cell_type": "code",
      "source": [
        "survived_labels = [\"0\",\"1\"]"
      ],
      "metadata": {
        "id": "qyUktnCzOLxy"
      },
      "execution_count": null,
      "outputs": []
    },
    {
      "cell_type": "code",
      "source": [
        "plt.bar(x=survived_labels, height=survived_freq, color=[\"orange\",\"green\"]);\n",
        "plt.xlabel(\"Survived (0=died, 1=survived)\");\n",
        "plt.ylabel(\"count\");"
      ],
      "metadata": {
        "colab": {
          "base_uri": "https://localhost:8080/",
          "height": 449
        },
        "id": "q3cZBPnJltUW",
        "outputId": "124e64be-d510-4919-eead-ce955e82241d"
      },
      "execution_count": null,
      "outputs": [
        {
          "output_type": "display_data",
          "data": {
            "text/plain": [
              "<Figure size 640x480 with 1 Axes>"
            ],
            "image/png": "[encoded data removed]"
          },
          "metadata": {}
        }
      ]
    },
    {
      "cell_type": "markdown",
      "source": [
        "We can see that the number of passengers who died is almost two times higher than the number of passengers that survived. <br>\n",
        "\n",
        "\n"
      ],
      "metadata": {
        "id": "YClOgl4qsKgE"
      }
    },
    {
      "cell_type": "markdown",
      "source": [
        "**<font size='4'><u>Exercise 6 &#128221;</u>**</font> <br>\n",
        "**Create the same barchart with the percentage of passengers who died/survived instead of frequency.**<br>\n",
        "*Compute the percentage from the original label frequencies `survived_freq`*.\n",
        "\n"
      ],
      "metadata": {
        "id": "I1_A-mjfQsEt"
      }
    },
    {
      "cell_type": "code",
      "source": [
        "survived_freq"
      ],
      "metadata": {
        "colab": {
          "base_uri": "https://localhost:8080/"
        },
        "id": "YoYbFkZCxkvY",
        "outputId": "c5b91655-45b0-4a69-b696-35b6dbee6737"
      },
      "execution_count": null,
      "outputs": [
        {
          "output_type": "execute_result",
          "data": {
            "text/plain": [
              "array([549, 342])"
            ]
          },
          "metadata": {},
          "execution_count": 37
        }
      ]
    },
    {
      "cell_type": "code",
      "source": [],
      "metadata": {
        "id": "kQz6NibBYlIT"
      },
      "execution_count": null,
      "outputs": []
    },
    {
      "cell_type": "markdown",
      "source": [
        "**Expected result** &#9989; <br>\n",
        "\n",
        "![barplot.png](data:image/png;base64,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)"
      ],
      "metadata": {
        "id": "MsCMxNA0xY2e"
      }
    },
    {
      "cell_type": "markdown",
      "source": [
        "> It is often recommended to represent the percentage of a category in a bar chart, instead of its frequency.\n",
        "\n"
      ],
      "metadata": {
        "id": "JI6rW6wcnmSo"
      }
    },
    {
      "cell_type": "markdown",
      "source": [
        "<br>\n",
        "\n",
        "**<font size='5'>Box plot &#128230;**</font> <br>\n",
        "\n",
        "A **boxplot** is a visualization tool used to display the distribution of a continuous variables. <br>\n",
        "It provides a summary of the data's central tendency, variability, and any potential outliers. <br>\n",
        "\n",
        "<img src = https://miro.medium.com/v2/resize:fit:828/format:webp/1*oakP4vxTLwuqE8ce0fFQRA.png width = \"600\" height = \"200\" >"
      ],
      "metadata": {
        "id": "ckBhkZ6skSKK"
      }
    },
    {
      "cell_type": "markdown",
      "source": [
        "Here is an example of a boxplot with the distribution of Fare (ticket price) values in passengers."
      ],
      "metadata": {
        "id": "idlyWcsu8sZc"
      }
    },
    {
      "cell_type": "code",
      "source": [
        "plt.boxplot(x=dataset[\"Fare\"]);\n",
        "plt.xticks([1], [\"Fare\"]);"
      ],
      "metadata": {
        "colab": {
          "base_uri": "https://localhost:8080/",
          "height": 430
        },
        "id": "84A2RKNoaUwp",
        "outputId": "f5fa6db1-1a65-47f2-95ba-756ea907419d"
      },
      "execution_count": null,
      "outputs": [
        {
          "output_type": "display_data",
          "data": {
            "text/plain": [
              "<Figure size 640x480 with 1 Axes>"
            ],
            "image/png": "[encoded data removed]"
          },
          "metadata": {}
        }
      ]
    },
    {
      "cell_type": "markdown",
      "source": [
        "Here we can see that the variable Fare has a large outlier. <br>\n",
        "This passenger's ticket price is much higher than other passengers.\n",
        "\n",
        "\n",
        "\n",
        "\n"
      ],
      "metadata": {
        "id": "0x6vW1Oy_t3X"
      }
    },
    {
      "cell_type": "markdown",
      "source": [
        "You can also create **multiple boxplots** with distributions per label/class. <br>\n",
        "This next example uses panda's `.boxplot()` function.\n",
        "\n",
        "\n",
        "\n"
      ],
      "metadata": {
        "id": "wyaaB0jTa_uY"
      }
    },
    {
      "cell_type": "code",
      "source": [
        "# Create a boxplot of Fare, based on Survived\n",
        "dataset.boxplot(column=\"Fare\", by='Survived');\n",
        "\n",
        "# Use matplotlib methods to modify the graph's appearance\n",
        "plt.title(\"\");\n",
        "plt.xlabel(\"Survived\");\n",
        "plt.ylabel(\"Fare\");"
      ],
      "metadata": {
        "colab": {
          "base_uri": "https://localhost:8080/",
          "height": 478
        },
        "id": "PXj_cvXabYXi",
        "outputId": "f4fb2ae4-f5c5-460a-8a40-fa8fe3bbb6b3"
      },
      "execution_count": null,
      "outputs": [
        {
          "output_type": "display_data",
          "data": {
            "text/plain": [
              "<Figure size 640x480 with 1 Axes>"
            ],
            "image/png": "[encoded data removed]"
          },
          "metadata": {}
        }
      ]
    },
    {
      "cell_type": "markdown",
      "source": [
        "The ticket prices of passengers who survived are slightly higher then those who passed away. <br>\n",
        "We can hypothesize that ticket prices explain (at least partially) why certain passengers died and others survived. <br>\n",
        "\n",
        "This means that the Fare variable might be useful for our predictive model.\n"
      ],
      "metadata": {
        "id": "VVEVR4YAemC9"
      }
    },
    {
      "cell_type": "markdown",
      "source": [
        "**<font size='4'><u>Exercise 7 &#128221;</u>**</font> <br>\n",
        "\n",
        "\n",
        "**Create a boxplot that shows the distribution of Age values for passengers who died and survived.**<br>\n",
        "*Use the pandas function from the previous examples.*\n",
        "\n"
      ],
      "metadata": {
        "id": "R9KlMQ-g_NBO"
      }
    },
    {
      "cell_type": "code",
      "source": [],
      "metadata": {
        "id": "l6lwVKVpYm2J"
      },
      "execution_count": null,
      "outputs": []
    },
    {
      "cell_type": "markdown",
      "source": [
        "**Expected result** &#9989; <br>\n",
        "![boxplot.png](data:image/png;base64,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)"
      ],
      "metadata": {
        "id": "KC7BLgmThaCG"
      }
    },
    {
      "cell_type": "markdown",
      "source": [
        "# **<font size=6 color=#023F7C>3. Build a model ⛏️**\n",
        "\n",
        "We will now **build a model** that tries to predict whether a passenger dies on the titanic. <br>\n",
        "This part is a preview of what you will learn during the **Hi! PARIS DataBootcamp**. <br>\n",
        "\n",
        "\n"
      ],
      "metadata": {
        "id": "Ex5iR-58fWoj"
      }
    },
    {
      "cell_type": "code",
      "source": [
        "from sklearn.preprocessing import OneHotEncoder\n",
        "from sklearn.model_selection import train_test_split\n",
        "\n",
        "from sklearn.tree import DecisionTreeClassifier\n",
        "from sklearn import tree\n",
        "from sklearn.metrics import accuracy_score"
      ],
      "metadata": {
        "id": "JrQdKE8hpz4p"
      },
      "execution_count": null,
      "outputs": []
    },
    {
      "cell_type": "markdown",
      "source": [
        "**<font size='5'>Data transformation**</font> <br>\n",
        "We dropped variables with too many missing values or irrelevant information.  <br>\n",
        "We transformed some of the categorical variables using **OneHotEncoding**.\n",
        "\n"
      ],
      "metadata": {
        "id": "bWuP_-ndL6D1"
      }
    },
    {
      "cell_type": "code",
      "source": [
        "# Drop columns and missing values\n",
        "columns_to_drop = [\"PassengerId\",\"Name\",\"Ticket\",\"Cabin\"]\n",
        "\n",
        "dataset_clean = dataset.drop(columns=columns_to_drop)\n",
        "dataset_clean.dropna(subset=['Embarked','Age'], inplace=True)\n",
        "dataset_clean.reset_index(drop=True,inplace=True)"
      ],
      "metadata": {
        "id": "zL4hrUVpkuzJ"
      },
      "execution_count": null,
      "outputs": []
    },
    {
      "cell_type": "code",
      "source": [
        "# Transform categorical/string data\n",
        "columns_to_transform = [\"Sex\",\"Embarked\"]\n",
        "enc = OneHotEncoder()\n",
        "enc.fit(dataset_clean[columns_to_transform])\n",
        "\n",
        "df_T = pd.DataFrame.sparse.from_spmatrix(enc.transform(dataset_clean[columns_to_transform]), columns=enc.get_feature_names_out())\n",
        "dataset_clean.drop(columns=columns_to_transform, inplace=True)\n",
        "dataset_clean[df_T.columns] = df_T"
      ],
      "metadata": {
        "id": "r4iDXEDUp3Wv"
      },
      "execution_count": null,
      "outputs": []
    },
    {
      "cell_type": "code",
      "source": [
        "dataset_clean.head()"
      ],
      "metadata": {
        "colab": {
          "base_uri": "https://localhost:8080/",
          "height": 206
        },
        "id": "iGP7FhM9MfPP",
        "outputId": "120d9639-bfbe-4a77-d051-8ff916ea33e9"
      },
      "execution_count": null,
      "outputs": [
        {
          "output_type": "execute_result",
          "data": {
            "text/plain": [
              "   Survived  Pclass   Age  SibSp  Parch     Fare  Sex_female  Sex_male  \\\n",
              "0         0       3  22.0      1      0   7.2500         0.0       1.0   \n",
              "1         1       1  38.0      1      0  71.2833         1.0       0.0   \n",
              "2         1       3  26.0      0      0   7.9250         1.0       0.0   \n",
              "3         1       1  35.0      1      0  53.1000         1.0       0.0   \n",
              "4         0       3  35.0      0      0   8.0500         0.0       1.0   \n",
              "\n",
              "   Embarked_C  Embarked_Q  Embarked_S  \n",
              "0         0.0         0.0         1.0  \n",
              "1         1.0         0.0         0.0  \n",
              "2         0.0         0.0         1.0  \n",
              "3         0.0         0.0         1.0  \n",
              "4         0.0         0.0         1.0  "
            ],
            "text/html": [
              "\n",
              "\n",
              "  <div id=\"df-b74c99af-77c7-48c4-a994-a9fe04e1391d\">\n",
              "    <div class=\"colab-df-container\">\n",
              "      <div>\n",
              "<style scoped>\n",
              "    .dataframe tbody tr th:only-of-type {\n",
              "        vertical-align: middle;\n",
              "    }\n",
              "\n",
              "    .dataframe tbody tr th {\n",
              "        vertical-align: top;\n",
              "    }\n",
              "\n",
              "    .dataframe thead th {\n",
              "        text-align: right;\n",
              "    }\n",
              "</style>\n",
              "<table border=\"1\" class=\"dataframe\">\n",
              "  <thead>\n",
              "    <tr style=\"text-align: right;\">\n",
              "      <th></th>\n",
              "      <th>Survived</th>\n",
              "      <th>Pclass</th>\n",
              "      <th>Age</th>\n",
              "      <th>SibSp</th>\n",
              "      <th>Parch</th>\n",
              "      <th>Fare</th>\n",
              "      <th>Sex_female</th>\n",
              "      <th>Sex_male</th>\n",
              "      <th>Embarked_C</th>\n",
              "      <th>Embarked_Q</th>\n",
              "      <th>Embarked_S</th>\n",
              "    </tr>\n",
              "  </thead>\n",
              "  <tbody>\n",
              "    <tr>\n",
              "      <th>0</th>\n",
              "      <td>0</td>\n",
              "      <td>3</td>\n",
              "      <td>22.0</td>\n",
              "      <td>1</td>\n",
              "      <td>0</td>\n",
              "      <td>7.2500</td>\n",
              "      <td>0.0</td>\n",
              "      <td>1.0</td>\n",
              "      <td>0.0</td>\n",
              "      <td>0.0</td>\n",
              "      <td>1.0</td>\n",
              "    </tr>\n",
              "    <tr>\n",
              "      <th>1</th>\n",
              "      <td>1</td>\n",
              "      <td>1</td>\n",
              "      <td>38.0</td>\n",
              "      <td>1</td>\n",
              "      <td>0</td>\n",
              "      <td>71.2833</td>\n",
              "      <td>1.0</td>\n",
              "      <td>0.0</td>\n",
              "      <td>1.0</td>\n",
              "      <td>0.0</td>\n",
              "      <td>0.0</td>\n",
              "    </tr>\n",
              "    <tr>\n",
              "      <th>2</th>\n",
              "      <td>1</td>\n",
              "      <td>3</td>\n",
              "      <td>26.0</td>\n",
              "      <td>0</td>\n",
              "      <td>0</td>\n",
              "      <td>7.9250</td>\n",
              "      <td>1.0</td>\n",
              "      <td>0.0</td>\n",
              "      <td>0.0</td>\n",
              "      <td>0.0</td>\n",
              "      <td>1.0</td>\n",
              "    </tr>\n",
              "    <tr>\n",
              "      <th>3</th>\n",
              "      <td>1</td>\n",
              "      <td>1</td>\n",
              "      <td>35.0</td>\n",
              "      <td>1</td>\n",
              "      <td>0</td>\n",
              "      <td>53.1000</td>\n",
              "      <td>1.0</td>\n",
              "      <td>0.0</td>\n",
              "      <td>0.0</td>\n",
              "      <td>0.0</td>\n",
              "      <td>1.0</td>\n",
              "    </tr>\n",
              "    <tr>\n",
              "      <th>4</th>\n",
              "      <td>0</td>\n",
              "      <td>3</td>\n",
              "      <td>35.0</td>\n",
              "      <td>0</td>\n",
              "      <td>0</td>\n",
              "      <td>8.0500</td>\n",
              "      <td>0.0</td>\n",
              "      <td>1.0</td>\n",
              "      <td>0.0</td>\n",
              "      <td>0.0</td>\n",
              "      <td>1.0</td>\n",
              "    </tr>\n",
              "  </tbody>\n",
              "</table>\n",
              "</div>\n",
              "      <button class=\"colab-df-convert\" onclick=\"convertToInteractive('df-b74c99af-77c7-48c4-a994-a9fe04e1391d')\"\n",
              "              title=\"Convert this dataframe to an interactive table.\"\n",
              "              style=\"display:none;\">\n",
              "\n",
              "  <svg xmlns=\"http://www.w3.org/2000/svg\" height=\"24px\"viewBox=\"0 0 24 24\"\n",
              "       width=\"24px\">\n",
              "    <path d=\"M0 0h24v24H0V0z\" fill=\"none\"/>\n",
              "    <path d=\"M18.56 5.44l.94 2.06.94-2.06 2.06-.94-2.06-.94-.94-2.06-.94 2.06-2.06.94zm-11 1L8.5 8.5l.94-2.06 2.06-.94-2.06-.94L8.5 2.5l-.94 2.06-2.06.94zm10 10l.94 2.06.94-2.06 2.06-.94-2.06-.94-.94-2.06-.94 2.06-2.06.94z\"/><path d=\"M17.41 7.96l-1.37-1.37c-.4-.4-.92-.59-1.43-.59-.52 0-1.04.2-1.43.59L10.3 9.45l-7.72 7.72c-.78.78-.78 2.05 0 2.83L4 21.41c.39.39.9.59 1.41.59.51 0 1.02-.2 1.41-.59l7.78-7.78 2.81-2.81c.8-.78.8-2.07 0-2.86zM5.41 20L4 18.59l7.72-7.72 1.47 1.35L5.41 20z\"/>\n",
              "  </svg>\n",
              "      </button>\n",
              "\n",
              "\n",
              "\n",
              "    <div id=\"df-6267af83-e5e8-4b92-bae6-0d101d2571ef\">\n",
              "      <button class=\"colab-df-quickchart\" onclick=\"quickchart('df-6267af83-e5e8-4b92-bae6-0d101d2571ef')\"\n",
              "              title=\"Suggest charts.\"\n",
              "              style=\"display:none;\">\n",
              "\n",
              "<svg xmlns=\"http://www.w3.org/2000/svg\" height=\"24px\"viewBox=\"0 0 24 24\"\n",
              "     width=\"24px\">\n",
              "    <g>\n",
              "        <path d=\"M19 3H5c-1.1 0-2 .9-2 2v14c0 1.1.9 2 2 2h14c1.1 0 2-.9 2-2V5c0-1.1-.9-2-2-2zM9 17H7v-7h2v7zm4 0h-2V7h2v10zm4 0h-2v-4h2v4z\"/>\n",
              "    </g>\n",
              "</svg>\n",
              "      </button>\n",
              "    </div>\n",
              "\n",
              "<style>\n",
              "  .colab-df-quickchart {\n",
              "    background-color: #E8F0FE;\n",
              "    border: none;\n",
              "    border-radius: 50%;\n",
              "    cursor: pointer;\n",
              "    display: none;\n",
              "    fill: #1967D2;\n",
              "    height: 32px;\n",
              "    padding: 0 0 0 0;\n",
              "    width: 32px;\n",
              "  }\n",
              "\n",
              "  .colab-df-quickchart:hover {\n",
              "    background-color: #E2EBFA;\n",
              "    box-shadow: 0px 1px 2px rgba(60, 64, 67, 0.3), 0px 1px 3px 1px rgba(60, 64, 67, 0.15);\n",
              "    fill: #174EA6;\n",
              "  }\n",
              "\n",
              "  [theme=dark] .colab-df-quickchart {\n",
              "    background-color: #3B4455;\n",
              "    fill: #D2E3FC;\n",
              "  }\n",
              "\n",
              "  [theme=dark] .colab-df-quickchart:hover {\n",
              "    background-color: #434B5C;\n",
              "    box-shadow: 0px 1px 3px 1px rgba(0, 0, 0, 0.15);\n",
              "    filter: drop-shadow(0px 1px 2px rgba(0, 0, 0, 0.3));\n",
              "    fill: #FFFFFF;\n",
              "  }\n",
              "</style>\n",
              "\n",
              "    <script>\n",
              "      async function quickchart(key) {\n",
              "        const containerElement = document.querySelector('#' + key);\n",
              "        const charts = await google.colab.kernel.invokeFunction(\n",
              "            'suggestCharts', [key], {});\n",
              "      }\n",
              "    </script>\n",
              "\n",
              "      <script>\n",
              "\n",
              "function displayQuickchartButton(domScope) {\n",
              "  let quickchartButtonEl =\n",
              "    domScope.querySelector('#df-6267af83-e5e8-4b92-bae6-0d101d2571ef button.colab-df-quickchart');\n",
              "  quickchartButtonEl.style.display =\n",
              "    google.colab.kernel.accessAllowed ? 'block' : 'none';\n",
              "}\n",
              "\n",
              "        displayQuickchartButton(document);\n",
              "      </script>\n",
              "      <style>\n",
              "    .colab-df-container {\n",
              "      display:flex;\n",
              "      flex-wrap:wrap;\n",
              "      gap: 12px;\n",
              "    }\n",
              "\n",
              "    .colab-df-convert {\n",
              "      background-color: #E8F0FE;\n",
              "      border: none;\n",
              "      border-radius: 50%;\n",
              "      cursor: pointer;\n",
              "      display: none;\n",
              "      fill: #1967D2;\n",
              "      height: 32px;\n",
              "      padding: 0 0 0 0;\n",
              "      width: 32px;\n",
              "    }\n",
              "\n",
              "    .colab-df-convert:hover {\n",
              "      background-color: #E2EBFA;\n",
              "      box-shadow: 0px 1px 2px rgba(60, 64, 67, 0.3), 0px 1px 3px 1px rgba(60, 64, 67, 0.15);\n",
              "      fill: #174EA6;\n",
              "    }\n",
              "\n",
              "    [theme=dark] .colab-df-convert {\n",
              "      background-color: #3B4455;\n",
              "      fill: #D2E3FC;\n",
              "    }\n",
              "\n",
              "    [theme=dark] .colab-df-convert:hover {\n",
              "      background-color: #434B5C;\n",
              "      box-shadow: 0px 1px 3px 1px rgba(0, 0, 0, 0.15);\n",
              "      filter: drop-shadow(0px 1px 2px rgba(0, 0, 0, 0.3));\n",
              "      fill: #FFFFFF;\n",
              "    }\n",
              "  </style>\n",
              "\n",
              "      <script>\n",
              "        const buttonEl =\n",
              "          document.querySelector('#df-b74c99af-77c7-48c4-a994-a9fe04e1391d button.colab-df-convert');\n",
              "        buttonEl.style.display =\n",
              "          google.colab.kernel.accessAllowed ? 'block' : 'none';\n",
              "\n",
              "        async function convertToInteractive(key) {\n",
              "          const element = document.querySelector('#df-b74c99af-77c7-48c4-a994-a9fe04e1391d');\n",
              "          const dataTable =\n",
              "            await google.colab.kernel.invokeFunction('convertToInteractive',\n",
              "                                                     [key], {});\n",
              "          if (!dataTable) return;\n",
              "\n",
              "          const docLinkHtml = 'Like what you see? Visit the ' +\n",
              "            '<a target=\"_blank\" href=https://colab.research.google.com/notebooks/data_table.ipynb>data table notebook</a>'\n",
              "            + ' to learn more about interactive tables.';\n",
              "          element.innerHTML = '';\n",
              "          dataTable['output_type'] = 'display_data';\n",
              "          await google.colab.output.renderOutput(dataTable, element);\n",
              "          const docLink = document.createElement('div');\n",
              "          docLink.innerHTML = docLinkHtml;\n",
              "          element.appendChild(docLink);\n",
              "        }\n",
              "      </script>\n",
              "    </div>\n",
              "  </div>\n"
            ]
          },
          "metadata": {},
          "execution_count": 43
        }
      ]
    },
    {
      "cell_type": "markdown",
      "source": [
        "**<font size='5'>Model training**</font> <br>\n",
        "We split the dataset into a training and test set. <br>\n",
        "We used a **Decision Tree model** to predict the Survival variable. <br>"
      ],
      "metadata": {
        "id": "UxKYkpIrMJPE"
      }
    },
    {
      "cell_type": "code",
      "source": [
        "# Split your data to train/test the model\n",
        "X = dataset_clean.drop(columns=[\"Survived\"]).to_numpy()\n",
        "y = dataset_clean[\"Survived\"].to_numpy()\n",
        "\n",
        "X_train, X_test, y_train, y_test = train_test_split(X, y, test_size=0.33, random_state=42)"
      ],
      "metadata": {
        "id": "r-2xVxLvHly5"
      },
      "execution_count": null,
      "outputs": []
    },
    {
      "cell_type": "code",
      "source": [
        "# Train a Decision Tree classifier model\n",
        "model = DecisionTreeClassifier(random_state=0, max_depth=2)\n",
        "model.fit(X_train,y_train)"
      ],
      "metadata": {
        "colab": {
          "base_uri": "https://localhost:8080/",
          "height": 74
        },
        "id": "c36LnaAEHEuY",
        "outputId": "d2a6d621-8d9e-4d8d-d978-4570fe61ac3a"
      },
      "execution_count": null,
      "outputs": [
        {
          "output_type": "execute_result",
          "data": {
            "text/plain": [
              "DecisionTreeClassifier(max_depth=2, random_state=0)"
            ],
            "text/html": [
              "<style>#sk-container-id-1 {color: black;background-color: white;}#sk-container-id-1 pre{padding: 0;}#sk-container-id-1 div.sk-toggleable {background-color: white;}#sk-container-id-1 label.sk-toggleable__label {cursor: pointer;display: block;width: 100%;margin-bottom: 0;padding: 0.3em;box-sizing: border-box;text-align: center;}#sk-container-id-1 label.sk-toggleable__label-arrow:before {content: \"▸\";float: left;margin-right: 0.25em;color: #696969;}#sk-container-id-1 label.sk-toggleable__label-arrow:hover:before {color: black;}#sk-container-id-1 div.sk-estimator:hover label.sk-toggleable__label-arrow:before {color: black;}#sk-container-id-1 div.sk-toggleable__content {max-height: 0;max-width: 0;overflow: hidden;text-align: left;background-color: #f0f8ff;}#sk-container-id-1 div.sk-toggleable__content pre {margin: 0.2em;color: black;border-radius: 0.25em;background-color: #f0f8ff;}#sk-container-id-1 input.sk-toggleable__control:checked~div.sk-toggleable__content {max-height: 200px;max-width: 100%;overflow: auto;}#sk-container-id-1 input.sk-toggleable__control:checked~label.sk-toggleable__label-arrow:before {content: \"▾\";}#sk-container-id-1 div.sk-estimator input.sk-toggleable__control:checked~label.sk-toggleable__label {background-color: #d4ebff;}#sk-container-id-1 div.sk-label input.sk-toggleable__control:checked~label.sk-toggleable__label {background-color: #d4ebff;}#sk-container-id-1 input.sk-hidden--visually {border: 0;clip: rect(1px 1px 1px 1px);clip: rect(1px, 1px, 1px, 1px);height: 1px;margin: -1px;overflow: hidden;padding: 0;position: absolute;width: 1px;}#sk-container-id-1 div.sk-estimator {font-family: monospace;background-color: #f0f8ff;border: 1px dotted black;border-radius: 0.25em;box-sizing: border-box;margin-bottom: 0.5em;}#sk-container-id-1 div.sk-estimator:hover {background-color: #d4ebff;}#sk-container-id-1 div.sk-parallel-item::after {content: \"\";width: 100%;border-bottom: 1px solid gray;flex-grow: 1;}#sk-container-id-1 div.sk-label:hover label.sk-toggleable__label {background-color: #d4ebff;}#sk-container-id-1 div.sk-serial::before {content: \"\";position: absolute;border-left: 1px solid gray;box-sizing: border-box;top: 0;bottom: 0;left: 50%;z-index: 0;}#sk-container-id-1 div.sk-serial {display: flex;flex-direction: column;align-items: center;background-color: white;padding-right: 0.2em;padding-left: 0.2em;position: relative;}#sk-container-id-1 div.sk-item {position: relative;z-index: 1;}#sk-container-id-1 div.sk-parallel {display: flex;align-items: stretch;justify-content: center;background-color: white;position: relative;}#sk-container-id-1 div.sk-item::before, #sk-container-id-1 div.sk-parallel-item::before {content: \"\";position: absolute;border-left: 1px solid gray;box-sizing: border-box;top: 0;bottom: 0;left: 50%;z-index: -1;}#sk-container-id-1 div.sk-parallel-item {display: flex;flex-direction: column;z-index: 1;position: relative;background-color: white;}#sk-container-id-1 div.sk-parallel-item:first-child::after {align-self: flex-end;width: 50%;}#sk-container-id-1 div.sk-parallel-item:last-child::after {align-self: flex-start;width: 50%;}#sk-container-id-1 div.sk-parallel-item:only-child::after {width: 0;}#sk-container-id-1 div.sk-dashed-wrapped {border: 1px dashed gray;margin: 0 0.4em 0.5em 0.4em;box-sizing: border-box;padding-bottom: 0.4em;background-color: white;}#sk-container-id-1 div.sk-label label {font-family: monospace;font-weight: bold;display: inline-block;line-height: 1.2em;}#sk-container-id-1 div.sk-label-container {text-align: center;}#sk-container-id-1 div.sk-container {/* jupyter's `normalize.less` sets `[hidden] { display: none; }` but bootstrap.min.css set `[hidden] { display: none !important; }` so we also need the `!important` here to be able to override the default hidden behavior on the sphinx rendered scikit-learn.org. See: https://github.com/scikit-learn/scikit-learn/issues/21755 */display: inline-block !important;position: relative;}#sk-container-id-1 div.sk-text-repr-fallback {display: none;}</style><div id=\"sk-container-id-1\" class=\"sk-top-container\"><div class=\"sk-text-repr-fallback\"><pre>DecisionTreeClassifier(max_depth=2, random_state=0)</pre><b>In a Jupyter environment, please rerun this cell to show the HTML representation or trust the notebook. <br />On GitHub, the HTML representation is unable to render, please try loading this page with nbviewer.org.</b></div><div class=\"sk-container\" hidden><div class=\"sk-item\"><div class=\"sk-estimator sk-toggleable\"><input class=\"sk-toggleable__control sk-hidden--visually\" id=\"sk-estimator-id-1\" type=\"checkbox\" checked><label for=\"sk-estimator-id-1\" class=\"sk-toggleable__label sk-toggleable__label-arrow\">DecisionTreeClassifier</label><div class=\"sk-toggleable__content\"><pre>DecisionTreeClassifier(max_depth=2, random_state=0)</pre></div></div></div></div></div>"
            ]
          },
          "metadata": {},
          "execution_count": 45
        }
      ]
    },
    {
      "cell_type": "markdown",
      "source": [
        "A decision tree model can be represented in tree form. <br>\n",
        "This tree shows how the model decides to predict death or survival for the titanic passengers."
      ],
      "metadata": {
        "id": "QnCK6bp_Q4-a"
      }
    },
    {
      "cell_type": "code",
      "source": [
        "variables_ = dataset_clean.drop(columns=[\"Survived\"]).columns\n",
        "class_ = ['Died(0)', 'Survived(1)']\n",
        "fig, axes = plt.subplots(nrows = 1,ncols = 1,figsize = (4,4), dpi=150)\n",
        "\n",
        "tree.plot_tree(model,\n",
        "               feature_names=variables_ ,\n",
        "               class_names=class_,\n",
        "               filled = True);"
      ],
      "metadata": {
        "id": "NqSCDZq3KWU4",
        "colab": {
          "base_uri": "https://localhost:8080/",
          "height": 509
        },
        "outputId": "c167204e-ee31-4874-fc11-6e4175b4dc84"
      },
      "execution_count": null,
      "outputs": [
        {
          "output_type": "display_data",
          "data": {
            "text/plain": [
              "<Figure size 600x600 with 1 Axes>"
            ],
            "image/png": "[encoded data removed]"
          },
          "metadata": {}
        }
      ]
    },
    {
      "cell_type": "markdown",
      "source": [
        "Now that are model is trained, we can predict survival on our test dataset."
      ],
      "metadata": {
        "id": "alHU3gJViSgp"
      }
    },
    {
      "cell_type": "code",
      "source": [
        "# Predict the survival of titanic passengers\n",
        "y_pred = model.predict(X_test)\n",
        "y_pred"
      ],
      "metadata": {
        "colab": {
          "base_uri": "https://localhost:8080/"
        },
        "id": "CQMVwyMeI6Kr",
        "outputId": "0c6aa3fe-9ded-4c1c-f183-94495ddb09a7"
      },
      "execution_count": null,
      "outputs": [
        {
          "output_type": "execute_result",
          "data": {
            "text/plain": [
              "array([1, 1, 0, 1, 0, 0, 0, 1, 0, 0, 0, 0, 0, 0, 0, 0, 1, 0, 1, 1, 0, 1,\n",
              "       1, 0, 0, 0, 0, 0, 0, 0, 1, 0, 0, 0, 0, 0, 0, 1, 1, 0, 0, 0, 0, 0,\n",
              "       0, 0, 0, 0, 0, 0, 0, 0, 0, 0, 0, 1, 0, 0, 0, 0, 0, 0, 0, 1, 0, 0,\n",
              "       0, 0, 1, 0, 0, 0, 0, 0, 0, 0, 0, 0, 0, 1, 0, 1, 1, 0, 0, 0, 0, 1,\n",
              "       0, 0, 0, 0, 0, 0, 0, 1, 1, 0, 1, 1, 1, 0, 1, 0, 0, 0, 0, 0, 0, 0,\n",
              "       0, 0, 0, 0, 0, 0, 0, 0, 1, 0, 0, 0, 1, 0, 0, 1, 0, 0, 0, 0, 1, 0,\n",
              "       0, 0, 0, 0, 0, 0, 0, 1, 0, 1, 0, 1, 1, 0, 0, 1, 1, 0, 0, 1, 0, 0,\n",
              "       0, 0, 1, 0, 0, 1, 0, 1, 0, 0, 1, 0, 0, 0, 0, 1, 0, 0, 0, 1, 1, 1,\n",
              "       0, 0, 0, 0, 0, 0, 0, 0, 0, 0, 0, 0, 0, 0, 0, 0, 0, 0, 0, 1, 1, 1,\n",
              "       0, 0, 0, 0, 0, 0, 0, 0, 0, 0, 0, 0, 0, 1, 0, 0, 1, 0, 0, 0, 0, 0,\n",
              "       1, 0, 1, 0, 0, 0, 0, 0, 1, 0, 0, 1, 0, 0, 1])"
            ]
          },
          "metadata": {},
          "execution_count": 47
        }
      ]
    },
    {
      "cell_type": "code",
      "source": [
        "# Compute the accuracy of our model\n",
        "accuracy_score(y_test, y_pred)"
      ],
      "metadata": {
        "colab": {
          "base_uri": "https://localhost:8080/"
        },
        "id": "DOhbRVz5LaEV",
        "outputId": "4c043a4a-990e-4b08-d4b1-5ae4b8e8911c"
      },
      "execution_count": null,
      "outputs": [
        {
          "output_type": "execute_result",
          "data": {
            "text/plain": [
              "0.774468085106383"
            ]
          },
          "metadata": {},
          "execution_count": 48
        }
      ]
    },
    {
      "cell_type": "markdown",
      "source": [
        "Our model was **accurate** in its predictions 78% of the time. <br>\n",
        "\n",
        "We can try to improve the performance by modifying the model's input parameters. <br>\n",
        "We will show you how to do so during the bootcamp week."
      ],
      "metadata": {
        "id": "gVGiYGYmWYpi"
      }
    },
    {
      "cell_type": "markdown",
      "source": [
        "# **<font size=6 color=#023F7C>4. Solutions &#10004;&#65039;**\n",
        "Some plots might not match those of **Expected result &#9989;** since Y, Y1 and Y2 values are generated randomly. <br>\n",
        "On the other hand, plots of the **Solutions** section should match your own plots."
      ],
      "metadata": {
        "id": "fJB3QmHkGBY6"
      }
    },
    {
      "cell_type": "markdown",
      "source": [
        "**<font size='4'>Exercise 1 &#128221;</font>** <br>\n",
        "Compute the percentage of missing values for Age and Cabin and print the results.<br>"
      ],
      "metadata": {
        "id": "wjvrw2MDBTYw"
      }
    },
    {
      "cell_type": "code",
      "source": [
        "missing_Age = dataset[\"Age\"].isna().sum()\n",
        "missing_Cabin = dataset[\"Cabin\"].isna().sum()\n",
        "missing_Embarked = dataset[\"Embarked\"].isna().sum()"
      ],
      "metadata": {
        "id": "ohEOSUuYHrS_"
      },
      "execution_count": null,
      "outputs": []
    },
    {
      "cell_type": "code",
      "source": [
        "print(100*missing_Age/dataset.shape[0]) # dataset.shape[0] gives the total number of rows\n",
        "print(100*missing_Cabin/dataset.shape[0])\n",
        "print(100*missing_Embarked/dataset.shape[0])"
      ],
      "metadata": {
        "colab": {
          "base_uri": "https://localhost:8080/"
        },
        "id": "O8BYIBlXCC-c",
        "outputId": "a3683e27-4dca-4095-cdf0-17a74fd44cc2"
      },
      "execution_count": null,
      "outputs": [
        {
          "output_type": "stream",
          "name": "stdout",
          "text": [
            "19.865319865319865\n",
            "77.10437710437711\n",
            "0.2244668911335578\n"
          ]
        }
      ]
    },
    {
      "cell_type": "markdown",
      "source": [
        "**<font size='4'>Exercise 2 &#128221;</font>** <br>\n",
        "Compute the standard deviation of the Fare variable"
      ],
      "metadata": {
        "id": "Xo1fmXiDBU7p"
      }
    },
    {
      "cell_type": "code",
      "source": [
        "# First option: with pandas' .std() function\n",
        "dataset[\"Fare\"].std()"
      ],
      "metadata": {
        "colab": {
          "base_uri": "https://localhost:8080/"
        },
        "id": "g_FpKryjCojo",
        "outputId": "b2dc9bf6-3df2-493d-975f-2e0e88140947"
      },
      "execution_count": null,
      "outputs": [
        {
          "output_type": "execute_result",
          "data": {
            "text/plain": [
              "49.6934285971809"
            ]
          },
          "metadata": {},
          "execution_count": 51
        }
      ]
    },
    {
      "cell_type": "code",
      "source": [
        "# Second option: with pandas' .var() function and numpy's np.sqrt()\n",
        "np.sqrt(dataset[\"Fare\"].var())"
      ],
      "metadata": {
        "colab": {
          "base_uri": "https://localhost:8080/"
        },
        "id": "PytJS4q0DtHJ",
        "outputId": "ebb09b90-07ef-4046-dfb7-768cb358d0d9"
      },
      "execution_count": null,
      "outputs": [
        {
          "output_type": "execute_result",
          "data": {
            "text/plain": [
              "49.6934285971809"
            ]
          },
          "metadata": {},
          "execution_count": 52
        }
      ]
    },
    {
      "cell_type": "markdown",
      "source": [
        "**<font size='4'>Exercise 3 &#128221;</font>** <br>\n",
        "Count the number of values of \"Fare\" that are higher (>) than its mean.<br>"
      ],
      "metadata": {
        "id": "Riu-BG11BWUM"
      }
    },
    {
      "cell_type": "code",
      "source": [
        "# Third quantile of Fare\n",
        "m = dataset[\"Fare\"].mean()"
      ],
      "metadata": {
        "id": "Kb679F4lEd7Q"
      },
      "execution_count": null,
      "outputs": []
    },
    {
      "cell_type": "code",
      "source": [
        "# Filter values > q3 using .loc + get their number with len()\n",
        "len(dataset[\"Fare\"].loc[dataset[\"Fare\"]>m])"
      ],
      "metadata": {
        "colab": {
          "base_uri": "https://localhost:8080/"
        },
        "id": "D_Vwh4a0EiOc",
        "outputId": "b853f4ff-dea1-4eb2-8768-51ed6e638613"
      },
      "execution_count": null,
      "outputs": [
        {
          "output_type": "execute_result",
          "data": {
            "text/plain": [
              "211"
            ]
          },
          "metadata": {},
          "execution_count": 54
        }
      ]
    },
    {
      "cell_type": "markdown",
      "source": [
        "**<font size='4'>Exercise 4 &#128221;</font>** <br>\n",
        "Create a scatter plot between the X and Y variables with \"X\" and \"Y\" as axis labels and \"Linear relationship\" as the title."
      ],
      "metadata": {
        "id": "SgYMXlrcBEw0"
      }
    },
    {
      "cell_type": "code",
      "source": [
        "X = np.linspace(0, 10, 500)\n",
        "Y = 2 * X + 3*np.random.randn(500)"
      ],
      "metadata": {
        "id": "HdPUKfHZj7BJ"
      },
      "execution_count": null,
      "outputs": []
    },
    {
      "cell_type": "code",
      "source": [
        "plt.scatter(X,Y)\n",
        "plt.xlabel(\"X\")\n",
        "plt.ylabel(\"Y\")\n",
        "\n",
        "plt.title(\"Linear relationship\");"
      ],
      "metadata": {
        "colab": {
          "base_uri": "https://localhost:8080/",
          "height": 472
        },
        "id": "sfSjNB_FE7Yi",
        "outputId": "797267df-d94a-4543-c30d-380796eb8399"
      },
      "execution_count": null,
      "outputs": [
        {
          "output_type": "display_data",
          "data": {
            "text/plain": [
              "<Figure size 640x480 with 1 Axes>"
            ],
            "image/png": "[encoded data removed]"
          },
          "metadata": {}
        }
      ]
    },
    {
      "cell_type": "markdown",
      "source": [
        "**<font size='4'>Exercise 5 &#128221;</font>** <br>\n",
        "Create a scatter plot with the X, Y1 and Y2 values. <br> The Y1 and Y2 values should have different colored markers and legends.</font><br>"
      ],
      "metadata": {
        "id": "58P8lKmFBL99"
      }
    },
    {
      "cell_type": "code",
      "source": [
        "X = np.linspace(0, 10, 500)\n",
        "Y1 = 2*X + 3*np.random.randn(500)\n",
        "Y2 = 2*X + 5*np.random.randn(500)"
      ],
      "metadata": {
        "id": "ogwMGJ-ymRpE"
      },
      "execution_count": null,
      "outputs": []
    },
    {
      "cell_type": "code",
      "source": [
        "plt.scatter(X,Y1,marker=\"o\", label=\"Y1\")\n",
        "plt.scatter(X,Y2,marker=\"o\", label=\"Y2\")\n",
        "plt.legend(title=\"legend\");"
      ],
      "metadata": {
        "id": "FiyzeyrvFS3J",
        "colab": {
          "base_uri": "https://localhost:8080/",
          "height": 430
        },
        "outputId": "d7fdd82d-a992-4e2d-da3f-f62143e96166"
      },
      "execution_count": null,
      "outputs": [
        {
          "output_type": "display_data",
          "data": {
            "text/plain": [
              "<Figure size 640x480 with 1 Axes>"
            ],
            "image/png": "[encoded data removed]"
          },
          "metadata": {}
        }
      ]
    },
    {
      "cell_type": "markdown",
      "source": [
        "**<font size='4'>Exercise 6 &#128221;</font>** <br>\n",
        "Create the same barchart with the percentage of  passengers who died/survived instead of the frequency (count)."
      ],
      "metadata": {
        "id": "ldYVlQefBM-1"
      }
    },
    {
      "cell_type": "code",
      "source": [
        "# Compute the percentages on the survived_freq array\n",
        "survived_perct = 100*survived_freq/dataset.shape[0]\n",
        "survived_perct"
      ],
      "metadata": {
        "id": "bzna9KlxFuHV",
        "colab": {
          "base_uri": "https://localhost:8080/"
        },
        "outputId": "eb72f913-82e2-4c8c-cb9f-571111e198b9"
      },
      "execution_count": null,
      "outputs": [
        {
          "output_type": "execute_result",
          "data": {
            "text/plain": [
              "array([61.61616162, 38.38383838])"
            ]
          },
          "metadata": {},
          "execution_count": 59
        }
      ]
    },
    {
      "cell_type": "code",
      "source": [
        "plt.bar(x=survived_labels, height=survived_perct, color=[\"orange\",\"green\"]);\n",
        "plt.xlabel(\"Survived (0=died, 1=survived)\");\n",
        "plt.ylabel(\"percentage\");"
      ],
      "metadata": {
        "id": "X5Dxmb5eF913",
        "colab": {
          "base_uri": "https://localhost:8080/",
          "height": 449
        },
        "outputId": "594e38b0-e2f7-47bf-881d-c91590d8fbdb"
      },
      "execution_count": null,
      "outputs": [
        {
          "output_type": "display_data",
          "data": {
            "text/plain": [
              "<Figure size 640x480 with 1 Axes>"
            ],
            "image/png": "[encoded data removed]"
          },
          "metadata": {}
        }
      ]
    },
    {
      "cell_type": "markdown",
      "source": [
        "**<font size='4'>Exercise 7 &#128221;</font>** <br>\n",
        "Create a boxplot with seaborn that shows the distribution of ages between the passengers who died and survived."
      ],
      "metadata": {
        "id": "4iXGg15CBN6_"
      }
    },
    {
      "cell_type": "code",
      "source": [
        "dataset.boxplot(column=\"Age\", by='Survived');\n",
        "\n",
        "plt.title(\"\");\n",
        "plt.xlabel(\"Survived\");\n",
        "plt.ylabel(\"Age\");"
      ],
      "metadata": {
        "id": "GgToQfZGhkTO",
        "colab": {
          "base_uri": "https://localhost:8080/",
          "height": 478
        },
        "outputId": "ec760010-2d94-4ee6-c224-1f29f6b061f1"
      },
      "execution_count": null,
      "outputs": [
        {
          "output_type": "display_data",
          "data": {
            "text/plain": [
              "<Figure size 640x480 with 1 Axes>"
            ],
            "image/png": "[encoded data removed]"
          },
          "metadata": {}
        }
      ]
    },
    {
      "cell_type": "markdown",
      "source": [
        "**<font size='5'>Congrats ! 🥳 </font><br>\n",
        "<font size='4'>You have finished the Data Science Crash Course.**</font> <br>\n",
        "\n",
        "We look forward seeing you during the **Hi! PARIS DataBootcamp.**\n",
        "\n",
        "\n",
        "\n"
      ],
      "metadata": {
        "id": "SbmmiX_qtcly"
      }
    }
  ]
}